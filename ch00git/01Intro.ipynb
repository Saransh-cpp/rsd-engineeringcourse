{
 "cells": [
  {
   "cell_type": "markdown",
   "id": "4e2b660f",
   "metadata": {},
   "source": [
    "## Introduction"
   ]
  },
  {
   "cell_type": "markdown",
   "id": "9c68e173",
   "metadata": {},
   "source": [
    "### What's version control?\n",
    "\n",
    "Version control is a tool for __managing changes__ to a set of files.\n",
    "\n",
    "There are many different __version control systems__: \n",
    "\n",
    "- Git \n",
    "- Mercurial (`hg`)\n",
    "- CVS\n",
    "- Subversion (`svn`)\n",
    "- ..."
   ]
  },
  {
   "cell_type": "markdown",
   "id": "71c100f2",
   "metadata": {},
   "source": [
    "### Why use version control?\n",
    "\n",
    "- Better kind of __backup__.\n",
    "- Review __history__ (\"When did I introduce this bug?\").\n",
    "- Restore older __code versions__.\n",
    "- Ability to __undo mistakes__.\n",
    "- Maintain __several versions__ of the code at a time."
   ]
  },
  {
   "cell_type": "markdown",
   "id": "0e7c6e02",
   "metadata": {},
   "source": [
    "Git is also a __collaborative__ tool:\n",
    "\n",
    "- \"How can I share my code?\"\n",
    "- \"How can I submit a change to someone else's code?\"\n",
    "- \"How can I merge my work with Sue's?\"\n",
    "\n",
    "### Git != GitHub\n",
    "\n",
    "- __Git__: version control system tool to manage source code history.\n",
    "\n",
    "- __GitHub__: hosting service for Git repositories."
   ]
  },
  {
   "cell_type": "markdown",
   "id": "ab6518b7",
   "metadata": {},
   "source": [
    "### How do we use version control?\n",
    "\n",
    "Do some programming, then commit our work:\n",
    "\n",
    "`my_vcs commit`\n",
    "\n",
    "Program some more.\n",
    "\n",
    "Spot a mistake:\n",
    "\n",
    "`my_vcs rollback`\n",
    "\n",
    "Mistake is undone."
   ]
  },
  {
   "cell_type": "markdown",
   "id": "7bef279a",
   "metadata": {},
   "source": [
    "### What is version control? (Team version)\n",
    "\n",
    "Graham             | Eric\n",
    "------------------ |------   \n",
    "`my_vcs commit`    | ...\n",
    "...                | Join the team\n",
    "...                | `my_vcs checkout`\n",
    "...                | Do some programming\n",
    "...                | `my_vcs commit`\n",
    "`my_vcs update`\t\t | ...\n",
    "Do some programming|Do some programming\n",
    "`my_vcs commit`    | ...\n",
    "`my_vcs update`    | ...\n",
    "`my_vcs merge`     | ...\n",
    "`my_vcs commit`    | ..."
   ]
  },
  {
   "cell_type": "markdown",
   "id": "d42f176b",
   "metadata": {},
   "source": [
    "### Scope\n",
    "\n",
    "This course will use the `git` version control system, but much of what you learn will be valid with other version control \n",
    "tools you may encounter, including subversion (`svn`) and mercurial (`hg`)."
   ]
  },
  {
   "cell_type": "markdown",
   "id": "55ba9482",
   "metadata": {},
   "source": [
    "## Practising with Git"
   ]
  },
  {
   "cell_type": "markdown",
   "id": "e5232e89",
   "metadata": {},
   "source": [
    "### Example Exercise\n",
    "\n",
    "In this course, we will use, as an example, the development of a few text files containing a description of a topic of your choice. \n",
    "\n",
    "This could be your research, a hobby, or something else. In the end, we will show you how to display the content of these files as a very simple website. "
   ]
  },
  {
   "cell_type": "markdown",
   "id": "479d51a2",
   "metadata": {},
   "source": [
    "### Programming and documents\n",
    "\n",
    "The purpose of this exercise is to learn how to use Git to manage program code you write, not simple text website content, but we'll just use these text files instead of code for now, so as not to confuse matters with trying to learn version control while thinking about programming too. \n",
    "\n",
    "In later parts of the course, you will use the version control tools you learn today with actual Python code."
   ]
  },
  {
   "cell_type": "markdown",
   "id": "b1a64d09",
   "metadata": {},
   "source": [
    "### Markdown\n",
    "\n",
    "The text files we create will use a simple \"wiki\" markup style called [markdown](http://daringfireball.net/projects/markdown/basics) to show formatting. This is the convention used in this file, too. \n",
    "\n",
    "You can view the content of this file in the way Markdown renders it by looking on the [web](https://github.com/UCL/ucl_software_carpentry/blob/master/git/git_instructions.md), and compare the [raw text](https://raw.github.com/UCL/ucl_software_carpentry/master/git/git_instructions.md)."
   ]
  },
  {
   "cell_type": "markdown",
   "id": "f6dc52e1",
   "metadata": {},
   "source": [
    "### Displaying Text in this Tutorial\n",
    "\n",
    "This tutorial is based on use of the Git command line. So you'll be typing commands in the shell."
   ]
  },
  {
   "cell_type": "markdown",
   "id": "3bcdd0fc",
   "metadata": {},
   "source": [
    "To make it easy for me to edit, I've built it using Jupyter notebook."
   ]
  },
  {
   "cell_type": "markdown",
   "id": "afbd563a",
   "metadata": {},
   "source": [
    "Commands you can type will look like this, using the %%bash \"magic\" for the notebook."
   ]
  },
  {
   "cell_type": "code",
   "execution_count": null,
   "id": "aba041d6",
   "metadata": {
    "attributes": {
     "classes": [
      " Bash"
     ],
     "id": ""
    },
    "jupyter": {
     "outputs_hidden": false
    }
   },
   "outputs": [],
   "source": [
    "%%bash\n",
    "echo some output"
   ]
  },
  {
   "cell_type": "markdown",
   "id": "7cc1670e",
   "metadata": {},
   "source": [
    "with the results you should see below. "
   ]
  },
  {
   "cell_type": "markdown",
   "id": "c1c065b5",
   "metadata": {},
   "source": [
    "In this document, we will show the new content of an edited document like this:"
   ]
  },
  {
   "cell_type": "code",
   "execution_count": null,
   "id": "988dcb20",
   "metadata": {
    "jupyter": {
     "outputs_hidden": false
    }
   },
   "outputs": [],
   "source": [
    "%%writefile somefile.md\n",
    "Some content here"
   ]
  },
  {
   "cell_type": "markdown",
   "id": "700f03c8",
   "metadata": {},
   "source": [
    "But if you are following along, you should edit the file using a text editor.\n",
    "On either Windows, Mac or Linux, we recommend [VS Code](https://code.visualstudio.com/)."
   ]
  },
  {
   "cell_type": "markdown",
   "id": "a533d0c9",
   "metadata": {},
   "source": [
    "### Setting up somewhere to work"
   ]
  },
  {
   "cell_type": "code",
   "execution_count": null,
   "id": "8a5df24a",
   "metadata": {
    "attributes": {
     "classes": [
      " Bash"
     ],
     "id": ""
    },
    "jupyter": {
     "outputs_hidden": false
    }
   },
   "outputs": [],
   "source": [
    "%%bash\n",
    "rm -rf learning_git/git_example # Just in case it's left over from a previous class; you won't need this\n",
    "mkdir -p learning_git/git_example\n",
    "cd learning_git/git_example"
   ]
  },
  {
   "cell_type": "markdown",
   "id": "44ac3dda",
   "metadata": {},
   "source": [
    "I just need to move this Jupyter notebook's current directory as well:"
   ]
  },
  {
   "cell_type": "code",
   "execution_count": null,
   "id": "34bfeb2b",
   "metadata": {
    "jupyter": {
     "outputs_hidden": false
    }
   },
   "outputs": [],
   "source": [
    "import os\n",
    "top_dir = os.getcwd()\n",
    "top_dir"
   ]
  },
  {
   "cell_type": "code",
   "execution_count": null,
   "id": "ac6db1fc",
   "metadata": {
    "jupyter": {
     "outputs_hidden": false
    }
   },
   "outputs": [],
   "source": [
    "git_dir = os.path.join(top_dir, 'learning_git')\n",
    "git_dir"
   ]
  },
  {
   "cell_type": "code",
   "execution_count": null,
   "id": "3a03928e",
   "metadata": {},
   "outputs": [],
   "source": [
    "working_dir=os.path.join(git_dir, 'git_example')"
   ]
  },
  {
   "cell_type": "code",
   "execution_count": null,
   "id": "d8c8ee7a",
   "metadata": {
    "jupyter": {
     "outputs_hidden": false
    }
   },
   "outputs": [],
   "source": [
    "os.chdir(working_dir)"
   ]
  },
  {
   "cell_type": "markdown",
   "id": "5328dc22",
   "metadata": {},
   "source": [
    "## Solo work\n",
    "\n",
    "### Configuring Git with your name and email\n",
    "\n",
    "First, we should configure Git to know our name and email address:"
   ]
  },
  {
   "cell_type": "code",
   "execution_count": null,
   "id": "e349ac01",
   "metadata": {
    "attributes": {
     "classes": [
      " Bash"
     ],
     "id": ""
    },
    "jupyter": {
     "outputs_hidden": false
    }
   },
   "outputs": [],
   "source": [
    "%%bash\n",
    "git config --global user.name \"Lancelot the Brave\"\n",
    "git config --global user.email \"l.brave@spamalot.uk\""
   ]
  },
  {
   "cell_type": "markdown",
   "id": "c7bdaec9",
   "metadata": {},
   "source": [
    "Additionally, it's also a good idea to define what's the name of the default branch when we create a repository:"
   ]
  },
  {
   "cell_type": "code",
   "execution_count": null,
   "id": "3b76a290",
   "metadata": {},
   "outputs": [],
   "source": [
    "%%bash\n",
    "git config --global init.defaultBranch main"
   ]
  },
  {
   "cell_type": "markdown",
   "id": "1aadc560",
   "metadata": {},
   "source": [
    "Historically, the default branch was named `master`. Nowadays, the community and most of the hosting sites have changed the default ([read about this change in GitHub](https://github.com/github/renaming/) and [Gitlab](https://about.gitlab.com/blog/2021/03/10/new-git-default-branch-name/)."
   ]
  },
  {
   "cell_type": "markdown",
   "id": "b513cbff",
   "metadata": {},
   "source": [
    "### Initialising the repository\n",
    "\n",
    "Now, we will tell Git to track the content of this folder as a git \"repository\"."
   ]
  },
  {
   "cell_type": "code",
   "execution_count": null,
   "id": "b66a28ee",
   "metadata": {
    "attributes": {
     "classes": [
      " Bash"
     ],
     "id": ""
    },
    "jupyter": {
     "outputs_hidden": false
    }
   },
   "outputs": [],
   "source": [
    "%%bash\n",
    "pwd # Note where we are standing-- MAKE SURE YOU INITIALISE THE RIGHT FOLDER\n",
    "git init"
   ]
  },
  {
   "cell_type": "markdown",
   "id": "c31a297e",
   "metadata": {},
   "source": [
    "As yet, this repository contains no files:"
   ]
  },
  {
   "cell_type": "code",
   "execution_count": null,
   "id": "568d33f3",
   "metadata": {
    "jupyter": {
     "outputs_hidden": false
    }
   },
   "outputs": [],
   "source": [
    "%%bash\n",
    "ls"
   ]
  },
  {
   "cell_type": "code",
   "execution_count": null,
   "id": "a9ed5a6a",
   "metadata": {
    "attributes": {
     "classes": [
      " Bash"
     ],
     "id": ""
    },
    "jupyter": {
     "outputs_hidden": false
    }
   },
   "outputs": [],
   "source": [
    "%%bash\n",
    "git status"
   ]
  }
 ],
 "metadata": {
  "jekyll": {
   "display_name": "Introduction to Version Control"
  },
  "jupytext": {
   "main_language": "python",
   "notebook_metadata_filter": "-kernelspec,jupytext,jekyll"
  }
 },
 "nbformat": 4,
 "nbformat_minor": 5
}