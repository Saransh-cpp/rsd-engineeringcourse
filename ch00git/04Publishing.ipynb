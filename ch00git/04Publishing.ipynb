{
 "cells": [
  {
   "cell_type": "markdown",
   "id": "3a71002b",
   "metadata": {},
   "source": [
    "## Publishing"
   ]
  },
  {
   "cell_type": "markdown",
   "id": "8d8ed612",
   "metadata": {},
   "source": [
    "We're still in our working directory:"
   ]
  },
  {
   "cell_type": "code",
   "execution_count": null,
   "id": "fdceaaa7",
   "metadata": {
    "jupyter": {
     "outputs_hidden": false
    }
   },
   "outputs": [],
   "source": [
    "import os\n",
    "top_dir = os.getcwd()\n",
    "git_dir = os.path.join(top_dir, 'learning_git')\n",
    "working_dir = os.path.join(git_dir, 'git_example')\n",
    "os.chdir(working_dir)\n",
    "working_dir"
   ]
  },
  {
   "cell_type": "markdown",
   "id": "62b166bd",
   "metadata": {},
   "source": [
    "### Sharing your work"
   ]
  },
  {
   "cell_type": "markdown",
   "id": "b8f711bd",
   "metadata": {},
   "source": [
    "So far, all our work has been on our own computer. But a big part of the point of version control is keeping your work safe, on remote servers. Another part is making it easy to share your work with the world In this example, we'll be using the \"GitHub\" cloud repository to store and publish our work. \n",
    "\n",
    "If you have not done so already, you should create an account on [GitHub](https://github.com/): go to [GitHub's website](https://github.com/), fill in a username and password, and click on \"sign up for GitHub\". "
   ]
  },
  {
   "cell_type": "markdown",
   "id": "1f079ac6",
   "metadata": {},
   "source": [
    "### Creating a repository\n",
    "\n",
    "Ok, let's create a repository to store our work. Hit \"[new repository](https://github.com/new)\" on the right of the github home screen.\n",
    "\n",
    "Fill in a short name, and a description. Choose a \"public\" repository. Don't choose to initialize the repository with a README. That will create a repository with content and we only want a placeholder where to upload what we've created locally."
   ]
  },
  {
   "cell_type": "markdown",
   "id": "a8ca0d04",
   "metadata": {},
   "source": [
    "### Paying for GitHub\n",
    "\n",
    "For this course, you should use public repositories in your personal account for your example work: it's good to share! GitHub is free for open source, but in general, charges a fee if you want to keep your work private. \n",
    "\n",
    "In the future, you might want to keep your work on GitHub private. \n",
    "\n",
    "Students can get free private repositories on GitHub, by going to [GitHub Education](https://education.github.com/) and filling in a form (look for the Student Developer Pack). \n",
    "\n",
    "UCL pays for private GitHub repositories for UCL research groups: you can find the service details on the [Advanced Research Computing Centre's website](https://www.ucl.ac.uk/advanced-research-computing/expertise/research-software-development/research-software-development-tools/support-ucl-2)."
   ]
  },
  {
   "cell_type": "markdown",
   "id": "33f06c2a",
   "metadata": {},
   "source": [
    "### Adding a new remote to your repository\n",
    "\n",
    "Instructions will appear, once you've created the repository, as to how to add this new \"remote\" server to your repository, in the lower box on the screen. Mine say:"
   ]
  },
  {
   "cell_type": "code",
   "execution_count": null,
   "id": "6280b4c0",
   "metadata": {
    "jupyter": {
     "outputs_hidden": true
    }
   },
   "outputs": [],
   "source": [
    "%%bash\n",
    "git remote add origin git@github.com:UCL/github-example.git"
   ]
  },
  {
   "cell_type": "code",
   "execution_count": null,
   "id": "92fa2084",
   "metadata": {
    "attributes": {
     "classes": [
      "Bash"
     ],
     "id": ""
    },
    "jupyter": {
     "outputs_hidden": false
    }
   },
   "outputs": [],
   "source": [
    "%%bash\n",
    "git push -uf origin main # You shouldn't need the extra `f` switch. We use it here to force the push and rewrite that repository.\n",
    "      #You should copy the instructions from YOUR repository."
   ]
  },
  {
   "cell_type": "markdown",
   "id": "efed3c0e",
   "metadata": {},
   "source": [
    "### Remotes\n",
    "\n",
    "The first command sets up the server as a new `remote`, called `origin`. \n",
    "\n",
    "Git, unlike some earlier version control systems is a \"distributed\" version control system, which means you can work with multiple remote servers. \n",
    "\n",
    "Usually, commands that work with remotes allow you to specify the remote to use, but assume the `origin` remote if you don't. \n",
    "\n",
    "Here, `git push` will push your whole history onto the server, and now you'll be able to see it on the internet! Refresh your web browser where the instructions were, and you'll see your repository!"
   ]
  },
  {
   "cell_type": "markdown",
   "id": "15f172f8",
   "metadata": {},
   "source": [
    "Let's add these commands to our diagram:"
   ]
  },
  {
   "cell_type": "code",
   "execution_count": null,
   "id": "b3925ea7",
   "metadata": {
    "jupyter": {
     "outputs_hidden": false
    }
   },
   "outputs": [],
   "source": [
    "message=\"\"\"\n",
    "Working Directory -> Staging Area : git add\n",
    "Staging Area -> Local Repository : git commit\n",
    "Working Directory -> Local Repository : git commit -a\n",
    "Staging Area -> Working Directory : git checkout\n",
    "Local Repository -> Staging Area : git reset\n",
    "Local Repository -> Working Directory: git reset --hard\n",
    "Local Repository -> Remote Repository : git push\n",
    "\"\"\"\n",
    "from wsd import wsd\n",
    "%matplotlib inline\n",
    "wsd(message)"
   ]
  },
  {
   "cell_type": "markdown",
   "id": "324774f1",
   "metadata": {},
   "source": [
    "### Playing with GitHub\n",
    "\n",
    "Take a few moments to click around and work your way through the GitHub interface. Try clicking on 'index.md' to see the content of the file: notice how the markdown renders prettily.\n",
    "\n",
    "Click on \"commits\" near the top of the screen, to see all the changes you've made. Click on the commit number next to the right of a change, to see what changes it includes: removals are shown in red, and additions in green."
   ]
  },
  {
   "cell_type": "markdown",
   "id": "30d8b26c",
   "metadata": {},
   "source": [
    "## Working with multiple files"
   ]
  },
  {
   "cell_type": "markdown",
   "id": "ff2d2ed5",
   "metadata": {},
   "source": [
    "### Some new content\n",
    "\n",
    "So far, we've only worked with one file. Let's add another:"
   ]
  },
  {
   "cell_type": "markdown",
   "id": "2d77eddc",
   "metadata": {},
   "source": [
    "``` bash\n",
    "nano lakeland.md\n",
    "```"
   ]
  },
  {
   "cell_type": "code",
   "execution_count": null,
   "id": "3f607171",
   "metadata": {
    "jupyter": {
     "outputs_hidden": false
    }
   },
   "outputs": [],
   "source": [
    "%%writefile lakeland.md\n",
    "Lakeland  \n",
    "========   \n",
    "  \n",
    "Cumbria has some pretty hills, and lakes too.  "
   ]
  },
  {
   "cell_type": "code",
   "execution_count": null,
   "id": "0b59742c",
   "metadata": {
    "attributes": {
     "classes": [
      " Bash"
     ],
     "id": ""
    },
    "jupyter": {
     "outputs_hidden": false
    }
   },
   "outputs": [],
   "source": [
    "cat lakeland.md"
   ]
  },
  {
   "cell_type": "markdown",
   "id": "c446174b",
   "metadata": {},
   "source": [
    "### Git will not by default commit your new file"
   ]
  },
  {
   "cell_type": "code",
   "execution_count": null,
   "id": "8bd67076",
   "metadata": {
    "attributes": {
     "classes": [
      " Bash"
     ],
     "id": ""
    },
    "jupyter": {
     "outputs_hidden": false
    }
   },
   "outputs": [],
   "source": [
    "%%bash --no-raise-error\n",
    "git commit -am \"Try to add Lakeland\""
   ]
  },
  {
   "cell_type": "markdown",
   "id": "9d4d4dd4",
   "metadata": {},
   "source": [
    "This didn't do anything, because we've not told git to track the new file yet."
   ]
  },
  {
   "cell_type": "markdown",
   "id": "56a91801",
   "metadata": {},
   "source": [
    "### Tell git about the new file"
   ]
  },
  {
   "cell_type": "code",
   "execution_count": null,
   "id": "4d1c0056",
   "metadata": {
    "attributes": {
     "classes": [
      " Bash"
     ],
     "id": ""
    },
    "jupyter": {
     "outputs_hidden": false
    }
   },
   "outputs": [],
   "source": [
    "%%bash\n",
    "git add lakeland.md\n",
    "git commit -am \"Add lakeland\""
   ]
  },
  {
   "cell_type": "markdown",
   "id": "4c8040a3",
   "metadata": {},
   "source": [
    "Ok, now we have added the change about Cumbria to the file. Let's publish it to the origin repository."
   ]
  },
  {
   "cell_type": "code",
   "execution_count": null,
   "id": "103fdfd4",
   "metadata": {
    "attributes": {
     "classes": [
      " Bash"
     ],
     "id": ""
    },
    "jupyter": {
     "outputs_hidden": false
    }
   },
   "outputs": [],
   "source": [
    "%%bash\n",
    "git push"
   ]
  },
  {
   "cell_type": "markdown",
   "id": "56be458c",
   "metadata": {},
   "source": [
    "Visit GitHub, and notice this change is on your repository on the server. We could have said `git push origin` to specify the remote to use, but origin is the default."
   ]
  },
  {
   "cell_type": "markdown",
   "id": "c32d78af",
   "metadata": {},
   "source": [
    "## Changing two files at once"
   ]
  },
  {
   "cell_type": "markdown",
   "id": "f8e4a98b",
   "metadata": {},
   "source": [
    "What if we change both files?"
   ]
  },
  {
   "cell_type": "code",
   "execution_count": null,
   "id": "84085db6",
   "metadata": {
    "jupyter": {
     "outputs_hidden": false
    }
   },
   "outputs": [],
   "source": [
    "%%writefile lakeland.md\n",
    "Lakeland  \n",
    "========   \n",
    "  \n",
    "Cumbria has some pretty hills, and lakes too\n",
    "\n",
    "Mountains:\n",
    "* Helvellyn"
   ]
  },
  {
   "cell_type": "code",
   "execution_count": null,
   "id": "e7b33049",
   "metadata": {
    "jupyter": {
     "outputs_hidden": false
    }
   },
   "outputs": [],
   "source": [
    "%%writefile index.md\n",
    "Mountains and Lakes in the UK   \n",
    "===================   \n",
    "Engerland is not very mountainous.\n",
    "But has some tall hills, and maybe a\n",
    "mountain or two depending on your definition."
   ]
  },
  {
   "cell_type": "code",
   "execution_count": null,
   "id": "cefcd77e",
   "metadata": {
    "jupyter": {
     "outputs_hidden": false
    }
   },
   "outputs": [],
   "source": [
    "%%bash\n",
    "git status"
   ]
  },
  {
   "cell_type": "markdown",
   "id": "5e7175b2",
   "metadata": {},
   "source": [
    "These changes should really be separate commits. We can do this with careful use of git add, to **stage** first one commit, then the other."
   ]
  },
  {
   "cell_type": "code",
   "execution_count": null,
   "id": "2dd0e4e1",
   "metadata": {
    "jupyter": {
     "outputs_hidden": false
    }
   },
   "outputs": [],
   "source": [
    "%%bash\n",
    "git add index.md\n",
    "git commit -m \"Include lakes in the scope\""
   ]
  },
  {
   "cell_type": "markdown",
   "id": "45b53058",
   "metadata": {},
   "source": [
    "Because we \"staged\" only index.md, the changes to lakeland.md were not included in that commit."
   ]
  },
  {
   "cell_type": "code",
   "execution_count": null,
   "id": "1906a19b",
   "metadata": {
    "jupyter": {
     "outputs_hidden": false
    }
   },
   "outputs": [],
   "source": [
    "%%bash\n",
    "git commit -am \"Add Helvellyn\""
   ]
  },
  {
   "cell_type": "code",
   "execution_count": null,
   "id": "1c916c46",
   "metadata": {
    "jupyter": {
     "outputs_hidden": false
    }
   },
   "outputs": [],
   "source": [
    "%%bash\n",
    "git log --oneline"
   ]
  },
  {
   "cell_type": "code",
   "execution_count": null,
   "id": "36da5821",
   "metadata": {
    "jupyter": {
     "outputs_hidden": false
    }
   },
   "outputs": [],
   "source": [
    "%%bash\n",
    "git push"
   ]
  },
  {
   "cell_type": "code",
   "execution_count": null,
   "id": "72fab65e",
   "metadata": {
    "jupyter": {
     "outputs_hidden": false
    }
   },
   "outputs": [],
   "source": [
    "message=\"\"\"\n",
    "participant \"Cleese's remote\" as M\n",
    "participant \"Cleese's repo\" as R\n",
    "participant \"Cleese's index\" as I\n",
    "participant Cleese as C\n",
    "\n",
    "note right of C: nano index.md\n",
    "note right of C: nano lakeland.md\n",
    "\n",
    "note right of C: git add index.md\n",
    "C->I: Add *only* the changes to index.md to the staging area\n",
    "\n",
    "note right of C: git commit -m \"Include lakes\"\n",
    "I->R: Make a commit from currently staged changes: index.md only\n",
    "\n",
    "note right of C: git commit -am \"Add Helvellyn\"\n",
    "C->I: Stage *all remaining* changes, (lakeland.md)\n",
    "I->R: Make a commit from currently staged changes\n",
    "\n",
    "note right of C: git push\n",
    "R->M: Transfer commits to Github\n",
    "\"\"\"\n",
    "wsd(message)"
   ]
  }
 ],
 "metadata": {
  "jekyll": {
   "display_name": "Publishing"
  },
  "jupytext": {
   "main_language": "python",
   "notebook_metadata_filter": "-kernelspec,jupytext,jekyll"
  }
 },
 "nbformat": 4,
 "nbformat_minor": 5
}