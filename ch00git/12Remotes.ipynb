{
 "cells": [
  {
   "cell_type": "markdown",
   "id": "2467c52c",
   "metadata": {},
   "source": [
    "## Working with multiple remotes\n",
    "\n",
    "### Distributed versus centralised\n",
    "\n",
    "Older version control systems (cvs, svn) were \"centralised\"; the history was kept only on a server,\n",
    "and all commits required an internet.\n",
    "\n",
    "Centralised                    |  Distributed\n",
    "-------------------------------|--------------------------\n",
    "Server has history             |Every user has full history\n",
    "Your computer has one snapshot |  Many local branches\n",
    "To access history, need internet| History always available\n",
    "You commit to remote server     | Users synchronise histories\n",
    "cvs, subversion(svn)            | git, mercurial (hg), bazaar (bzr)"
   ]
  },
  {
   "cell_type": "markdown",
   "id": "748fa64a",
   "metadata": {},
   "source": [
    "With modern distributed systems, we can add a second remote. This might be a personal *fork* on github:"
   ]
  },
  {
   "cell_type": "code",
   "execution_count": null,
   "id": "e45390d9",
   "metadata": {
    "jupyter": {
     "outputs_hidden": false
    }
   },
   "outputs": [],
   "source": [
    "import os\n",
    "top_dir = os.getcwd()\n",
    "git_dir = os.path.join(top_dir, 'learning_git')\n",
    "working_dir = os.path.join(git_dir, 'git_example')\n",
    "os.chdir(working_dir)"
   ]
  },
  {
   "cell_type": "code",
   "execution_count": null,
   "id": "ad4e85a9",
   "metadata": {
    "attributes": {
     "classes": [
      " Bash"
     ],
     "id": ""
    },
    "jupyter": {
     "outputs_hidden": false
    }
   },
   "outputs": [],
   "source": [
    "%%bash\n",
    "git switch main\n",
    "git remote add arc git@github.com:UCL-ARC-RSEing-with-Python/github-example.git\n",
    "git remote -v"
   ]
  },
  {
   "cell_type": "markdown",
   "id": "eadf022c",
   "metadata": {},
   "source": [
    "We can push to a named remote:"
   ]
  },
  {
   "cell_type": "code",
   "execution_count": null,
   "id": "411173f9",
   "metadata": {
    "jupyter": {
     "outputs_hidden": false
    }
   },
   "outputs": [],
   "source": [
    "%%writefile Pennines.md\n",
    "\n",
    "Mountains In the Pennines\n",
    "========================\n",
    "\n",
    "* Cross Fell\n",
    "* Whernside"
   ]
  },
  {
   "cell_type": "code",
   "execution_count": null,
   "id": "edcd8bf9",
   "metadata": {
    "jupyter": {
     "outputs_hidden": false
    }
   },
   "outputs": [],
   "source": [
    "%%bash\n",
    "git commit -am \"Add Whernside\""
   ]
  },
  {
   "cell_type": "code",
   "execution_count": null,
   "id": "0d00795c",
   "metadata": {
    "jupyter": {
     "outputs_hidden": false
    }
   },
   "outputs": [],
   "source": [
    "%%bash\n",
    "git push -uf arc main"
   ]
  },
  {
   "cell_type": "markdown",
   "id": "ddb83e78",
   "metadata": {},
   "source": [
    "### Referencing remotes\n",
    "\n",
    "You can always refer to commits on a remote like this:"
   ]
  },
  {
   "cell_type": "code",
   "execution_count": null,
   "id": "5f06f4b8",
   "metadata": {
    "jupyter": {
     "outputs_hidden": false
    }
   },
   "outputs": [],
   "source": [
    "%%bash\n",
    "git fetch\n",
    "git log --oneline --left-right arc/main...origin/main"
   ]
  },
  {
   "cell_type": "markdown",
   "id": "f3e55148",
   "metadata": {},
   "source": [
    "To see the differences between remotes, for example.\n",
    "\n",
    "To see what files you have changed that aren't updated on a particular remote, for example:"
   ]
  },
  {
   "cell_type": "code",
   "execution_count": null,
   "id": "387ffda7",
   "metadata": {
    "jupyter": {
     "outputs_hidden": false
    }
   },
   "outputs": [],
   "source": [
    "%%bash\n",
    "git diff --name-only origin/main"
   ]
  },
  {
   "cell_type": "markdown",
   "id": "c5e99286",
   "metadata": {},
   "source": [
    "When you reference remotes like this, you're working with a cached copy of the last time you interacted with the remote. You can do `git fetch` to update local data with the remotes without actually pulling. You can also get useful information about whether tracking branches are ahead or behind the remote branches they track:"
   ]
  },
  {
   "cell_type": "code",
   "execution_count": null,
   "id": "f448c7fc",
   "metadata": {
    "jupyter": {
     "outputs_hidden": false
    }
   },
   "outputs": [],
   "source": [
    "%%bash\n",
    "git branch -vv"
   ]
  },
  {
   "cell_type": "markdown",
   "id": "ed2af52d",
   "metadata": {},
   "source": [
    "## Hosting Servers\n",
    "\n",
    "### Hosting a local server\n",
    "\n",
    "* Any repository can be a remote for pulls\n",
    "* Can pull/push over shared folders or ssh\n",
    "* Pushing to someone's working copy is dangerous\n",
    "* Use `git init --bare` to make a copy for pushing\n",
    "* You don't need to create a \"server\" as such, any 'bare' git repo will do."
   ]
  },
  {
   "cell_type": "code",
   "execution_count": null,
   "id": "72bf57a1",
   "metadata": {
    "jupyter": {
     "outputs_hidden": false
    }
   },
   "outputs": [],
   "source": [
    "bare_dir = os.path.join(git_dir, 'bare_repo')\n",
    "os.chdir(git_dir)"
   ]
  },
  {
   "cell_type": "code",
   "execution_count": null,
   "id": "29b0b6c5",
   "metadata": {
    "jupyter": {
     "outputs_hidden": false
    }
   },
   "outputs": [],
   "source": [
    "%%bash\n",
    "mkdir -p bare_repo\n",
    "cd bare_repo\n",
    "git init --bare"
   ]
  },
  {
   "cell_type": "code",
   "execution_count": null,
   "id": "9d0bad07",
   "metadata": {
    "jupyter": {
     "outputs_hidden": false
    }
   },
   "outputs": [],
   "source": [
    "os.chdir(working_dir)"
   ]
  },
  {
   "cell_type": "code",
   "execution_count": null,
   "id": "39eb2350",
   "metadata": {
    "jupyter": {
     "outputs_hidden": false
    }
   },
   "outputs": [],
   "source": [
    "%%bash\n",
    "git remote add local_bare ../bare_repo\n",
    "git push -u local_bare main"
   ]
  },
  {
   "cell_type": "code",
   "execution_count": null,
   "id": "1ad6bb16",
   "metadata": {
    "jupyter": {
     "outputs_hidden": false
    }
   },
   "outputs": [],
   "source": [
    "%%bash\n",
    "git remote -v"
   ]
  },
  {
   "cell_type": "markdown",
   "id": "639a5183",
   "metadata": {},
   "source": [
    "You can now work with this local repository, just as with any other git server.\n",
    "If you have a colleague on a shared file system, you can use this approach to collaborate through that file system."
   ]
  },
  {
   "cell_type": "markdown",
   "id": "d276f932",
   "metadata": {},
   "source": [
    "### Home-made SSH servers\n",
    "\n",
    "Classroom exercise: Try creating a server for yourself using a machine you can SSH to:"
   ]
  },
  {
   "cell_type": "markdown",
   "id": "3b224545",
   "metadata": {},
   "source": [
    "``` bash\n",
    "ssh <mymachine>\n",
    "mkdir mygitserver\n",
    "cd mygitserver\n",
    "git init --bare\n",
    "exit\n",
    "git remote add <somename> ssh://user@host/mygitserver\n",
    "git push -u <somename> main\n",
    "```"
   ]
  },
  {
   "cell_type": "markdown",
   "id": "e8db7e46",
   "metadata": {},
   "source": [
    "## SSH keys and GitHub\n",
    "\n",
    "Classroom exercise: If you haven't already, you should set things up so that you don't have to keep typing in your\n",
    "password whenever you interact with GitHub via the command line.\n",
    "\n",
    "You can do this with an \"ssh keypair\". You may have created a keypair in the\n",
    "Software Carpentry shell training. Go to the [ssh settings\n",
    "page](https://github.com/settings/ssh) on GitHub and upload your public key by\n",
    "copying the content from your computer. (Probably at .ssh/id_rsa.pub)\n",
    "\n",
    "If you have difficulties, the instructions for this are [on the GitHub\n",
    "website](https://docs.github.com/en/authentication/connecting-to-github-with-ssh)."
   ]
  }
 ],
 "metadata": {
  "jekyll": {
   "display_name": "Remotes"
  },
  "jupytext": {
   "main_language": "python",
   "notebook_metadata_filter": "-kernelspec,jupytext,jekyll"
  }
 },
 "nbformat": 4,
 "nbformat_minor": 5
}