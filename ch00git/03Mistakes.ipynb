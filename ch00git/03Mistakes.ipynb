{
 "cells": [
  {
   "cell_type": "markdown",
   "id": "7d919cff",
   "metadata": {},
   "source": [
    "## Fixing mistakes"
   ]
  },
  {
   "cell_type": "markdown",
   "id": "2d8defdd",
   "metadata": {},
   "source": [
    "We're still in our git working directory:"
   ]
  },
  {
   "cell_type": "code",
   "execution_count": null,
   "id": "88a72af7",
   "metadata": {
    "jupyter": {
     "outputs_hidden": false
    }
   },
   "outputs": [],
   "source": [
    "import os\n",
    "top_dir = os.getcwd()\n",
    "git_dir = os.path.join(top_dir, 'learning_git')\n",
    "working_dir = os.path.join(git_dir, 'git_example')\n",
    "os.chdir(working_dir)\n",
    "working_dir"
   ]
  },
  {
   "cell_type": "markdown",
   "id": "12f5c6bd",
   "metadata": {},
   "source": [
    "### Referring to changes with HEAD and ^\n",
    "\n",
    "The commit we want to revert to is the one before the latest.\n",
    "\n",
    "`HEAD` refers to the latest commit. That is, we want to go back to the change before the current `HEAD`. \n",
    "\n",
    "We could use the hash code (e.g. 73fbeaf) to reference this, but you can also refer to the commit before the `HEAD` as `HEAD^`, the one before that as `HEAD^^`, the one before that as `HEAD~3`."
   ]
  },
  {
   "cell_type": "markdown",
   "id": "40fcce6b",
   "metadata": {},
   "source": [
    "### Reverting\n",
    " \n",
    "Ok, so now we'd like to undo the nasty commit with the lie about Mount Fictional."
   ]
  },
  {
   "cell_type": "code",
   "execution_count": null,
   "id": "8fd9133b",
   "metadata": {
    "jupyter": {
     "outputs_hidden": false
    }
   },
   "outputs": [],
   "source": [
    "%%bash\n",
    "git revert HEAD^"
   ]
  },
  {
   "cell_type": "markdown",
   "id": "3cda09ca",
   "metadata": {},
   "source": [
    "An editor may pop up, with some default text which you can accept and save. "
   ]
  },
  {
   "cell_type": "markdown",
   "id": "7c12cd4c",
   "metadata": {},
   "source": [
    "### Conflicted reverts\n",
    "\n",
    "You may, depending on the changes you've tried to make, get an error message here. \n",
    "\n",
    "If this happens, it is because git could not automagically decide how to combine the change you made after the change you want to revert, with the attempt to revert the change: this could happen, for example, if they both touch the same line. \n",
    "\n",
    "If that happens, you need to manually edit the file to fix the problem. Skip ahead to the section on resolving conflicts, or ask a demonstrator to help."
   ]
  },
  {
   "cell_type": "markdown",
   "id": "c25340d9",
   "metadata": {},
   "source": [
    "### Review of changes\n",
    "\n",
    "The file should now contain the change to the title, but not the extra line with the lie. Note the log:"
   ]
  },
  {
   "cell_type": "code",
   "execution_count": null,
   "id": "0f476b37",
   "metadata": {
    "jupyter": {
     "outputs_hidden": false
    }
   },
   "outputs": [],
   "source": [
    "%%bash\n",
    "git log --date=short"
   ]
  },
  {
   "cell_type": "markdown",
   "id": "43091f5d",
   "metadata": {},
   "source": [
    "### Antipatch\n",
    "\n",
    "Notice how the mistake has stayed in the history.\n",
    "\n",
    "There is a new commit which undoes the change: this is colloquially called an \"antipatch\". \n",
    "This is nice: you have a record of the full story, including the mistake and its correction."
   ]
  },
  {
   "cell_type": "markdown",
   "id": "35ff9f85",
   "metadata": {},
   "source": [
    "### Rewriting history\n",
    "\n",
    "It is possible, in git, to remove the most recent change altogether, \"rewriting history\". Let's make another bad change, and see how to do this."
   ]
  },
  {
   "cell_type": "markdown",
   "id": "f0949130",
   "metadata": {},
   "source": [
    "### A new lie"
   ]
  },
  {
   "cell_type": "code",
   "execution_count": null,
   "id": "defc9ab9",
   "metadata": {
    "jupyter": {
     "outputs_hidden": false
    },
    "lines_to_next_cell": 2
   },
   "outputs": [],
   "source": [
    "%%writefile index.md\n",
    "Mountains and Hills in the UK   \n",
    "===================   \n",
    "Engerland is not very mountainous.   \n",
    "But has some tall hills, and maybe a\n",
    "mountain or two depending on your definition."
   ]
  },
  {
   "cell_type": "code",
   "execution_count": null,
   "id": "cf5fc033",
   "metadata": {
    "attributes": {
     "classes": [
      " Bash"
     ],
     "id": ""
    },
    "jupyter": {
     "outputs_hidden": false
    }
   },
   "outputs": [],
   "source": [
    "%%bash\n",
    "cat index.md"
   ]
  },
  {
   "cell_type": "code",
   "execution_count": null,
   "id": "4e951e08",
   "metadata": {
    "jupyter": {
     "outputs_hidden": false
    }
   },
   "outputs": [],
   "source": [
    "%%bash\n",
    "git diff"
   ]
  },
  {
   "cell_type": "code",
   "execution_count": null,
   "id": "8bd3f976",
   "metadata": {
    "jupyter": {
     "outputs_hidden": false
    }
   },
   "outputs": [],
   "source": [
    "%%bash\n",
    "git commit -am \"Add a silly spelling\""
   ]
  },
  {
   "cell_type": "code",
   "execution_count": null,
   "id": "b94ec24f",
   "metadata": {
    "attributes": {
     "classes": [
      " Bash"
     ],
     "id": ""
    },
    "jupyter": {
     "outputs_hidden": false
    }
   },
   "outputs": [],
   "source": [
    "%%bash\n",
    "git log --date=short"
   ]
  },
  {
   "cell_type": "markdown",
   "id": "1d7f968d",
   "metadata": {},
   "source": [
    "### Using reset to rewrite history"
   ]
  },
  {
   "cell_type": "code",
   "execution_count": null,
   "id": "5f74d625",
   "metadata": {
    "attributes": {
     "classes": [
      " Bash"
     ],
     "id": ""
    },
    "jupyter": {
     "outputs_hidden": false
    }
   },
   "outputs": [],
   "source": [
    "%%bash\n",
    "git reset HEAD^"
   ]
  },
  {
   "cell_type": "code",
   "execution_count": null,
   "id": "d3649059",
   "metadata": {
    "attributes": {
     "classes": [
      " Bash"
     ],
     "id": ""
    },
    "jupyter": {
     "outputs_hidden": false
    }
   },
   "outputs": [],
   "source": [
    "%%bash\n",
    "git log --date=short"
   ]
  },
  {
   "cell_type": "markdown",
   "id": "84a8d55f",
   "metadata": {},
   "source": [
    "### Covering your tracks\n",
    "\n",
    "The silly spelling *is no longer in the log*. This approach to fixing mistakes, \"rewriting history\" with `reset`, instead of adding an antipatch with `revert`, is dangerous, and we don't recommend it. But you may want to do it for small silly mistakes, such as to correct a commit message."
   ]
  },
  {
   "cell_type": "markdown",
   "id": "1081af20",
   "metadata": {},
   "source": [
    "### Resetting the working area\n",
    "\n",
    "When `git reset` removes commits, it leaves your working directory unchanged -- so you can keep the work in the bad change if you want. "
   ]
  },
  {
   "cell_type": "code",
   "execution_count": null,
   "id": "482ec191",
   "metadata": {
    "jupyter": {
     "outputs_hidden": false
    }
   },
   "outputs": [],
   "source": [
    "%%bash\n",
    "cat index.md"
   ]
  },
  {
   "cell_type": "markdown",
   "id": "d3a8eced",
   "metadata": {},
   "source": [
    "If you want to lose the change from the working directory as well, you can do `git reset --hard`. \n",
    "\n",
    "I'm going to get rid of the silly spelling, and I didn't do `--hard`, so I'll reset the file from the working directory to be the same as in the index:"
   ]
  },
  {
   "cell_type": "code",
   "execution_count": null,
   "id": "87695f98",
   "metadata": {
    "attributes": {
     "classes": [
      " Bash"
     ],
     "id": ""
    },
    "jupyter": {
     "outputs_hidden": true
    }
   },
   "outputs": [],
   "source": [
    "%%bash\n",
    "git checkout index.md"
   ]
  },
  {
   "cell_type": "code",
   "execution_count": null,
   "id": "a44bbdd9",
   "metadata": {
    "jupyter": {
     "outputs_hidden": false
    }
   },
   "outputs": [],
   "source": [
    "%%bash\n",
    "cat index.md"
   ]
  },
  {
   "cell_type": "markdown",
   "id": "484621c6",
   "metadata": {},
   "source": [
    "We can add this to our diagram:"
   ]
  },
  {
   "cell_type": "code",
   "execution_count": null,
   "id": "0cb893e9",
   "metadata": {
    "jupyter": {
     "outputs_hidden": false
    }
   },
   "outputs": [],
   "source": [
    "message=\"\"\"\n",
    "Working Directory -> Staging Area : git add\n",
    "Staging Area -> Local Repository : git commit\n",
    "Working Directory -> Local Repository : git commit -a\n",
    "Staging Area -> Working Directory : git checkout\n",
    "Local Repository -> Staging Area : git reset\n",
    "Local Repository -> Working Directory: git reset --hard\n",
    "\"\"\"\n",
    "from wsd import wsd\n",
    "%matplotlib inline\n",
    "wsd(message)"
   ]
  },
  {
   "cell_type": "markdown",
   "id": "64cbc9de",
   "metadata": {},
   "source": [
    "We can add it to Cleese's story:"
   ]
  },
  {
   "cell_type": "code",
   "execution_count": null,
   "id": "d745f1a7",
   "metadata": {
    "jupyter": {
     "outputs_hidden": false
    }
   },
   "outputs": [],
   "source": [
    "message=\"\"\"\n",
    "participant \"Cleese's repo\" as R\n",
    "participant \"Cleese's index\" as I\n",
    "participant Cleese as C\n",
    "\n",
    "note right of C: git revert HEAD^\n",
    "\n",
    "C->R: Add new commit reversing change\n",
    "R->I: update staging area to reverted version\n",
    "I->C: update file to reverted version\n",
    "\n",
    "\n",
    "\n",
    "note right of C: vim index.md\n",
    "note right of C: git commit -am \"Add another mistake\"\n",
    "C->I: Add mistake\n",
    "I->R: Add mistake\n",
    "\n",
    "note right of C: git reset HEAD^\n",
    "\n",
    "C->R: Delete mistaken commit\n",
    "R->I: Update staging area to reset commit\n",
    "\n",
    "note right of C: git checkout index.md\n",
    "\n",
    "I->C: Update file to reverted version\n",
    "\n",
    "\n",
    "\"\"\"\n",
    "wsd(message)"
   ]
  }
 ],
 "metadata": {
  "jekyll": {
   "display_name": "Fixing Mistakes"
  },
  "jupytext": {
   "main_language": "python",
   "notebook_metadata_filter": "-kernelspec,jupytext,jekyll"
  }
 },
 "nbformat": 4,
 "nbformat_minor": 5
}