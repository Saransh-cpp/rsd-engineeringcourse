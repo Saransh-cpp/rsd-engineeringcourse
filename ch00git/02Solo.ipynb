{
 "cells": [
  {
   "cell_type": "markdown",
   "id": "3014fc54",
   "metadata": {},
   "source": [
    "## Solo work with Git"
   ]
  },
  {
   "cell_type": "markdown",
   "id": "0fced55b",
   "metadata": {},
   "source": [
    "So, we're in our git working directory:"
   ]
  },
  {
   "cell_type": "code",
   "execution_count": null,
   "id": "de116a07",
   "metadata": {
    "jupyter": {
     "outputs_hidden": false
    }
   },
   "outputs": [],
   "source": [
    "import os\n",
    "top_dir = os.getcwd()\n",
    "git_dir = os.path.join(top_dir, 'learning_git')\n",
    "working_dir = os.path.join(git_dir, 'git_example')\n",
    "os.chdir(working_dir)\n",
    "working_dir"
   ]
  },
  {
   "cell_type": "markdown",
   "id": "78bfae1e",
   "metadata": {},
   "source": [
    "### A first example file\n",
    "\n",
    "So let's create an example file, and see how to start to manage a history of changes to it."
   ]
  },
  {
   "cell_type": "markdown",
   "id": "11fe7b93",
   "metadata": {},
   "source": [
    "    <my editor> index.md # Type some content into the file."
   ]
  },
  {
   "cell_type": "code",
   "execution_count": null,
   "id": "edcd9c08",
   "metadata": {
    "jupyter": {
     "outputs_hidden": false
    },
    "lines_to_next_cell": 2
   },
   "outputs": [],
   "source": [
    "%%writefile index.md\n",
    "Mountains in the UK   \n",
    "===================   \n",
    "England is not very mountainous.   \n",
    "But has some tall hills, and maybe a mountain or two depending on your definition."
   ]
  },
  {
   "cell_type": "code",
   "execution_count": null,
   "id": "3b72e900",
   "metadata": {
    "attributes": {
     "classes": [
      " Bash"
     ],
     "id": ""
    },
    "jupyter": {
     "outputs_hidden": false
    }
   },
   "outputs": [],
   "source": [
    "cat index.md"
   ]
  },
  {
   "cell_type": "markdown",
   "id": "275880f1",
   "metadata": {},
   "source": [
    "### Telling Git about the File\n",
    "\n",
    "So, let's tell Git that `index.md` is a file which is important, and we would like to keep track of its history:"
   ]
  },
  {
   "cell_type": "code",
   "execution_count": null,
   "id": "c09e4106",
   "metadata": {
    "attributes": {
     "classes": [
      " Bash"
     ],
     "id": ""
    },
    "jupyter": {
     "outputs_hidden": false
    }
   },
   "outputs": [],
   "source": [
    "%%bash\n",
    "git add index.md"
   ]
  },
  {
   "cell_type": "markdown",
   "id": "a1a71e75",
   "metadata": {},
   "source": [
    "Don't forget: Any files in repositories which you want to \"track\" need to be added with `git add` after you create them.\n",
    "\n",
    "### Our first commit\n",
    "\n",
    "Now, we need to tell Git to record the first version of this file in the history of changes:"
   ]
  },
  {
   "cell_type": "code",
   "execution_count": null,
   "id": "58a1aa2e",
   "metadata": {
    "attributes": {
     "classes": [
      " Bash"
     ],
     "id": ""
    },
    "jupyter": {
     "outputs_hidden": false
    }
   },
   "outputs": [],
   "source": [
    "%%bash\n",
    "git commit -m \"First commit of discourse on UK topography\""
   ]
  },
  {
   "cell_type": "markdown",
   "id": "221d82dc",
   "metadata": {},
   "source": [
    "And note the confirmation from Git.\n",
    "\n",
    "There's a lot of output there you can ignore for now."
   ]
  },
  {
   "cell_type": "markdown",
   "id": "428817de",
   "metadata": {},
   "source": [
    "### Configuring Git with your editor\n",
    "\n",
    "If you don't type in the log message directly with -m \"Some message\", then an editor will pop up, to allow you\n",
    "to edit your message on the fly."
   ]
  },
  {
   "cell_type": "markdown",
   "id": "0d023407",
   "metadata": {},
   "source": [
    "For this to work, you have to tell git where to find your editor."
   ]
  },
  {
   "cell_type": "code",
   "execution_count": null,
   "id": "751cf2f6",
   "metadata": {
    "attributes": {
     "classes": [
      " Bash"
     ],
     "id": ""
    },
    "jupyter": {
     "outputs_hidden": true
    }
   },
   "outputs": [],
   "source": [
    "%%bash\n",
    "git config --global core.editor nano"
   ]
  },
  {
   "cell_type": "markdown",
   "id": "e8294e44",
   "metadata": {},
   "source": [
    "You can find out what you currently have with:"
   ]
  },
  {
   "cell_type": "code",
   "execution_count": null,
   "id": "fc67a92c",
   "metadata": {
    "attributes": {
     "classes": [
      " Bash"
     ],
     "id": ""
    },
    "jupyter": {
     "outputs_hidden": false
    }
   },
   "outputs": [],
   "source": [
    "%%bash\n",
    "git config --get core.editor"
   ]
  },
  {
   "cell_type": "markdown",
   "id": "e85063f4",
   "metadata": {},
   "source": [
    "To configure VS Code on your operating system you'll need something like the below, ask a demonstrator to help for your machine."
   ]
  },
  {
   "cell_type": "markdown",
   "id": "b2b0fbb1",
   "metadata": {
    "attributes": {
     "classes": [
      " Bash"
     ],
     "id": ""
    }
   },
   "source": [
    "``` bash\n",
    "$ git config --global core.editor \"code --wait\"\n",
    "```"
   ]
  },
  {
   "cell_type": "markdown",
   "id": "f1646bcb",
   "metadata": {},
   "source": [
    "I'm going to be using `nano` as my editor, but you can use whatever editor you prefer. Find how to setup your favourite editor in [the setup chapter of Software Carpentry's Git lesson](https://swcarpentry.github.io/git-novice/02-setup.html)."
   ]
  },
  {
   "cell_type": "markdown",
   "id": "0d377531",
   "metadata": {},
   "source": [
    "### Git log\n",
    "\n",
    "Git now has one change in its history:"
   ]
  },
  {
   "cell_type": "code",
   "execution_count": null,
   "id": "e8478c48",
   "metadata": {
    "attributes": {
     "classes": [
      " Bash"
     ],
     "id": ""
    },
    "jupyter": {
     "outputs_hidden": false
    }
   },
   "outputs": [],
   "source": [
    "%%bash\n",
    "git log"
   ]
  },
  {
   "cell_type": "markdown",
   "id": "71153d02",
   "metadata": {},
   "source": [
    "You can see the commit message, author, and date..."
   ]
  },
  {
   "cell_type": "markdown",
   "id": "453eec39",
   "metadata": {},
   "source": [
    "### Hash Codes\n",
    "\n",
    "The commit \"hash code\", e.g.\n",
    "\n",
    "`c438f1716b2515563e03e82231acbae7dd4f4656`\n",
    "\n",
    "is a unique identifier of that particular revision. \n",
    "\n",
    "(This is a really long code, but whenever you need to use it, you can just use the first few characters, however many characters is long enough to make it unique, `c438` for example. )"
   ]
  },
  {
   "cell_type": "markdown",
   "id": "cdb26b96",
   "metadata": {},
   "source": [
    "### Nothing to see here\n",
    "\n",
    "Note that git will now tell us that our \"working directory\" is up-to-date with the repository: there are no changes to the files that aren't recorded in the repository history:"
   ]
  },
  {
   "cell_type": "code",
   "execution_count": null,
   "id": "a25579fb",
   "metadata": {
    "attributes": {
     "classes": [
      " Bash"
     ],
     "id": ""
    },
    "jupyter": {
     "outputs_hidden": false
    }
   },
   "outputs": [],
   "source": [
    "%%bash\n",
    "git status"
   ]
  },
  {
   "cell_type": "markdown",
   "id": "17135a35",
   "metadata": {},
   "source": [
    "Let's edit the file again:\n",
    "\n",
    "    nano index.md"
   ]
  },
  {
   "cell_type": "code",
   "execution_count": null,
   "id": "6fcb7030",
   "metadata": {
    "jupyter": {
     "outputs_hidden": false
    },
    "lines_to_next_cell": 2
   },
   "outputs": [],
   "source": [
    "%%writefile index.md\n",
    "Mountains in the UK   \n",
    "===================   \n",
    "England is not very mountainous.   \n",
    "But has some tall hills, and maybe a mountain or two depending on your definition.\n",
    "\n",
    "Mount Fictional, in Barsetshire, U.K. is the tallest mountain in the world."
   ]
  },
  {
   "cell_type": "code",
   "execution_count": null,
   "id": "45007578",
   "metadata": {
    "attributes": {
     "classes": [
      " Bash"
     ],
     "id": ""
    },
    "jupyter": {
     "outputs_hidden": false
    }
   },
   "outputs": [],
   "source": [
    "cat index.md"
   ]
  },
  {
   "cell_type": "markdown",
   "id": "89eedc5f",
   "metadata": {},
   "source": [
    "### Unstaged changes"
   ]
  },
  {
   "cell_type": "code",
   "execution_count": null,
   "id": "f7803d09",
   "metadata": {
    "attributes": {
     "classes": [
      " Bash"
     ],
     "id": ""
    },
    "jupyter": {
     "outputs_hidden": false
    }
   },
   "outputs": [],
   "source": [
    "%%bash\n",
    "git status"
   ]
  },
  {
   "cell_type": "markdown",
   "id": "c0d6c77f",
   "metadata": {},
   "source": [
    "We can now see that there is a change to \"index.md\" which is currently \"not staged for commit\". What does this mean? \n",
    "\n",
    "If we do a `git commit` now *nothing will happen*. \n",
    "\n",
    "Git will only commit changes to files that you choose to include in each commit.\n",
    "\n",
    "This is a difference from other version control systems, where committing will affect all changed files. "
   ]
  },
  {
   "cell_type": "markdown",
   "id": "715b3572",
   "metadata": {},
   "source": [
    "We can see the differences in the file with:"
   ]
  },
  {
   "cell_type": "code",
   "execution_count": null,
   "id": "bfa2098d",
   "metadata": {
    "jupyter": {
     "outputs_hidden": false
    }
   },
   "outputs": [],
   "source": [
    "%%bash\n",
    "git diff"
   ]
  },
  {
   "cell_type": "markdown",
   "id": "97994443",
   "metadata": {},
   "source": [
    "Deleted lines are prefixed with a minus, added lines prefixed with a plus."
   ]
  },
  {
   "cell_type": "markdown",
   "id": "44addd4e",
   "metadata": {},
   "source": [
    "### Staging a file to be included in the next commit\n",
    "\n",
    "To include the file in the next commit, we have a few choices. This is one of the things to be careful of with git: there are lots of ways to do similar things, and it can be hard to keep track of them all."
   ]
  },
  {
   "cell_type": "code",
   "execution_count": null,
   "id": "7a7512c1",
   "metadata": {
    "attributes": {
     "classes": [
      " Bash"
     ],
     "id": ""
    },
    "jupyter": {
     "outputs_hidden": true
    }
   },
   "outputs": [],
   "source": [
    "%%bash\n",
    "git add --update"
   ]
  },
  {
   "cell_type": "markdown",
   "id": "3722912f",
   "metadata": {},
   "source": [
    "This says \"include in the next commit, all files which have ever been included before\". \n",
    "\n",
    "Note that `git add` is the command we use to introduce git to a new file, but also the command we use to \"stage\" a file to be included in the next commit. "
   ]
  },
  {
   "cell_type": "markdown",
   "id": "183819bd",
   "metadata": {},
   "source": [
    "### The staging area\n",
    "\n",
    "The \"staging area\" or \"index\" is the git jargon for the place which contains the list of changes which will be included in the next commit.\n",
    "\n",
    "You can include specific changes to specific files with `git add`, commit them, add some more files, and commit them. (You can even add specific changes within a file to be included in the index.)"
   ]
  },
  {
   "cell_type": "markdown",
   "id": "652f024a",
   "metadata": {},
   "source": [
    "### Message Sequence Charts"
   ]
  },
  {
   "cell_type": "markdown",
   "id": "69daf1c1",
   "metadata": {},
   "source": [
    "In order to illustrate the behaviour of Git, it will be useful to be able to generate figures in Python\n",
    "of a \"message sequence chart\" flavour."
   ]
  },
  {
   "cell_type": "markdown",
   "id": "54eb4a61",
   "metadata": {},
   "source": [
    "There's a nice online tool to do this, called \"[Web Sequence diagrams](https://www.websequencediagrams.com)\"."
   ]
  },
  {
   "cell_type": "markdown",
   "id": "77a4ebf6",
   "metadata": {},
   "source": [
    "Instead of just showing you these diagrams, I'm showing you in this notebook how I make them.\n",
    "This is part of our \"reproducible computing\" approach; always generating all our figures from code."
   ]
  },
  {
   "cell_type": "markdown",
   "id": "bb2f5628",
   "metadata": {},
   "source": [
    "Here's some quick code in the Notebook to download and display an MSC illustration, using the Web Sequence Diagrams API:"
   ]
  },
  {
   "cell_type": "code",
   "execution_count": null,
   "id": "50a1152b",
   "metadata": {
    "jupyter": {
     "outputs_hidden": false
    }
   },
   "outputs": [],
   "source": [
    "%%writefile wsd.py\n",
    "import requests\n",
    "import re\n",
    "import IPython\n",
    "\n",
    "def wsd(code):\n",
    "    response = requests.post(\"http://www.websequencediagrams.com/index.php\", data={\n",
    "            'message': code,\n",
    "            'apiVersion': 1,\n",
    "        })\n",
    "    expr = re.compile(\"(\\?(img|pdf|png|svg)=[a-zA-Z0-9]+)\")\n",
    "    m = expr.search(response.text)\n",
    "    if m == None:\n",
    "        print(\"Invalid response from server.\")\n",
    "        return False\n",
    "                            \n",
    "    image=requests.get(\"http://www.websequencediagrams.com/\" + m.group(0))\n",
    "    return IPython.core.display.Image(image.content)"
   ]
  },
  {
   "cell_type": "code",
   "execution_count": null,
   "id": "c3327f94",
   "metadata": {
    "jupyter": {
     "outputs_hidden": false
    }
   },
   "outputs": [],
   "source": [
    "from wsd import wsd\n",
    "%matplotlib inline\n",
    "wsd(\"Sender->Recipient: Hello\\n Recipient->Sender: Message received OK\")"
   ]
  },
  {
   "cell_type": "markdown",
   "id": "da635bcc",
   "metadata": {},
   "source": [
    "### The Levels of Git"
   ]
  },
  {
   "cell_type": "markdown",
   "id": "44d0638d",
   "metadata": {},
   "source": [
    "Let's make ourselves a sequence chart to show the different aspects of Git we've seen so far:"
   ]
  },
  {
   "cell_type": "code",
   "execution_count": null,
   "id": "f4f1420b",
   "metadata": {
    "jupyter": {
     "outputs_hidden": false
    }
   },
   "outputs": [],
   "source": [
    "message=\"\"\"\n",
    "Working Directory -> Staging Area : git add\n",
    "Staging Area -> Local Repository : git commit\n",
    "Working Directory -> Local Repository : git commit -a\n",
    "\"\"\"\n",
    "wsd(message)"
   ]
  },
  {
   "cell_type": "markdown",
   "id": "92e8a072",
   "metadata": {},
   "source": [
    "### Review of status"
   ]
  },
  {
   "cell_type": "code",
   "execution_count": null,
   "id": "3cff2437",
   "metadata": {
    "attributes": {
     "classes": [
      " Bash"
     ],
     "id": ""
    },
    "jupyter": {
     "outputs_hidden": false
    }
   },
   "outputs": [],
   "source": [
    "%%bash\n",
    "git status"
   ]
  },
  {
   "cell_type": "code",
   "execution_count": null,
   "id": "698748ca",
   "metadata": {
    "jupyter": {
     "outputs_hidden": false
    }
   },
   "outputs": [],
   "source": [
    "%%bash\n",
    "git commit -m \"Add a lie about a mountain\""
   ]
  },
  {
   "cell_type": "code",
   "execution_count": null,
   "id": "445ecc48",
   "metadata": {
    "attributes": {
     "classes": [
      " Bash"
     ],
     "id": ""
    },
    "jupyter": {
     "outputs_hidden": false
    }
   },
   "outputs": [],
   "source": [
    "%%bash\n",
    "git log"
   ]
  },
  {
   "cell_type": "markdown",
   "id": "44aa5eba",
   "metadata": {},
   "source": [
    "Great, we now have a file which contains a mistake."
   ]
  },
  {
   "cell_type": "markdown",
   "id": "ecc4aa5f",
   "metadata": {},
   "source": [
    "### Carry on regardless\n",
    "\n",
    "In a while, we'll use Git to roll back to the last correct version: this is one of the main reasons we wanted to use version control, after all! But for now, let's do just as we would if we were writing code, not notice our mistake and keep working..."
   ]
  },
  {
   "cell_type": "markdown",
   "id": "5b925b41",
   "metadata": {},
   "source": [
    "```bash\n",
    "nano index.md\n",
    "```"
   ]
  },
  {
   "cell_type": "code",
   "execution_count": null,
   "id": "212f136f",
   "metadata": {
    "jupyter": {
     "outputs_hidden": false
    },
    "lines_to_next_cell": 2
   },
   "outputs": [],
   "source": [
    "%%writefile index.md\n",
    "Mountains and Hills in the UK   \n",
    "===================   \n",
    "England is not very mountainous.   \n",
    "But has some tall hills, and maybe a mountain or two depending on your definition.\n",
    "\n",
    "Mount Fictional, in Barsetshire, U.K. is the tallest mountain in the world."
   ]
  },
  {
   "cell_type": "code",
   "execution_count": null,
   "id": "338b94bc",
   "metadata": {
    "attributes": {
     "classes": [
      " Bash"
     ],
     "id": ""
    },
    "jupyter": {
     "outputs_hidden": false
    }
   },
   "outputs": [],
   "source": [
    "cat index.md"
   ]
  },
  {
   "cell_type": "markdown",
   "id": "c243a691",
   "metadata": {},
   "source": [
    "### Commit with a built-in-add"
   ]
  },
  {
   "cell_type": "code",
   "execution_count": null,
   "id": "8b3cfe2a",
   "metadata": {
    "jupyter": {
     "outputs_hidden": false
    }
   },
   "outputs": [],
   "source": [
    "%%bash\n",
    "git commit -am \"Change title\""
   ]
  },
  {
   "cell_type": "markdown",
   "id": "b652d0fa",
   "metadata": {},
   "source": [
    "This last command, `git commit -a` automatically adds changes to all tracked files to the staging area, as part of the commit command. So, if you never want to just add changes to some tracked files but not others, you can just use this and forget about the staging area!"
   ]
  },
  {
   "cell_type": "markdown",
   "id": "73ccc0f1",
   "metadata": {},
   "source": [
    "### Review of changes"
   ]
  },
  {
   "cell_type": "code",
   "execution_count": null,
   "id": "24d79287",
   "metadata": {
    "attributes": {
     "classes": [
      " Bash"
     ],
     "id": ""
    },
    "jupyter": {
     "outputs_hidden": false
    }
   },
   "outputs": [],
   "source": [
    "%%bash\n",
    "git log | head"
   ]
  },
  {
   "cell_type": "markdown",
   "id": "0ca0e2d9",
   "metadata": {},
   "source": [
    "We now have three changes in the history:"
   ]
  },
  {
   "cell_type": "code",
   "execution_count": null,
   "id": "54e615e1",
   "metadata": {
    "attributes": {
     "classes": [
      " Bash"
     ],
     "id": ""
    },
    "jupyter": {
     "outputs_hidden": false
    }
   },
   "outputs": [],
   "source": [
    "%%bash\n",
    "git log --oneline"
   ]
  },
  {
   "cell_type": "markdown",
   "id": "118407f3",
   "metadata": {},
   "source": [
    "### Git Solo Workflow"
   ]
  },
  {
   "cell_type": "markdown",
   "id": "f563a4d1",
   "metadata": {},
   "source": [
    "We can make a diagram that summarises the above story:"
   ]
  },
  {
   "cell_type": "code",
   "execution_count": null,
   "id": "7f0fb551",
   "metadata": {
    "jupyter": {
     "outputs_hidden": false
    }
   },
   "outputs": [],
   "source": [
    "message=\"\"\"\n",
    "participant \"Cleese's repo\" as R\n",
    "participant \"Cleese's index\" as I\n",
    "participant Cleese as C\n",
    "\n",
    "note right of C: nano index.md\n",
    "\n",
    "note right of C: git init\n",
    "C->R: create\n",
    "\n",
    "note right of C: git add index.md\n",
    "\n",
    "C->I: Add content of index.md\n",
    "\n",
    "note right of C: git commit\n",
    "I->R: Commit content of index.md\n",
    "\n",
    "note right of C:  nano index.md\n",
    "\n",
    "note right of C: git add --update\n",
    "C->I: Add content of index.md\n",
    "note right of C: git commit -m \"Add a lie\"\n",
    "I->R: Commit change to index.md\n",
    "\n",
    "note right of C:  nano index.md\n",
    "note right of C: git commit -am \"Change title\"\n",
    "C->R: Add and commit change to index.md (and all tracked files)\n",
    "\"\"\"\n",
    "wsd(message)"
   ]
  }
 ],
 "metadata": {
  "jekyll": {
   "display_name": "Solo Git"
  },
  "jupytext": {
   "main_language": "python",
   "notebook_metadata_filter": "-kernelspec,jupytext,jekyll"
  }
 },
 "nbformat": 4,
 "nbformat_minor": 5
}