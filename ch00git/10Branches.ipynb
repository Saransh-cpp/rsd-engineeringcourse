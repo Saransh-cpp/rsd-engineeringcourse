{
 "cells": [
  {
   "cell_type": "markdown",
   "id": "da4f37e7",
   "metadata": {},
   "source": [
    "## Branches\n",
    "\n",
    "Branches are incredibly important to why `git` is cool and powerful.\n",
    "\n",
    "They are an easy and cheap way of making a second version of your software, which you work on in parallel,\n",
    "and pull in your changes when you are ready."
   ]
  },
  {
   "cell_type": "code",
   "execution_count": null,
   "id": "dc7f8bda",
   "metadata": {
    "jupyter": {
     "outputs_hidden": true
    }
   },
   "outputs": [],
   "source": [
    "import os\n",
    "top_dir = os.getcwd()\n",
    "git_dir = os.path.join(top_dir, 'learning_git')\n",
    "working_dir = os.path.join(git_dir, 'git_example')\n",
    "os.chdir(working_dir)"
   ]
  },
  {
   "cell_type": "code",
   "execution_count": null,
   "id": "9db1100c",
   "metadata": {
    "attributes": {
     "classes": [
      " Bash"
     ],
     "id": ""
    },
    "jupyter": {
     "outputs_hidden": false
    }
   },
   "outputs": [],
   "source": [
    "%%bash\n",
    "git branch # Tell me what branches exist"
   ]
  },
  {
   "cell_type": "code",
   "execution_count": null,
   "id": "e8133aeb",
   "metadata": {
    "jupyter": {
     "outputs_hidden": false
    }
   },
   "outputs": [],
   "source": [
    "%%bash\n",
    "git switch -c experiment # Make a new branch (use instead `checkout -b` if you have a version of git older than 2.23)"
   ]
  },
  {
   "cell_type": "code",
   "execution_count": null,
   "id": "ed317320",
   "metadata": {
    "jupyter": {
     "outputs_hidden": false
    }
   },
   "outputs": [],
   "source": [
    "%%bash\n",
    "git branch"
   ]
  },
  {
   "cell_type": "code",
   "execution_count": null,
   "id": "fcf25bae",
   "metadata": {},
   "outputs": [],
   "source": [
    "%%writefile Wales.md\n",
    "Mountains In Wales\n",
    "==================\n",
    "\n",
    "* Pen y Fan\n",
    "* Tryfan\n",
    "* Snowdon\n",
    "* Glyder Fawr\n",
    "* Fan y Big\n",
    "* Cadair Idris"
   ]
  },
  {
   "cell_type": "code",
   "execution_count": null,
   "id": "21d864a2",
   "metadata": {},
   "outputs": [],
   "source": [
    "%%bash\n",
    "git commit -am \"Add Cadair Idris\""
   ]
  },
  {
   "cell_type": "code",
   "execution_count": null,
   "id": "c0dd7592",
   "metadata": {
    "attributes": {
     "classes": [
      " Bash"
     ],
     "id": ""
    },
    "jupyter": {
     "outputs_hidden": false
    }
   },
   "outputs": [],
   "source": [
    "%%bash\n",
    "git switch main # Switch to an existing branch (use `checkout` if you are using git older than 2.23)"
   ]
  },
  {
   "cell_type": "code",
   "execution_count": null,
   "id": "151ff2f4",
   "metadata": {
    "jupyter": {
     "outputs_hidden": false
    }
   },
   "outputs": [],
   "source": [
    "%%bash\n",
    "cat Wales.md"
   ]
  },
  {
   "cell_type": "code",
   "execution_count": null,
   "id": "454f39b3",
   "metadata": {
    "jupyter": {
     "outputs_hidden": false
    }
   },
   "outputs": [],
   "source": [
    "%%bash\n",
    "git switch experiment"
   ]
  },
  {
   "cell_type": "code",
   "execution_count": null,
   "id": "537b6e28",
   "metadata": {
    "jupyter": {
     "outputs_hidden": false
    }
   },
   "outputs": [],
   "source": [
    "cat Wales.md"
   ]
  },
  {
   "cell_type": "markdown",
   "id": "59a205ad",
   "metadata": {},
   "source": [
    "### Publishing branches\n",
    "\n",
    "To let the server know there's a new branch use:"
   ]
  },
  {
   "cell_type": "code",
   "execution_count": null,
   "id": "6f3b28ff",
   "metadata": {
    "jupyter": {
     "outputs_hidden": false
    }
   },
   "outputs": [],
   "source": [
    "%%bash\n",
    "git push -u origin experiment"
   ]
  },
  {
   "cell_type": "markdown",
   "id": "6133ca79",
   "metadata": {},
   "source": [
    "We use `--set-upstream origin` (Abbreviation `-u`) to tell git that this branch should be pushed to and pulled from origin per default.\n",
    "\n",
    "If you are following along, you should be able to see your branch in the list of branches in GitHub."
   ]
  },
  {
   "cell_type": "markdown",
   "id": "733259ae",
   "metadata": {},
   "source": [
    "Once you've used `git push -u` once, you can push new changes to the branch with just a git push."
   ]
  },
  {
   "cell_type": "markdown",
   "id": "c9b4414e",
   "metadata": {},
   "source": [
    "If others checkout your repository, they will be able to do `git switch experiment` to see your branch content,\n",
    "and collaborate with you **in the branch**."
   ]
  },
  {
   "cell_type": "code",
   "execution_count": null,
   "id": "d164fa96",
   "metadata": {
    "jupyter": {
     "outputs_hidden": false
    }
   },
   "outputs": [],
   "source": [
    "%%bash\n",
    "git branch -r"
   ]
  },
  {
   "cell_type": "markdown",
   "id": "8f3295a0",
   "metadata": {},
   "source": [
    "Local branches can be, but do not have to be, connected to remote branches\n",
    "They are said to \"track\" remote branches. `push -u` sets up the tracking relationship.\n",
    "You can see the remote branch for each of your local branches if you ask for \"verbose\" output from `git branch`:"
   ]
  },
  {
   "cell_type": "code",
   "execution_count": null,
   "id": "9feed6de",
   "metadata": {
    "jupyter": {
     "outputs_hidden": false
    }
   },
   "outputs": [],
   "source": [
    "%%bash\n",
    "git branch -vv"
   ]
  },
  {
   "cell_type": "markdown",
   "id": "85edbd70",
   "metadata": {},
   "source": [
    "### Find out what is on a branch\n",
    "\n",
    "In addition to using `git diff` to compare to the state of a branch,\n",
    "you can use `git log` to look at lists of commits which are in a branch\n",
    "and haven't been merged yet."
   ]
  },
  {
   "cell_type": "code",
   "execution_count": null,
   "id": "7186feb8",
   "metadata": {
    "jupyter": {
     "outputs_hidden": false
    }
   },
   "outputs": [],
   "source": [
    "%%bash\n",
    "git log main..experiment"
   ]
  },
  {
   "cell_type": "markdown",
   "id": "e04a7ec3",
   "metadata": {},
   "source": [
    "Git uses various symbols to refer to sets of commits.\n",
    "The double dot `A..B` means \"ancestor of B and not ancestor of A\"\n",
    "\n",
    "So in a purely linear sequence, it does what you'd expect."
   ]
  },
  {
   "cell_type": "code",
   "execution_count": null,
   "id": "25d77911",
   "metadata": {
    "jupyter": {
     "outputs_hidden": false
    }
   },
   "outputs": [],
   "source": [
    "%%bash\n",
    "git log --graph --oneline HEAD~9..HEAD~5"
   ]
  },
  {
   "cell_type": "markdown",
   "id": "2b94470c",
   "metadata": {},
   "source": [
    "But in cases where a history has branches,\n",
    "the definition in terms of ancestors is important."
   ]
  },
  {
   "cell_type": "code",
   "execution_count": null,
   "id": "f6cb1635",
   "metadata": {
    "jupyter": {
     "outputs_hidden": false
    }
   },
   "outputs": [],
   "source": [
    "%%bash\n",
    "git log --graph --oneline HEAD~5..HEAD"
   ]
  },
  {
   "cell_type": "markdown",
   "id": "396ba809",
   "metadata": {},
   "source": [
    "If there are changes on both sides, like this:"
   ]
  },
  {
   "cell_type": "code",
   "execution_count": null,
   "id": "36493cfe",
   "metadata": {
    "jupyter": {
     "outputs_hidden": false
    }
   },
   "outputs": [],
   "source": [
    "%%bash\n",
    "git switch main"
   ]
  },
  {
   "cell_type": "code",
   "execution_count": null,
   "id": "0cf9ff90",
   "metadata": {
    "jupyter": {
     "outputs_hidden": false
    },
    "lines_to_next_cell": 2
   },
   "outputs": [],
   "source": [
    "%%writefile Scotland.md\n",
    "Mountains In Scotland\n",
    "==================\n",
    "\n",
    "* Ben Eighe\n",
    "* Cairngorm\n",
    "* Aonach Eagach"
   ]
  },
  {
   "cell_type": "code",
   "execution_count": null,
   "id": "8556e44f",
   "metadata": {
    "jupyter": {
     "outputs_hidden": false
    }
   },
   "outputs": [],
   "source": [
    "%%bash\n",
    "git diff Scotland.md"
   ]
  },
  {
   "cell_type": "code",
   "execution_count": null,
   "id": "d22aa63a",
   "metadata": {
    "jupyter": {
     "outputs_hidden": false
    }
   },
   "outputs": [],
   "source": [
    "%%bash\n",
    "git commit -am \"Commit Aonach onto main branch\""
   ]
  },
  {
   "cell_type": "markdown",
   "id": "1363c37a",
   "metadata": {},
   "source": [
    "Then this notation is useful to show the content of what's on what branch:"
   ]
  },
  {
   "cell_type": "code",
   "execution_count": null,
   "id": "4efe8be8",
   "metadata": {
    "jupyter": {
     "outputs_hidden": false
    }
   },
   "outputs": [],
   "source": [
    "%%bash\n",
    "git log --left-right --oneline main...experiment"
   ]
  },
  {
   "cell_type": "markdown",
   "id": "bce0a851",
   "metadata": {},
   "source": [
    "Three dots means \"everything which is not a common ancestor\" of the two commits, i.e. the differences between them."
   ]
  },
  {
   "cell_type": "markdown",
   "id": "2a0712d5",
   "metadata": {},
   "source": [
    "### Merging branches"
   ]
  },
  {
   "cell_type": "markdown",
   "id": "819d6e59",
   "metadata": {},
   "source": [
    "We can merge branches, and just as we would pull in remote changes, there may or may not be conflicts."
   ]
  },
  {
   "cell_type": "code",
   "execution_count": null,
   "id": "4a5dc41b",
   "metadata": {
    "jupyter": {
     "outputs_hidden": false
    }
   },
   "outputs": [],
   "source": [
    "%%bash\n",
    "git branch\n",
    "git merge experiment"
   ]
  },
  {
   "cell_type": "code",
   "execution_count": null,
   "id": "467d1b7b",
   "metadata": {
    "jupyter": {
     "outputs_hidden": false
    }
   },
   "outputs": [],
   "source": [
    "%%bash\n",
    "git log --graph --oneline HEAD~3..HEAD"
   ]
  },
  {
   "cell_type": "markdown",
   "id": "f10e18ac",
   "metadata": {},
   "source": [
    "### Cleaning up after a branch"
   ]
  },
  {
   "cell_type": "code",
   "execution_count": null,
   "id": "5111dc69",
   "metadata": {
    "jupyter": {
     "outputs_hidden": false
    }
   },
   "outputs": [],
   "source": [
    "%%bash\n",
    "git branch"
   ]
  },
  {
   "cell_type": "code",
   "execution_count": null,
   "id": "df0b1ffb",
   "metadata": {
    "jupyter": {
     "outputs_hidden": false
    }
   },
   "outputs": [],
   "source": [
    "%%bash\n",
    "git branch -d experiment"
   ]
  },
  {
   "cell_type": "code",
   "execution_count": null,
   "id": "0ff75eb4",
   "metadata": {
    "jupyter": {
     "outputs_hidden": false
    }
   },
   "outputs": [],
   "source": [
    "%%bash\n",
    "git branch"
   ]
  },
  {
   "cell_type": "code",
   "execution_count": null,
   "id": "51270803",
   "metadata": {
    "jupyter": {
     "outputs_hidden": false
    }
   },
   "outputs": [],
   "source": [
    "%%bash\n",
    "git branch --remote"
   ]
  },
  {
   "cell_type": "code",
   "execution_count": null,
   "id": "6cce6816",
   "metadata": {
    "jupyter": {
     "outputs_hidden": false
    }
   },
   "outputs": [],
   "source": [
    "%%bash\n",
    "git push --delete origin experiment \n",
    "# Remove remote branch \n",
    "# - also can use github interface"
   ]
  },
  {
   "cell_type": "code",
   "execution_count": null,
   "id": "d458d077",
   "metadata": {
    "jupyter": {
     "outputs_hidden": false
    }
   },
   "outputs": [],
   "source": [
    "%%bash\n",
    "git branch --remote"
   ]
  },
  {
   "cell_type": "markdown",
   "id": "34cb0d75",
   "metadata": {},
   "source": [
    "### A good branch strategy\n",
    "\n",
    "* A `develop` or `main` branch: for general new code - (the cutting edge version of your software)\n",
    "* `feature` branches: for specific new ideas. Normally branched out from `main`.\n",
    "* `release` branches: when you share code with users. A particular moment of the `develop` process that it's considered stable.\n",
    "  * Useful for including security and bug patches once it's been released.\n",
    "* A `production` branch: code used for active work. Normally it's the same than the latest release."
   ]
  },
  {
   "cell_type": "markdown",
   "id": "a88ecde4",
   "metadata": {},
   "source": [
    "### Grab changes from a branch\n",
    "\n",
    "Make some changes on one branch, switch back to another, and use:"
   ]
  },
  {
   "cell_type": "markdown",
   "id": "c974c702",
   "metadata": {
    "attributes": {
     "classes": [
      " bash"
     ],
     "id": ""
    }
   },
   "source": [
    "```bash\n",
    "git checkout <branch> <path>\n",
    "```"
   ]
  },
  {
   "cell_type": "markdown",
   "id": "505b94f4",
   "metadata": {},
   "source": [
    "to quickly grab a file from one branch into another. This will create a copy of the file as it exists in `<branch>` into your current branch, overwriting it if it already existed.\n",
    "For example, if you have been experimenting in a new branch but want to undo all your changes to a particular file (that is, restore the file to its version in the `main` branch), you can do that with:\n",
    "\n",
    "```\n",
    "git checkout main test_file\n",
    "```\n",
    "\n",
    "Using `git checkout` with a path takes the content of files.\n",
    "To grab the content of a specific *commit* from another branch,\n",
    "and apply it as a patch to your branch, use:"
   ]
  },
  {
   "cell_type": "markdown",
   "id": "341a360f",
   "metadata": {},
   "source": [
    "``` bash\n",
    "git cherry-pick <commit>\n",
    "```"
   ]
  }
 ],
 "metadata": {
  "jekyll": {
   "display_name": "Branches"
  },
  "jupytext": {
   "main_language": "python",
   "notebook_metadata_filter": "-kernelspec,jupytext,jekyll"
  }
 },
 "nbformat": 4,
 "nbformat_minor": 5
}