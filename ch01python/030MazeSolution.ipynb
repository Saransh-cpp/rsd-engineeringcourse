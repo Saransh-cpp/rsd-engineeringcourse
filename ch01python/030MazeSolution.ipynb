{
 "cells": [
  {
   "cell_type": "markdown",
   "id": "1c64cf47",
   "metadata": {},
   "source": [
    "### Solution: my Maze Model"
   ]
  },
  {
   "cell_type": "markdown",
   "id": "92b37c0d",
   "metadata": {},
   "source": [
    "Here's one possible solution to the Maze model. Yours will probably be different, and might be just as good.\n",
    "That's the artistry of software engineering: some solutions will be faster, others use less memory, while others will\n",
    "be easier for other people to understand. Optimising and balancing these factors is fun!"
   ]
  },
  {
   "cell_type": "code",
   "execution_count": null,
   "id": "6a64ae53",
   "metadata": {},
   "outputs": [],
   "source": [
    "house = {\n",
    "    'living' : {\n",
    "        'exits': {\n",
    "            'north' : 'kitchen',\n",
    "            'outside' : 'garden',\n",
    "            'upstairs' : 'bedroom'\n",
    "        },\n",
    "        'people' : ['Graham'],\n",
    "        'capacity' : 2\n",
    "    },\n",
    "    'kitchen' : {\n",
    "        'exits': {\n",
    "            'south' : 'living'\n",
    "        },\n",
    "        'people' : [],\n",
    "        'capacity' : 1\n",
    "    },\n",
    "    'garden' : {\n",
    "        'exits': {\n",
    "            'inside' : 'living'\n",
    "        },\n",
    "        'people' : ['David'],\n",
    "        'capacity' : 3\n",
    "    },\n",
    "    'bedroom' : {\n",
    "        'exits': {\n",
    "            'downstairs' : 'living',\n",
    "            'jump' : 'garden'\n",
    "        },\n",
    "        'people' : [],\n",
    "        'capacity' : 1\n",
    "    }\n",
    "}"
   ]
  },
  {
   "cell_type": "markdown",
   "id": "51d42aa6",
   "metadata": {},
   "source": [
    "Some important points:"
   ]
  },
  {
   "cell_type": "markdown",
   "id": "45ccb9d4",
   "metadata": {},
   "source": [
    "* The whole solution is a complete nested structure.\n",
    "* I used indenting to make the structure easier to read.\n",
    "* Python allows code to continue over multiple lines, so long as sets of brackets are not finished.\n",
    "* There is an **empty** person list in empty rooms, so the type structure is robust to potential movements of people.\n",
    "* We are nesting dictionaries and lists, with string and integer data."
   ]
  }
 ],
 "metadata": {
  "jekyll": {
   "display_name": "Maze Solution"
  },
  "jupytext": {
   "main_language": "python",
   "notebook_metadata_filter": "-kernelspec,jupytext,jekyll"
  }
 },
 "nbformat": 4,
 "nbformat_minor": 5
}