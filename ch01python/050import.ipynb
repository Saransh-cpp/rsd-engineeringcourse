{
 "cells": [
  {
   "cell_type": "markdown",
   "id": "32244e6f",
   "metadata": {},
   "source": [
    "## Using Libraries"
   ]
  },
  {
   "cell_type": "markdown",
   "id": "004302b9",
   "metadata": {},
   "source": [
    "### Import"
   ]
  },
  {
   "cell_type": "markdown",
   "id": "ac84441e",
   "metadata": {},
   "source": [
    "To use a function or type from a python library, rather than a **built-in** function or type, we have to import the library."
   ]
  },
  {
   "cell_type": "code",
   "execution_count": null,
   "id": "0779731d",
   "metadata": {},
   "outputs": [],
   "source": [
    "math.sin(1.6)"
   ]
  },
  {
   "cell_type": "code",
   "execution_count": null,
   "id": "77e1dbea",
   "metadata": {},
   "outputs": [],
   "source": [
    "import math"
   ]
  },
  {
   "cell_type": "code",
   "execution_count": null,
   "id": "a4656f56",
   "metadata": {},
   "outputs": [],
   "source": [
    "math.sin(1.6)"
   ]
  },
  {
   "cell_type": "markdown",
   "id": "1ca8da83",
   "metadata": {},
   "source": [
    "We call these libraries **modules**:"
   ]
  },
  {
   "cell_type": "code",
   "execution_count": null,
   "id": "140c966d",
   "metadata": {},
   "outputs": [],
   "source": [
    "type(math)"
   ]
  },
  {
   "cell_type": "markdown",
   "id": "960b426b",
   "metadata": {},
   "source": [
    "The tools supplied by a module are *attributes* of the module, and as such, are accessed with a dot."
   ]
  },
  {
   "cell_type": "code",
   "execution_count": null,
   "id": "dafe381b",
   "metadata": {},
   "outputs": [],
   "source": [
    "dir(math)"
   ]
  },
  {
   "cell_type": "markdown",
   "id": "ce0325be",
   "metadata": {},
   "source": [
    "They include properties as well as functions:"
   ]
  },
  {
   "cell_type": "code",
   "execution_count": null,
   "id": "1c772023",
   "metadata": {},
   "outputs": [],
   "source": [
    "math.pi"
   ]
  },
  {
   "cell_type": "markdown",
   "id": "911b8a6a",
   "metadata": {},
   "source": [
    "You can always find out where on your storage medium a library has been imported from:"
   ]
  },
  {
   "cell_type": "code",
   "execution_count": null,
   "id": "2fca5596",
   "metadata": {},
   "outputs": [],
   "source": [
    "print(math.__file__[0:50])\n",
    "print(math.__file__[50:])"
   ]
  },
  {
   "cell_type": "markdown",
   "id": "04baddab",
   "metadata": {},
   "source": [
    "Note that `import` does *not* install libraries. It just makes them available to your current notebook session, assuming they are already installed. Installing libraries is harder, and we'll cover it later.\n",
    "So what libraries are available? Until you install more, you might have just the modules that come with Python, the *standard library*."
   ]
  },
  {
   "cell_type": "markdown",
   "id": "804867f4",
   "metadata": {},
   "source": [
    "**Supplementary Materials**: Review the [list of standard library modules](https://docs.python.org/library/)."
   ]
  },
  {
   "cell_type": "markdown",
   "id": "61920b3f",
   "metadata": {},
   "source": [
    "If you installed via Anaconda, then you also have access to a bunch of modules that are commonly used in research.\n",
    "\n",
    "**Supplementary Materials**: Review the [list of modules that are packaged with Anaconda by default on different architectures](https://docs.anaconda.com/anaconda/packages/pkg-docs/) (modules installed by default are shown with ticks).\n",
    "\n",
    "We'll see later how to add more libraries to our setup."
   ]
  },
  {
   "cell_type": "markdown",
   "id": "e76819f8",
   "metadata": {},
   "source": [
    "### Why bother?"
   ]
  },
  {
   "cell_type": "markdown",
   "id": "74fb3201",
   "metadata": {},
   "source": [
    "Why bother with modules? Why not just have everything available all the time?\n",
    "\n",
    "The answer is that there are only so many names available! Without a module system, every time I made a variable whose name matched a function in a library, I'd lose access to it. In the olden days, people ended up having to make really long variable names, thinking their names would be unique, and they still ended up with \"name clashes\". The module mechanism avoids this."
   ]
  },
  {
   "cell_type": "markdown",
   "id": "f14990a5",
   "metadata": {},
   "source": [
    "### Importing from modules"
   ]
  },
  {
   "cell_type": "markdown",
   "id": "a377d342",
   "metadata": {},
   "source": [
    "Still, it can be annoying to have to write `math.sin(math.pi)` instead of `sin(pi)`.\n",
    "Things can be imported *from* modules to become part of the current module:"
   ]
  },
  {
   "cell_type": "code",
   "execution_count": null,
   "id": "f777a6b6",
   "metadata": {},
   "outputs": [],
   "source": [
    "import math\n",
    "math.sin(math.pi)"
   ]
  },
  {
   "cell_type": "code",
   "execution_count": null,
   "id": "0e8eec30",
   "metadata": {},
   "outputs": [],
   "source": [
    "from math import sin\n",
    "sin(math.pi)"
   ]
  },
  {
   "cell_type": "markdown",
   "id": "073a0d57",
   "metadata": {},
   "source": [
    "Importing one-by-one like this is a nice compromise between typing and risk of name clashes."
   ]
  },
  {
   "cell_type": "markdown",
   "id": "62fd9787",
   "metadata": {},
   "source": [
    "It *is* possible to import **everything** from a module, but you risk name clashes."
   ]
  },
  {
   "cell_type": "code",
   "execution_count": null,
   "id": "cb19a297",
   "metadata": {},
   "outputs": [],
   "source": [
    "from math import *\n",
    "sin(pi)"
   ]
  },
  {
   "cell_type": "markdown",
   "id": "558d4983",
   "metadata": {},
   "source": [
    "###  Import and rename"
   ]
  },
  {
   "cell_type": "markdown",
   "id": "f083e513",
   "metadata": {},
   "source": [
    "You can rename things as you import them to avoid clashes or for typing convenience"
   ]
  },
  {
   "cell_type": "code",
   "execution_count": null,
   "id": "326f142d",
   "metadata": {},
   "outputs": [],
   "source": [
    "import math as m\n",
    "m.cos(0)"
   ]
  },
  {
   "cell_type": "code",
   "execution_count": null,
   "id": "191c811f",
   "metadata": {},
   "outputs": [],
   "source": [
    "pi = 3\n",
    "from math import pi as realpi\n",
    "print(sin(pi), sin(realpi))"
   ]
  }
 ],
 "metadata": {
  "jekyll": {
   "display_name": "Modules"
  },
  "jupytext": {
   "main_language": "python",
   "notebook_metadata_filter": "-kernelspec,jupytext,jekyll"
  }
 },
 "nbformat": 4,
 "nbformat_minor": 5
}