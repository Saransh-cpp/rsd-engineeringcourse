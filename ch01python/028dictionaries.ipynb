{
 "cells": [
  {
   "cell_type": "markdown",
   "id": "2f1c6627",
   "metadata": {},
   "source": [
    "## Dictionaries"
   ]
  },
  {
   "cell_type": "markdown",
   "id": "abfeb535",
   "metadata": {},
   "source": [
    "### The Python Dictionary"
   ]
  },
  {
   "cell_type": "markdown",
   "id": "eb1322e1",
   "metadata": {},
   "source": [
    "Python supports a container type called a dictionary."
   ]
  },
  {
   "cell_type": "markdown",
   "id": "eece3ec3",
   "metadata": {},
   "source": [
    "This is also known as an \"associative array\", \"map\" or \"hash\" in other languages."
   ]
  },
  {
   "cell_type": "markdown",
   "id": "5c40bee6",
   "metadata": {},
   "source": [
    "In a list, we use a number to look up an element:"
   ]
  },
  {
   "cell_type": "code",
   "execution_count": null,
   "id": "bccabbcb",
   "metadata": {},
   "outputs": [],
   "source": [
    "names = \"Martin Luther King\".split(\" \")"
   ]
  },
  {
   "cell_type": "code",
   "execution_count": null,
   "id": "96354f2c",
   "metadata": {},
   "outputs": [],
   "source": [
    "names[1]"
   ]
  },
  {
   "cell_type": "markdown",
   "id": "a70eb531",
   "metadata": {},
   "source": [
    "In a dictionary, we look up an element using **another object of our choice**:"
   ]
  },
  {
   "cell_type": "code",
   "execution_count": null,
   "id": "219bf492",
   "metadata": {},
   "outputs": [],
   "source": [
    "chapman = {\"name\": \"Graham\", \"age\": 48, \n",
    "           \"Jobs\": [\"Comedian\", \"Writer\"] }"
   ]
  },
  {
   "cell_type": "code",
   "execution_count": null,
   "id": "903941fb",
   "metadata": {},
   "outputs": [],
   "source": [
    "chapman"
   ]
  },
  {
   "cell_type": "code",
   "execution_count": null,
   "id": "f57825a8",
   "metadata": {},
   "outputs": [],
   "source": [
    "chapman['Jobs']"
   ]
  },
  {
   "cell_type": "code",
   "execution_count": null,
   "id": "35bd8000",
   "metadata": {},
   "outputs": [],
   "source": [
    "chapman['age']"
   ]
  },
  {
   "cell_type": "code",
   "execution_count": null,
   "id": "64581205",
   "metadata": {},
   "outputs": [],
   "source": [
    "type(chapman)"
   ]
  },
  {
   "cell_type": "markdown",
   "id": "47cd5d59",
   "metadata": {},
   "source": [
    "### Keys and Values"
   ]
  },
  {
   "cell_type": "markdown",
   "id": "ba18781e",
   "metadata": {},
   "source": [
    "The things we can use to look up with are called **keys**:"
   ]
  },
  {
   "cell_type": "code",
   "execution_count": null,
   "id": "45462894",
   "metadata": {},
   "outputs": [],
   "source": [
    "chapman.keys()"
   ]
  },
  {
   "cell_type": "markdown",
   "id": "119e0b33",
   "metadata": {},
   "source": [
    "The things we can look up are called **values**:"
   ]
  },
  {
   "cell_type": "code",
   "execution_count": null,
   "id": "a5eebeb0",
   "metadata": {},
   "outputs": [],
   "source": [
    "chapman.values()"
   ]
  },
  {
   "cell_type": "markdown",
   "id": "03744d48",
   "metadata": {},
   "source": [
    "When we test for containment on a `dict` we test on the **keys**:"
   ]
  },
  {
   "cell_type": "code",
   "execution_count": null,
   "id": "a711ecf9",
   "metadata": {},
   "outputs": [],
   "source": [
    "'Jobs' in chapman"
   ]
  },
  {
   "cell_type": "code",
   "execution_count": null,
   "id": "cb409f92",
   "metadata": {},
   "outputs": [],
   "source": [
    "'Graham' in chapman"
   ]
  },
  {
   "cell_type": "code",
   "execution_count": null,
   "id": "2d0e20a6",
   "metadata": {},
   "outputs": [],
   "source": [
    "'Graham' in chapman.values()"
   ]
  },
  {
   "cell_type": "markdown",
   "id": "12ac14ce",
   "metadata": {},
   "source": [
    "### Immutable Keys Only"
   ]
  },
  {
   "cell_type": "markdown",
   "id": "9861805a",
   "metadata": {},
   "source": [
    "The way in which dictionaries work is one of the coolest things in computer science:\n",
    "the \"hash table\". The details of this are beyond the scope of this course, but we will consider some aspects in the section on performance programming. \n",
    "\n",
    "One consequence of this implementation is that you can only use **immutable** things as keys."
   ]
  },
  {
   "cell_type": "code",
   "execution_count": null,
   "id": "39efd7d4",
   "metadata": {},
   "outputs": [],
   "source": [
    "good_match = {\n",
    "    (\"Lamb\", \"Mint\"): True, \n",
    "    (\"Bacon\", \"Chocolate\"): False\n",
    "   }"
   ]
  },
  {
   "cell_type": "markdown",
   "id": "c4eb3933",
   "metadata": {},
   "source": [
    "but:"
   ]
  },
  {
   "cell_type": "code",
   "execution_count": null,
   "id": "e2a6d567",
   "metadata": {},
   "outputs": [],
   "source": [
    "illegal = {\n",
    "    [\"Lamb\", \"Mint\"]: True, \n",
    "    [\"Bacon\", \"Chocolate\"]: False\n",
    "   }"
   ]
  },
  {
   "cell_type": "markdown",
   "id": "a5327ee1",
   "metadata": {},
   "source": [
    "Remember -- square brackets denote lists, round brackets denote `tuple`s."
   ]
  },
  {
   "cell_type": "markdown",
   "id": "e65ef439",
   "metadata": {},
   "source": [
    "### No guarantee of order (before Python 3.7)"
   ]
  },
  {
   "cell_type": "markdown",
   "id": "a8c82ca6",
   "metadata": {},
   "source": [
    "\n",
    "Another consequence of the way dictionaries used to work is that there was no guaranteed order among the\n",
    "elements. However, since Python 3.7, it's guaranteed that dictionaries return elements in the order in which they were inserted. Read more about [why that changed and how it is still fast](https://stackoverflow.com/a/39980744/1087595).\n",
    "\n",
    "\n"
   ]
  },
  {
   "cell_type": "code",
   "execution_count": null,
   "id": "71ff7e17",
   "metadata": {},
   "outputs": [],
   "source": [
    "my_dict = {'0': 0, '1':1, '2': 2, '3': 3, '4': 4}\n",
    "print(my_dict)\n",
    "print(my_dict.values())"
   ]
  },
  {
   "cell_type": "markdown",
   "id": "4af53ff7",
   "metadata": {},
   "source": [
    "### Sets"
   ]
  },
  {
   "cell_type": "markdown",
   "id": "1efe557c",
   "metadata": {},
   "source": [
    "A set is a `list` which cannot contain the same element twice.\n",
    "We make one by calling `set()` on any sequence, e.g. a list or string."
   ]
  },
  {
   "cell_type": "code",
   "execution_count": null,
   "id": "c09aa9a3",
   "metadata": {},
   "outputs": [],
   "source": [
    "name = \"Graham Chapman\"\n",
    "unique_letters = set(name)"
   ]
  },
  {
   "cell_type": "code",
   "execution_count": null,
   "id": "61d02e2d",
   "metadata": {},
   "outputs": [],
   "source": [
    "unique_letters"
   ]
  },
  {
   "cell_type": "markdown",
   "id": "9c1afe6d",
   "metadata": {},
   "source": [
    "Or by defining a literal like a dictionary, but without the colons:"
   ]
  },
  {
   "cell_type": "code",
   "execution_count": null,
   "id": "76061b6b",
   "metadata": {},
   "outputs": [],
   "source": [
    "primes_below_ten = { 2, 3, 5, 7}"
   ]
  },
  {
   "cell_type": "code",
   "execution_count": null,
   "id": "93f2ebab",
   "metadata": {},
   "outputs": [],
   "source": [
    "type(unique_letters)"
   ]
  },
  {
   "cell_type": "code",
   "execution_count": null,
   "id": "70dbc648",
   "metadata": {},
   "outputs": [],
   "source": [
    "type(primes_below_ten)"
   ]
  },
  {
   "cell_type": "code",
   "execution_count": null,
   "id": "13c70278",
   "metadata": {},
   "outputs": [],
   "source": [
    "unique_letters"
   ]
  },
  {
   "cell_type": "markdown",
   "id": "9196fecc",
   "metadata": {},
   "source": [
    "This will be easier to read if we turn the set of letters back into a string, with `join`:"
   ]
  },
  {
   "cell_type": "code",
   "execution_count": null,
   "id": "520c30d4",
   "metadata": {},
   "outputs": [],
   "source": [
    "\"\".join(unique_letters)"
   ]
  },
  {
   "cell_type": "markdown",
   "id": "21170f39",
   "metadata": {},
   "source": [
    "A set has no particular order, but is really useful for checking or storing **unique** values."
   ]
  },
  {
   "cell_type": "markdown",
   "id": "82a7af4e",
   "metadata": {},
   "source": [
    "Set operations work as in mathematics:"
   ]
  },
  {
   "cell_type": "code",
   "execution_count": null,
   "id": "2790a219",
   "metadata": {},
   "outputs": [],
   "source": [
    "x = set(\"Hello\")\n",
    "y = set(\"Goodbye\")"
   ]
  },
  {
   "cell_type": "code",
   "execution_count": null,
   "id": "ecdec93b",
   "metadata": {},
   "outputs": [],
   "source": [
    "x & y # Intersection"
   ]
  },
  {
   "cell_type": "code",
   "execution_count": null,
   "id": "a32360a5",
   "metadata": {},
   "outputs": [],
   "source": [
    "x | y # Union"
   ]
  },
  {
   "cell_type": "code",
   "execution_count": null,
   "id": "a890c7b4",
   "metadata": {},
   "outputs": [],
   "source": [
    "y - x # y intersection with complement of x: letters in Goodbye but not in Hello"
   ]
  },
  {
   "cell_type": "markdown",
   "id": "bb1af6c3",
   "metadata": {},
   "source": [
    "Your programs will be faster and more readable if you use the appropriate container type for your data's meaning.\n",
    "Always use a set for lists which can't in principle contain the same data twice, always use a dictionary for anything\n",
    "which feels like a mapping from keys to values."
   ]
  }
 ],
 "metadata": {
  "jekyll": {
   "display_name": "Dictionaries"
  },
  "jupytext": {
   "main_language": "python",
   "notebook_metadata_filter": "-kernelspec,jupytext,jekyll"
  }
 },
 "nbformat": 4,
 "nbformat_minor": 5
}