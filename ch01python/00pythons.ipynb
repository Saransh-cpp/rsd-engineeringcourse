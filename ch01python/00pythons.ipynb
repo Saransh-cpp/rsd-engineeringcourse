{
 "cells": [
  {
   "cell_type": "markdown",
   "id": "4c818f2c",
   "metadata": {},
   "source": [
    "# Introduction to Python"
   ]
  },
  {
   "cell_type": "markdown",
   "id": "df42647c",
   "metadata": {},
   "source": [
    "## Introduction"
   ]
  },
  {
   "cell_type": "markdown",
   "id": "497c5179",
   "metadata": {},
   "source": [
    "### Why teach Python?"
   ]
  },
  {
   "cell_type": "markdown",
   "id": "6e851867",
   "metadata": {},
   "source": [
    "\n",
    "* In this first session, we will introduce [Python](http://www.python.org).\n",
    "* This course is about programming for data analysis and visualisation in research.\n",
    "* It's not mainly about Python.\n",
    "* But we have to use some language.\n"
   ]
  },
  {
   "cell_type": "markdown",
   "id": "9eaf9495",
   "metadata": {},
   "source": [
    "### Why Python?"
   ]
  },
  {
   "cell_type": "markdown",
   "id": "c877985e",
   "metadata": {},
   "source": [
    "\n",
    "* Python is quick to program in\n",
    "* Python is popular in research, and has lots of libraries for science\n",
    "* Python interfaces well with faster languages\n",
    "* Python is free, so you'll never have a problem getting hold of it, wherever you go.\n"
   ]
  },
  {
   "cell_type": "markdown",
   "id": "6ca66d74",
   "metadata": {},
   "source": [
    "### Why write programs for research?"
   ]
  },
  {
   "cell_type": "markdown",
   "id": "a13f89f5",
   "metadata": {},
   "source": [
    "\n",
    "* Not just labour saving\n",
    "* Scripted research can be tested and reproduced\n"
   ]
  },
  {
   "cell_type": "markdown",
   "id": "9f23482a",
   "metadata": {},
   "source": [
    "### Sensible Input  - Reasonable Output"
   ]
  },
  {
   "cell_type": "markdown",
   "id": "d2bf2a03",
   "metadata": {},
   "source": [
    "Programs are a rigorous way of describing data analysis for other researchers, as well as for computers.\n",
    "\n",
    "Computational research suffers from people assuming each other's data manipulation is correct. By sharing codes,\n",
    "which are much more easy for a non-author to understand than spreadsheets, we can avoid the \"SIRO\" problem. The old saw \"Garbage in Garbage out\" is not the real problem for science:\n",
    "\n",
    "* Sensible input\n",
    "* Reasonable output\n",
    "\n"
   ]
  },
  {
   "cell_type": "markdown",
   "id": "f00d1168",
   "metadata": {},
   "source": [
    "## Many kinds of Python"
   ]
  },
  {
   "cell_type": "markdown",
   "id": "f8f0f6f1",
   "metadata": {},
   "source": [
    "### The Jupyter Notebook"
   ]
  },
  {
   "cell_type": "markdown",
   "id": "185888be",
   "metadata": {},
   "source": [
    "The easiest way to get started using Python, and one of the best for research data work, is the Jupyter Notebook."
   ]
  },
  {
   "cell_type": "markdown",
   "id": "e39d8078",
   "metadata": {},
   "source": [
    "In the notebook, you can easily mix code with discussion and commentary, and mix code with the results of that code;\n",
    "including graphs and other data visualisations."
   ]
  },
  {
   "cell_type": "code",
   "execution_count": null,
   "id": "3a220c85",
   "metadata": {},
   "outputs": [],
   "source": [
    "### Make plot\n",
    "%matplotlib inline\n",
    "import math\n",
    "\n",
    "import numpy as np\n",
    "import matplotlib.pyplot as plt\n",
    "\n",
    "theta = np.arange(0, 4 * math.pi, 0.1)\n",
    "eight = plt.figure()\n",
    "axes = eight.add_axes([0, 0, 1, 1])\n",
    "axes.plot(0.5 * np.sin(theta), np.cos(theta / 2))"
   ]
  },
  {
   "cell_type": "markdown",
   "id": "5d0885e6",
   "metadata": {},
   "source": [
    "These notes are created using Jupyter notebooks and you may want to use it during the course. However, Jupyter notebooks won't be used for most of the activities and exercises done in class. To get hold of a copy of the notebook, follow the setup instructions shown on the course website, use the installation in Desktop@UCL (available in the teaching cluster rooms or [anywhere](https://www.ucl.ac.uk/isd/services/computers/remote-access/desktopucl-anywhere)), or go clone the [repository](https://github.com/UCL/rsd-engineeringcourse) on GitHub."
   ]
  },
  {
   "cell_type": "markdown",
   "id": "c51c13cb",
   "metadata": {},
   "source": [
    "Jupyter notebooks consist of discussion cells, referred to as \"markdown cells\", and \"code cells\", which contain Python. This document has been created using Jupyter notebook, and this very cell is a **Markdown Cell**. "
   ]
  },
  {
   "cell_type": "code",
   "execution_count": null,
   "id": "7da0827e",
   "metadata": {},
   "outputs": [],
   "source": [
    "print(\"This cell is a code cell\")"
   ]
  },
  {
   "cell_type": "markdown",
   "id": "56c49174",
   "metadata": {},
   "source": [
    "Code cell inputs are numbered, and show the output below."
   ]
  },
  {
   "cell_type": "markdown",
   "id": "6c0a806e",
   "metadata": {},
   "source": [
    "Markdown cells contain text which uses a simple format to achive pretty layout, \n",
    "for example, to obtain:\n",
    "\n",
    "**bold**, *italic*\n",
    "\n",
    "* Bullet\n",
    "\n",
    "> Quote\n",
    "\n",
    "We write:\n",
    "\n",
    "    **bold**, *italic*\n",
    "\n",
    "    * Bullet\n",
    "\n",
    "    > Quote\n",
    "\n",
    "See the Markdown documentation at [This Hyperlink](http://daringfireball.net/projects/markdown/)"
   ]
  },
  {
   "cell_type": "markdown",
   "id": "d56d6806",
   "metadata": {},
   "source": [
    "### Typing code in the notebook"
   ]
  },
  {
   "cell_type": "markdown",
   "id": "aa2a8328",
   "metadata": {},
   "source": [
    "When working with the notebook, you can either be in a cell, typing its contents, or outside cells, moving around the notebook.\n",
    "\n",
    "* When in a cell, press escape to leave it. When moving around outside cells, press return to enter.\n",
    "* Outside a cell:\n",
    "  * Use arrow keys to move around.\n",
    "  * Press `b` to add a new cell below the cursor.\n",
    "  * Press `m` to turn a cell from code mode to markdown mode.\n",
    "  * Press `shift`+`enter` to calculate the code in the block.\n",
    "  * Press `h` to see a list of useful keys in the notebook.\n",
    "* Inside a cell:\n",
    "  * Press `tab` to suggest completions of variables. (Try it!)"
   ]
  },
  {
   "cell_type": "markdown",
   "id": "64ae3135",
   "metadata": {},
   "source": [
    "*Supplementary material*: Learn more about [Jupyter notebooks](https://jupyter.org/)."
   ]
  },
  {
   "cell_type": "markdown",
   "id": "fdabba3e",
   "metadata": {},
   "source": [
    "The `%%` at the beginning of a cell is called *magics*. There's a [large list of them available](https://ipython.readthedocs.io/en/stable/interactive/magics.html) and you can [create your own](http://ipython.readthedocs.io/en/stable/config/custommagics.html).\n"
   ]
  },
  {
   "cell_type": "markdown",
   "id": "65c77ab0",
   "metadata": {},
   "source": [
    "### Python at the command line"
   ]
  },
  {
   "cell_type": "markdown",
   "id": "872c937d",
   "metadata": {},
   "source": [
    "Data science experts tend to use a \"command line environment\" to work. You'll be able to learn this at our [\"Software Carpentry\" workshops](http://github-pages.arc.ucl.ac.uk/software-carpentry/), which cover other skills for computationally based research."
   ]
  },
  {
   "cell_type": "code",
   "execution_count": null,
   "id": "e0813563",
   "metadata": {},
   "outputs": [],
   "source": [
    "%%bash\n",
    "# Above line tells Python to execute this cell as *shell code*\n",
    "# not Python, as if we were in a command line\n",
    "\n",
    "python -c \"print(2 * 4)\""
   ]
  },
  {
   "cell_type": "markdown",
   "id": "b21843f7",
   "metadata": {},
   "source": [
    "### Python scripts"
   ]
  },
  {
   "cell_type": "markdown",
   "id": "f5a65835",
   "metadata": {},
   "source": [
    "Once you get good at programming, you'll  want to be able to write your own full programs in Python, which work just\n",
    "like any other program on your computer. Here are some examples:"
   ]
  },
  {
   "cell_type": "code",
   "execution_count": null,
   "id": "9ebe592a",
   "metadata": {},
   "outputs": [],
   "source": [
    "%%bash\n",
    "echo \"print(2 * 4)\" > eight.py\n",
    "python eight.py"
   ]
  },
  {
   "cell_type": "markdown",
   "id": "bad5fce7",
   "metadata": {},
   "source": [
    "We can make the script directly executable (on Linux or Mac) by inserting a [hashbang](https://en.wikipedia.org/wiki/Shebang_(Unix%29)) and [setting the permissions](http://v4.software-carpentry.org/shell/perm.html) to execute.\n",
    "\n",
    "Note, the `%%writefile` cell magic will write the contents of the cell to the file `fourteen.py`."
   ]
  },
  {
   "cell_type": "code",
   "execution_count": null,
   "id": "851b6be6",
   "metadata": {},
   "outputs": [],
   "source": [
    "%%writefile fourteen.py\n",
    "#! /usr/bin/env python\n",
    "print(2 * 7)"
   ]
  },
  {
   "cell_type": "code",
   "execution_count": null,
   "id": "9bc50648",
   "metadata": {},
   "outputs": [],
   "source": [
    "%%bash\n",
    "chmod u+x fourteen.py\n",
    "./fourteen.py"
   ]
  },
  {
   "cell_type": "markdown",
   "id": "14f7019b",
   "metadata": {},
   "source": [
    "### Python Modules"
   ]
  },
  {
   "cell_type": "markdown",
   "id": "2b414a11",
   "metadata": {},
   "source": [
    "A Python module is a file that contains a set of related functions or other code. The filename must have a `.py` extension.\n",
    "\n",
    "We can write our own Python modules that we can import and use in other scripts or even in this notebook:\n"
   ]
  },
  {
   "cell_type": "code",
   "execution_count": null,
   "id": "ecf28ae7",
   "metadata": {},
   "outputs": [],
   "source": [
    "%%writefile draw_eight.py \n",
    "# Above line tells the notebook to treat the rest of this\n",
    "# cell as content for a file on disk.\n",
    "import math\n",
    "\n",
    "import numpy as np\n",
    "import matplotlib.pyplot as plt\n",
    "\n",
    "def make_figure():\n",
    "    \"\"\"Plot a figure of eight.\"\"\"\n",
    "\n",
    "    theta = np.arange(0, 4 * math.pi, 0.1)\n",
    "    eight = plt.figure()\n",
    "    axes = eight.add_axes([0, 0, 1, 1])\n",
    "    axes.plot(0.5 * np.sin(theta), np.cos(theta / 2))\n",
    "\n",
    "    return eight\n",
    "\n"
   ]
  },
  {
   "cell_type": "markdown",
   "id": "5f39bd67",
   "metadata": {},
   "source": [
    "In a real example, we could edit the file on disk\n",
    "using a code editor such as [VS code](https://code.visualstudio.com/)."
   ]
  },
  {
   "cell_type": "code",
   "execution_count": null,
   "id": "81156459",
   "metadata": {},
   "outputs": [],
   "source": [
    "import draw_eight # Load the library file we just wrote to disk"
   ]
  },
  {
   "cell_type": "code",
   "execution_count": null,
   "id": "efce5eac",
   "metadata": {},
   "outputs": [],
   "source": [
    "image = draw_eight.make_figure()"
   ]
  },
  {
   "cell_type": "markdown",
   "id": "2b2c426b",
   "metadata": {},
   "source": [
    "Note, we can import our `draw_eight` module in this notebook only if the file is in our current working directory (i.e. the folder this notebook is in).\n",
    "\n",
    "To allow us to import our module from anywhere on our computer, or to allow other people to reuse it on their own computer, we can create a [Python package](https://packaging.python.org/en/latest/).\n"
   ]
  },
  {
   "cell_type": "markdown",
   "id": "bb50a275",
   "metadata": {},
   "source": [
    "### Python packages\n",
    "\n",
    "A package is a collection of modules that can be installed on our computer and easily shared with others. We will learn how to create packages later on in this course.\n",
    "\n",
    "There is a huge variety of available packages to do pretty much anything. For instance, try `import antigravity` or `import this`.\n"
   ]
  }
 ],
 "metadata": {
  "jekyll": {
   "display_name": "Many kinds of Python"
  },
  "jupytext": {
   "main_language": "python",
   "notebook_metadata_filter": "-kernelspec,jupytext,jekyll"
  }
 },
 "nbformat": 4,
 "nbformat_minor": 5
}