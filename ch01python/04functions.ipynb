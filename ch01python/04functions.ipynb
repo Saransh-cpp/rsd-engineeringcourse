{
 "cells": [
  {
   "cell_type": "markdown",
   "id": "605ad64e",
   "metadata": {},
   "source": [
    "## Functions "
   ]
  },
  {
   "cell_type": "markdown",
   "id": "95178205",
   "metadata": {},
   "source": [
    "### Definition"
   ]
  },
  {
   "cell_type": "markdown",
   "id": "42896b0d",
   "metadata": {},
   "source": [
    "\n",
    "We use `def` to define a function, and `return` to pass back a value:\n",
    "\n",
    "\n"
   ]
  },
  {
   "cell_type": "code",
   "execution_count": null,
   "id": "5b754370",
   "metadata": {},
   "outputs": [],
   "source": [
    "def double(x):\n",
    "    return x * 2\n",
    "\n",
    "print(double(5), double([5]), double('five'))"
   ]
  },
  {
   "cell_type": "markdown",
   "id": "dbe4da1b",
   "metadata": {},
   "source": [
    "### Default Parameters"
   ]
  },
  {
   "cell_type": "markdown",
   "id": "3ca8d795",
   "metadata": {},
   "source": [
    "We can specify default values for parameters:"
   ]
  },
  {
   "cell_type": "code",
   "execution_count": null,
   "id": "d3b1ca73",
   "metadata": {},
   "outputs": [],
   "source": [
    "def jeeves(name = \"Sir\"):\n",
    "    return f\"Very good, {name}\""
   ]
  },
  {
   "cell_type": "code",
   "execution_count": null,
   "id": "8efd7de0",
   "metadata": {},
   "outputs": [],
   "source": [
    "jeeves()"
   ]
  },
  {
   "cell_type": "code",
   "execution_count": null,
   "id": "6cfd17b2",
   "metadata": {},
   "outputs": [],
   "source": [
    "jeeves('John')"
   ]
  },
  {
   "cell_type": "markdown",
   "id": "3b2afd1d",
   "metadata": {},
   "source": [
    "If you have some parameters with defaults, and some without, those with defaults **must** go later."
   ]
  },
  {
   "cell_type": "markdown",
   "id": "316386b7",
   "metadata": {},
   "source": [
    "If you have multiple default arguments, you can specify neither, one or both:"
   ]
  },
  {
   "cell_type": "code",
   "execution_count": null,
   "id": "451aca58",
   "metadata": {},
   "outputs": [],
   "source": [
    "def jeeves(greeting=\"Very good\", name=\"Sir\"):\n",
    "    return f\"{greeting}, {name}\""
   ]
  },
  {
   "cell_type": "code",
   "execution_count": null,
   "id": "63754eb7",
   "metadata": {},
   "outputs": [],
   "source": [
    "jeeves()"
   ]
  },
  {
   "cell_type": "code",
   "execution_count": null,
   "id": "0b4794b4",
   "metadata": {},
   "outputs": [],
   "source": [
    "jeeves(\"Hello\")"
   ]
  },
  {
   "cell_type": "code",
   "execution_count": null,
   "id": "7d0e0142",
   "metadata": {},
   "outputs": [],
   "source": [
    "jeeves(name = \"John\")"
   ]
  },
  {
   "cell_type": "code",
   "execution_count": null,
   "id": "ab872426",
   "metadata": {},
   "outputs": [],
   "source": [
    "jeeves(greeting=\"Suits you\")"
   ]
  },
  {
   "cell_type": "code",
   "execution_count": null,
   "id": "0472b39c",
   "metadata": {},
   "outputs": [],
   "source": [
    "jeeves(\"Hello\", \"Producer\")"
   ]
  },
  {
   "cell_type": "markdown",
   "id": "ea1d7a01",
   "metadata": {},
   "source": [
    "### Side effects"
   ]
  },
  {
   "cell_type": "markdown",
   "id": "93cfcf7b",
   "metadata": {},
   "source": [
    "Functions can do things to change their **mutable** arguments,\n",
    "so `return` is optional.\n",
    "\n",
    "This is pretty awful style, in general, functions should normally be side-effect free.\n",
    "\n",
    "Here is a contrived example of a function that makes plausible use of a side-effect"
   ]
  },
  {
   "cell_type": "code",
   "execution_count": null,
   "id": "db1a1132",
   "metadata": {},
   "outputs": [],
   "source": [
    "def double_inplace(vec):\n",
    "    vec[:] = [element * 2 for element in vec]\n",
    "\n",
    "z = list(range(4))\n",
    "double_inplace(z)\n",
    "print(z)"
   ]
  },
  {
   "cell_type": "code",
   "execution_count": null,
   "id": "db3ba93d",
   "metadata": {},
   "outputs": [],
   "source": [
    "letters = ['a', 'b', 'c', 'd', 'e', 'f', 'g']\n",
    "letters[:] = []"
   ]
  },
  {
   "cell_type": "markdown",
   "id": "0285714e",
   "metadata": {},
   "source": [
    "In this example, we're using `[:]` to access into the same list, and write it's data.\n",
    "\n",
    "    vec = [element*2 for element in vec]\n",
    "\n",
    "would just move a local label, not change the input."
   ]
  },
  {
   "cell_type": "markdown",
   "id": "ec055b2f",
   "metadata": {},
   "source": [
    "But I'd usually just write this as a function which **returned** the output:"
   ]
  },
  {
   "cell_type": "code",
   "execution_count": null,
   "id": "730fdc2d",
   "metadata": {},
   "outputs": [],
   "source": [
    "def double(vec):\n",
    "    return [element * 2 for element in vec]"
   ]
  },
  {
   "cell_type": "markdown",
   "id": "0955e076",
   "metadata": {},
   "source": [
    "Let's remind ourselves of the behaviour for modifying lists in-place using `[:]` with a simple array:"
   ]
  },
  {
   "cell_type": "code",
   "execution_count": null,
   "id": "d9709814",
   "metadata": {},
   "outputs": [],
   "source": [
    "x = 5\n",
    "x = 7\n",
    "x = ['a', 'b', 'c']\n",
    "y = x"
   ]
  },
  {
   "cell_type": "code",
   "execution_count": null,
   "id": "75e57682",
   "metadata": {},
   "outputs": [],
   "source": [
    "x"
   ]
  },
  {
   "cell_type": "code",
   "execution_count": null,
   "id": "be0a54af",
   "metadata": {},
   "outputs": [],
   "source": [
    "x[:] = [\"Hooray!\", \"Yippee\"]"
   ]
  },
  {
   "cell_type": "code",
   "execution_count": null,
   "id": "944677da",
   "metadata": {},
   "outputs": [],
   "source": [
    "y"
   ]
  },
  {
   "cell_type": "markdown",
   "id": "87bab155",
   "metadata": {},
   "source": [
    "### Early Return"
   ]
  },
  {
   "cell_type": "markdown",
   "id": "23cea943",
   "metadata": {},
   "source": [
    "\n",
    "Return without arguments can be used to exit early from a function\n",
    "\n",
    "\n"
   ]
  },
  {
   "cell_type": "markdown",
   "id": "bffcc3a2",
   "metadata": {},
   "source": [
    "Here's a slightly more plausibly useful function-with-side-effects to extend a list with a specified padding datum."
   ]
  },
  {
   "cell_type": "code",
   "execution_count": null,
   "id": "282be0be",
   "metadata": {},
   "outputs": [],
   "source": [
    "def extend(to, vec, pad):\n",
    "    if len(vec) >= to:\n",
    "        return # Exit early, list is already long enough.\n",
    "    \n",
    "    vec[:] = vec + [pad] * (to - len(vec))"
   ]
  },
  {
   "cell_type": "code",
   "execution_count": null,
   "id": "d2945364",
   "metadata": {},
   "outputs": [],
   "source": [
    "x = list(range(3))\n",
    "extend(6, x, 'a')\n",
    "print(x)"
   ]
  },
  {
   "cell_type": "code",
   "execution_count": null,
   "id": "51515ebf",
   "metadata": {},
   "outputs": [],
   "source": [
    "z = range(9)\n",
    "extend(6, z, 'a')\n",
    "print(z)"
   ]
  },
  {
   "cell_type": "markdown",
   "id": "eb6d9be6",
   "metadata": {},
   "source": [
    "### Unpacking arguments"
   ]
  },
  {
   "cell_type": "markdown",
   "id": "4e4470f4",
   "metadata": {},
   "source": [
    "\n",
    "If a vector is supplied to a function with a '*', its elements\n",
    "are used to fill each of a function's arguments. \n",
    "\n",
    "\n"
   ]
  },
  {
   "cell_type": "code",
   "execution_count": null,
   "id": "916d4b11",
   "metadata": {},
   "outputs": [],
   "source": [
    "def arrow(before, after):\n",
    "    return f\"{before} -> {after}\"\n",
    "\n",
    "arrow(1, 3)"
   ]
  },
  {
   "cell_type": "code",
   "execution_count": null,
   "id": "cef0045f",
   "metadata": {},
   "outputs": [],
   "source": [
    "x = [1, -1]\n",
    "arrow(*x)"
   ]
  },
  {
   "cell_type": "markdown",
   "id": "e02d8b1e",
   "metadata": {},
   "source": [
    "\n",
    "\n",
    "\n",
    "This can be quite powerful:\n",
    "\n",
    "\n"
   ]
  },
  {
   "cell_type": "code",
   "execution_count": null,
   "id": "b77260ff",
   "metadata": {},
   "outputs": [],
   "source": [
    "charges = {\"neutron\": 0, \"proton\": 1, \"electron\": -1}\n",
    "for particle in charges.items():\n",
    "    print(arrow(*particle))"
   ]
  },
  {
   "cell_type": "markdown",
   "id": "47c810ef",
   "metadata": {},
   "source": [
    "\n",
    "\n"
   ]
  },
  {
   "cell_type": "markdown",
   "id": "db1881fc",
   "metadata": {},
   "source": [
    "### Sequence Arguments"
   ]
  },
  {
   "cell_type": "markdown",
   "id": "a3ed1d6e",
   "metadata": {},
   "source": [
    "Similiarly, if a `*` is used in the **definition** of a function, multiple\n",
    "arguments are absorbed into a list **inside** the function:"
   ]
  },
  {
   "cell_type": "code",
   "execution_count": null,
   "id": "c1cc97ca",
   "metadata": {},
   "outputs": [],
   "source": [
    "def doubler(*sequence):\n",
    "    return [x * 2 for x in sequence]"
   ]
  },
  {
   "cell_type": "code",
   "execution_count": null,
   "id": "577789e5",
   "metadata": {},
   "outputs": [],
   "source": [
    "doubler(1, 2, 3)"
   ]
  },
  {
   "cell_type": "code",
   "execution_count": null,
   "id": "ccd384c0",
   "metadata": {},
   "outputs": [],
   "source": [
    "doubler(5, 2, \"Wow!\")"
   ]
  },
  {
   "cell_type": "markdown",
   "id": "d0bdb157",
   "metadata": {},
   "source": [
    "### Keyword Arguments"
   ]
  },
  {
   "cell_type": "markdown",
   "id": "35dc70d6",
   "metadata": {},
   "source": [
    "If two asterisks are used, named arguments are supplied inside the function as a dictionary:"
   ]
  },
  {
   "cell_type": "code",
   "execution_count": null,
   "id": "96135dcc",
   "metadata": {},
   "outputs": [],
   "source": [
    "def arrowify(**args):\n",
    "    for key, value in args.items():\n",
    "        print(f\"{key} -> {value}\")\n",
    "\n",
    "arrowify(neutron=\"n\", proton=\"p\", electron=\"e\")"
   ]
  },
  {
   "cell_type": "markdown",
   "id": "0472940b",
   "metadata": {},
   "source": [
    "These different approaches can be mixed:"
   ]
  },
  {
   "cell_type": "code",
   "execution_count": null,
   "id": "8e522dd9",
   "metadata": {},
   "outputs": [],
   "source": [
    "def somefunc(a, b, *args, **kwargs):\n",
    "    print(\"A:\", a)\n",
    "    print(\"B:\", b)\n",
    "    print(\"args:\", args)\n",
    "    print(\"keyword args\", kwargs)"
   ]
  },
  {
   "cell_type": "code",
   "execution_count": null,
   "id": "51017865",
   "metadata": {},
   "outputs": [],
   "source": [
    "somefunc(1, 2, 3, 4, 5, fish=\"Haddock\")"
   ]
  }
 ],
 "metadata": {
  "jekyll": {
   "display_name": "Defining functions"
  },
  "jupytext": {
   "main_language": "python",
   "notebook_metadata_filter": "-kernelspec,jupytext,jekyll"
  }
 },
 "nbformat": 4,
 "nbformat_minor": 5
}