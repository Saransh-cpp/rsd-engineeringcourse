{
 "cells": [
  {
   "cell_type": "markdown",
   "id": "eac2f1e9",
   "metadata": {},
   "source": [
    "## Containers"
   ]
  },
  {
   "cell_type": "markdown",
   "id": "33cc9056",
   "metadata": {},
   "source": [
    "### Checking for containment."
   ]
  },
  {
   "cell_type": "markdown",
   "id": "feb8820a",
   "metadata": {},
   "source": [
    "The `list` we saw is a container type: its purpose is to hold other objects. We can ask python whether or not a\n",
    "container contains a particular item:"
   ]
  },
  {
   "cell_type": "code",
   "execution_count": null,
   "id": "01219fd8",
   "metadata": {},
   "outputs": [],
   "source": [
    "'Dog' in ['Cat', 'Dog', 'Horse']"
   ]
  },
  {
   "cell_type": "code",
   "execution_count": null,
   "id": "6667c689",
   "metadata": {},
   "outputs": [],
   "source": [
    "'Bird' in ['Cat', 'Dog', 'Horse']"
   ]
  },
  {
   "cell_type": "code",
   "execution_count": null,
   "id": "b700949a",
   "metadata": {},
   "outputs": [],
   "source": [
    "2 in range(5)"
   ]
  },
  {
   "cell_type": "code",
   "execution_count": null,
   "id": "b4d6ba1c",
   "metadata": {},
   "outputs": [],
   "source": [
    "99 in range(5)"
   ]
  },
  {
   "cell_type": "markdown",
   "id": "1e7d9f44",
   "metadata": {},
   "source": [
    "### Mutability"
   ]
  },
  {
   "cell_type": "markdown",
   "id": "333bb82b",
   "metadata": {},
   "source": [
    "A list can be modified:"
   ]
  },
  {
   "cell_type": "code",
   "execution_count": null,
   "id": "6fd1a5d5",
   "metadata": {},
   "outputs": [],
   "source": [
    "name = \"Sir Michael Edward Palin\".split(\" \")\n",
    "print(name)"
   ]
  },
  {
   "cell_type": "code",
   "execution_count": null,
   "id": "81ccdb7a",
   "metadata": {},
   "outputs": [],
   "source": [
    "name[0] = \"Knight\"\n",
    "name[1:3] = [\"Mike-\"]\n",
    "name.append(\"FRGS\")\n",
    "\n",
    "print(\" \".join(name))"
   ]
  },
  {
   "cell_type": "markdown",
   "id": "15c434d2",
   "metadata": {},
   "source": [
    "### Tuples"
   ]
  },
  {
   "cell_type": "markdown",
   "id": "1c2ceec0",
   "metadata": {},
   "source": [
    "A `tuple` is an immutable sequence. It is like a list, execpt it cannot be changed. It is defined with round brackets."
   ]
  },
  {
   "cell_type": "code",
   "execution_count": null,
   "id": "b7ef9ca3",
   "metadata": {},
   "outputs": [],
   "source": [
    "x = 0,\n",
    "type(x)"
   ]
  },
  {
   "cell_type": "code",
   "execution_count": null,
   "id": "742c3996",
   "metadata": {},
   "outputs": [],
   "source": [
    "my_tuple = (\"Hello\", \"World\")\n",
    "my_tuple[0] = \"Goodbye\""
   ]
  },
  {
   "cell_type": "code",
   "execution_count": null,
   "id": "38be02df",
   "metadata": {},
   "outputs": [],
   "source": [
    "type(my_tuple)"
   ]
  },
  {
   "cell_type": "markdown",
   "id": "f3d10a33",
   "metadata": {},
   "source": [
    "`str` is immutable too:"
   ]
  },
  {
   "cell_type": "code",
   "execution_count": null,
   "id": "c3954639",
   "metadata": {},
   "outputs": [],
   "source": [
    "fish = \"Hake\"\n",
    "fish[0] = 'R'"
   ]
  },
  {
   "cell_type": "markdown",
   "id": "c7c2eef9",
   "metadata": {},
   "source": [
    "But note that container reassignment is moving a label, **not** changing an element:"
   ]
  },
  {
   "cell_type": "code",
   "execution_count": null,
   "id": "9d79fb05",
   "metadata": {},
   "outputs": [],
   "source": [
    "fish = \"Rake\" ## OK!"
   ]
  },
  {
   "cell_type": "markdown",
   "id": "60b40585",
   "metadata": {},
   "source": [
    "*Supplementary material*: Try the [online memory visualiser](http://www.pythontutor.com/visualize.html#code=name+%3D++%22Sir+Michael+Edward+Palin%22.split%28%22+%22%29%0A%0Aname%5B0%5D+%3D+%22Knight%22%0Aname%5B1%3A3%5D+%3D+%5B%22Mike-%22%5D%0Aname.append%28%22FRGS%22%29%0A&mode=display&origin=opt-frontend.js&cumulative=false&heapPrimitives=true&textReferences=false&py=3&rawInputLstJSON=%5B%5D&curInstr=0) for this one."
   ]
  },
  {
   "cell_type": "markdown",
   "id": "1c59b463",
   "metadata": {},
   "source": [
    "### Memory and containers"
   ]
  },
  {
   "cell_type": "markdown",
   "id": "d4a82f9b",
   "metadata": {},
   "source": [
    "\n",
    "The way memory works with containers can be important:\n",
    "\n",
    "\n"
   ]
  },
  {
   "cell_type": "code",
   "execution_count": null,
   "id": "d2ba5718",
   "metadata": {},
   "outputs": [],
   "source": [
    "x = list(range(3))\n",
    "x"
   ]
  },
  {
   "cell_type": "code",
   "execution_count": null,
   "id": "a6cdb934",
   "metadata": {},
   "outputs": [],
   "source": [
    "y = x\n",
    "y"
   ]
  },
  {
   "cell_type": "code",
   "execution_count": null,
   "id": "b7c574fd",
   "metadata": {},
   "outputs": [],
   "source": [
    "z = x[0:3]\n",
    "y[1] = \"Gotcha!\""
   ]
  },
  {
   "cell_type": "code",
   "execution_count": null,
   "id": "a691053b",
   "metadata": {},
   "outputs": [],
   "source": [
    "x"
   ]
  },
  {
   "cell_type": "code",
   "execution_count": null,
   "id": "bbe88c3b",
   "metadata": {},
   "outputs": [],
   "source": [
    "y"
   ]
  },
  {
   "cell_type": "code",
   "execution_count": null,
   "id": "dfd67970",
   "metadata": {},
   "outputs": [],
   "source": [
    "z"
   ]
  },
  {
   "cell_type": "code",
   "execution_count": null,
   "id": "40723ae9",
   "metadata": {},
   "outputs": [],
   "source": [
    "z[2] = \"Really?\""
   ]
  },
  {
   "cell_type": "code",
   "execution_count": null,
   "id": "f9cb3f7f",
   "metadata": {},
   "outputs": [],
   "source": [
    "x"
   ]
  },
  {
   "cell_type": "code",
   "execution_count": null,
   "id": "268a3f2a",
   "metadata": {},
   "outputs": [],
   "source": [
    "y"
   ]
  },
  {
   "cell_type": "code",
   "execution_count": null,
   "id": "cf7f6b59",
   "metadata": {},
   "outputs": [],
   "source": [
    "z"
   ]
  },
  {
   "cell_type": "markdown",
   "id": "ea73004f",
   "metadata": {},
   "source": [
    "*Supplementary material*: This one works well at the [memory visualiser](http://www.pythontutor.com/visualize.html#code=x+%3D+%5B%22What's%22,+%22Going%22,+%22On%3F%22%5D%0Ay+%3D+x%0Az+%3D+x%5B0%3A3%5D%0A%0Ay%5B1%5D+%3D+%22Gotcha!%22%0Az%5B2%5D+%3D+%22Really%3F%22&mode=display&origin=opt-frontend.js&cumulative=false&heapPrimitives=true&textReferences=false&py=3&rawInputLstJSON=%5B%5D&curInstr=0)."
   ]
  },
  {
   "cell_type": "markdown",
   "id": "0a95ca13",
   "metadata": {},
   "source": [
    "The explanation: While `y` is a second label on the *same object*, `z` is a separate object with the same data. Writing `x[:]` creates a new list containing all the elements of `x` (remember: `[:]` is equivalent to `[0:<last>]`). This is the case whenever we take a slice from a list, not just when taking all the elements with `[:]`.\n",
    "\n",
    "The difference between `y=x` and `z=x[:]` is important!"
   ]
  },
  {
   "cell_type": "markdown",
   "id": "43487423",
   "metadata": {},
   "source": [
    "Nested objects make it even more complicated:"
   ]
  },
  {
   "cell_type": "code",
   "execution_count": null,
   "id": "79cb2c0f",
   "metadata": {},
   "outputs": [],
   "source": [
    "x = [['a', 'b'] , 'c']\n",
    "y = x\n",
    "z = x[0:2]"
   ]
  },
  {
   "cell_type": "code",
   "execution_count": null,
   "id": "0518948f",
   "metadata": {},
   "outputs": [],
   "source": [
    "x[0][1] = 'd'\n",
    "z[1] = 'e'"
   ]
  },
  {
   "cell_type": "code",
   "execution_count": null,
   "id": "40b42799",
   "metadata": {},
   "outputs": [],
   "source": [
    "x"
   ]
  },
  {
   "cell_type": "code",
   "execution_count": null,
   "id": "dab3b513",
   "metadata": {},
   "outputs": [],
   "source": [
    "y"
   ]
  },
  {
   "cell_type": "code",
   "execution_count": null,
   "id": "b758f155",
   "metadata": {},
   "outputs": [],
   "source": [
    "z"
   ]
  },
  {
   "cell_type": "markdown",
   "id": "1b2419af",
   "metadata": {},
   "source": [
    "Try the [visualiser](http://www.pythontutor.com/visualize.html#code=x%20%3D%20%5B%5B'a',%20'b'%5D,%20'c'%5D%0Ay%20%3D%20x%0Az%20%3D%20x%5B0%3A2%5D%0A%0Ax%5B0%5D%5B1%5D%20%3D%20'd'%0Az%5B1%5D%20%3D%20'e'&mode=display&origin=opt-frontend.js&cumulative=false&heapPrimitives=true&textReferences=false&py=3&rawInputLstJSON=%5B%5D&curInstr=0) again.\n",
    "\n",
    "*Supplementary material*: The copies that we make through slicing are called *shallow copies*: we don't copy all the objects they contain, only the references to them. This is why the nested list in `x[0]` is not copied, so `z[0]` still refers to it. It is possible to actually create copies of all the contents, however deeply nested they are - this is called a *deep copy*. Python provides methods for that in its standard library, in the `copy` module. You can read more about that, as well as about shallow and deep copies, in the [library reference](https://docs.python.org/3/library/copy.html)."
   ]
  },
  {
   "cell_type": "markdown",
   "id": "3e26d32c",
   "metadata": {},
   "source": [
    "### Identity vs Equality\n",
    "\n",
    "\n",
    "Having the same data is different from being the same actual object\n",
    "in memory:"
   ]
  },
  {
   "cell_type": "code",
   "execution_count": null,
   "id": "cd9d07fc",
   "metadata": {},
   "outputs": [],
   "source": [
    "[1, 2] == [1, 2]"
   ]
  },
  {
   "cell_type": "code",
   "execution_count": null,
   "id": "44f8498c",
   "metadata": {},
   "outputs": [],
   "source": [
    "[1, 2] is [1, 2]"
   ]
  },
  {
   "cell_type": "markdown",
   "id": "f31335d9",
   "metadata": {},
   "source": [
    "The == operator checks, element by element, that two containers have the same data. \n",
    "The `is` operator checks that they are actually the same object."
   ]
  },
  {
   "cell_type": "markdown",
   "id": "8df79935",
   "metadata": {},
   "source": [
    "But, and this point is really subtle, for immutables, the python language might save memory by reusing a single instantiated copy. This will always be safe."
   ]
  },
  {
   "cell_type": "code",
   "execution_count": null,
   "id": "19ddd273",
   "metadata": {},
   "outputs": [],
   "source": [
    "\"Hello\" == \"Hello\""
   ]
  },
  {
   "cell_type": "code",
   "execution_count": null,
   "id": "408aa8ee",
   "metadata": {},
   "outputs": [],
   "source": [
    "\"Hello\" is \"Hello\""
   ]
  },
  {
   "cell_type": "markdown",
   "id": "3be81480",
   "metadata": {},
   "source": [
    "This can be useful in understanding problems like the one above:"
   ]
  },
  {
   "cell_type": "code",
   "execution_count": null,
   "id": "aebe55af",
   "metadata": {},
   "outputs": [],
   "source": [
    "x = range(3)\n",
    "y = x\n",
    "z = x[:]"
   ]
  },
  {
   "cell_type": "code",
   "execution_count": null,
   "id": "1cef3a49",
   "metadata": {},
   "outputs": [],
   "source": [
    "x == y"
   ]
  },
  {
   "cell_type": "code",
   "execution_count": null,
   "id": "53651be8",
   "metadata": {},
   "outputs": [],
   "source": [
    "x is y"
   ]
  },
  {
   "cell_type": "code",
   "execution_count": null,
   "id": "957ce768",
   "metadata": {},
   "outputs": [],
   "source": [
    "x == z"
   ]
  },
  {
   "cell_type": "code",
   "execution_count": null,
   "id": "2bfa8dd4",
   "metadata": {},
   "outputs": [],
   "source": [
    "x is z"
   ]
  }
 ],
 "metadata": {
  "jekyll": {
   "display_name": "Containers"
  },
  "jupytext": {
   "main_language": "python",
   "notebook_metadata_filter": "-kernelspec,jupytext,jekyll"
  }
 },
 "nbformat": 4,
 "nbformat_minor": 5
}