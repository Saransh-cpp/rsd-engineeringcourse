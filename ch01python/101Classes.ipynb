{
 "cells": [
  {
   "cell_type": "markdown",
   "id": "90b8ab2d",
   "metadata": {},
   "source": [
    "## Defining your own classes"
   ]
  },
  {
   "cell_type": "markdown",
   "id": "69ecc2d3",
   "metadata": {},
   "source": [
    "### User Defined Types"
   ]
  },
  {
   "cell_type": "markdown",
   "id": "f1cc0652",
   "metadata": {},
   "source": [
    "A **class** is a user-programmed Python type (since Python 2.2!)"
   ]
  },
  {
   "cell_type": "markdown",
   "id": "5dc415b7",
   "metadata": {},
   "source": [
    "It can be defined like:"
   ]
  },
  {
   "cell_type": "code",
   "execution_count": null,
   "id": "d07a8465",
   "metadata": {},
   "outputs": [],
   "source": [
    "class Room(object):\n",
    "    pass"
   ]
  },
  {
   "cell_type": "markdown",
   "id": "d58de4a3",
   "metadata": {},
   "source": [
    "Or:"
   ]
  },
  {
   "cell_type": "code",
   "execution_count": null,
   "id": "248f9084",
   "metadata": {},
   "outputs": [],
   "source": [
    "class Room():\n",
    "    pass"
   ]
  },
  {
   "cell_type": "markdown",
   "id": "ad67ab0a",
   "metadata": {},
   "source": [
    "Or:"
   ]
  },
  {
   "cell_type": "code",
   "execution_count": null,
   "id": "6de4b055",
   "metadata": {},
   "outputs": [],
   "source": [
    "class Room:\n",
    "    pass"
   ]
  },
  {
   "cell_type": "markdown",
   "id": "2340bff6",
   "metadata": {},
   "source": [
    "What's the difference? Before Python 2.2 a class was distinct from all other Python types, which caused some odd behaviour. To fix this, classes were redefined as user programmed types by extending `object`, e.g., class `room(object)`.\n",
    "\n",
    "So most Python 2 code will use this syntax as very few people want to use old style python classes. Python 3 has formalised this by removing old-style classes, so they can be defined without extending `object`, or indeed without braces.\n"
   ]
  },
  {
   "cell_type": "markdown",
   "id": "f5b32b4c",
   "metadata": {},
   "source": [
    "Just as with other python types, you use the name of the type as a function to make a variable of that type:"
   ]
  },
  {
   "cell_type": "code",
   "execution_count": null,
   "id": "ee7ccf93",
   "metadata": {},
   "outputs": [],
   "source": [
    "zero = int()\n",
    "type(zero)"
   ]
  },
  {
   "cell_type": "code",
   "execution_count": null,
   "id": "c14e0395",
   "metadata": {},
   "outputs": [],
   "source": [
    "myroom = Room()\n",
    "type(myroom)"
   ]
  },
  {
   "cell_type": "markdown",
   "id": "cd0599cc",
   "metadata": {},
   "source": [
    "In the jargon, we say that an **object** is an **instance** of a particular **class**.\n",
    "\n",
    "`__main__` is the name of the scope in which top-level code executes, where we've defined the class `Room`."
   ]
  },
  {
   "cell_type": "markdown",
   "id": "0598d53e",
   "metadata": {},
   "source": [
    "Once we have an object with a type of our own devising, we can add properties at will:"
   ]
  },
  {
   "cell_type": "code",
   "execution_count": null,
   "id": "1c4cf6b9",
   "metadata": {},
   "outputs": [],
   "source": [
    "myroom.name = \"Living\""
   ]
  },
  {
   "cell_type": "code",
   "execution_count": null,
   "id": "df0eb6ae",
   "metadata": {},
   "outputs": [],
   "source": [
    "myroom.name"
   ]
  },
  {
   "cell_type": "markdown",
   "id": "ad352e8b",
   "metadata": {},
   "source": [
    "The most common use of a class is to allow us to group data into an object in a way that is \n",
    "easier to read and understand than organising data into lists and dictionaries."
   ]
  },
  {
   "cell_type": "code",
   "execution_count": null,
   "id": "38651fa8",
   "metadata": {},
   "outputs": [],
   "source": [
    "myroom.capacity = 3\n",
    "myroom.occupants = [\"Graham\", \"Eric\"]"
   ]
  },
  {
   "cell_type": "markdown",
   "id": "ff7fe586",
   "metadata": {},
   "source": [
    "### Methods"
   ]
  },
  {
   "cell_type": "markdown",
   "id": "bdf0fd27",
   "metadata": {},
   "source": [
    "So far, our class doesn't do much!"
   ]
  },
  {
   "cell_type": "markdown",
   "id": "53326496",
   "metadata": {},
   "source": [
    "We define functions **inside** the definition of a class, in order to give them capabilities, just like the methods on built-in\n",
    "types."
   ]
  },
  {
   "cell_type": "code",
   "execution_count": null,
   "id": "2b57c38f",
   "metadata": {},
   "outputs": [],
   "source": [
    "class Room:\n",
    "    def overfull(self):\n",
    "        return len(self.occupants) > self.capacity"
   ]
  },
  {
   "cell_type": "code",
   "execution_count": null,
   "id": "fc19cf54",
   "metadata": {},
   "outputs": [],
   "source": [
    "myroom = Room()\n",
    "myroom.capacity = 3\n",
    "myroom.occupants = [\"Graham\", \"Eric\"]"
   ]
  },
  {
   "cell_type": "code",
   "execution_count": null,
   "id": "345c2b04",
   "metadata": {},
   "outputs": [],
   "source": [
    "myroom.overfull()"
   ]
  },
  {
   "cell_type": "code",
   "execution_count": null,
   "id": "1671e37a",
   "metadata": {},
   "outputs": [],
   "source": [
    "myroom.occupants.append(['TerryG'])"
   ]
  },
  {
   "cell_type": "code",
   "execution_count": null,
   "id": "88574c5c",
   "metadata": {},
   "outputs": [],
   "source": [
    "myroom.occupants.append(['John'])"
   ]
  },
  {
   "cell_type": "code",
   "execution_count": null,
   "id": "a8e35725",
   "metadata": {},
   "outputs": [],
   "source": [
    "myroom.overfull()"
   ]
  },
  {
   "cell_type": "markdown",
   "id": "5ea8a718",
   "metadata": {},
   "source": [
    "When we write methods, we always write the first function argument as `self`, to refer to the object instance itself,\n",
    "the argument that goes \"before the dot\"."
   ]
  },
  {
   "cell_type": "markdown",
   "id": "f2696901",
   "metadata": {},
   "source": [
    "This is just a convention for this variable name, not a keyword. You could call it something else if you wanted."
   ]
  },
  {
   "cell_type": "markdown",
   "id": "32baafee",
   "metadata": {},
   "source": [
    "### Constructors"
   ]
  },
  {
   "cell_type": "markdown",
   "id": "ef2c1060",
   "metadata": {},
   "source": [
    "Normally, though, we don't want to add data to the class attributes on the fly like that. \n",
    "Instead, we define a **constructor** that converts input data into an object. "
   ]
  },
  {
   "cell_type": "code",
   "execution_count": null,
   "id": "f1f0b4cb",
   "metadata": {},
   "outputs": [],
   "source": [
    "class Room:\n",
    "    def __init__(self, name, exits, capacity, occupants=[]):\n",
    "        self.name = name\n",
    "        self.occupants = occupants  # Note the default argument, occupants start empty\n",
    "        self.exits = exits\n",
    "        self.capacity = capacity\n",
    "\n",
    "    def overfull(self):\n",
    "        return len(self.occupants) > self.capacity"
   ]
  },
  {
   "cell_type": "code",
   "execution_count": null,
   "id": "9c88c990",
   "metadata": {},
   "outputs": [],
   "source": [
    "living = Room(\"Living Room\", {'north': 'garden'}, 3)"
   ]
  },
  {
   "cell_type": "code",
   "execution_count": null,
   "id": "e15116a4",
   "metadata": {},
   "outputs": [],
   "source": [
    "living.capacity"
   ]
  },
  {
   "cell_type": "markdown",
   "id": "a07fe6fc",
   "metadata": {},
   "source": [
    "Methods which begin and end with **two underscores** in their names fulfil special capabilities in Python, such as\n",
    "constructors."
   ]
  },
  {
   "cell_type": "markdown",
   "id": "a44b295a",
   "metadata": {},
   "source": [
    "### Object-oriented design"
   ]
  },
  {
   "cell_type": "markdown",
   "id": "3bd04f61",
   "metadata": {},
   "source": [
    "In building a computer system to model a problem, therefore, we often want to make:\n",
    "\n",
    "* classes for each *kind of thing* in our system\n",
    "* methods for each *capability* of that kind\n",
    "* properties (defined in a constructor) for each *piece of information describing* that kind\n"
   ]
  },
  {
   "cell_type": "markdown",
   "id": "e4a61911",
   "metadata": {},
   "source": [
    "For example, the below program might describe our \"Maze of Rooms\" system:"
   ]
  },
  {
   "cell_type": "markdown",
   "id": "a9134100",
   "metadata": {},
   "source": [
    "We define a \"Maze\" class which can hold rooms:"
   ]
  },
  {
   "cell_type": "code",
   "execution_count": null,
   "id": "f1e17e5b",
   "metadata": {},
   "outputs": [],
   "source": [
    "class Maze:\n",
    "    def __init__(self, name):\n",
    "        self.name = name\n",
    "        self.rooms = {}\n",
    "\n",
    "    def add_room(self, room):\n",
    "        room.maze = self  # The Room needs to know which Maze it is a part of\n",
    "        self.rooms[room.name] = room\n",
    "\n",
    "    def occupants(self):\n",
    "        return [occupant for room in self.rooms.values()\n",
    "                for occupant in room.occupants.values()]\n",
    "\n",
    "    def wander(self):\n",
    "        \"\"\"Move all the people in a random direction\"\"\"\n",
    "        for occupant in self.occupants():\n",
    "            occupant.wander()\n",
    "\n",
    "    def describe(self):\n",
    "        for room in self.rooms.values():\n",
    "            room.describe()\n",
    "\n",
    "    def step(self):\n",
    "        self.describe()\n",
    "        print(\"\")\n",
    "        self.wander()\n",
    "        print(\"\")\n",
    "\n",
    "    def simulate(self, steps):\n",
    "        for _ in range(steps):\n",
    "            self.step()"
   ]
  },
  {
   "cell_type": "markdown",
   "id": "af41fe0c",
   "metadata": {},
   "source": [
    "And a \"Room\" class with exits, and people:"
   ]
  },
  {
   "cell_type": "code",
   "execution_count": null,
   "id": "c3a97d7d",
   "metadata": {},
   "outputs": [],
   "source": [
    "class Room:\n",
    "    def __init__(self, name, exits, capacity, maze=None):\n",
    "        self.maze = maze\n",
    "        self.name = name\n",
    "        self.occupants = {}  # Note the default argument, occupants start empty\n",
    "        self.exits = exits  # Should be a dictionary from directions to room names\n",
    "        self.capacity = capacity\n",
    "\n",
    "    def has_space(self):\n",
    "        return len(self.occupants) < self.capacity\n",
    "\n",
    "    def available_exits(self):\n",
    "        return [exit for exit, target in self.exits.items()\n",
    "                if self.maze.rooms[target].has_space()]\n",
    "\n",
    "    def random_valid_exit(self):\n",
    "        import random\n",
    "        if not self.available_exits():\n",
    "            return None\n",
    "        return random.choice(self.available_exits())\n",
    "\n",
    "    def destination(self, exit):\n",
    "        return self.maze.rooms[self.exits[exit]]\n",
    "\n",
    "    def add_occupant(self, occupant):\n",
    "        occupant.room = self  # The person needs to know which room it is in\n",
    "        self.occupants[occupant.name] = occupant\n",
    "\n",
    "    def delete_occupant(self, occupant):\n",
    "        del self.occupants[occupant.name]\n",
    "\n",
    "    def describe(self):\n",
    "        if self.occupants:\n",
    "            print(f\"{self.name}: \" + \" \".join(self.occupants.keys()))"
   ]
  },
  {
   "cell_type": "markdown",
   "id": "ea00be66",
   "metadata": {},
   "source": [
    "We define a \"Person\" class for room occupants:"
   ]
  },
  {
   "cell_type": "code",
   "execution_count": null,
   "id": "18647b94",
   "metadata": {},
   "outputs": [],
   "source": [
    "class Person:\n",
    "    def __init__(self, name, room=None):\n",
    "        self.name = name\n",
    "\n",
    "    def use(self, exit):\n",
    "        self.room.delete_occupant(self)\n",
    "        destination = self.room.destination(exit)\n",
    "        destination.add_occupant(self)\n",
    "        print(\"{some} goes {action} to the {where}\".format(some=self.name,\n",
    "                                                           action=exit,\n",
    "                                                           where=destination.name))\n",
    "\n",
    "    def wander(self):\n",
    "        exit = self.room.random_valid_exit()\n",
    "        if exit:\n",
    "            self.use(exit)"
   ]
  },
  {
   "cell_type": "markdown",
   "id": "00b5d6c3",
   "metadata": {},
   "source": [
    "And we use these classes to define our people, rooms, and their relationships:"
   ]
  },
  {
   "cell_type": "code",
   "execution_count": null,
   "id": "09da4565",
   "metadata": {},
   "outputs": [],
   "source": [
    "graham = Person('Graham')\n",
    "eric = Person('Eric')\n",
    "terryg = Person('TerryG')\n",
    "john = Person('John')"
   ]
  },
  {
   "cell_type": "code",
   "execution_count": null,
   "id": "9e16506f",
   "metadata": {},
   "outputs": [],
   "source": [
    "living = Room('livingroom', {'outside': 'garden',\n",
    "                             'upstairs': 'bedroom', 'north': 'kitchen'}, 2)\n",
    "kitchen = Room('kitchen', {'south': 'livingroom'}, 1)\n",
    "garden = Room('garden', {'inside': 'livingroom'}, 3)\n",
    "bedroom = Room('bedroom', {'jump': 'garden', 'downstairs': 'livingroom'}, 1)"
   ]
  },
  {
   "cell_type": "code",
   "execution_count": null,
   "id": "c45bd2ce",
   "metadata": {},
   "outputs": [],
   "source": [
    "house = Maze('My House')"
   ]
  },
  {
   "cell_type": "code",
   "execution_count": null,
   "id": "f0cf5528",
   "metadata": {},
   "outputs": [],
   "source": [
    "for room in [living, kitchen, garden, bedroom]:\n",
    "    house.add_room(room)"
   ]
  },
  {
   "cell_type": "code",
   "execution_count": null,
   "id": "4bd0645d",
   "metadata": {},
   "outputs": [],
   "source": [
    "living.add_occupant(graham)"
   ]
  },
  {
   "cell_type": "code",
   "execution_count": null,
   "id": "dac5a699",
   "metadata": {},
   "outputs": [],
   "source": [
    "garden.add_occupant(eric)\n",
    "garden.add_occupant(terryg)"
   ]
  },
  {
   "cell_type": "code",
   "execution_count": null,
   "id": "0a68dfb8",
   "metadata": {},
   "outputs": [],
   "source": [
    "bedroom.add_occupant(john)"
   ]
  },
  {
   "cell_type": "markdown",
   "id": "60880e99",
   "metadata": {},
   "source": [
    "And we can run a \"simulation\" of our model:"
   ]
  },
  {
   "cell_type": "code",
   "execution_count": null,
   "id": "22054df6",
   "metadata": {},
   "outputs": [],
   "source": [
    "house.simulate(3)"
   ]
  },
  {
   "cell_type": "markdown",
   "id": "39a8a664",
   "metadata": {},
   "source": [
    "### Object oriented design"
   ]
  },
  {
   "cell_type": "markdown",
   "id": "ef9c41f7",
   "metadata": {},
   "source": [
    "There are many choices for how to design programs to do this. Another choice would be to separately define exits as a different class from rooms. This way, \n",
    "we can use arrays instead of dictionaries, but we have to first define all our rooms, then define all our exits."
   ]
  },
  {
   "cell_type": "code",
   "execution_count": null,
   "id": "8b471714",
   "metadata": {},
   "outputs": [],
   "source": [
    "class Maze:\n",
    "    def __init__(self, name):\n",
    "        self.name = name\n",
    "        self.rooms = []\n",
    "        self.occupants = []\n",
    "\n",
    "    def add_room(self, name, capacity):\n",
    "        result = Room(name, capacity)\n",
    "        self.rooms.append(result)\n",
    "        return result\n",
    "\n",
    "    def add_exit(self, name, source, target, reverse=None):\n",
    "        source.add_exit(name, target)\n",
    "        if reverse:\n",
    "            target.add_exit(reverse, source)\n",
    "\n",
    "    def add_occupant(self, name, room):\n",
    "        self.occupants.append(Person(name, room))\n",
    "        room.occupancy += 1\n",
    "\n",
    "    def wander(self):\n",
    "        \"Move all the people in a random direction\"\n",
    "        for occupant in self.occupants:\n",
    "            occupant.wander()\n",
    "\n",
    "    def describe(self):\n",
    "        for occupant in self.occupants:\n",
    "            occupant.describe()\n",
    "\n",
    "    def step(self):\n",
    "        house.describe()\n",
    "        print(\"\")\n",
    "        house.wander()\n",
    "        print(\"\")\n",
    "\n",
    "    def simulate(self, steps):\n",
    "        for _ in range(steps):\n",
    "            self.step()"
   ]
  },
  {
   "cell_type": "code",
   "execution_count": null,
   "id": "b8459584",
   "metadata": {},
   "outputs": [],
   "source": [
    "class Room:\n",
    "    def __init__(self, name, capacity):\n",
    "        self.name = name\n",
    "        self.capacity = capacity\n",
    "        self.occupancy = 0\n",
    "        self.exits = []\n",
    "\n",
    "    def has_space(self):\n",
    "        return self.occupancy < self.capacity\n",
    "\n",
    "    def available_exits(self):\n",
    "        return [exit for exit in self.exits if exit.valid()]\n",
    "\n",
    "    def random_valid_exit(self):\n",
    "        import random\n",
    "        if not self.available_exits():\n",
    "            return None\n",
    "        return random.choice(self.available_exits())\n",
    "\n",
    "    def add_exit(self, name, target):\n",
    "        self.exits.append(Exit(name, target))"
   ]
  },
  {
   "cell_type": "code",
   "execution_count": null,
   "id": "22470c40",
   "metadata": {},
   "outputs": [],
   "source": [
    "class Person:\n",
    "    def __init__(self, name, room=None):\n",
    "        self.name = name\n",
    "        self.room = room\n",
    "\n",
    "    def use(self, exit):\n",
    "        self.room.occupancy -= 1\n",
    "        destination = exit.target\n",
    "        destination.occupancy += 1\n",
    "        self.room = destination\n",
    "        print(\"{some} goes {action} to the {where}\".format(some=self.name,\n",
    "                                                           action=exit.name,\n",
    "                                                           where=destination.name))\n",
    "\n",
    "    def wander(self):\n",
    "        exit = self.room.random_valid_exit()\n",
    "        if exit:\n",
    "            self.use(exit)\n",
    "\n",
    "    def describe(self):\n",
    "        print(\"{who} is in the {where}\".format(who=self.name,\n",
    "                                               where=self.room.name))"
   ]
  },
  {
   "cell_type": "code",
   "execution_count": null,
   "id": "e98445c5",
   "metadata": {},
   "outputs": [],
   "source": [
    "class Exit:\n",
    "    def __init__(self, name, target):\n",
    "        self.name = name\n",
    "        self.target = target\n",
    "\n",
    "    def valid(self):\n",
    "        return self.target.has_space()"
   ]
  },
  {
   "cell_type": "code",
   "execution_count": null,
   "id": "df16ed8a",
   "metadata": {},
   "outputs": [],
   "source": [
    "house = Maze('My New House')"
   ]
  },
  {
   "cell_type": "code",
   "execution_count": null,
   "id": "6dfec816",
   "metadata": {},
   "outputs": [],
   "source": [
    "living = house.add_room('livingroom', 2)\n",
    "bed = house.add_room('bedroom', 1)\n",
    "garden = house.add_room('garden', 3)\n",
    "kitchen = house.add_room('kitchen', 1)"
   ]
  },
  {
   "cell_type": "code",
   "execution_count": null,
   "id": "e6141b59",
   "metadata": {},
   "outputs": [],
   "source": [
    "house.add_exit('north', living, kitchen, 'south')"
   ]
  },
  {
   "cell_type": "code",
   "execution_count": null,
   "id": "f6fa5dd9",
   "metadata": {},
   "outputs": [],
   "source": [
    "house.add_exit('upstairs', living, bed, 'downstairs')"
   ]
  },
  {
   "cell_type": "code",
   "execution_count": null,
   "id": "9034eacf",
   "metadata": {},
   "outputs": [],
   "source": [
    "house.add_exit('outside', living, garden, 'inside')"
   ]
  },
  {
   "cell_type": "code",
   "execution_count": null,
   "id": "a4dbf43a",
   "metadata": {},
   "outputs": [],
   "source": [
    "house.add_exit('jump', bed, garden)"
   ]
  },
  {
   "cell_type": "code",
   "execution_count": null,
   "id": "c0f98f09",
   "metadata": {},
   "outputs": [],
   "source": [
    "house.add_occupant('Graham', living)\n",
    "house.add_occupant('Eric', garden)\n",
    "house.add_occupant('TerryJ', bed)\n",
    "house.add_occupant('John', garden)"
   ]
  },
  {
   "cell_type": "code",
   "execution_count": null,
   "id": "ddb5ab2c",
   "metadata": {},
   "outputs": [],
   "source": [
    "house.simulate(3)"
   ]
  },
  {
   "cell_type": "markdown",
   "id": "38a2b350",
   "metadata": {},
   "source": [
    "This is a huge topic, about which many books have been written. The differences between these two designs are important, and will have long-term consequences for the project. That is the how we start to think about **software engineering**, as opposed to learning to program, and is an important part of this course."
   ]
  },
  {
   "cell_type": "markdown",
   "id": "8a02dd66",
   "metadata": {},
   "source": [
    "### Exercise: Your own solution"
   ]
  },
  {
   "cell_type": "markdown",
   "id": "43dc4d10",
   "metadata": {},
   "source": [
    "Compare the two solutions above. Discuss with a partner which you like better, and why. Then, starting from scratch, design your own. What choices did you make that are different from mine?"
   ]
  }
 ],
 "metadata": {
  "jekyll": {
   "display_name": "Classes"
  },
  "jupytext": {
   "main_language": "python",
   "notebook_metadata_filter": "-kernelspec,jupytext,jekyll"
  }
 },
 "nbformat": 4,
 "nbformat_minor": 5
}