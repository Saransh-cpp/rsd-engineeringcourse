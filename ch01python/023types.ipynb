{
 "cells": [
  {
   "cell_type": "markdown",
   "id": "26e283b0",
   "metadata": {},
   "source": [
    "## Types"
   ]
  },
  {
   "cell_type": "markdown",
   "id": "3b7107c7",
   "metadata": {},
   "source": [
    "We have seen that Python objects have a 'type':"
   ]
  },
  {
   "cell_type": "code",
   "execution_count": null,
   "id": "6eb93ca6",
   "metadata": {},
   "outputs": [],
   "source": [
    "type(5)"
   ]
  },
  {
   "cell_type": "markdown",
   "id": "914a432e",
   "metadata": {},
   "source": [
    "### Floats and integers"
   ]
  },
  {
   "cell_type": "markdown",
   "id": "58b754b1",
   "metadata": {},
   "source": [
    "Python has two core numeric types, `int` for integer, and `float` for real number."
   ]
  },
  {
   "cell_type": "code",
   "execution_count": null,
   "id": "5ee71591",
   "metadata": {},
   "outputs": [],
   "source": [
    "one = 1\n",
    "ten = 10\n",
    "one_float = 1.0\n",
    "ten_float = 10."
   ]
  },
  {
   "cell_type": "markdown",
   "id": "288ac446",
   "metadata": {},
   "source": [
    "The zero after a decimal point is optional - it is the **Dot** makes it a float. However, it is better to always include the zero to improve readability."
   ]
  },
  {
   "cell_type": "code",
   "execution_count": null,
   "id": "0308ba85",
   "metadata": {},
   "outputs": [],
   "source": [
    "tenth= one_float / ten_float"
   ]
  },
  {
   "cell_type": "code",
   "execution_count": null,
   "id": "b734abd7",
   "metadata": {},
   "outputs": [],
   "source": [
    "tenth"
   ]
  },
  {
   "cell_type": "code",
   "execution_count": null,
   "id": "10f84f46",
   "metadata": {},
   "outputs": [],
   "source": [
    "type(one)"
   ]
  },
  {
   "cell_type": "code",
   "execution_count": null,
   "id": "477b9c35",
   "metadata": {},
   "outputs": [],
   "source": [
    "type(one_float)"
   ]
  },
  {
   "cell_type": "markdown",
   "id": "fcf88ca6",
   "metadata": {},
   "source": [
    "The meaning of an operator varies depending on the type it is applied to!"
   ]
  },
  {
   "cell_type": "code",
   "execution_count": null,
   "id": "589e2a9c",
   "metadata": {},
   "outputs": [],
   "source": [
    "print(1 + 2)  # returns an integer"
   ]
  },
  {
   "cell_type": "code",
   "execution_count": null,
   "id": "0fe277fd",
   "metadata": {},
   "outputs": [],
   "source": [
    "print(1.0 + 2.0)  # returns a float"
   ]
  },
  {
   "cell_type": "markdown",
   "id": "efece3f8",
   "metadata": {},
   "source": [
    "The division by operator always returns a `float`, whether it's applied to `float`s or `int`s."
   ]
  },
  {
   "cell_type": "code",
   "execution_count": null,
   "id": "6ccd43b7",
   "metadata": {},
   "outputs": [],
   "source": [
    "10 / 3"
   ]
  },
  {
   "cell_type": "code",
   "execution_count": null,
   "id": "334d94d8",
   "metadata": {},
   "outputs": [],
   "source": [
    "10.0 / 3"
   ]
  },
  {
   "cell_type": "code",
   "execution_count": null,
   "id": "856db7ca",
   "metadata": {},
   "outputs": [],
   "source": [
    "10 / 3.0"
   ]
  },
  {
   "cell_type": "markdown",
   "id": "5606ad32",
   "metadata": {},
   "source": [
    "To perform integer division we need to use the `divmod` function, which returns the quotiant and remainder of the division."
   ]
  },
  {
   "cell_type": "code",
   "execution_count": null,
   "id": "c1117a0a",
   "metadata": {},
   "outputs": [],
   "source": [
    "quotiant, remainder = divmod(10, 3)\n",
    "print(f\"{quotiant=}, {remainder=}\")"
   ]
  },
  {
   "cell_type": "markdown",
   "id": "54b38592",
   "metadata": {},
   "source": [
    "Note that if either of the input type are `float`, the returned values will also be `float`s."
   ]
  },
  {
   "cell_type": "code",
   "execution_count": null,
   "id": "77d1d8a0",
   "metadata": {},
   "outputs": [],
   "source": [
    "divmod(10, 3.0)"
   ]
  },
  {
   "cell_type": "markdown",
   "id": "bec8220f",
   "metadata": {},
   "source": [
    "There is a function for every built-in type, which is used to convert the input to an output of the desired type."
   ]
  },
  {
   "cell_type": "code",
   "execution_count": null,
   "id": "8dcfafdf",
   "metadata": {},
   "outputs": [],
   "source": [
    "x = float(5)\n",
    "type(x)"
   ]
  },
  {
   "cell_type": "code",
   "execution_count": null,
   "id": "6cf86d1d",
   "metadata": {},
   "outputs": [],
   "source": [
    "divmod(10, float(3))"
   ]
  },
  {
   "cell_type": "markdown",
   "id": "e7b394b3",
   "metadata": {},
   "source": [
    "I lied when I said that the `float` type was a real number. It's actually a computer representation of a real number\n",
    "called a \"floating point number\". Representing $\\sqrt 2$ or $\\frac{1}{3}$ perfectly would be impossible in a computer, so we use a finite amount of memory to do it."
   ]
  },
  {
   "cell_type": "code",
   "execution_count": null,
   "id": "45972f35",
   "metadata": {},
   "outputs": [],
   "source": [
    "N = 10000.0\n",
    "sum([1 / N] * int(N))"
   ]
  },
  {
   "cell_type": "markdown",
   "id": "bdf9dcd3",
   "metadata": {},
   "source": [
    "*Supplementary material*:\n",
    "\n",
    "* [Python's documentation about floating point arithmetic](https://docs.python.org/tutorial/floatingpoint.html);\n",
    "* [How floating point numbers work](http://floating-point-gui.de/formats/fp/);\n",
    "* Advanced: [What Every Computer Scientist Should Know About Floating-Point Arithmetic](http://docs.oracle.com/cd/E19957-01/806-3568/ncg_goldberg.html)."
   ]
  },
  {
   "cell_type": "markdown",
   "id": "a0c52d26",
   "metadata": {},
   "source": [
    "### Strings"
   ]
  },
  {
   "cell_type": "markdown",
   "id": "762bb42d",
   "metadata": {},
   "source": [
    "Python has a built in `string` type, supporting many\n",
    "useful methods."
   ]
  },
  {
   "cell_type": "code",
   "execution_count": null,
   "id": "521df14c",
   "metadata": {},
   "outputs": [],
   "source": [
    "given = \"Terry\"\n",
    "family = \"Jones\"\n",
    "full = given + \" \" + family"
   ]
  },
  {
   "cell_type": "markdown",
   "id": "6c259fc7",
   "metadata": {},
   "source": [
    "So `+` for strings means \"join them together\" - *concatenate*."
   ]
  },
  {
   "cell_type": "code",
   "execution_count": null,
   "id": "973c9ecd",
   "metadata": {},
   "outputs": [],
   "source": [
    "print(full.upper())"
   ]
  },
  {
   "cell_type": "markdown",
   "id": "d59946ff",
   "metadata": {},
   "source": [
    "As for `float` and `int`, the name of a type can be used as a function to convert between types:"
   ]
  },
  {
   "cell_type": "code",
   "execution_count": null,
   "id": "fde5b44f",
   "metadata": {},
   "outputs": [],
   "source": [
    "ten, one"
   ]
  },
  {
   "cell_type": "code",
   "execution_count": null,
   "id": "49378c74",
   "metadata": {},
   "outputs": [],
   "source": [
    "print(ten + one)"
   ]
  },
  {
   "cell_type": "code",
   "execution_count": null,
   "id": "26c28e52",
   "metadata": {},
   "outputs": [],
   "source": [
    "print(float(str(ten) + str(one)))"
   ]
  },
  {
   "cell_type": "markdown",
   "id": "34469bc8",
   "metadata": {},
   "source": [
    "We can remove extraneous material from the start and end of a string:"
   ]
  },
  {
   "cell_type": "code",
   "execution_count": null,
   "id": "dc415029",
   "metadata": {},
   "outputs": [],
   "source": [
    "\"    Hello  \".strip()"
   ]
  },
  {
   "cell_type": "markdown",
   "id": "705888b2",
   "metadata": {},
   "source": [
    "Note that you can write strings in Python using either single (`' ... '`) or double (`\" ... \"`) quote marks. The two ways are equivalent. However, if your string includes a single quote (e.g. an apostrophe), you should use double quotes to surround it:"
   ]
  },
  {
   "cell_type": "code",
   "execution_count": null,
   "id": "80dde92a",
   "metadata": {},
   "outputs": [],
   "source": [
    "\"Terry's animation\""
   ]
  },
  {
   "cell_type": "markdown",
   "id": "b91e10d2",
   "metadata": {},
   "source": [
    "And vice versa: if your string has a double quote inside it, you should wrap the whole string in single quotes."
   ]
  },
  {
   "cell_type": "code",
   "execution_count": null,
   "id": "06c7b52c",
   "metadata": {},
   "outputs": [],
   "source": [
    "'\"Wow!\", said John.'"
   ]
  },
  {
   "cell_type": "markdown",
   "id": "363438ce",
   "metadata": {},
   "source": [
    "### Lists"
   ]
  },
  {
   "cell_type": "markdown",
   "id": "e8843340",
   "metadata": {},
   "source": [
    "Python's basic **container** type is the `list`."
   ]
  },
  {
   "cell_type": "markdown",
   "id": "21fa8cc4",
   "metadata": {},
   "source": [
    "We can define our own list with square brackets:"
   ]
  },
  {
   "cell_type": "code",
   "execution_count": null,
   "id": "5f4deac6",
   "metadata": {},
   "outputs": [],
   "source": [
    "[1, 3, 7]"
   ]
  },
  {
   "cell_type": "code",
   "execution_count": null,
   "id": "917c00ec",
   "metadata": {},
   "outputs": [],
   "source": [
    "type([1, 3, 7])"
   ]
  },
  {
   "cell_type": "markdown",
   "id": "2c08fce5",
   "metadata": {},
   "source": [
    "Lists *do not* have to contain just one type:"
   ]
  },
  {
   "cell_type": "code",
   "execution_count": null,
   "id": "e5749568",
   "metadata": {},
   "outputs": [],
   "source": [
    "various_things = [1, 2, \"banana\", 3.4, [1,2] ]"
   ]
  },
  {
   "cell_type": "markdown",
   "id": "6d3d4ef6",
   "metadata": {},
   "source": [
    "We access an **element** of a list with an `int` in square brackets:"
   ]
  },
  {
   "cell_type": "code",
   "execution_count": null,
   "id": "5480fb1e",
   "metadata": {},
   "outputs": [],
   "source": [
    "various_things[2]"
   ]
  },
  {
   "cell_type": "code",
   "execution_count": null,
   "id": "21de946a",
   "metadata": {},
   "outputs": [],
   "source": [
    "index = 0\n",
    "various_things[index]"
   ]
  },
  {
   "cell_type": "markdown",
   "id": "14da7cb6",
   "metadata": {},
   "source": [
    "Note that list indices start from zero."
   ]
  },
  {
   "cell_type": "markdown",
   "id": "fc597717",
   "metadata": {},
   "source": [
    "We can use a string to join together a list of strings:"
   ]
  },
  {
   "cell_type": "code",
   "execution_count": null,
   "id": "4c4c3c37",
   "metadata": {},
   "outputs": [],
   "source": [
    "name = [\"Sir\", \"Michael\", \"Edward\", \"Palin\"]\n",
    "print(\"==\".join(name))"
   ]
  },
  {
   "cell_type": "markdown",
   "id": "af7638a3",
   "metadata": {},
   "source": [
    "And we can split up a string into a list:"
   ]
  },
  {
   "cell_type": "code",
   "execution_count": null,
   "id": "f52986de",
   "metadata": {},
   "outputs": [],
   "source": [
    "\"Ernst Stavro Blofeld\".split(\" \")"
   ]
  },
  {
   "cell_type": "code",
   "execution_count": null,
   "id": "7ba78913",
   "metadata": {},
   "outputs": [],
   "source": [
    "\"Ernst Stavro Blofeld\".split(\"o\")"
   ]
  },
  {
   "cell_type": "markdown",
   "id": "73248bfd",
   "metadata": {},
   "source": [
    "And combine these:"
   ]
  },
  {
   "cell_type": "code",
   "execution_count": null,
   "id": "bb15482f",
   "metadata": {},
   "outputs": [],
   "source": [
    "\"->\".join(\"John Ronald Reuel Tolkein\".split(\" \"))"
   ]
  },
  {
   "cell_type": "markdown",
   "id": "3c8ac483",
   "metadata": {},
   "source": [
    "A matrix can be represented by **nesting** lists -- putting lists inside other lists."
   ]
  },
  {
   "cell_type": "code",
   "execution_count": null,
   "id": "092105ec",
   "metadata": {},
   "outputs": [],
   "source": [
    "identity = [[1, 0], [0, 1]]"
   ]
  },
  {
   "cell_type": "code",
   "execution_count": null,
   "id": "c8e3219f",
   "metadata": {},
   "outputs": [],
   "source": [
    "identity[0][0]"
   ]
  },
  {
   "cell_type": "markdown",
   "id": "a47cf499",
   "metadata": {},
   "source": [
    "... but later we will learn about a better way of representing matrices."
   ]
  },
  {
   "cell_type": "markdown",
   "id": "6b178e4c",
   "metadata": {},
   "source": [
    "### Ranges"
   ]
  },
  {
   "cell_type": "markdown",
   "id": "574cef03",
   "metadata": {},
   "source": [
    "Another useful type is range, which gives you a sequence of consecutive numbers. In contrast to a list, ranges generate the numbers as you need them, rather than all at once.\n",
    "\n",
    "If you try to print a range, you'll see something that looks a little strange: "
   ]
  },
  {
   "cell_type": "code",
   "execution_count": null,
   "id": "5447b3fb",
   "metadata": {},
   "outputs": [],
   "source": [
    "range(5)"
   ]
  },
  {
   "cell_type": "markdown",
   "id": "8ba4416f",
   "metadata": {},
   "source": [
    "We don't see the contents, because *they haven't been generatead yet*. Instead, Python gives us a description of the object - in this case, its type (range) and its lower and upper limits."
   ]
  },
  {
   "cell_type": "markdown",
   "id": "0c909566",
   "metadata": {},
   "source": [
    "We can quickly make a list with numbers counted up by converting this range:"
   ]
  },
  {
   "cell_type": "code",
   "execution_count": null,
   "id": "791e58a0",
   "metadata": {},
   "outputs": [],
   "source": [
    "count_to_five = range(5)\n",
    "print(list(count_to_five))"
   ]
  },
  {
   "cell_type": "markdown",
   "id": "578a3540",
   "metadata": {},
   "source": [
    "Ranges in Python can be customised in other ways, such as by specifying the lower limit or the step (that is, the difference between successive elements). You can find more information about them in the [official Python documentation](https://docs.python.org/3/library/stdtypes.html#ranges)."
   ]
  },
  {
   "cell_type": "markdown",
   "id": "3dff39fd",
   "metadata": {},
   "source": [
    "### Sequences"
   ]
  },
  {
   "cell_type": "markdown",
   "id": "81d2628d",
   "metadata": {},
   "source": [
    "Many other things can be treated like `lists`. Python calls things that can be treated like lists `sequences`."
   ]
  },
  {
   "cell_type": "markdown",
   "id": "4072379b",
   "metadata": {},
   "source": [
    "A string is one such *sequence type*."
   ]
  },
  {
   "cell_type": "markdown",
   "id": "009cc2ac",
   "metadata": {},
   "source": [
    "Sequences support various useful operations, including:\n",
    "- Accessing a single element at a particular index: `sequence[index]`\n",
    "- Accessing multiple elements (a *slice*): `sequence[start:end_plus_one]`\n",
    "- Getting the length of a sequence: `len(sequence)`\n",
    "- Checking whether the sequence contains an element: `element in sequence`\n",
    "\n",
    "The following examples illustrate these operations with lists, strings and ranges."
   ]
  },
  {
   "cell_type": "code",
   "execution_count": null,
   "id": "81f2d8a5",
   "metadata": {},
   "outputs": [],
   "source": [
    "print(count_to_five[1])"
   ]
  },
  {
   "cell_type": "code",
   "execution_count": null,
   "id": "d47c67b5",
   "metadata": {},
   "outputs": [],
   "source": [
    "print(\"Palin\"[2])"
   ]
  },
  {
   "cell_type": "code",
   "execution_count": null,
   "id": "31264d60",
   "metadata": {},
   "outputs": [],
   "source": [
    "count_to_five = range(5)"
   ]
  },
  {
   "cell_type": "code",
   "execution_count": null,
   "id": "29362fb3",
   "metadata": {},
   "outputs": [],
   "source": [
    "count_to_five[1:3]"
   ]
  },
  {
   "cell_type": "code",
   "execution_count": null,
   "id": "cc594d27",
   "metadata": {},
   "outputs": [],
   "source": [
    "\"Hello World\"[4:8]"
   ]
  },
  {
   "cell_type": "code",
   "execution_count": null,
   "id": "64a2962b",
   "metadata": {},
   "outputs": [],
   "source": [
    "len(various_things)"
   ]
  },
  {
   "cell_type": "code",
   "execution_count": null,
   "id": "827faae2",
   "metadata": {},
   "outputs": [],
   "source": [
    "len(\"Python\")"
   ]
  },
  {
   "cell_type": "code",
   "execution_count": null,
   "id": "a1f23fc2",
   "metadata": {},
   "outputs": [],
   "source": [
    "name"
   ]
  },
  {
   "cell_type": "code",
   "execution_count": null,
   "id": "423cee91",
   "metadata": {},
   "outputs": [],
   "source": [
    "\"Edward\" in name"
   ]
  },
  {
   "cell_type": "code",
   "execution_count": null,
   "id": "ed88def0",
   "metadata": {},
   "outputs": [],
   "source": [
    "3 in count_to_five"
   ]
  },
  {
   "cell_type": "markdown",
   "id": "901f355a",
   "metadata": {},
   "source": [
    "### Unpacking"
   ]
  },
  {
   "cell_type": "markdown",
   "id": "253d5200",
   "metadata": {},
   "source": [
    "Multiple values can be **unpacked** when assigning from sequences, like dealing out decks of cards."
   ]
  },
  {
   "cell_type": "code",
   "execution_count": null,
   "id": "3f9f284e",
   "metadata": {},
   "outputs": [],
   "source": [
    "mylist = ['Hello', 'World']\n",
    "a, b = mylist\n",
    "print(b)"
   ]
  },
  {
   "cell_type": "code",
   "execution_count": null,
   "id": "f1783f84",
   "metadata": {},
   "outputs": [],
   "source": [
    "range(4)"
   ]
  },
  {
   "cell_type": "code",
   "execution_count": null,
   "id": "ad2bef56",
   "metadata": {},
   "outputs": [],
   "source": [
    "zero, one, two, three = range(4)"
   ]
  },
  {
   "cell_type": "code",
   "execution_count": null,
   "id": "317c6b39",
   "metadata": {},
   "outputs": [],
   "source": [
    "two"
   ]
  },
  {
   "cell_type": "markdown",
   "id": "9b574be7",
   "metadata": {},
   "source": [
    "If there is too much or too little data, an error results:"
   ]
  },
  {
   "cell_type": "code",
   "execution_count": null,
   "id": "3da6d0e6",
   "metadata": {},
   "outputs": [],
   "source": [
    "zero, one, two, three = range(7)"
   ]
  },
  {
   "cell_type": "code",
   "execution_count": null,
   "id": "4896c279",
   "metadata": {},
   "outputs": [],
   "source": [
    "zero, one, two, three = range(2)"
   ]
  },
  {
   "cell_type": "markdown",
   "id": "79959b79",
   "metadata": {},
   "source": [
    "Python provides some handy syntax to split a sequence into its first element (\"head\") and the remaining ones (its \"tail\"):"
   ]
  },
  {
   "cell_type": "code",
   "execution_count": null,
   "id": "e9ddecdc",
   "metadata": {},
   "outputs": [],
   "source": [
    "head, *tail = range(4)\n",
    "print(\"head is\", head)\n",
    "print(\"tail is\", tail)"
   ]
  },
  {
   "cell_type": "markdown",
   "id": "4a07b9a3",
   "metadata": {},
   "source": [
    "Note the syntax with the \\*. The same pattern can be used, for example, to extract the middle segment of a sequence whose length we might not know:"
   ]
  },
  {
   "cell_type": "code",
   "execution_count": null,
   "id": "12a4d38b",
   "metadata": {},
   "outputs": [],
   "source": [
    "one, *two, three = range(10)"
   ]
  },
  {
   "cell_type": "code",
   "execution_count": null,
   "id": "95de2a0e",
   "metadata": {},
   "outputs": [],
   "source": [
    "print(\"one is\", one)\n",
    "print(\"two is\", two)\n",
    "print(\"three is\", three)"
   ]
  }
 ],
 "metadata": {
  "jekyll": {
   "display_name": "Types"
  },
  "jupytext": {
   "main_language": "python",
   "notebook_metadata_filter": "-kernelspec,jupytext,jekyll"
  }
 },
 "nbformat": 4,
 "nbformat_minor": 5
}