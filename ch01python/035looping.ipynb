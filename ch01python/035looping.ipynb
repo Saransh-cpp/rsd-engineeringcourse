{
 "cells": [
  {
   "cell_type": "markdown",
   "id": "5f64a545",
   "metadata": {},
   "source": [
    "### Iteration"
   ]
  },
  {
   "cell_type": "markdown",
   "id": "4086d758",
   "metadata": {},
   "source": [
    "Our other aspect of control is looping back on ourselves.\n",
    "\n",
    "We use `for` ... `in` to \"iterate\" over lists:"
   ]
  },
  {
   "cell_type": "code",
   "execution_count": null,
   "id": "6fdba315",
   "metadata": {},
   "outputs": [],
   "source": [
    "mylist = [3, 7, 15, 2]"
   ]
  },
  {
   "cell_type": "code",
   "execution_count": null,
   "id": "ced1f3e0",
   "metadata": {},
   "outputs": [],
   "source": [
    "for whatever in mylist:\n",
    "    print(whatever ** 2)"
   ]
  },
  {
   "cell_type": "markdown",
   "id": "b1dc2d72",
   "metadata": {},
   "source": [
    "Each time through the loop, the variable in the `value` slot is updated to the **next** element of the sequence."
   ]
  },
  {
   "cell_type": "markdown",
   "id": "a5cadf0d",
   "metadata": {},
   "source": [
    "### Iterables"
   ]
  },
  {
   "cell_type": "markdown",
   "id": "dcf2f55c",
   "metadata": {},
   "source": [
    "\n",
    "Any sequence type is iterable:\n",
    "\n",
    "\n"
   ]
  },
  {
   "cell_type": "code",
   "execution_count": null,
   "id": "f105cc64",
   "metadata": {},
   "outputs": [],
   "source": [
    "vowels = \"aeiou\"\n",
    "sarcasm = []\n",
    "\n",
    "for letter in \"Okay\":\n",
    "    if letter.lower() in vowels:\n",
    "        repetition = 3\n",
    "    else:\n",
    "        repetition = 1\n",
    "\n",
    "    sarcasm.append(letter * repetition)\n",
    "\n",
    "\"\".join(sarcasm)"
   ]
  },
  {
   "cell_type": "markdown",
   "id": "f63013de",
   "metadata": {},
   "source": [
    "The above is a little puzzle, work through it to understand why it does what it does."
   ]
  },
  {
   "cell_type": "markdown",
   "id": "6e8dcea2",
   "metadata": {},
   "source": [
    "###  Dictionaries are Iterables"
   ]
  },
  {
   "cell_type": "markdown",
   "id": "d032cb67",
   "metadata": {},
   "source": [
    "All sequences are iterables. Some iterables (things you can `for` loop over) are not sequences (things with you can do `x[5]` to), for example sets and dictionaries."
   ]
  },
  {
   "cell_type": "code",
   "execution_count": null,
   "id": "796eadd3",
   "metadata": {},
   "outputs": [],
   "source": [
    "import datetime\n",
    "now = datetime.datetime.now()\n",
    "\n",
    "founded = {\"Eric\": 1943, \"UCL\": 1826, \"Cambridge\": 1209}\n",
    "\n",
    "current_year = now.year\n",
    "\n",
    "for thing in founded:\n",
    "    print(thing, \" is \", current_year -  founded[thing], \"years old.\")"
   ]
  },
  {
   "cell_type": "markdown",
   "id": "c23106ed",
   "metadata": {},
   "source": [
    "### Unpacking and Iteration"
   ]
  },
  {
   "cell_type": "markdown",
   "id": "81d0ba84",
   "metadata": {},
   "source": [
    "\n",
    "Unpacking can be useful with iteration:\n",
    "\n",
    "\n"
   ]
  },
  {
   "cell_type": "code",
   "execution_count": null,
   "id": "346cac91",
   "metadata": {},
   "outputs": [],
   "source": [
    "triples = [\n",
    "    [4, 11, 15], \n",
    "    [39, 4, 18]\n",
    "]"
   ]
  },
  {
   "cell_type": "code",
   "execution_count": null,
   "id": "4099fa6a",
   "metadata": {},
   "outputs": [],
   "source": [
    "for whatever in triples:\n",
    "    print(whatever)"
   ]
  },
  {
   "cell_type": "code",
   "execution_count": null,
   "id": "24b81962",
   "metadata": {},
   "outputs": [],
   "source": [
    "for first, middle, last in triples:\n",
    "    print(middle)"
   ]
  },
  {
   "cell_type": "code",
   "execution_count": null,
   "id": "59403cb7",
   "metadata": {},
   "outputs": [],
   "source": [
    "# A reminder that the words you use for variable names are arbitrary:\n",
    "for hedgehog, badger, fox in triples:\n",
    "    print(badger)"
   ]
  },
  {
   "cell_type": "markdown",
   "id": "deb20ac9",
   "metadata": {},
   "source": [
    "\n",
    "\n",
    "\n",
    "for example, to iterate over the items in a dictionary as pairs:\n",
    "\n",
    "\n"
   ]
  },
  {
   "cell_type": "code",
   "execution_count": null,
   "id": "237a27f9",
   "metadata": {},
   "outputs": [],
   "source": [
    "things = {\"Eric\": [1943, 'South Shields'], \n",
    "          \"UCL\": [1826, 'Bloomsbury'], \n",
    "          \"Cambridge\": [1209, 'Cambridge']}\n",
    "\n",
    "print(things.items())"
   ]
  },
  {
   "cell_type": "code",
   "execution_count": null,
   "id": "e8ae8a3c",
   "metadata": {},
   "outputs": [],
   "source": [
    "for name, year in founded.items():\n",
    "    print(name, \" is \", current_year - year, \"years old.\")"
   ]
  },
  {
   "cell_type": "markdown",
   "id": "5a7910e8",
   "metadata": {},
   "source": [
    "### Break, Continue"
   ]
  },
  {
   "cell_type": "markdown",
   "id": "afed25b5",
   "metadata": {},
   "source": [
    "\n",
    "* Continue skips to the next turn of a loop\n",
    "* Break stops the loop early\n",
    "\n",
    "\n"
   ]
  },
  {
   "cell_type": "code",
   "execution_count": null,
   "id": "409a8fbe",
   "metadata": {
    "lines_to_next_cell": 2
   },
   "outputs": [],
   "source": [
    "for n in range(50):\n",
    "    if n == 20: \n",
    "        break\n",
    "    if n % 2 == 0:\n",
    "        continue\n",
    "    print(n)"
   ]
  },
  {
   "cell_type": "markdown",
   "id": "e39e070a",
   "metadata": {},
   "source": [
    "These aren't useful that often, but are worth knowing about. There's also an optional `else` clause on loops, executed only if you don't `break`, but I've never found that useful."
   ]
  },
  {
   "cell_type": "markdown",
   "id": "eff0f01f",
   "metadata": {},
   "source": [
    "### Classroom exercise: the Maze Population"
   ]
  },
  {
   "cell_type": "markdown",
   "id": "444dd960",
   "metadata": {},
   "source": [
    "Take your maze data structure. Write a program to count the total number of people in the maze, and also determine the total possible occupants."
   ]
  }
 ],
 "metadata": {
  "jekyll": {
   "display_name": "Looping"
  },
  "jupytext": {
   "main_language": "python",
   "notebook_metadata_filter": "-kernelspec,jupytext,jekyll"
  }
 },
 "nbformat": 4,
 "nbformat_minor": 5
}