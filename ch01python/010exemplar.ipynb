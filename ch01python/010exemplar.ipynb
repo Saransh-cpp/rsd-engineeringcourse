{
 "cells": [
  {
   "cell_type": "markdown",
   "id": "7ca1006d",
   "metadata": {},
   "source": [
    "## An example Python data analysis notebook"
   ]
  },
  {
   "cell_type": "markdown",
   "id": "5143083f",
   "metadata": {},
   "source": [
    "This page illustrates how to use Python to perform a simple but complete analysis: retrieve data, do some computations based on it, and visualise the results.\n",
    "\n",
    "**Don't worry if you don't understand everything on this page!** Its purpose is to give you an example of things you can do and how to go about doing them - you are not expected to be able to reproduce an analysis like this in Python at this stage! We will be looking at the concepts and practices introduced on this page as we go along the course.\n",
    "\n",
    "As we show the code for different parts of the work, we will be touching on various aspects you may want to keep in mind, either related to Python specifically, or to research programming more generally."
   ]
  },
  {
   "cell_type": "markdown",
   "id": "289a8d4d",
   "metadata": {},
   "source": [
    "### Why write software to manage your data and plots? "
   ]
  },
  {
   "cell_type": "markdown",
   "id": "9cf42569",
   "metadata": {},
   "source": [
    "We can use programs for our entire research pipeline. Not just big scientific simulation codes, but also the small scripts which we use to tidy up data and produce plots. This should be code, so that the whole research pipeline\n",
    "is recorded for reproducibility. Data manipulation in spreadsheets is much harder to share or \n",
    "check. "
   ]
  },
  {
   "cell_type": "markdown",
   "id": "8091176b",
   "metadata": {},
   "source": [
    "You can see another similar demonstration on the [software carpentry site](https://swcarpentry.github.io/python-novice-inflammation/02-numpy.html).\n",
    "We'll try to give links to other sources of Python training along the way.\n",
    "Part of our approach is that we assume you know how to use the internet! If you\n",
    "find something confusing out there, please bring it along to the next session. In this course, we'll always try to draw your attention to other sources of information about what we're learning. Paying attention to as many of these as you need to, is just as important as these core notes."
   ]
  },
  {
   "cell_type": "markdown",
   "id": "285181af",
   "metadata": {},
   "source": [
    "### Importing Libraries"
   ]
  },
  {
   "cell_type": "markdown",
   "id": "54ac9c91",
   "metadata": {},
   "source": [
    "Research programming is all about using libraries: tools other people have provided programs that do many cool things.\n",
    "By combining them we can feel really powerful but doing minimum work ourselves. The python syntax to import someone else's library is \"import\"."
   ]
  },
  {
   "cell_type": "code",
   "execution_count": null,
   "id": "f13ac41b",
   "metadata": {},
   "outputs": [],
   "source": [
    "import geopy # A python library for investigating geographic information.\n",
    "# https://pypi.org/project/geopy/"
   ]
  },
  {
   "cell_type": "markdown",
   "id": "8682a193",
   "metadata": {},
   "source": [
    "Now, if you try to follow along on this example in an Jupyter notebook, you'll probably find that \n",
    "you just got an error message.\n",
    "\n",
    "You'll need to wait until we've covered installation of additional python libraries later in the course, then come\n",
    "back to this and try again. For now, just follow along and try get the feel for how programming for data-focused\n",
    "research works."
   ]
  },
  {
   "cell_type": "code",
   "execution_count": null,
   "id": "4d7a5169",
   "metadata": {},
   "outputs": [],
   "source": [
    "# Select geocoding service provided by OpenStreetMap's Nominatim - https://wiki.openstreetmap.org/wiki/Nominatim\n",
    "geocoder = geopy.geocoders.Nominatim(user_agent=\"comp0023\") \n",
    "geocoder.geocode('Cambridge', exactly_one=False)"
   ]
  },
  {
   "cell_type": "markdown",
   "id": "f17dec70",
   "metadata": {},
   "source": [
    "The results come out as a **list** inside a list: `[Name, [Latitude, Longitude]]`. \n",
    "Programs represent data in a variety of different **containers** like this."
   ]
  },
  {
   "cell_type": "markdown",
   "id": "1ff1b7be",
   "metadata": {},
   "source": [
    "### Comments"
   ]
  },
  {
   "cell_type": "markdown",
   "id": "a0a01d72",
   "metadata": {},
   "source": [
    "Code after a `#` symbol doesn't get run."
   ]
  },
  {
   "cell_type": "code",
   "execution_count": null,
   "id": "de2269ed",
   "metadata": {},
   "outputs": [],
   "source": [
    "print(\"This runs\") # print(\"This doesn't\")\n",
    "# print(\"This doesn't either\")"
   ]
  },
  {
   "cell_type": "markdown",
   "id": "278403d9",
   "metadata": {},
   "source": [
    "### Functions"
   ]
  },
  {
   "cell_type": "markdown",
   "id": "4b9b80dc",
   "metadata": {},
   "source": [
    "We can wrap code up in a **function**, so that we can repeatedly get just the information we want.\n"
   ]
  },
  {
   "cell_type": "code",
   "execution_count": null,
   "id": "933cf4ac",
   "metadata": {},
   "outputs": [],
   "source": [
    "def geolocate(city):\n",
    "    \"\"\"Get the latitude and longitude of a specific location.\"\"\"\n",
    "    \n",
    "    full_name, coordinates = geocoder.geocode(city)\n",
    "    return coordinates"
   ]
  },
  {
   "cell_type": "markdown",
   "id": "264ff965",
   "metadata": {},
   "source": [
    "Defining **functions** which put together code to make a more complex task seem simple from the outside is the most important thing in programming. The output of the function is specified using the `return` keyword. The input to the function is put inside brackets after the function name:\n"
   ]
  },
  {
   "cell_type": "code",
   "execution_count": null,
   "id": "94f437dc",
   "metadata": {},
   "outputs": [],
   "source": [
    "geolocate(city='Cambridge')"
   ]
  },
  {
   "cell_type": "markdown",
   "id": "955326c1",
   "metadata": {},
   "source": [
    "### Variables"
   ]
  },
  {
   "cell_type": "markdown",
   "id": "2d9d27bc",
   "metadata": {},
   "source": [
    "We can store a result in a variable:"
   ]
  },
  {
   "cell_type": "code",
   "execution_count": null,
   "id": "bc276004",
   "metadata": {},
   "outputs": [],
   "source": [
    "london_location = geolocate(\"London\")\n",
    "print(london_location)"
   ]
  },
  {
   "cell_type": "markdown",
   "id": "4a9846aa",
   "metadata": {},
   "source": [
    "### More complex functions"
   ]
  },
  {
   "cell_type": "markdown",
   "id": "30f60bc0",
   "metadata": {},
   "source": [
    "We'll fetch a map of a place from the Google Maps server, given a longitude and latitude.\n",
    "The URLs look like: `https://mt0.google.com/vt?x=658&y=340&z=10&lyrs=s`. Since we'll frequently be generating these URLs, we will create two helper functions to make our life easier.\n",
    "\n",
    "The first is a function to [convert our latitude and longitude into the coordinate tiles system used by Google Maps](https://wiki.openstreetmap.org/wiki/Slippy_map_tilenames#X_and_Y).\n",
    "We will then create a second function to build up a web request from the URL given our parameters.\n"
   ]
  },
  {
   "cell_type": "code",
   "execution_count": null,
   "id": "9c3636b3",
   "metadata": {},
   "outputs": [],
   "source": [
    "import os\n",
    "import math\n",
    "import requests\n",
    "\n",
    "def deg2num(lat_deg, lon_deg, zoom):\n",
    "    \"\"\"Convert latitude and longitude to XY tiles coordinates.\"\"\"\n",
    "\n",
    "    lat_rad = math.radians(lat_deg)\n",
    "    n = 2.0 ** zoom\n",
    "    x_tiles_coord = int((lon_deg + 180.0) / 360.0 * n)\n",
    "    y_tiles_coord = int((1.0 - math.asinh(math.tan(lat_rad)) / math.pi) / 2.0 * n)\n",
    "\n",
    "    return (x_tiles_coord, y_tiles_coord)\n",
    "\n",
    "def request_map_at(latitude, longitude, zoom=10, satellite=True):\n",
    "    \"\"\"Retrieve a map from Google at a given location.\"\"\"\n",
    "\n",
    "    base_url = \"https://mt0.google.com/vt?\"\n",
    "    x_coord, y_coord = deg2num(latitude, longitude, zoom)\n",
    "\n",
    "    params = dict(\n",
    "        x=x_coord,\n",
    "        y=y_coord,\n",
    "        z=zoom,\n",
    "    )\n",
    "    if satellite:\n",
    "        params['lyrs'] = 's'\n",
    "    \n",
    "    return requests.get(base_url, params=params)\n",
    "\n"
   ]
  },
  {
   "cell_type": "code",
   "execution_count": null,
   "id": "049e1cb4",
   "metadata": {
    "lines_to_next_cell": 2
   },
   "outputs": [],
   "source": [
    "london_latitude, london_longitude = london_location\n",
    "map_response = request_map_at(london_latitude, london_longitude)"
   ]
  },
  {
   "cell_type": "markdown",
   "id": "ac04bf87",
   "metadata": {},
   "source": [
    "### Checking our work"
   ]
  },
  {
   "cell_type": "markdown",
   "id": "55ec18ca",
   "metadata": {},
   "source": [
    "Let's see what URL we ended up with.\n",
    "\n",
    "Firsty we will define two constants so that we can split the returned URL into the base URL and the part of the URL that corresponds to the location we requested:\n"
   ]
  },
  {
   "cell_type": "code",
   "execution_count": null,
   "id": "3522f78d",
   "metadata": {
    "lines_to_next_cell": 2
   },
   "outputs": [],
   "source": [
    "url = map_response.url\n",
    "\n",
    "first_25s = slice(0, 25)\n",
    "from_25th = slice(25, None)\n",
    "\n",
    "print(url)\n",
    "print(url[first_25s])\n",
    "print(url[from_25th])"
   ]
  },
  {
   "cell_type": "markdown",
   "id": "985eec49",
   "metadata": {},
   "source": [
    "`url` is a string and we can select parts of this string using the `slice`s we defined above. `first_25s` will select characters 0 to 24 of the string and `from_25th` will select all characters from the 25th onwards.\n"
   ]
  },
  {
   "cell_type": "markdown",
   "id": "37d842b6",
   "metadata": {},
   "source": [
    "We can write **tests** so that if we change our code later we can check the results are still valid. We will do this here using `assert` statements. If any of those `assert` statements are `False` we will get an error. If we receive an error from our tests we know we need to fix something in our code."
   ]
  },
  {
   "cell_type": "code",
   "execution_count": null,
   "id": "e3174771",
   "metadata": {
    "lines_to_next_cell": 2
   },
   "outputs": [],
   "source": [
    "assert \"https://mt0.google.com/vt?\" in url\n",
    "assert \"z=10\" in url\n",
    "assert \"lyrs=s\" in url"
   ]
  },
  {
   "cell_type": "markdown",
   "id": "766ebb58",
   "metadata": {},
   "source": [
    "Our previous function comes back with an Object representing the web request. In Python, we can use the `.\n",
    "operator` to get access to a particular **attribute** of the object. In this case, the image at the requested URL is stored in the `content` attribute. It's a big file, so let's just get look at first few bytes:\n"
   ]
  },
  {
   "cell_type": "code",
   "execution_count": null,
   "id": "71668826",
   "metadata": {},
   "outputs": [],
   "source": [
    "map_response.content[0:20]"
   ]
  },
  {
   "cell_type": "markdown",
   "id": "ae0b55d7",
   "metadata": {},
   "source": [
    "### Displaying results"
   ]
  },
  {
   "cell_type": "markdown",
   "id": "a2f7ea87",
   "metadata": {},
   "source": [
    "We'll need to do this a lot, so we can wrap up our previous function in another function to save on typing."
   ]
  },
  {
   "cell_type": "code",
   "execution_count": null,
   "id": "feb11912",
   "metadata": {},
   "outputs": [],
   "source": [
    "def map_content_at(latitude, longitude, zoom=10, satellite=True):\n",
    "    \"\"\"Retrieve a map image from Google at a given location.\"\"\"\n",
    "\n",
    "    return request_map_at(latitude, longitude, zoom=10, satellite=True).content\n",
    "\n"
   ]
  },
  {
   "cell_type": "markdown",
   "id": "18f42fd7",
   "metadata": {},
   "source": [
    "We can use a library that comes with Jupyter notebook to display the image. This is one of the most powerful things about modern programming languages like Python - being able to work with images, documents, or any other kind of data just as easily as we can with numbers or strings.\n"
   ]
  },
  {
   "cell_type": "code",
   "execution_count": null,
   "id": "29a5780e",
   "metadata": {
    "lines_to_next_cell": 2
   },
   "outputs": [],
   "source": [
    "import IPython\n",
    "\n",
    "map_png = map_content_at(london_latitude, london_longitude)"
   ]
  },
  {
   "cell_type": "code",
   "execution_count": null,
   "id": "9db0acb2",
   "metadata": {
    "lines_to_next_cell": 2
   },
   "outputs": [],
   "source": [
    "print(\"The type of our map result is actually a: \", type(map_png))"
   ]
  },
  {
   "cell_type": "code",
   "execution_count": null,
   "id": "cc625d16",
   "metadata": {},
   "outputs": [],
   "source": [
    "IPython.display.Image(map_png)"
   ]
  },
  {
   "cell_type": "code",
   "execution_count": null,
   "id": "2e7ccd82",
   "metadata": {},
   "outputs": [],
   "source": [
    "IPython.display.Image(map_content_at(*geolocate(\"New Delhi\")))"
   ]
  },
  {
   "cell_type": "markdown",
   "id": "7688153d",
   "metadata": {},
   "source": [
    "### Manipulating Numbers"
   ]
  },
  {
   "cell_type": "markdown",
   "id": "712c0114",
   "metadata": {},
   "source": [
    "Now we get to our research project: we want to use satellite imagery to find out how urbanised the world is along a line between two cites. We expect the satellite image to be greener in the countryside.\n"
   ]
  },
  {
   "cell_type": "markdown",
   "id": "ed4ce8d7",
   "metadata": {},
   "source": [
    "We'll need to import a few more libraries to count how much green there is in an image.\n"
   ]
  },
  {
   "cell_type": "code",
   "execution_count": null,
   "id": "6b018ff1",
   "metadata": {},
   "outputs": [],
   "source": [
    "from io import BytesIO  # A library to convert between files and strings\n",
    "import numpy as np  # A library to deal with matrices\n",
    "import imageio.v3 as iio  # A library to deal with images"
   ]
  },
  {
   "cell_type": "markdown",
   "id": "ebf13e3c",
   "metadata": {},
   "source": [
    "Let's define what we count as green:"
   ]
  },
  {
   "cell_type": "code",
   "execution_count": null,
   "id": "ff2b488a",
   "metadata": {},
   "outputs": [],
   "source": [
    "def is_green(pixels):\n",
    "    \"\"\"Determine if each pixel in an image array is green.\"\"\"\n",
    "    \n",
    "    # RGB indices\n",
    "    red, green, blue = range(3)\n",
    "\n",
    "    threshold = 1.1\n",
    "    greener_than_red = pixels[:, :, green] > threshold * pixels[:, :, red]\n",
    "    greener_than_blue = pixels[:, :, green] > threshold * pixels[:, :, blue]\n",
    "    green = np.logical_and(greener_than_red, greener_than_blue) \n",
    "\n",
    "    return green\n",
    "\n"
   ]
  },
  {
   "cell_type": "markdown",
   "id": "c661dfbd",
   "metadata": {},
   "source": [
    "This code has assumed we have our pixel data for the image as a $256 \\times 256 \\times 3$ 3-d matrix,\n",
    "with each of the three layers being red, green, and blue pixels.\n",
    "\n",
    "We find out which pixels are green by comparing, element-by-element, the middle (green, number 1) layer to the top (red, zero) and bottom (blue, 2)"
   ]
  },
  {
   "cell_type": "markdown",
   "id": "0e7ed9d3",
   "metadata": {},
   "source": [
    "Now we just need to parse in our data, which is a PNG image, and turn it into our matrix format:"
   ]
  },
  {
   "cell_type": "code",
   "execution_count": null,
   "id": "d2a5042f",
   "metadata": {},
   "outputs": [],
   "source": [
    "def count_green_in_png(data):\n",
    "    \"\"\"Determine the total number of green pixels in an image.\"\"\"\n",
    "\n",
    "    f = BytesIO(data)\n",
    "    pixels = iio.imread(f) # Get our PNG image as a numpy array\n",
    "\n",
    "    return np.sum(is_green(pixels))\n",
    "\n"
   ]
  },
  {
   "cell_type": "code",
   "execution_count": null,
   "id": "79aafd30",
   "metadata": {
    "lines_to_next_cell": 2
   },
   "outputs": [],
   "source": [
    "london_map = map_content_at(london_latitude, london_longitude)\n",
    "green_count_london = count_green_in_png(london_map)\n",
    "print(green_count_london)"
   ]
  },
  {
   "cell_type": "code",
   "execution_count": null,
   "id": "cd3c7dd5",
   "metadata": {},
   "outputs": [],
   "source": [
    "iio.imread(BytesIO(london_map)).shape"
   ]
  },
  {
   "cell_type": "markdown",
   "id": "7eb70348",
   "metadata": {},
   "source": [
    "We'll also need a function to get an evenly spaced set of places between two endpoints:"
   ]
  },
  {
   "cell_type": "code",
   "execution_count": null,
   "id": "1dae16ed",
   "metadata": {},
   "outputs": [],
   "source": [
    "def location_sequence(start, end, steps):\n",
    "    \"\"\"Generate a sequence of evenly spaced locations between two sets of coordinates.\"\"\"\n",
    "\n",
    "    start_latitude, start_longitude = start\n",
    "    end_latitude, end_longitude = end\n",
    "    \n",
    "    latitudes = np.linspace(start_latitude, end_latitude, steps)\n",
    "    longitudes = np.linspace(start_longitude, end_longitude, steps)\n",
    "\n",
    "    path = np.vstack([latitudes, longitudes]).transpose()\n",
    "    \n",
    "    return path\n",
    "\n"
   ]
  },
  {
   "cell_type": "code",
   "execution_count": null,
   "id": "32e21546",
   "metadata": {},
   "outputs": [],
   "source": [
    "london_to_cambridge = location_sequence(\n",
    "    start=geolocate(\"London\"),\n",
    "    end=geolocate(\"Cambridge\"),\n",
    "    steps=5,\n",
    ")\n",
    "print(london_to_cambridge)"
   ]
  },
  {
   "cell_type": "markdown",
   "id": "833152d6",
   "metadata": {},
   "source": [
    "### Creating Images"
   ]
  },
  {
   "cell_type": "markdown",
   "id": "43c5cf6d",
   "metadata": {},
   "source": [
    "We should display the green content to check our work:"
   ]
  },
  {
   "cell_type": "code",
   "execution_count": null,
   "id": "e3dce0f4",
   "metadata": {},
   "outputs": [],
   "source": [
    "def show_green_in_png(data):\n",
    "    \"\"\"Convert all non-green pixels in an RGB image to black.\n",
    "\n",
    "    Red and blue channel are set to 0 for all pixels.\n",
    "    Pixels that are green will have the green channel set to its max value.\n",
    "    Pixels that are non-green will have the green channel set to 0.\n",
    "    \"\"\"\n",
    "\n",
    "    f = BytesIO(data)\n",
    "    pixels = iio.imread(f) # Get our PNG image as a numpy array\n",
    "    green_pixels = is_green(pixels)\n",
    "\n",
    "    green_channel = 1\n",
    "    binary_pixels = np.zeros_like(pixels, dtype=np.uint8)\n",
    "    max_possible_value =  np.iinfo(binary_pixels.dtype).max\n",
    "    binary_pixels[green_pixels, green_channel] = max_possible_value\n",
    "\n",
    "    buffer = BytesIO()\n",
    "    binary_image = iio.imwrite(buffer, binary_pixels, extension='.png')\n",
    "\n",
    "    return buffer.getvalue()\n",
    "\n"
   ]
  },
  {
   "cell_type": "code",
   "execution_count": null,
   "id": "56092fb8",
   "metadata": {},
   "outputs": [],
   "source": [
    "london_location"
   ]
  },
  {
   "cell_type": "code",
   "execution_count": null,
   "id": "a2b9bbd1",
   "metadata": {},
   "outputs": [],
   "source": [
    "IPython.display.Image(\n",
    "    map_content_at(london_latitude, london_longitude, satellite=True)\n",
    ")"
   ]
  },
  {
   "cell_type": "code",
   "execution_count": null,
   "id": "5c234596",
   "metadata": {
    "lines_to_next_cell": 2
   },
   "outputs": [],
   "source": [
    "IPython.display.Image(\n",
    "    show_green_in_png(\n",
    "        map_content_at(\n",
    "            london_latitude,\n",
    "            london_longitude,\n",
    "            satellite=True,\n",
    "        )\n",
    "    )\n",
    ")"
   ]
  },
  {
   "cell_type": "markdown",
   "id": "657e8f00",
   "metadata": {},
   "source": [
    "### Looping"
   ]
  },
  {
   "cell_type": "markdown",
   "id": "1f3b9927",
   "metadata": {},
   "source": [
    "We can loop over each element in out list of coordinates and get a map for that place:"
   ]
  },
  {
   "cell_type": "code",
   "execution_count": null,
   "id": "3377bf6a",
   "metadata": {
    "lines_to_next_cell": 2
   },
   "outputs": [],
   "source": [
    "london_to_birmingham = location_sequence(\n",
    "    start=geolocate(\"London\"),\n",
    "    end=geolocate(\"Birmingham\"),\n",
    "    steps=10,\n",
    ")\n",
    "\n",
    "london_to_birmingham_maps = []\n",
    "\n",
    "for latitude, longitude in london_to_birmingham:\n",
    "\n",
    "    current_map = map_content_at(latitude, longitude)\n",
    "    london_to_birmingham_maps.append(current_map)\n",
    "    \n",
    "    IPython.display.display(\n",
    "        IPython.display.Image(\n",
    "            current_map,\n",
    "        )\n",
    "    )"
   ]
  },
  {
   "cell_type": "markdown",
   "id": "da7e3e8d",
   "metadata": {},
   "source": [
    "So now we can count the green from London to Birmingham!"
   ]
  },
  {
   "cell_type": "code",
   "execution_count": null,
   "id": "137ab241",
   "metadata": {
    "lines_to_next_cell": 2
   },
   "outputs": [],
   "source": [
    "green_at_each_location = [count_green_in_png(current_map) for current_map in london_to_birmingham_maps]\n",
    "print(green_at_each_location)"
   ]
  },
  {
   "cell_type": "markdown",
   "id": "32a536f0",
   "metadata": {},
   "source": [
    "### Plotting graphs"
   ]
  },
  {
   "cell_type": "markdown",
   "id": "1f5515a3",
   "metadata": {},
   "source": [
    "Let's plot a graph."
   ]
  },
  {
   "cell_type": "code",
   "execution_count": null,
   "id": "ca086e85",
   "metadata": {},
   "outputs": [],
   "source": [
    "import matplotlib.pyplot as plt\n",
    "%matplotlib inline"
   ]
  },
  {
   "cell_type": "code",
   "execution_count": null,
   "id": "a4460402",
   "metadata": {},
   "outputs": [],
   "source": [
    "plt.plot(green_at_each_location)\n",
    "\n",
    "plt.xticks(range(10))\n",
    "plt.xlabel(\"Sequence step\")\n",
    "plt.ylabel(r\"$N_{green}$\")"
   ]
  },
  {
   "cell_type": "markdown",
   "id": "9acefd29",
   "metadata": {},
   "source": [
    "From a research perspective, of course, this code needs a lot of work. But I hope the power of using programming is clear.\n"
   ]
  },
  {
   "cell_type": "markdown",
   "id": "26d00959",
   "metadata": {},
   "source": [
    "### Composing Program Elements"
   ]
  },
  {
   "cell_type": "markdown",
   "id": "b39bc69a",
   "metadata": {},
   "source": [
    "We built little pieces of useful code, to:\n",
    "\n",
    "* Find latitude and longitude of a place\n",
    "* Get a map at a given latitude and longitude\n",
    "* Decide whether a (red,green,blue) triple is mainly green\n",
    "* Decide whether each pixel is mainly green\n",
    "* Plot a new image showing the green places\n",
    "* Find evenly spaced points between two places"
   ]
  },
  {
   "cell_type": "markdown",
   "id": "59e7b9b7",
   "metadata": {},
   "source": [
    "By putting these together, we can make a function which can plot this graph automatically for any two places:"
   ]
  },
  {
   "cell_type": "code",
   "execution_count": null,
   "id": "f84d1800",
   "metadata": {},
   "outputs": [],
   "source": [
    "def green_between(start, end, steps):\n",
    "    \"\"\"Count the amount of green space along a linear path between two locations.\"\"\"\n",
    "\n",
    "    sequence = location_sequence(\n",
    "        start=geolocate(start),\n",
    "        end=geolocate(end),\n",
    "        steps=steps,\n",
    "    )\n",
    "    maps = [map_content_at(latitude, longitude) for latitude, longitude in sequence]\n",
    "    green_at_each_location = [count_green_in_png(current_map) for current_map in maps]\n",
    "    \n",
    "    return green_at_each_location\n",
    "\n"
   ]
  },
  {
   "cell_type": "code",
   "execution_count": null,
   "id": "e421445c",
   "metadata": {},
   "outputs": [],
   "source": [
    "plt.plot(green_between('New York', 'Chicago', 20))"
   ]
  },
  {
   "cell_type": "markdown",
   "id": "cf949a47",
   "metadata": {},
   "source": [
    "We can also put the plotting command into a function, to make it more general:\n"
   ]
  },
  {
   "cell_type": "code",
   "execution_count": null,
   "id": "37062ee2",
   "metadata": {},
   "outputs": [],
   "source": [
    "def plot_green_between(start, end, steps):\n",
    "    \"\"\"ount the amount of green space along a linear path between two locations\"\"\"\n",
    "    green_between_locations = green_between(start, end, steps)\n",
    "    plt.plot(green_between_locations)\n",
    "    xticks_steps = 5 if steps > 10 else 1\n",
    "    plt.xticks(range(0, steps, xticks_steps))\n",
    "    plt.xlabel(\"Sequence step\")\n",
    "    plt.ylabel(r\"$N_{green}$\")\n",
    "    plt.title(f\"{start} -- {end}\")\n",
    "\n"
   ]
  },
  {
   "cell_type": "code",
   "execution_count": null,
   "id": "c8905f00",
   "metadata": {},
   "outputs": [],
   "source": [
    "plot_green_between('New York', 'Chicago', 20)"
   ]
  },
  {
   "cell_type": "markdown",
   "id": "c861b0b1",
   "metadata": {},
   "source": [
    "And that's it! We've covered - very very quickly - a lot of the Python language, and have introduced some of the most important concepts in modern software engineering."
   ]
  },
  {
   "cell_type": "markdown",
   "id": "f8160d0a",
   "metadata": {},
   "source": [
    "Now we'll go back, carefully, through all the concepts we touched on, and learn how to use them properly ourselves."
   ]
  }
 ],
 "metadata": {
  "jekyll": {
   "display_name": "An example program"
  },
  "jupytext": {
   "main_language": "python",
   "notebook_metadata_filter": "-kernelspec,jupytext,jekyll"
  }
 },
 "nbformat": 4,
 "nbformat_minor": 5
}