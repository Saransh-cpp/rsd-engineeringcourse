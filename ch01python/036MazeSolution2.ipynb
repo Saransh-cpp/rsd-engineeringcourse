{
 "cells": [
  {
   "cell_type": "markdown",
   "id": "3ff4ba90",
   "metadata": {},
   "source": [
    "### Solution: counting people in the maze"
   ]
  },
  {
   "cell_type": "markdown",
   "id": "a02183f7",
   "metadata": {},
   "source": [
    "With this maze structure:"
   ]
  },
  {
   "cell_type": "code",
   "execution_count": null,
   "id": "86049759",
   "metadata": {},
   "outputs": [],
   "source": [
    "house = {\n",
    "    'living' : {\n",
    "        'exits': {\n",
    "            'north' : 'kitchen',\n",
    "            'outside' : 'garden',\n",
    "            'upstairs' : 'bedroom'\n",
    "        },\n",
    "        'people' : ['Graham'],\n",
    "        'capacity' : 2\n",
    "    },\n",
    "    'kitchen' : {\n",
    "        'exits': {\n",
    "            'south' : 'living'\n",
    "        },\n",
    "        'people' : [],\n",
    "        'capacity' : 1\n",
    "    },\n",
    "    'garden' : {\n",
    "        'exits': {\n",
    "            'inside' : 'living'\n",
    "        },\n",
    "        'people' : ['David'],\n",
    "        'capacity' : 3\n",
    "    },\n",
    "    'bedroom' : {\n",
    "        'exits': {\n",
    "            'downstairs' : 'living',\n",
    "            'jump' : 'garden'\n",
    "        },\n",
    "        'people' : [],\n",
    "        'capacity' : 1\n",
    "    }\n",
    "}"
   ]
  },
  {
   "cell_type": "markdown",
   "id": "21347dc2",
   "metadata": {},
   "source": [
    "We can count the occupants and capacity like this:"
   ]
  },
  {
   "cell_type": "code",
   "execution_count": null,
   "id": "caf5bc7a",
   "metadata": {},
   "outputs": [],
   "source": [
    "capacity = 0\n",
    "occupancy = 0\n",
    "for name, room in house.items():\n",
    "    capacity += room['capacity']\n",
    "    occupancy += len(room['people'])\n",
    "print(f\"House can fit {capacity} people, and currently has: {occupancy}.\")"
   ]
  },
  {
   "cell_type": "markdown",
   "id": "c5c8352b",
   "metadata": {},
   "source": [
    "As a side note, note how we included the values of `capacity` and `occupancy` in the last line. This is a handy syntax for building strings that contain the values of variables. You can read more about it at this [Python String Formatting Best Practices guide](https://realpython.com/python-string-formatting/#2-new-style-string-formatting-strformat) or in the [official documentation](https://docs.python.org/3/tutorial/inputoutput.html#formatted-string-literals)."
   ]
  }
 ],
 "metadata": {
  "jekyll": {
   "display_name": "Maze Control Solution"
  },
  "jupytext": {
   "main_language": "python",
   "notebook_metadata_filter": "-kernelspec,jupytext,jekyll"
  }
 },
 "nbformat": 4,
 "nbformat_minor": 5
}