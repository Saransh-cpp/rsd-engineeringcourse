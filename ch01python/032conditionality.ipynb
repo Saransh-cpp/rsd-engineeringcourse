{
 "cells": [
  {
   "cell_type": "markdown",
   "id": "ab5e1e4e",
   "metadata": {},
   "source": [
    "## Control and Flow"
   ]
  },
  {
   "cell_type": "markdown",
   "id": "bf020270",
   "metadata": {},
   "source": [
    "### Turing completeness"
   ]
  },
  {
   "cell_type": "markdown",
   "id": "0a4b9406",
   "metadata": {},
   "source": [
    "Now that we understand how we can use objects to store and model our data, we only need to be able to control the flow of our\n",
    "program in order to have a program that can, in principle, do anything!\n",
    "\n",
    "Specifically we need to be able to:\n",
    "\n",
    "* Control whether a program statement should be executed or not, based on a variable. \"Conditionality\"\n",
    "* Jump back to an earlier point in the program, and run some statements again. \"Branching\""
   ]
  },
  {
   "cell_type": "markdown",
   "id": "f6b72f3e",
   "metadata": {},
   "source": [
    "Once we have these, we can write computer programs to process information in arbitrary ways: we are *Turing Complete*!"
   ]
  },
  {
   "cell_type": "markdown",
   "id": "2e185f3e",
   "metadata": {},
   "source": [
    "### Conditionality"
   ]
  },
  {
   "cell_type": "markdown",
   "id": "ab58fba2",
   "metadata": {},
   "source": [
    "Conditionality is achieved through Python's `if` statement:"
   ]
  },
  {
   "cell_type": "code",
   "execution_count": null,
   "id": "93d67f5c",
   "metadata": {},
   "outputs": [],
   "source": [
    "x = 5\n",
    "\n",
    "if x < 0:\n",
    "    print(f\"{x} is negative\")"
   ]
  },
  {
   "cell_type": "markdown",
   "id": "ae6414d9",
   "metadata": {},
   "source": [
    "The absence of output here means the if clause prevented the print statement from running."
   ]
  },
  {
   "cell_type": "code",
   "execution_count": null,
   "id": "2c539460",
   "metadata": {},
   "outputs": [],
   "source": [
    "x = -10\n",
    "\n",
    "if x < 0:\n",
    "    print(f\"{x} is negative\")"
   ]
  },
  {
   "cell_type": "markdown",
   "id": "7fff509a",
   "metadata": {},
   "source": [
    "The first time through, the print statement never happened."
   ]
  },
  {
   "cell_type": "markdown",
   "id": "866bbf91",
   "metadata": {},
   "source": [
    "The **controlled** statements are indented. Once we remove the indent, the statements will once again happen regardless. "
   ]
  },
  {
   "cell_type": "markdown",
   "id": "dd811da7",
   "metadata": {},
   "source": [
    "### Else and Elif"
   ]
  },
  {
   "cell_type": "markdown",
   "id": "1e540786",
   "metadata": {},
   "source": [
    "Python's if statement has optional elif (else-if) and else clauses:"
   ]
  },
  {
   "cell_type": "code",
   "execution_count": null,
   "id": "ac118a0b",
   "metadata": {},
   "outputs": [],
   "source": [
    "x = 5\n",
    "if x < 0:\n",
    "    print(\"x is negative\")\n",
    "else:\n",
    "    print(\"x is positive\")"
   ]
  },
  {
   "cell_type": "code",
   "execution_count": null,
   "id": "0f9b97bb",
   "metadata": {
    "lines_to_next_cell": 2
   },
   "outputs": [],
   "source": [
    "x = 5\n",
    "if x < 0:\n",
    "    print(\"x is negative\")\n",
    "elif x == 0:\n",
    "    print(\"x is zero\")\n",
    "else:\n",
    "    print(\"x is positive\")"
   ]
  },
  {
   "cell_type": "markdown",
   "id": "55b7ff9e",
   "metadata": {},
   "source": [
    "Try editing the value of x here, and note that other sections are found."
   ]
  },
  {
   "cell_type": "code",
   "execution_count": null,
   "id": "8940d1de",
   "metadata": {},
   "outputs": [],
   "source": [
    "choice = 'high'\n",
    "\n",
    "if choice == 'high':\n",
    "    print(1)\n",
    "elif choice == 'medium':\n",
    "    print(2)\n",
    "else:\n",
    "    print(3)"
   ]
  },
  {
   "cell_type": "markdown",
   "id": "1314159e",
   "metadata": {},
   "source": [
    "### Comparison"
   ]
  },
  {
   "cell_type": "markdown",
   "id": "00d28761",
   "metadata": {},
   "source": [
    "`True` and `False` are used to represent **boolean** (true or false) values."
   ]
  },
  {
   "cell_type": "code",
   "execution_count": null,
   "id": "149f5d01",
   "metadata": {},
   "outputs": [],
   "source": [
    "1 > 2"
   ]
  },
  {
   "cell_type": "markdown",
   "id": "6243571b",
   "metadata": {},
   "source": [
    "Comparison on strings is alphabetical."
   ]
  },
  {
   "cell_type": "code",
   "execution_count": null,
   "id": "0c961960",
   "metadata": {},
   "outputs": [],
   "source": [
    "\"UCL\" > \"KCL\""
   ]
  },
  {
   "cell_type": "markdown",
   "id": "57c5f995",
   "metadata": {},
   "source": [
    "But case sensitive:"
   ]
  },
  {
   "cell_type": "code",
   "execution_count": null,
   "id": "fb901555",
   "metadata": {},
   "outputs": [],
   "source": [
    "\"UCL\" > \"kcl\""
   ]
  },
  {
   "cell_type": "markdown",
   "id": "31c12c43",
   "metadata": {},
   "source": [
    "There's no automatic conversion of the **string** True to true:"
   ]
  },
  {
   "cell_type": "code",
   "execution_count": null,
   "id": "aba8eefc",
   "metadata": {},
   "outputs": [],
   "source": [
    "True == \"True\""
   ]
  },
  {
   "cell_type": "markdown",
   "id": "c646ed50",
   "metadata": {},
   "source": [
    "In python two there were subtle implied order comparisons between types, but it was  bad style to rely on these.\n",
    "In python three, you cannot compare these."
   ]
  },
  {
   "cell_type": "code",
   "execution_count": null,
   "id": "f80f66b5",
   "metadata": {},
   "outputs": [],
   "source": [
    "'1' < 2"
   ]
  },
  {
   "cell_type": "code",
   "execution_count": null,
   "id": "fd0f6d6f",
   "metadata": {},
   "outputs": [],
   "source": [
    "'5' < 2"
   ]
  },
  {
   "cell_type": "code",
   "execution_count": null,
   "id": "8a9741a2",
   "metadata": {},
   "outputs": [],
   "source": [
    "'1' > 2"
   ]
  },
  {
   "cell_type": "markdown",
   "id": "b3293022",
   "metadata": {},
   "source": [
    "Any statement that evaluates to `True` or `False` can be used to control an `if` Statement."
   ]
  },
  {
   "cell_type": "markdown",
   "id": "514ddbf1",
   "metadata": {},
   "source": [
    "### Automatic Falsehood"
   ]
  },
  {
   "cell_type": "markdown",
   "id": "299af6b2",
   "metadata": {},
   "source": [
    "Various other things automatically count as true or false, which can make life easier when coding:"
   ]
  },
  {
   "cell_type": "code",
   "execution_count": null,
   "id": "ce043656",
   "metadata": {},
   "outputs": [],
   "source": [
    "mytext = \"Hello\""
   ]
  },
  {
   "cell_type": "code",
   "execution_count": null,
   "id": "87dfd979",
   "metadata": {
    "lines_to_next_cell": 2
   },
   "outputs": [],
   "source": [
    "if mytext:\n",
    "    print(\"Mytext is not empty\")"
   ]
  },
  {
   "cell_type": "code",
   "execution_count": null,
   "id": "ff4eaf4d",
   "metadata": {},
   "outputs": [],
   "source": [
    "mytext2 = \"\""
   ]
  },
  {
   "cell_type": "code",
   "execution_count": null,
   "id": "bb202135",
   "metadata": {},
   "outputs": [],
   "source": [
    "if mytext2:\n",
    "    print(\"Mytext2 is not empty\")"
   ]
  },
  {
   "cell_type": "markdown",
   "id": "bce04903",
   "metadata": {},
   "source": [
    "We can use logical not and logical and to combine true and false:"
   ]
  },
  {
   "cell_type": "code",
   "execution_count": null,
   "id": "cc43efda",
   "metadata": {},
   "outputs": [],
   "source": [
    "x = 3.2\n",
    "if not (x > 0 and isinstance(x, int)):\n",
    "    print(x,\"is not a positive integer\")"
   ]
  },
  {
   "cell_type": "markdown",
   "id": "5df13d13",
   "metadata": {},
   "source": [
    "`not` also understands magic conversion from false-like things to True or False."
   ]
  },
  {
   "cell_type": "code",
   "execution_count": null,
   "id": "c6a72dac",
   "metadata": {},
   "outputs": [],
   "source": [
    "not not \"Who's there!\" # Thanks to Mysterious Student"
   ]
  },
  {
   "cell_type": "code",
   "execution_count": null,
   "id": "857e247d",
   "metadata": {},
   "outputs": [],
   "source": [
    "bool(\"\")"
   ]
  },
  {
   "cell_type": "code",
   "execution_count": null,
   "id": "c64c2671",
   "metadata": {},
   "outputs": [],
   "source": [
    "bool(\"Graham\")"
   ]
  },
  {
   "cell_type": "code",
   "execution_count": null,
   "id": "06aeff38",
   "metadata": {},
   "outputs": [],
   "source": [
    "bool([])"
   ]
  },
  {
   "cell_type": "code",
   "execution_count": null,
   "id": "01157a8c",
   "metadata": {},
   "outputs": [],
   "source": [
    "bool(['a'])"
   ]
  },
  {
   "cell_type": "code",
   "execution_count": null,
   "id": "892a28d1",
   "metadata": {},
   "outputs": [],
   "source": [
    "bool({})"
   ]
  },
  {
   "cell_type": "code",
   "execution_count": null,
   "id": "86fd41f9",
   "metadata": {},
   "outputs": [],
   "source": [
    "bool({'name': 'Graham'})"
   ]
  },
  {
   "cell_type": "code",
   "execution_count": null,
   "id": "8b933002",
   "metadata": {},
   "outputs": [],
   "source": [
    "bool(0)"
   ]
  },
  {
   "cell_type": "code",
   "execution_count": null,
   "id": "ba71e390",
   "metadata": {},
   "outputs": [],
   "source": [
    "bool(1)"
   ]
  },
  {
   "cell_type": "markdown",
   "id": "8ea47486",
   "metadata": {},
   "source": [
    "But subtly, although these quantities evaluate True or False in an if statement, they're not themselves actually True or False under ==:"
   ]
  },
  {
   "cell_type": "code",
   "execution_count": null,
   "id": "b188d095",
   "metadata": {},
   "outputs": [],
   "source": [
    "[] == False"
   ]
  },
  {
   "cell_type": "code",
   "execution_count": null,
   "id": "25165a4e",
   "metadata": {},
   "outputs": [],
   "source": [
    "bool([]) == False"
   ]
  },
  {
   "cell_type": "markdown",
   "id": "d4688c9c",
   "metadata": {},
   "source": [
    "### Indentation"
   ]
  },
  {
   "cell_type": "markdown",
   "id": "af5d7a01",
   "metadata": {},
   "source": [
    "In Python, indentation is semantically significant.\n",
    "You can choose how much indentation to use, so long as you\n",
    "are consistent, but four spaces is\n",
    "conventional. Please do not use tabs.\n",
    "\n",
    "In the notebook, and most good editors, when you press `<tab>`, you get four spaces.\n",
    "    "
   ]
  },
  {
   "cell_type": "markdown",
   "id": "a3d72df1",
   "metadata": {},
   "source": [
    "No indentation when it is expected, results in an error:"
   ]
  },
  {
   "cell_type": "code",
   "execution_count": null,
   "id": "06b8e5cc",
   "metadata": {},
   "outputs": [],
   "source": [
    "x = 2"
   ]
  },
  {
   "cell_type": "code",
   "execution_count": null,
   "id": "3a3e6b07",
   "metadata": {},
   "outputs": [],
   "source": [
    "if x > 0:\n",
    "print(x)"
   ]
  },
  {
   "cell_type": "markdown",
   "id": "ddb3d830",
   "metadata": {},
   "source": [
    "but:"
   ]
  },
  {
   "cell_type": "code",
   "execution_count": null,
   "id": "9b151309",
   "metadata": {},
   "outputs": [],
   "source": [
    "if x > 0:\n",
    "    print(x)"
   ]
  },
  {
   "cell_type": "markdown",
   "id": "e8affa09",
   "metadata": {},
   "source": [
    "###  Pass"
   ]
  },
  {
   "cell_type": "markdown",
   "id": "fb955310",
   "metadata": {},
   "source": [
    "\n",
    "A statement expecting identation must have some indented code.\n",
    "This can be annoying when commenting things out. (With `#`)\n",
    "\n",
    "\n"
   ]
  },
  {
   "cell_type": "code",
   "execution_count": null,
   "id": "1c15f083",
   "metadata": {},
   "outputs": [],
   "source": [
    "if x > 0:\n",
    "    # print x\n",
    "    \n",
    "print(\"Hello\")"
   ]
  },
  {
   "cell_type": "markdown",
   "id": "dd838be6",
   "metadata": {},
   "source": [
    "\n",
    "\n",
    "\n",
    "So the `pass` statement is used to do nothing.\n",
    "\n",
    "\n"
   ]
  },
  {
   "cell_type": "code",
   "execution_count": null,
   "id": "75f0ed2a",
   "metadata": {},
   "outputs": [],
   "source": [
    "if x > 0:\n",
    "    # print x\n",
    "    pass\n",
    "\n",
    "print(\"Hello\")"
   ]
  }
 ],
 "metadata": {
  "jekyll": {
   "display_name": "Conditionality"
  },
  "jupytext": {
   "main_language": "python",
   "notebook_metadata_filter": "-kernelspec,jupytext,jekyll"
  }
 },
 "nbformat": 4,
 "nbformat_minor": 5
}