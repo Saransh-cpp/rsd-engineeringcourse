{
 "cells": [
  {
   "cell_type": "markdown",
   "id": "8f2ae3d3",
   "metadata": {},
   "source": [
    "## Variables"
   ]
  },
  {
   "cell_type": "markdown",
   "id": "81e22b1e",
   "metadata": {},
   "source": [
    "### Variable Assignment"
   ]
  },
  {
   "cell_type": "markdown",
   "id": "41593c5c",
   "metadata": {},
   "source": [
    "When we generate a result, the answer is displayed, but not kept anywhere."
   ]
  },
  {
   "cell_type": "code",
   "execution_count": null,
   "id": "504018e1",
   "metadata": {},
   "outputs": [],
   "source": [
    "2 * 3"
   ]
  },
  {
   "cell_type": "markdown",
   "id": "5df32adb",
   "metadata": {},
   "source": [
    "If we want to get back to that result, we have to store it. We put it in a box, with a name on the box. This is a **variable**."
   ]
  },
  {
   "cell_type": "code",
   "execution_count": null,
   "id": "06e3f6b3",
   "metadata": {},
   "outputs": [],
   "source": [
    "six = 2 * 3"
   ]
  },
  {
   "cell_type": "code",
   "execution_count": null,
   "id": "3a073bcb",
   "metadata": {},
   "outputs": [],
   "source": [
    "print(six)"
   ]
  },
  {
   "cell_type": "markdown",
   "id": "695a052d",
   "metadata": {},
   "source": [
    "If we look for a variable that hasn't ever been defined, we get an error. "
   ]
  },
  {
   "cell_type": "code",
   "execution_count": null,
   "id": "e5adcb8f",
   "metadata": {},
   "outputs": [],
   "source": [
    "print(seven)"
   ]
  },
  {
   "cell_type": "markdown",
   "id": "4fb51754",
   "metadata": {},
   "source": [
    "That's **not** the same as an empty box, well labeled:"
   ]
  },
  {
   "cell_type": "code",
   "execution_count": null,
   "id": "3deff667",
   "metadata": {},
   "outputs": [],
   "source": [
    "nothing = None"
   ]
  },
  {
   "cell_type": "code",
   "execution_count": null,
   "id": "69f1f8c1",
   "metadata": {},
   "outputs": [],
   "source": [
    "print(nothing)"
   ]
  },
  {
   "cell_type": "code",
   "execution_count": null,
   "id": "e7e35256",
   "metadata": {},
   "outputs": [],
   "source": [
    "type(None)"
   ]
  },
  {
   "cell_type": "markdown",
   "id": "17bb9adb",
   "metadata": {},
   "source": [
    "(None is the special python value for a no-value variable.)"
   ]
  },
  {
   "cell_type": "markdown",
   "id": "ab99c82f",
   "metadata": {},
   "source": [
    "*Supplementary Materials*: There's more on variables at [Software Carpentry's Python lesson](https://swcarpentry.github.io/python-novice-inflammation/01-intro.html)."
   ]
  },
  {
   "cell_type": "markdown",
   "id": "229eec43",
   "metadata": {},
   "source": [
    "Anywhere we could put a raw number, we can put a variable label, and that works fine:"
   ]
  },
  {
   "cell_type": "code",
   "execution_count": null,
   "id": "cd341531",
   "metadata": {},
   "outputs": [],
   "source": [
    "print(5 * six)"
   ]
  },
  {
   "cell_type": "code",
   "execution_count": null,
   "id": "765e9344",
   "metadata": {},
   "outputs": [],
   "source": [
    "scary = six * six * six"
   ]
  },
  {
   "cell_type": "code",
   "execution_count": null,
   "id": "ce036e96",
   "metadata": {},
   "outputs": [],
   "source": [
    "print(scary)"
   ]
  },
  {
   "cell_type": "markdown",
   "id": "aea81d2e",
   "metadata": {},
   "source": [
    "### Reassignment and multiple labels"
   ]
  },
  {
   "cell_type": "markdown",
   "id": "5cddb1bc",
   "metadata": {},
   "source": [
    "But here's the real scary thing: it seems like we can put something else in that box:"
   ]
  },
  {
   "cell_type": "code",
   "execution_count": null,
   "id": "71301655",
   "metadata": {},
   "outputs": [],
   "source": [
    "scary = 25"
   ]
  },
  {
   "cell_type": "code",
   "execution_count": null,
   "id": "aac287e4",
   "metadata": {},
   "outputs": [],
   "source": [
    "print(scary)"
   ]
  },
  {
   "cell_type": "markdown",
   "id": "365ca71e",
   "metadata": {},
   "source": [
    "Note that **the data that was there before has been lost**. "
   ]
  },
  {
   "cell_type": "markdown",
   "id": "ad3a3eed",
   "metadata": {},
   "source": [
    "No labels refer to it any more - so it has been \"Garbage Collected\"! We might imagine something pulled out of the box, and thrown on the floor, to make way for the next occupant."
   ]
  },
  {
   "cell_type": "markdown",
   "id": "7f924a20",
   "metadata": {},
   "source": [
    "In fact, though, it is the **label** that has moved. We can see this because we have more than one label refering to the same box:"
   ]
  },
  {
   "cell_type": "code",
   "execution_count": null,
   "id": "d7b010dd",
   "metadata": {},
   "outputs": [],
   "source": [
    "name = \"Eric\""
   ]
  },
  {
   "cell_type": "code",
   "execution_count": null,
   "id": "4f9bfb91",
   "metadata": {},
   "outputs": [],
   "source": [
    "nom = name"
   ]
  },
  {
   "cell_type": "code",
   "execution_count": null,
   "id": "f5e0e64c",
   "metadata": {},
   "outputs": [],
   "source": [
    "print(nom)"
   ]
  },
  {
   "cell_type": "code",
   "execution_count": null,
   "id": "d8efa1dd",
   "metadata": {},
   "outputs": [],
   "source": [
    "print(name)"
   ]
  },
  {
   "cell_type": "markdown",
   "id": "468ccc0d",
   "metadata": {},
   "source": [
    "And we can move just one of those labels:"
   ]
  },
  {
   "cell_type": "code",
   "execution_count": null,
   "id": "cae97ee5",
   "metadata": {},
   "outputs": [],
   "source": [
    "nom = \"Idle\""
   ]
  },
  {
   "cell_type": "code",
   "execution_count": null,
   "id": "aef2a22d",
   "metadata": {},
   "outputs": [],
   "source": [
    "print(name)"
   ]
  },
  {
   "cell_type": "code",
   "execution_count": null,
   "id": "c1e8c46b",
   "metadata": {},
   "outputs": [],
   "source": [
    "print(nom)"
   ]
  },
  {
   "cell_type": "markdown",
   "id": "45f57dc3",
   "metadata": {},
   "source": [
    "So we can now develop a better understanding of our labels and boxes: each box is a piece of space (an *address*) in computer memory.\n",
    "Each label (variable) is a reference to such a place."
   ]
  },
  {
   "cell_type": "markdown",
   "id": "b2082e70",
   "metadata": {},
   "source": [
    "When the number of labels on a box (\"variables referencing an address\") gets down to zero, then the data in the box cannot be found any more."
   ]
  },
  {
   "cell_type": "markdown",
   "id": "9bb80bab",
   "metadata": {},
   "source": [
    "After a while, the language's \"Garbage collector\" will wander by, notice a box with no labels, and throw the data away, **making that box\n",
    "available for more data**."
   ]
  },
  {
   "cell_type": "markdown",
   "id": "c8f44751",
   "metadata": {},
   "source": [
    "Old fashioned languages like C and Fortran don't have Garbage collectors. So a memory address with no references to it\n",
    "still takes up memory, and the computer can more easily run out."
   ]
  },
  {
   "cell_type": "markdown",
   "id": "0ac8400f",
   "metadata": {},
   "source": [
    "So when I write:"
   ]
  },
  {
   "cell_type": "code",
   "execution_count": null,
   "id": "eaef5d49",
   "metadata": {},
   "outputs": [],
   "source": [
    "name = \"Michael\""
   ]
  },
  {
   "cell_type": "markdown",
   "id": "6de66a64",
   "metadata": {},
   "source": [
    "The following things happen:"
   ]
  },
  {
   "cell_type": "markdown",
   "id": "f81f028e",
   "metadata": {},
   "source": [
    "1. A new text **object** is created, and an address in memory is found for it.\n",
    "1. The variable \"name\" is moved to refer to that address.\n",
    "1. The old address, containing \"James\", now has no labels.\n",
    "1. The garbage collector frees the memory at the old address."
   ]
  },
  {
   "cell_type": "markdown",
   "id": "0b651a2e",
   "metadata": {},
   "source": [
    "**Supplementary materials**: There's an online python tutor which is great for visualising memory and references. Try the [scenario we just looked at](http://www.pythontutor.com/visualize.html#code=name%20%3D%20%22Eric%22%0Anom%20%3D%20name%0Aprint%28nom%29%0Aprint%28name%29%0Anom%20%3D%20%22Idle%22%0Aprint%28name%29%0Aprint%28nom%29%0Aname%20%3D%20%22Michael%22%0Aprint%28name%29%0Aprint%28nom%29%0A&cumulative=false&curInstr=0&heapPrimitives=nevernest&mode=display&origin=opt-frontend.js&py=3&rawInputLstJSON=%5B%5D&textReferences=false).\n",
    "\n",
    "Labels are contained in groups called \"frames\": our frame contains two labels, 'nom' and 'name'."
   ]
  },
  {
   "cell_type": "markdown",
   "id": "3c540109",
   "metadata": {},
   "source": [
    "### Objects and types"
   ]
  },
  {
   "cell_type": "markdown",
   "id": "79188101",
   "metadata": {},
   "source": [
    "An object, like `name`, has a type. In the online python tutor example, we see that the objects have type \"str\".\n",
    "`str` means a text object: Programmers call these 'strings'. "
   ]
  },
  {
   "cell_type": "code",
   "execution_count": null,
   "id": "01c08e9a",
   "metadata": {},
   "outputs": [],
   "source": [
    "type(name)"
   ]
  },
  {
   "cell_type": "markdown",
   "id": "d04f01d6",
   "metadata": {},
   "source": [
    "Depending on its type, an object can have different *properties*: data fields Inside the object."
   ]
  },
  {
   "cell_type": "markdown",
   "id": "f6a50d6a",
   "metadata": {},
   "source": [
    "Consider a Python complex number for example:"
   ]
  },
  {
   "cell_type": "code",
   "execution_count": null,
   "id": "d9168158",
   "metadata": {},
   "outputs": [],
   "source": [
    "z = 3 + 1j"
   ]
  },
  {
   "cell_type": "markdown",
   "id": "39e4fcea",
   "metadata": {},
   "source": [
    "We can see what properties and methods an object has available using the `dir` function:"
   ]
  },
  {
   "cell_type": "code",
   "execution_count": null,
   "id": "efe0dd98",
   "metadata": {},
   "outputs": [],
   "source": [
    "dir(z)"
   ]
  },
  {
   "cell_type": "markdown",
   "id": "ff2606e4",
   "metadata": {},
   "source": [
    "You can see that there are several methods whose name starts and ends with `__` (e.g. `__init__`): these are special methods that Python uses internally, and we will discuss some of them later on in this course. The others (in this case, `conjugate`, `img` and `real`) are the methods and fields through which we can interact with this object."
   ]
  },
  {
   "cell_type": "code",
   "execution_count": null,
   "id": "55f754b5",
   "metadata": {},
   "outputs": [],
   "source": [
    "type(z)"
   ]
  },
  {
   "cell_type": "code",
   "execution_count": null,
   "id": "485ea731",
   "metadata": {},
   "outputs": [],
   "source": [
    "z.real"
   ]
  },
  {
   "cell_type": "code",
   "execution_count": null,
   "id": "ee077a96",
   "metadata": {},
   "outputs": [],
   "source": [
    "z.imag"
   ]
  },
  {
   "cell_type": "markdown",
   "id": "7349f8bd",
   "metadata": {},
   "source": [
    "A property of an object is accessed with a dot."
   ]
  },
  {
   "cell_type": "markdown",
   "id": "0f523cea",
   "metadata": {},
   "source": [
    "The jargon is that the \"dot operator\" is used to obtain a property of an object."
   ]
  },
  {
   "cell_type": "markdown",
   "id": "e73bc68c",
   "metadata": {},
   "source": [
    "When we try to access a property that doesn't exist, we get an error:"
   ]
  },
  {
   "cell_type": "code",
   "execution_count": null,
   "id": "853b6bc8",
   "metadata": {},
   "outputs": [],
   "source": [
    "z.wrong"
   ]
  },
  {
   "cell_type": "markdown",
   "id": "f5b2fc4f",
   "metadata": {},
   "source": [
    "### Reading error messages."
   ]
  },
  {
   "cell_type": "markdown",
   "id": "d27d891e",
   "metadata": {},
   "source": [
    "It's important, when learning to program, to develop an ability to read an error message and find, from in amongst\n",
    "all the confusing noise, the bit of the error message which tells you what to change!"
   ]
  },
  {
   "cell_type": "markdown",
   "id": "0b05ec6f",
   "metadata": {},
   "source": [
    "We don't yet know what is meant by `AttributeError`, or \"Traceback\"."
   ]
  },
  {
   "cell_type": "code",
   "execution_count": null,
   "id": "77a04b8c",
   "metadata": {},
   "outputs": [],
   "source": [
    "z2 = 5 - 6j\n",
    "print(\"Gets to here\")\n",
    "print(z.wrong)\n",
    "print(\"Didn't get to here\")"
   ]
  },
  {
   "cell_type": "markdown",
   "id": "f84c4787",
   "metadata": {},
   "source": [
    "But in the above, we can see that the error happens on the **third** line of our code cell."
   ]
  },
  {
   "cell_type": "markdown",
   "id": "6e9632e8",
   "metadata": {},
   "source": [
    "We can also see that the error message: \n",
    "> 'complex' object has no attribute 'wrong' \n",
    "\n",
    "...tells us something important. Even if we don't understand the rest, this is useful for debugging!"
   ]
  },
  {
   "cell_type": "markdown",
   "id": "6b780bc7",
   "metadata": {},
   "source": [
    "### Variables and the notebook kernel"
   ]
  },
  {
   "cell_type": "markdown",
   "id": "dfceecd6",
   "metadata": {},
   "source": [
    "When I type code in the notebook, the objects live in memory between cells."
   ]
  },
  {
   "cell_type": "code",
   "execution_count": null,
   "id": "da304eb7",
   "metadata": {},
   "outputs": [],
   "source": [
    "number = 0"
   ]
  },
  {
   "cell_type": "code",
   "execution_count": null,
   "id": "1d7f6ff8",
   "metadata": {},
   "outputs": [],
   "source": [
    "print(number)"
   ]
  },
  {
   "cell_type": "markdown",
   "id": "4a87a7d2",
   "metadata": {},
   "source": [
    "If I change a variable:"
   ]
  },
  {
   "cell_type": "code",
   "execution_count": null,
   "id": "52236b2d",
   "metadata": {},
   "outputs": [],
   "source": [
    "number = number + 1"
   ]
  },
  {
   "cell_type": "code",
   "execution_count": null,
   "id": "f35207b9",
   "metadata": {},
   "outputs": [],
   "source": [
    "print(number)"
   ]
  },
  {
   "cell_type": "markdown",
   "id": "7db2ad51",
   "metadata": {},
   "source": [
    "It keeps its new value for the next cell."
   ]
  },
  {
   "cell_type": "markdown",
   "id": "f167260d",
   "metadata": {},
   "source": [
    "But cells are **not** always evaluated in order."
   ]
  },
  {
   "cell_type": "markdown",
   "id": "ef067d81",
   "metadata": {},
   "source": [
    "If I now go back to Input 31, reading `number = number + 1`, I can run it again, with Shift-Enter. The value of `number` will change from 2 to 3, then from 3 to 4 - but the output of the next cell (containing the `print` statement) will not change unless I rerun that too. Try it!"
   ]
  },
  {
   "cell_type": "markdown",
   "id": "16b1b6d6",
   "metadata": {},
   "source": [
    "So it's important to remember that if you move your cursor around in the notebook, it doesn't always run top to bottom."
   ]
  },
  {
   "cell_type": "markdown",
   "id": "eb91900b",
   "metadata": {},
   "source": [
    "**Supplementary material**: (1) [Jupyter notebook documentation](https://jupyter-notebook.readthedocs.io/en/latest/)."
   ]
  }
 ],
 "metadata": {
  "jekyll": {
   "display_name": "Variables"
  },
  "jupytext": {
   "main_language": "python",
   "notebook_metadata_filter": "-kernelspec,jupytext,jekyll"
  }
 },
 "nbformat": 4,
 "nbformat_minor": 5
}