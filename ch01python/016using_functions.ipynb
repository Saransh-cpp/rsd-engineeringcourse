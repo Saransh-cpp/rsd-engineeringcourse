{
 "cells": [
  {
   "cell_type": "markdown",
   "id": "0088ffce",
   "metadata": {},
   "source": [
    "## Using Functions"
   ]
  },
  {
   "cell_type": "markdown",
   "id": "b31529bb",
   "metadata": {},
   "source": [
    "### Calling functions"
   ]
  },
  {
   "cell_type": "markdown",
   "id": "42c6a273",
   "metadata": {},
   "source": [
    "We often want to do things to our objects that are more complicated than just assigning them to variables."
   ]
  },
  {
   "cell_type": "code",
   "execution_count": null,
   "id": "1978eba5",
   "metadata": {},
   "outputs": [],
   "source": [
    "len(\"pneumonoultramicroscopicsilicovolcanoconiosis\")"
   ]
  },
  {
   "cell_type": "markdown",
   "id": "47c0ee95",
   "metadata": {},
   "source": [
    "Here we have \"called a function\"."
   ]
  },
  {
   "cell_type": "markdown",
   "id": "0de1c077",
   "metadata": {},
   "source": [
    "The function `len` takes one input, and has one output. The output is the length of whatever the input was."
   ]
  },
  {
   "cell_type": "markdown",
   "id": "b293d76c",
   "metadata": {},
   "source": [
    "Programmers also call function inputs \"parameters\" or, confusingly, \"arguments\"."
   ]
  },
  {
   "cell_type": "markdown",
   "id": "4312f010",
   "metadata": {},
   "source": [
    "Here's another example:"
   ]
  },
  {
   "cell_type": "code",
   "execution_count": null,
   "id": "40d8f5a3",
   "metadata": {},
   "outputs": [],
   "source": [
    "sorted(\"Python\")"
   ]
  },
  {
   "cell_type": "markdown",
   "id": "0ccbaaaf",
   "metadata": {},
   "source": [
    "Which gives us back a *list* of the letters in Python, sorted alphabetically (more specifically, according to their [Unicode order](https://www.ssec.wisc.edu/~tomw/java/unicode.html#x0000))."
   ]
  },
  {
   "cell_type": "markdown",
   "id": "c836f2ae",
   "metadata": {},
   "source": [
    "The input goes in brackets after the function name, and the output emerges wherever the function is used."
   ]
  },
  {
   "cell_type": "markdown",
   "id": "a526e485",
   "metadata": {},
   "source": [
    "So we can put a function call anywhere we could put a \"literal\" object or a variable. "
   ]
  },
  {
   "cell_type": "code",
   "execution_count": null,
   "id": "1fb82886",
   "metadata": {},
   "outputs": [],
   "source": [
    "len('Jim') * 8"
   ]
  },
  {
   "cell_type": "code",
   "execution_count": null,
   "id": "77438a5e",
   "metadata": {},
   "outputs": [],
   "source": [
    "x = len('Mike')\n",
    "y = len('Bob')\n",
    "z = x + y"
   ]
  },
  {
   "cell_type": "code",
   "execution_count": null,
   "id": "9f6fc8e3",
   "metadata": {},
   "outputs": [],
   "source": [
    "print(z)"
   ]
  },
  {
   "cell_type": "markdown",
   "id": "f7508fa7",
   "metadata": {},
   "source": [
    "### Using methods"
   ]
  },
  {
   "cell_type": "markdown",
   "id": "e06cce9a",
   "metadata": {},
   "source": [
    "Objects come associated with a bunch of functions designed for working on objects of that type. We access these with a dot, just as we do for data attributes:"
   ]
  },
  {
   "cell_type": "code",
   "execution_count": null,
   "id": "fb50c7a3",
   "metadata": {},
   "outputs": [],
   "source": [
    "\"shout\".upper()"
   ]
  },
  {
   "cell_type": "markdown",
   "id": "6d3d4a68",
   "metadata": {},
   "source": [
    "These are called methods. If you try to use a method defined for a different type, you get an error:"
   ]
  },
  {
   "cell_type": "code",
   "execution_count": null,
   "id": "d5be4bdf",
   "metadata": {},
   "outputs": [],
   "source": [
    "x = 5"
   ]
  },
  {
   "cell_type": "code",
   "execution_count": null,
   "id": "2488b3c8",
   "metadata": {},
   "outputs": [],
   "source": [
    "type(x)"
   ]
  },
  {
   "cell_type": "code",
   "execution_count": null,
   "id": "8db10672",
   "metadata": {},
   "outputs": [],
   "source": [
    "x.upper()"
   ]
  },
  {
   "cell_type": "markdown",
   "id": "4fc2c713",
   "metadata": {},
   "source": [
    "If you try to use a method that doesn't exist, you get an error:"
   ]
  },
  {
   "cell_type": "code",
   "execution_count": null,
   "id": "67997565",
   "metadata": {},
   "outputs": [],
   "source": [
    "x.wrong"
   ]
  },
  {
   "cell_type": "markdown",
   "id": "cbaf6e00",
   "metadata": {},
   "source": [
    "Methods and properties are both kinds of **attribute**, so both are accessed with the dot operator."
   ]
  },
  {
   "cell_type": "markdown",
   "id": "f2c68c39",
   "metadata": {},
   "source": [
    "Objects can have both properties and methods:"
   ]
  },
  {
   "cell_type": "code",
   "execution_count": null,
   "id": "34c319ec",
   "metadata": {},
   "outputs": [],
   "source": [
    "z = 1 + 5j"
   ]
  },
  {
   "cell_type": "code",
   "execution_count": null,
   "id": "91155d84",
   "metadata": {},
   "outputs": [],
   "source": [
    "z.real"
   ]
  },
  {
   "cell_type": "code",
   "execution_count": null,
   "id": "8bdacc46",
   "metadata": {},
   "outputs": [],
   "source": [
    "z.conjugate()"
   ]
  },
  {
   "cell_type": "code",
   "execution_count": null,
   "id": "2a3c87e9",
   "metadata": {},
   "outputs": [],
   "source": [
    "z.conjugate"
   ]
  },
  {
   "cell_type": "markdown",
   "id": "8afb702f",
   "metadata": {},
   "source": [
    "### Functions are just a type of object!"
   ]
  },
  {
   "cell_type": "markdown",
   "id": "7ace5110",
   "metadata": {},
   "source": [
    "Now for something that will take a while to understand: don't worry if you don't get this yet, we'll\n",
    "look again at this in much more depth later in the course.\n",
    "\n",
    "If we forget the (), we realise that a *method is just a property which is a function*!"
   ]
  },
  {
   "cell_type": "code",
   "execution_count": null,
   "id": "08bb89d9",
   "metadata": {},
   "outputs": [],
   "source": [
    "z.conjugate"
   ]
  },
  {
   "cell_type": "code",
   "execution_count": null,
   "id": "fbfdfbf9",
   "metadata": {},
   "outputs": [],
   "source": [
    "type(z.conjugate)"
   ]
  },
  {
   "cell_type": "code",
   "execution_count": null,
   "id": "96c62bd0",
   "metadata": {},
   "outputs": [],
   "source": [
    "somefunc = z.conjugate"
   ]
  },
  {
   "cell_type": "code",
   "execution_count": null,
   "id": "3969619a",
   "metadata": {},
   "outputs": [],
   "source": [
    "somefunc()"
   ]
  },
  {
   "cell_type": "markdown",
   "id": "ab94757c",
   "metadata": {},
   "source": [
    "Functions are just a kind of variable, and we can assign new labels to them:"
   ]
  },
  {
   "cell_type": "code",
   "execution_count": null,
   "id": "5fc5954a",
   "metadata": {},
   "outputs": [],
   "source": [
    "sorted([1, 5, 3, 4])"
   ]
  },
  {
   "cell_type": "code",
   "execution_count": null,
   "id": "c64c5ede",
   "metadata": {},
   "outputs": [],
   "source": [
    "magic = sorted"
   ]
  },
  {
   "cell_type": "code",
   "execution_count": null,
   "id": "7b8c8b3c",
   "metadata": {},
   "outputs": [],
   "source": [
    "type(magic)"
   ]
  },
  {
   "cell_type": "code",
   "execution_count": null,
   "id": "e4b5401c",
   "metadata": {},
   "outputs": [],
   "source": [
    "magic([\"Technology\", \"Advanced\"])"
   ]
  },
  {
   "cell_type": "markdown",
   "id": "07bb869e",
   "metadata": {},
   "source": [
    "### Getting help on functions and methods"
   ]
  },
  {
   "cell_type": "markdown",
   "id": "cdede57d",
   "metadata": {},
   "source": [
    "The 'help' function, when applied to a function, gives help on it!"
   ]
  },
  {
   "cell_type": "code",
   "execution_count": null,
   "id": "a5fbca7c",
   "metadata": {},
   "outputs": [],
   "source": [
    "help(sorted)"
   ]
  },
  {
   "cell_type": "markdown",
   "id": "3b0bfd60",
   "metadata": {},
   "source": [
    "The 'dir' function, when applied to an object, lists all its attributes (properties and methods):"
   ]
  },
  {
   "cell_type": "code",
   "execution_count": null,
   "id": "3b8bf842",
   "metadata": {},
   "outputs": [],
   "source": [
    "dir(\"Hexxo\")"
   ]
  },
  {
   "cell_type": "markdown",
   "id": "04cb7c4b",
   "metadata": {},
   "source": [
    "Most of these are confusing methods beginning and ending with __, part of the internals of python."
   ]
  },
  {
   "cell_type": "markdown",
   "id": "93ce9b0f",
   "metadata": {},
   "source": [
    "Again, just as with error messages, we have to learn to read past the bits that are confusing, to the bit we want:"
   ]
  },
  {
   "cell_type": "code",
   "execution_count": null,
   "id": "8403121c",
   "metadata": {},
   "outputs": [],
   "source": [
    "\"Hexxo\".replace(\"x\", \"l\")"
   ]
  },
  {
   "cell_type": "code",
   "execution_count": null,
   "id": "5175e1b4",
   "metadata": {},
   "outputs": [],
   "source": [
    "help(\"FIsh\".replace)"
   ]
  },
  {
   "cell_type": "markdown",
   "id": "26b80a0a",
   "metadata": {},
   "source": [
    "### Operators"
   ]
  },
  {
   "cell_type": "markdown",
   "id": "92f5bac1",
   "metadata": {},
   "source": [
    "Now that we know that functions are a way of taking a number of inputs and producing an output, we should look again at\n",
    "what happens when we write:"
   ]
  },
  {
   "cell_type": "code",
   "execution_count": null,
   "id": "62f699ba",
   "metadata": {},
   "outputs": [],
   "source": [
    "x = 2 + 3"
   ]
  },
  {
   "cell_type": "code",
   "execution_count": null,
   "id": "233c1726",
   "metadata": {},
   "outputs": [],
   "source": [
    "print(x)"
   ]
  },
  {
   "cell_type": "markdown",
   "id": "d1443e7d",
   "metadata": {},
   "source": [
    "This is just a pretty way of calling an \"add\" function. Things would be more symmetrical if add were actually written\n",
    "\n",
    "    x = +(2, 3)\n",
    "    \n",
    "Where '+' is just the name of the name of the adding function."
   ]
  },
  {
   "cell_type": "markdown",
   "id": "902c2493",
   "metadata": {},
   "source": [
    "In python, these functions **do** exist, but they're actually **methods** of the first input: they're the mysterious `__` functions we saw earlier (Two underscores.)"
   ]
  },
  {
   "cell_type": "code",
   "execution_count": null,
   "id": "05745bf4",
   "metadata": {},
   "outputs": [],
   "source": [
    "x.__add__(7)"
   ]
  },
  {
   "cell_type": "markdown",
   "id": "fcc6cde0",
   "metadata": {},
   "source": [
    "We call these symbols, `+`, `-` etc, \"operators\"."
   ]
  },
  {
   "cell_type": "markdown",
   "id": "f0bfe6e6",
   "metadata": {},
   "source": [
    "The meaning of an operator varies for different types:"
   ]
  },
  {
   "cell_type": "code",
   "execution_count": null,
   "id": "c32fe8f5",
   "metadata": {},
   "outputs": [],
   "source": [
    "\"Hello\" + \"Goodbye\""
   ]
  },
  {
   "cell_type": "code",
   "execution_count": null,
   "id": "1f02bb35",
   "metadata": {},
   "outputs": [],
   "source": [
    "[2, 3, 4] + [5, 6]"
   ]
  },
  {
   "cell_type": "markdown",
   "id": "29a13c1c",
   "metadata": {},
   "source": [
    "Sometimes we get an error when a type doesn't have an operator:"
   ]
  },
  {
   "cell_type": "code",
   "execution_count": null,
   "id": "1af8776f",
   "metadata": {},
   "outputs": [],
   "source": [
    "7 - 2"
   ]
  },
  {
   "cell_type": "code",
   "execution_count": null,
   "id": "a14b8fdd",
   "metadata": {},
   "outputs": [],
   "source": [
    "[2, 3, 4] - [5, 6]"
   ]
  },
  {
   "cell_type": "markdown",
   "id": "05eb4253",
   "metadata": {},
   "source": [
    "The word \"operand\" means \"thing that an operator operates on\"!"
   ]
  },
  {
   "cell_type": "markdown",
   "id": "03835b81",
   "metadata": {},
   "source": [
    "Or when two types can't work together with an operator:"
   ]
  },
  {
   "cell_type": "code",
   "execution_count": null,
   "id": "55c18d1e",
   "metadata": {},
   "outputs": [],
   "source": [
    "[2, 3, 4] + 5"
   ]
  },
  {
   "cell_type": "markdown",
   "id": "f69c4507",
   "metadata": {},
   "source": [
    "To do this, put:"
   ]
  },
  {
   "cell_type": "code",
   "execution_count": null,
   "id": "2e5f9906",
   "metadata": {},
   "outputs": [],
   "source": [
    "[2, 3, 4] + [5]"
   ]
  },
  {
   "cell_type": "markdown",
   "id": "efbbaa09",
   "metadata": {},
   "source": [
    "Just as in Mathematics, operators have a built-in precedence, with brackets used to force an order of operations:"
   ]
  },
  {
   "cell_type": "code",
   "execution_count": null,
   "id": "8f7e4bb4",
   "metadata": {},
   "outputs": [],
   "source": [
    "print(2 + 3 * 4)"
   ]
  },
  {
   "cell_type": "code",
   "execution_count": null,
   "id": "1af67605",
   "metadata": {},
   "outputs": [],
   "source": [
    "print((2 + 3) * 4)"
   ]
  },
  {
   "cell_type": "markdown",
   "id": "f7bfea25",
   "metadata": {},
   "source": [
    "*Supplementary material*: [Python operator precedence](https://docs.python.org/3/reference/expressions.html#operator-precedence)."
   ]
  }
 ],
 "metadata": {
  "jekyll": {
   "display_name": "Using Functions"
  },
  "jupytext": {
   "main_language": "python",
   "notebook_metadata_filter": "-kernelspec,jupytext,jekyll"
  }
 },
 "nbformat": 4,
 "nbformat_minor": 5
}