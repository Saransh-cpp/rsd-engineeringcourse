{
 "cells": [
  {
   "cell_type": "markdown",
   "id": "01a8c09f",
   "metadata": {},
   "source": [
    "## Data structures"
   ]
  },
  {
   "cell_type": "markdown",
   "id": "a2b10f1e",
   "metadata": {},
   "source": [
    "### Nested Lists and Dictionaries"
   ]
  },
  {
   "cell_type": "markdown",
   "id": "7deb89d0",
   "metadata": {},
   "source": [
    "In research programming, one of our most common tasks is building an appropriate *structure* to model our complicated\n",
    "data. Later in the course, we'll see how we can define our own types, with their own attributes, properties, and methods. But probably the most common approach is to use nested structures of lists, dictionaries, and sets to model our data. For example, an address might be modelled as a dictionary with appropriately named fields:"
   ]
  },
  {
   "cell_type": "code",
   "execution_count": null,
   "id": "d48cc7bd",
   "metadata": {},
   "outputs": [],
   "source": [
    "UCL = {\n",
    "    'City': 'London',\n",
    "    'Street': 'Gower Street',\n",
    "    'Postcode': 'WC1E 6BT'\n",
    "}"
   ]
  },
  {
   "cell_type": "code",
   "execution_count": null,
   "id": "aec08cc0",
   "metadata": {},
   "outputs": [],
   "source": [
    "Chapman = {\n",
    "    'City': 'London',\n",
    "    'Street': 'Southwood ln',\n",
    "    'Postcode': 'N6 5TB'\n",
    "}"
   ]
  },
  {
   "cell_type": "markdown",
   "id": "aa19ec22",
   "metadata": {},
   "source": [
    "A collection of people's addresses is then a list of dictionaries:"
   ]
  },
  {
   "cell_type": "code",
   "execution_count": null,
   "id": "0d35d0ca",
   "metadata": {},
   "outputs": [],
   "source": [
    "addresses = [UCL, Chapman]"
   ]
  },
  {
   "cell_type": "code",
   "execution_count": null,
   "id": "2b62c738",
   "metadata": {},
   "outputs": [],
   "source": [
    "addresses"
   ]
  },
  {
   "cell_type": "markdown",
   "id": "7e1609f1",
   "metadata": {},
   "source": [
    "A more complicated data structure, for example for a census database, might have a list of residents or employees at each address:"
   ]
  },
  {
   "cell_type": "code",
   "execution_count": null,
   "id": "32b1fc7a",
   "metadata": {},
   "outputs": [],
   "source": [
    "UCL['people'] = ['Jeremy','Leonard', 'James', 'Henry']"
   ]
  },
  {
   "cell_type": "code",
   "execution_count": null,
   "id": "df0545cd",
   "metadata": {},
   "outputs": [],
   "source": [
    "Chapman['people'] = ['Graham', 'David']"
   ]
  },
  {
   "cell_type": "code",
   "execution_count": null,
   "id": "85c7b91c",
   "metadata": {},
   "outputs": [],
   "source": [
    "addresses"
   ]
  },
  {
   "cell_type": "markdown",
   "id": "8e86b738",
   "metadata": {},
   "source": [
    "Which is then a list of dictionaries, with keys which are strings or lists."
   ]
  },
  {
   "cell_type": "markdown",
   "id": "6ad6d645",
   "metadata": {},
   "source": [
    "We can go further, e.g.:"
   ]
  },
  {
   "cell_type": "code",
   "execution_count": null,
   "id": "2c484631",
   "metadata": {},
   "outputs": [],
   "source": [
    "UCL['Residential'] = False"
   ]
  },
  {
   "cell_type": "markdown",
   "id": "aadac7a3",
   "metadata": {},
   "source": [
    "And we can write code against our structures:"
   ]
  },
  {
   "cell_type": "code",
   "execution_count": null,
   "id": "60118e5e",
   "metadata": {},
   "outputs": [],
   "source": [
    "leaders = [place['people'][0] for place in addresses]\n",
    "leaders"
   ]
  },
  {
   "cell_type": "markdown",
   "id": "745ed6b8",
   "metadata": {},
   "source": [
    "This was an example of a 'list comprehension', which have used to get data of this structure, and which we'll see more of in a moment..."
   ]
  },
  {
   "cell_type": "markdown",
   "id": "48d54f23",
   "metadata": {},
   "source": [
    "### Exercise: a Maze Model."
   ]
  },
  {
   "cell_type": "markdown",
   "id": "76c2a503",
   "metadata": {},
   "source": [
    "Work with a partner to design a data structure to represent a maze using dictionaries and lists."
   ]
  },
  {
   "cell_type": "markdown",
   "id": "6a12daea",
   "metadata": {},
   "source": [
    "* Each place in the maze has a name, which is a string.\n",
    "* Each place in the maze has one or more people currently standing at it, by name.\n",
    "* Each place in the maze has a maximum capacity of people that can fit in it.\n",
    "* From each place in the maze, you can go from that place to a few other places, using a direction like 'up', 'north', \n",
    "or 'sideways'"
   ]
  },
  {
   "cell_type": "markdown",
   "id": "113d9f3f",
   "metadata": {},
   "source": [
    "Create an example instance, in a notebook, of a simple structure for your maze:"
   ]
  },
  {
   "cell_type": "markdown",
   "id": "95c63297",
   "metadata": {},
   "source": [
    "* The front room can hold 2 people. Graham is currently there. You can go outside to the garden, or upstairs to the bedroom, or north to the kitchen.\n",
    "* From the kitchen, you can go south to the front room. It fits 1 person.\n",
    "* From the garden you can go inside to front room. It fits 3 people. David is currently there.\n",
    "* From the bedroom, you can go downstairs to the front room. You can also jump out of the window to the garden. It fits 2 people."
   ]
  },
  {
   "cell_type": "markdown",
   "id": "975a55ae",
   "metadata": {},
   "source": [
    "Make sure that your model:\n",
    "\n",
    "* Allows empty rooms\n",
    "* Allows you to jump out of the upstairs window, but not to fly back up.\n",
    "* Allows rooms which people can't fit in."
   ]
  },
  {
   "cell_type": "markdown",
   "id": "8306962a",
   "metadata": {},
   "source": [
    "myhouse = [ \"Your answer here\" ]"
   ]
  }
 ],
 "metadata": {
  "jekyll": {
   "display_name": "Structures"
  },
  "jupytext": {
   "main_language": "python",
   "notebook_metadata_filter": "-kernelspec,jupytext,jekyll"
  }
 },
 "nbformat": 4,
 "nbformat_minor": 5
}