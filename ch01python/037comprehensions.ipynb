{
 "cells": [
  {
   "cell_type": "markdown",
   "id": "226efe33",
   "metadata": {},
   "source": [
    "## Comprehensions"
   ]
  },
  {
   "cell_type": "markdown",
   "id": "25896323",
   "metadata": {},
   "source": [
    "### The list comprehension"
   ]
  },
  {
   "cell_type": "markdown",
   "id": "0798e7c2",
   "metadata": {},
   "source": [
    "If you write a for loop **inside** a pair of square brackets for a list, you magic up a list as defined.\n",
    "This can make for concise but hard to read code, so be careful."
   ]
  },
  {
   "cell_type": "code",
   "execution_count": null,
   "id": "95e31029",
   "metadata": {},
   "outputs": [],
   "source": [
    "[2 ** x for x in range(10)]"
   ]
  },
  {
   "cell_type": "markdown",
   "id": "c80865f1",
   "metadata": {},
   "source": [
    "Which is equivalent to the following code without using comprehensions:"
   ]
  },
  {
   "cell_type": "code",
   "execution_count": null,
   "id": "7a496335",
   "metadata": {},
   "outputs": [],
   "source": [
    "result = []\n",
    "for x in range(10):\n",
    "    result.append(2 ** x)\n",
    "    \n",
    "result"
   ]
  },
  {
   "cell_type": "markdown",
   "id": "9cdab1a2",
   "metadata": {},
   "source": [
    "You can do quite weird and cool things with comprehensions:"
   ]
  },
  {
   "cell_type": "code",
   "execution_count": null,
   "id": "e1b6701e",
   "metadata": {},
   "outputs": [],
   "source": [
    "[len(str(2 ** x)) for x in range(10)]"
   ]
  },
  {
   "cell_type": "markdown",
   "id": "0f20c3ac",
   "metadata": {},
   "source": [
    "### Selection in comprehensions"
   ]
  },
  {
   "cell_type": "markdown",
   "id": "4139a41b",
   "metadata": {},
   "source": [
    "You can write an `if` statement in comprehensions too: "
   ]
  },
  {
   "cell_type": "code",
   "execution_count": null,
   "id": "557e22dd",
   "metadata": {},
   "outputs": [],
   "source": [
    "[2 ** x for x in range(30) if x % 3 == 0]"
   ]
  },
  {
   "cell_type": "markdown",
   "id": "c76355b9",
   "metadata": {},
   "source": [
    "Consider the following, and make sure you understand why it works:"
   ]
  },
  {
   "cell_type": "code",
   "execution_count": null,
   "id": "5a27e09c",
   "metadata": {},
   "outputs": [],
   "source": [
    "\"\".join([letter for letter in \"Eric Idle\" \n",
    "         if letter.lower() not in 'aeiou'])"
   ]
  },
  {
   "cell_type": "markdown",
   "id": "f62961f0",
   "metadata": {},
   "source": [
    "### Comprehensions versus building lists with `append`:"
   ]
  },
  {
   "cell_type": "markdown",
   "id": "c14df394",
   "metadata": {},
   "source": [
    "This code:"
   ]
  },
  {
   "cell_type": "code",
   "execution_count": null,
   "id": "bf8be4bc",
   "metadata": {},
   "outputs": [],
   "source": [
    "result = []\n",
    "for x in range(30):\n",
    "    if x % 3 == 0:\n",
    "        result.append(2 ** x)\n",
    "result"
   ]
  },
  {
   "cell_type": "markdown",
   "id": "7a4c5a9a",
   "metadata": {},
   "source": [
    "Does the same as the comprehension above. The comprehension is generally considered more readable."
   ]
  },
  {
   "cell_type": "markdown",
   "id": "c2815629",
   "metadata": {},
   "source": [
    "Comprehensions are therefore an example of what we call 'syntactic sugar': they do not increase the capabilities of the language."
   ]
  },
  {
   "cell_type": "markdown",
   "id": "de164042",
   "metadata": {},
   "source": [
    "Instead, they make it possible to write the same thing in a more readable way. "
   ]
  },
  {
   "cell_type": "markdown",
   "id": "c9cccb40",
   "metadata": {},
   "source": [
    "Almost everything we learn from now on will be either syntactic sugar or interaction with something other than idealised memory, such as a storage device or the internet. Once you have variables, conditionality, and branching, your language can do anything. (And this can be proved.)"
   ]
  },
  {
   "cell_type": "markdown",
   "id": "14afd043",
   "metadata": {},
   "source": [
    "### Nested comprehensions"
   ]
  },
  {
   "cell_type": "markdown",
   "id": "12e01e21",
   "metadata": {},
   "source": [
    "If you write two `for` statements in a comprehension, you get a single array generated over all the pairs:"
   ]
  },
  {
   "cell_type": "code",
   "execution_count": null,
   "id": "501b39e8",
   "metadata": {},
   "outputs": [],
   "source": [
    "[x - y for x in range(4) for y in range(4)]"
   ]
  },
  {
   "cell_type": "markdown",
   "id": "07b60163",
   "metadata": {},
   "source": [
    "You can select on either, or on some combination:"
   ]
  },
  {
   "cell_type": "code",
   "execution_count": null,
   "id": "33799f2c",
   "metadata": {},
   "outputs": [],
   "source": [
    "[x - y for x in range(4) for y in range(4) if x >= y]"
   ]
  },
  {
   "cell_type": "markdown",
   "id": "3aeccfe4",
   "metadata": {},
   "source": [
    "If you want something more like a matrix, you need to do *two nested* comprehensions!"
   ]
  },
  {
   "cell_type": "code",
   "execution_count": null,
   "id": "3522cde5",
   "metadata": {},
   "outputs": [],
   "source": [
    "[[x - y for x in range(4)] for y in range(4)]"
   ]
  },
  {
   "cell_type": "markdown",
   "id": "28a1d3ad",
   "metadata": {},
   "source": [
    "Note the subtly different square brackets."
   ]
  },
  {
   "cell_type": "markdown",
   "id": "b39d30d8",
   "metadata": {},
   "source": [
    "Note that the list order for multiple or nested comprehensions can be confusing:"
   ]
  },
  {
   "cell_type": "code",
   "execution_count": null,
   "id": "7c743023",
   "metadata": {},
   "outputs": [],
   "source": [
    "[x+y for x in ['a', 'b', 'c'] for y in ['1', '2', '3']]"
   ]
  },
  {
   "cell_type": "code",
   "execution_count": null,
   "id": "69e261f6",
   "metadata": {},
   "outputs": [],
   "source": [
    "[[x+y for x in ['a', 'b', 'c']] for y in ['1', '2', '3']]"
   ]
  },
  {
   "cell_type": "markdown",
   "id": "2085b35b",
   "metadata": {},
   "source": [
    "### Dictionary Comprehensions"
   ]
  },
  {
   "cell_type": "markdown",
   "id": "5cce427c",
   "metadata": {},
   "source": [
    "You can automatically build dictionaries, by using a list comprehension syntax, but with curly brackets and a colon:"
   ]
  },
  {
   "cell_type": "code",
   "execution_count": null,
   "id": "76666290",
   "metadata": {},
   "outputs": [],
   "source": [
    "{(str(x)) * 3: x for x in range(3)}"
   ]
  },
  {
   "cell_type": "markdown",
   "id": "45772c71",
   "metadata": {},
   "source": [
    "### List-based thinking"
   ]
  },
  {
   "cell_type": "markdown",
   "id": "a3b219dc",
   "metadata": {},
   "source": [
    "Once you start to get comfortable with comprehensions, you find yourself working with containers, nested groups of lists \n",
    "and dictionaries, as the 'things' in your program, not individual variables. "
   ]
  },
  {
   "cell_type": "markdown",
   "id": "5036009e",
   "metadata": {},
   "source": [
    "Given a way to analyse some dataset, we'll find ourselves writing stuff like:\n",
    "\n",
    "    analysed_data = [analyze(datum) for datum in data]"
   ]
  },
  {
   "cell_type": "markdown",
   "id": "41e1d77c",
   "metadata": {},
   "source": [
    "There are lots of built-in methods that provide actions on lists as a whole:"
   ]
  },
  {
   "cell_type": "code",
   "execution_count": null,
   "id": "91e6d31b",
   "metadata": {},
   "outputs": [],
   "source": [
    "any([True, False, True])"
   ]
  },
  {
   "cell_type": "code",
   "execution_count": null,
   "id": "0a063a62",
   "metadata": {},
   "outputs": [],
   "source": [
    "all([True, False, True])"
   ]
  },
  {
   "cell_type": "code",
   "execution_count": null,
   "id": "f2a96ea1",
   "metadata": {},
   "outputs": [],
   "source": [
    "max([1, 2, 3])"
   ]
  },
  {
   "cell_type": "code",
   "execution_count": null,
   "id": "bd9f24ef",
   "metadata": {},
   "outputs": [],
   "source": [
    "sum([1, 2, 3])"
   ]
  },
  {
   "cell_type": "markdown",
   "id": "820b498c",
   "metadata": {},
   "source": [
    "My favourite is `map`, which, similar to a list comprehension, applies one function to every member of a list:"
   ]
  },
  {
   "cell_type": "code",
   "execution_count": null,
   "id": "85d651e6",
   "metadata": {},
   "outputs": [],
   "source": [
    "[str(x) for x in range(10)]"
   ]
  },
  {
   "cell_type": "code",
   "execution_count": null,
   "id": "6d1bdcfd",
   "metadata": {},
   "outputs": [],
   "source": [
    "list(map(str, range(10)))"
   ]
  },
  {
   "cell_type": "markdown",
   "id": "c1873139",
   "metadata": {},
   "source": [
    "So I can write:\n",
    "    \n",
    "    analysed_data = map(analyse, data)\n",
    "\n",
    "We'll learn more about `map` and similar functions when we discuss functional programming later in the course."
   ]
  },
  {
   "cell_type": "markdown",
   "id": "c70ef415",
   "metadata": {},
   "source": [
    "### Classroom Exercise: Occupancy Dictionary"
   ]
  },
  {
   "cell_type": "markdown",
   "id": "d43de977",
   "metadata": {},
   "source": [
    "Take your maze data structure. First write an expression to print out a new dictionary, which holds, for each room, that room's capacity. The output should look like:"
   ]
  },
  {
   "cell_type": "code",
   "execution_count": null,
   "id": "7bae7eea",
   "metadata": {},
   "outputs": [],
   "source": [
    "{'bedroom': 1, 'garden': 3, 'kitchen': 1, 'living': 2}"
   ]
  },
  {
   "cell_type": "markdown",
   "id": "c86f200f",
   "metadata": {},
   "source": [
    "Now, write a program to print out a new dictionary, which gives,\n",
    "for each room's name, the number of people in it. Don't add in a zero value in the dictionary for empty rooms."
   ]
  },
  {
   "cell_type": "markdown",
   "id": "c012f428",
   "metadata": {},
   "source": [
    "The output should look similar to:"
   ]
  },
  {
   "cell_type": "code",
   "execution_count": null,
   "id": "64b8bbc1",
   "metadata": {},
   "outputs": [],
   "source": [
    "{'garden': 1, 'living': 1}"
   ]
  }
 ],
 "metadata": {
  "jekyll": {
   "display_name": "Comprehensions"
  },
  "jupytext": {
   "main_language": "python",
   "notebook_metadata_filter": "-kernelspec,jupytext,jekyll"
  }
 },
 "nbformat": 4,
 "nbformat_minor": 5
}