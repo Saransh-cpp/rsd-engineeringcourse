{
 "cells": [
  {
   "cell_type": "markdown",
   "id": "1e6f77c8",
   "metadata": {},
   "source": [
    "# Refactoring Trees: An exercise in Research Software Engineering"
   ]
  },
  {
   "cell_type": "markdown",
   "id": "9241b439",
   "metadata": {},
   "source": [
    "In this exercise, you will convert badly written code, provided here, into better-written code."
   ]
  },
  {
   "cell_type": "markdown",
   "id": "eb8adf84",
   "metadata": {},
   "source": [
    "You will do this not through simply writing better code, but by taking a refactoring approach, as discussed in the lectures."
   ]
  },
  {
   "cell_type": "markdown",
   "id": "9698a1dc",
   "metadata": {},
   "source": [
    "As such, your use of `git` version control, to make a commit after each step of the refactoring, with a commit message which indicates the refactoring you took, will be critical to success.\n"
   ]
  },
  {
   "cell_type": "markdown",
   "id": "74fa092e",
   "metadata": {},
   "source": [
    "You will also be asked to look at the performance of your code, and to make changes which improve the speed of the code."
   ]
  },
  {
   "cell_type": "markdown",
   "id": "ed4752ef",
   "metadata": {},
   "source": [
    "The script as supplied has its parameters hand-coded within the code. You will be expected, in your refactoring, to make these available as command line parameters to be supplied when the code is invoked."
   ]
  },
  {
   "cell_type": "markdown",
   "id": "7be06ad0",
   "metadata": {},
   "source": [
    "# Some terrible code"
   ]
  },
  {
   "cell_type": "markdown",
   "id": "fcdb399a",
   "metadata": {},
   "source": [
    "Here's our terrible code:"
   ]
  },
  {
   "cell_type": "code",
   "execution_count": null,
   "id": "b69d8545",
   "metadata": {},
   "outputs": [],
   "source": [
    "%matplotlib inline"
   ]
  },
  {
   "cell_type": "code",
   "execution_count": null,
   "id": "b8bfaab4",
   "metadata": {},
   "outputs": [],
   "source": [
    "from math import sin, cos\n",
    "from matplotlib import pyplot as plt\n",
    "s=1\n",
    "d=[[0,1,0]]\n",
    "plt.plot([0,0],[0,1])\n",
    "for i in range(5):\n",
    "    n=[]\n",
    "    for j in range(len(d)):\n",
    "        n.append([d[j][0]+s*sin(d[j][2]-0.2), d[j][1]+s*cos(d[j][2]-0.2), d[j][2]-0.2])\n",
    "        n.append([d[j][0]+s*sin(d[j][2]+0.2), d[j][1]+s*cos(d[j][2]+0.2), d[j][2]+0.2])\n",
    "        plt.plot([d[j][0], n[-2][0]],[d[j][1], n[-2][1]])\n",
    "        plt.plot([d[j][0], n[-1][0]],[d[j][1], n[-1][1]])\n",
    "    d=n\n",
    "    s*=0.6\n",
    "plt.savefig('tree.png')"
   ]
  },
  {
   "cell_type": "markdown",
   "id": "7c362b9c",
   "metadata": {},
   "source": [
    "# Rubric and marks scheme\n",
    "\n",
    "## Part one: Refactoring (15 marks)\n"
   ]
  },
  {
   "cell_type": "markdown",
   "id": "f708c550",
   "metadata": {},
   "source": [
    "* Copy the code above into a file tree.py, invoke it with python tree.py, and verify it creates an image tree.png which looks like that above.\n",
    "* Initialise your git repository with the raw state of the code. [1 mark]\n",
    "* Identify a number of simple refactorings which can be used to improve the code, *reducing repetition* and *improving readability*. Implement these one by one, with a git commit each time.\n",
    "    * 1 mark for each refactoring, 1 mark for each git commit, at least five such: ten marks total.\n",
    "* Do NOT introduce NumPy or other performance improvements yet (see below.)"
   ]
  },
  {
   "cell_type": "markdown",
   "id": "87c6d8a5",
   "metadata": {},
   "source": [
    "* Identify which variables in the code would, more sensibly, be able to be input parameters, and use Argparse to manage these.\n",
    "   * 4 marks: 1 for each of four arguments identified."
   ]
  },
  {
   "cell_type": "markdown",
   "id": "6cd4d393",
   "metadata": {},
   "source": [
    "## Part two: performance programming (10 marks)"
   ]
  },
  {
   "cell_type": "markdown",
   "id": "73c26fcc",
   "metadata": {},
   "source": [
    "* For the code as refactored, prepare a figure which plots the time to produce the tree, versus number of iteration steps completed. Your code to produce this figure should run as a script, which you should call perf_plot.py, invoking a function imported from tree.py. The script should produce a figure called perf_plot.png. Comment on your findings in a text file, called comments.md. You should turn off the actual plotting, and run only the mathematical calculation, for your performance measurements. (Add an appropriate flag.)\n",
    "   * 5 marks: [1] Time to run code identified [1] Figure created [1] Figure correctly formatted [1] Figure auto-generated from script [1] Performance law identified."
   ]
  },
  {
   "cell_type": "markdown",
   "id": "f8f7cbf3",
   "metadata": {},
   "source": [
    "* The code above makes use of `append()` which is not appropriate for NumPy. Create a new solution (in a file called tree_np.py) which makes use of NumPy. Compare the performance (again, excluding the plotting from your measurements), and discuss in comments.md\n",
    "    * 5 marks: [1] NumPy solution uses array-operations to subtract the change angle from all angles in a single minus sign, [1] to take the sine of all angles using np.sin [1] to move on all the positions with a single vector displacement addition [1] Numpy solution uses `hstack` or similar to create new arrays with twice the length, by composing the left-turned array with the right-turned array [1] Performance comparison recorded"
   ]
  },
  {
   "cell_type": "markdown",
   "id": "ee4631ea",
   "metadata": {},
   "source": [
    "As with assignment one, to facilitate semi-automated marking, submit your code to moodle as a single Zip file (not .tgz, nor any other zip format), which unzips to produce files in a folder named with your **student number**."
   ]
  }
 ],
 "metadata": {
  "jupytext": {
   "main_language": "python",
   "notebook_metadata_filter": "-kernelspec,jupytext,jekyll"
  }
 },
 "nbformat": 4,
 "nbformat_minor": 5
}