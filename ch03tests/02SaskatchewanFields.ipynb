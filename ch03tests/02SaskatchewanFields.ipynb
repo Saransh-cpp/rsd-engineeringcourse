{
 "cells": [
  {
   "cell_type": "markdown",
   "id": "d56595c1",
   "metadata": {},
   "source": [
    "## How to Test"
   ]
  },
  {
   "cell_type": "markdown",
   "id": "94a61ad8",
   "metadata": {},
   "source": [
    "### Equivalence partitioning"
   ]
  },
  {
   "cell_type": "markdown",
   "id": "838e6ed4",
   "metadata": {},
   "source": [
    "Think hard about the different cases the code will run under: this is science, not coding!"
   ]
  },
  {
   "cell_type": "markdown",
   "id": "1b2d7e40",
   "metadata": {},
   "source": [
    "We can't write a test for every possible input: this is an infinite amount of work."
   ]
  },
  {
   "cell_type": "markdown",
   "id": "3a0f8466",
   "metadata": {},
   "source": [
    "We need to write tests to rule out different bugs. There's no need to separately test *equivalent* inputs. "
   ]
  },
  {
   "cell_type": "markdown",
   "id": "ded7dad5",
   "metadata": {},
   "source": [
    "Let's look at an example of this question outside of coding:"
   ]
  },
  {
   "cell_type": "markdown",
   "id": "76272c47",
   "metadata": {},
   "source": [
    "* Research Project : Evolution of agricultural fields in Saskatchewan from aerial photography\n",
    "* In silico translation  : Compute overlap of two rectangles"
   ]
  },
  {
   "cell_type": "code",
   "execution_count": null,
   "id": "0e2df375",
   "metadata": {},
   "outputs": [],
   "source": [
    "import matplotlib.pyplot as plt\n",
    "from matplotlib.path import Path\n",
    "import matplotlib.patches as patches\n",
    "%matplotlib inline"
   ]
  },
  {
   "cell_type": "markdown",
   "id": "72a6be79",
   "metadata": {},
   "source": [
    "Let's make a little fragment of matplotlib code to visualise a pair of fields."
   ]
  },
  {
   "cell_type": "code",
   "execution_count": null,
   "id": "a80bf79b",
   "metadata": {},
   "outputs": [],
   "source": [
    "def show_fields(field1, field2):\n",
    "    def vertices(left, bottom, right, top):\n",
    "        verts = [(left, bottom),\n",
    "                 (left, top),\n",
    "                 (right, top),\n",
    "                 (right, bottom),\n",
    "                 (left, bottom)]\n",
    "        return verts\n",
    "    \n",
    "    codes = [Path.MOVETO,\n",
    "             Path.LINETO,\n",
    "             Path.LINETO,\n",
    "             Path.LINETO,\n",
    "             Path.CLOSEPOLY]\n",
    "    path1 = Path(vertices(*field1), codes)\n",
    "    path2 = Path(vertices(*field2), codes)         \n",
    "    fig = plt.figure()\n",
    "    ax = fig.add_subplot(111)\n",
    "    patch1 = patches.PathPatch(path1, facecolor='orange', lw=2)\n",
    "    patch2 = patches.PathPatch(path2, facecolor='blue', lw=2)         \n",
    "    ax.add_patch(patch1)\n",
    "    ax.add_patch(patch2)       \n",
    "    ax.set_xlim(0,5)\n",
    "    ax.set_ylim(0,5)\n",
    "\n",
    "show_fields((1.,1.,4.,4.), (2.,2.,3.,3.))"
   ]
  },
  {
   "cell_type": "markdown",
   "id": "539388e6",
   "metadata": {},
   "source": [
    "Here, we can see that the area of overlap, is the same as the smaller field, with area 1."
   ]
  },
  {
   "cell_type": "markdown",
   "id": "950e7e6d",
   "metadata": {},
   "source": [
    "We could now go ahead and write a subroutine to calculate that, and also write some test cases for our answer."
   ]
  },
  {
   "cell_type": "markdown",
   "id": "5e65dd83",
   "metadata": {},
   "source": [
    "But first, let's just consider that question abstractly, what other cases, *not equivalent to this* might there be?"
   ]
  },
  {
   "cell_type": "markdown",
   "id": "0361203f",
   "metadata": {},
   "source": [
    "For example, this case, is still just a full overlap, and is sufficiently equivalent that it's not worth another test:"
   ]
  },
  {
   "cell_type": "code",
   "execution_count": null,
   "id": "c3fbfed9",
   "metadata": {},
   "outputs": [],
   "source": [
    "show_fields((1.,1.,4.,4.),(2.5,1.7,3.2,3.4))"
   ]
  },
  {
   "cell_type": "markdown",
   "id": "5136f9a7",
   "metadata": {},
   "source": [
    "But this case is no longer a full overlap, and should be tested separately:"
   ]
  },
  {
   "cell_type": "code",
   "execution_count": null,
   "id": "b4797554",
   "metadata": {},
   "outputs": [],
   "source": [
    "show_fields((1.,1.,4.,4.),(2.,2.,3.,4.5))"
   ]
  },
  {
   "cell_type": "markdown",
   "id": "d2d2f088",
   "metadata": {},
   "source": [
    "On a piece of paper, sketch now the other cases you think should be treated as non-equivalent. Some answers are below:"
   ]
  },
  {
   "cell_type": "code",
   "execution_count": null,
   "id": "b0ec593f",
   "metadata": {},
   "outputs": [],
   "source": [
    "for _ in range(10):\n",
    "    print(\"\\n\\n\\nSpoiler space\\n\\n\\n\")"
   ]
  },
  {
   "cell_type": "code",
   "execution_count": null,
   "id": "ef2e1fa4",
   "metadata": {},
   "outputs": [],
   "source": [
    "show_fields((1.,1.,4.,4.),(2,2,4.5,4.5)) # Overlap corner"
   ]
  },
  {
   "cell_type": "code",
   "execution_count": null,
   "id": "21f06be5",
   "metadata": {},
   "outputs": [],
   "source": [
    "show_fields((1.,1.,4.,4.),(2.,2.,3.,4.)) # Just touching"
   ]
  },
  {
   "cell_type": "code",
   "execution_count": null,
   "id": "9e35ec85",
   "metadata": {},
   "outputs": [],
   "source": [
    "show_fields((1.,1.,4.,4.),(4.5,4.5,5,5)) # No overlap"
   ]
  },
  {
   "cell_type": "code",
   "execution_count": null,
   "id": "243cac46",
   "metadata": {},
   "outputs": [],
   "source": [
    "show_fields((1.,1.,4.,4.),(2.5,4,3.5,4.5)) # Just touching from outside"
   ]
  },
  {
   "cell_type": "code",
   "execution_count": null,
   "id": "ad62a932",
   "metadata": {},
   "outputs": [],
   "source": [
    "show_fields((1.,1.,4.,4.),(4,4,4.5,4.5)) # Touching corner"
   ]
  },
  {
   "cell_type": "markdown",
   "id": "35917a1c",
   "metadata": {},
   "source": [
    "### Using our tests"
   ]
  },
  {
   "cell_type": "markdown",
   "id": "c1d389ab",
   "metadata": {},
   "source": [
    "OK, so how might our tests be useful?"
   ]
  },
  {
   "cell_type": "markdown",
   "id": "348236b7",
   "metadata": {},
   "source": [
    "Here's some code that **might** correctly calculate the area of overlap:"
   ]
  },
  {
   "cell_type": "code",
   "execution_count": null,
   "id": "8fc418c7",
   "metadata": {},
   "outputs": [],
   "source": [
    "def overlap(field1, field2):\n",
    "    left1, bottom1, top1, right1 = field1\n",
    "    left2, bottom2, top2, right2 = field2\n",
    "    overlap_left = max(left1, left2)\n",
    "    overlap_bottom = max(bottom1, bottom2)\n",
    "    overlap_right = min(right1, right2)\n",
    "    overlap_top = min(top1, top2)\n",
    "    overlap_height = (overlap_top-overlap_bottom)\n",
    "    overlap_width = (overlap_right-overlap_left)\n",
    "    return overlap_height * overlap_width"
   ]
  },
  {
   "cell_type": "markdown",
   "id": "10dde1dd",
   "metadata": {},
   "source": [
    "So how do we check our code?"
   ]
  },
  {
   "cell_type": "markdown",
   "id": "5d6b0f2f",
   "metadata": {},
   "source": [
    "The manual approach would be to look at some cases, and, once, run it and check:"
   ]
  },
  {
   "cell_type": "code",
   "execution_count": null,
   "id": "6014d96d",
   "metadata": {},
   "outputs": [],
   "source": [
    "overlap((1.,1.,4.,4.),(2.,2.,3.,3.))"
   ]
  },
  {
   "cell_type": "markdown",
   "id": "68954396",
   "metadata": {},
   "source": [
    "That looks OK."
   ]
  },
  {
   "cell_type": "markdown",
   "id": "e9b61ade",
   "metadata": {},
   "source": [
    "But we can do better, we can write code which **raises an error** if it gets an unexpected answer:"
   ]
  },
  {
   "cell_type": "code",
   "execution_count": null,
   "id": "7cbfeded",
   "metadata": {},
   "outputs": [],
   "source": [
    "assert overlap((1.,1.,4.,4.),(2.,2.,3.,3.)) == 1.0"
   ]
  },
  {
   "cell_type": "code",
   "execution_count": null,
   "id": "26d31842",
   "metadata": {},
   "outputs": [],
   "source": [
    "assert overlap((1.,1.,4.,4.),(2.,2.,3.,4.5)) == 2.0 "
   ]
  },
  {
   "cell_type": "code",
   "execution_count": null,
   "id": "6d747052",
   "metadata": {},
   "outputs": [],
   "source": [
    "assert overlap((1.,1.,4.,4.),(2.,2.,4.5,4.5)) == 4.0 "
   ]
  },
  {
   "cell_type": "code",
   "execution_count": null,
   "id": "dfe484ee",
   "metadata": {},
   "outputs": [],
   "source": [
    "assert overlap((1.,1.,4.,4.),(4.5,4.5,5,5)) == 0.0 "
   ]
  },
  {
   "cell_type": "code",
   "execution_count": null,
   "id": "faf7720b",
   "metadata": {},
   "outputs": [],
   "source": [
    "print(overlap((1.,1.,4.,4.),(4.5,4.5,5,5)))"
   ]
  },
  {
   "cell_type": "code",
   "execution_count": null,
   "id": "c56fbf71",
   "metadata": {},
   "outputs": [],
   "source": [
    "show_fields((1.,1.,4.,4.),(4.5,4.5,5,5))"
   ]
  },
  {
   "cell_type": "markdown",
   "id": "728868da",
   "metadata": {},
   "source": [
    "What? Why is this wrong?"
   ]
  },
  {
   "cell_type": "markdown",
   "id": "7e01c35f",
   "metadata": {},
   "source": [
    "In our calculation, we are actually getting:"
   ]
  },
  {
   "cell_type": "code",
   "execution_count": null,
   "id": "9c7d4e8a",
   "metadata": {},
   "outputs": [],
   "source": [
    "overlap_left = 4.5\n",
    "overlap_right = 4\n",
    "overlap_width = -0.5\n",
    "overlap_height = -0.5"
   ]
  },
  {
   "cell_type": "markdown",
   "id": "264e2686",
   "metadata": {},
   "source": [
    "Both width and height are negative, resulting in a positive area.\n",
    "The above code didn't take into account the non-overlap correctly."
   ]
  },
  {
   "cell_type": "markdown",
   "id": "52fb5956",
   "metadata": {},
   "source": [
    "It should be:\n",
    "    "
   ]
  },
  {
   "cell_type": "code",
   "execution_count": null,
   "id": "88d45009",
   "metadata": {},
   "outputs": [],
   "source": [
    "def overlap(field1, field2):\n",
    "    left1, bottom1, top1, right1 = field1\n",
    "    left2, bottom2, top2, right2 = field2\n",
    "    \n",
    "    overlap_left = max(left1, left2)\n",
    "    overlap_bottom = max(bottom1, bottom2)\n",
    "    overlap_right = min(right1, right2)\n",
    "    overlap_top = min(top1, top2)\n",
    "    \n",
    "    overlap_height = max(0, (overlap_top-overlap_bottom))\n",
    "    overlap_width = max(0, (overlap_right-overlap_left))\n",
    "    \n",
    "    return overlap_height*overlap_width"
   ]
  },
  {
   "cell_type": "code",
   "execution_count": null,
   "id": "8dc5f843",
   "metadata": {},
   "outputs": [],
   "source": [
    "assert overlap((1,1,4,4), (2,2,3,3)) == 1.0\n",
    "assert overlap((1,1,4,4), (2,2,3,4.5)) == 2.0 \n",
    "assert overlap((1,1,4,4), (2,2,4.5,4.5)) == 4.0 \n",
    "assert overlap((1,1,4,4), (4.5,4.5,5,5)) == 0.0 \n",
    "assert overlap((1,1,4,4), (2.5,4,3.5,4.5)) == 0.0 \n",
    "assert overlap((1,1,4,4), (4,4,4.5,4.5)) == 0.0 "
   ]
  },
  {
   "cell_type": "markdown",
   "id": "7d7b7e4f",
   "metadata": {},
   "source": [
    "Note, we reran our other tests, to check our fix didn't break something else. (We call that \"fallout\")"
   ]
  },
  {
   "cell_type": "markdown",
   "id": "e1739527",
   "metadata": {},
   "source": [
    "### Boundary cases"
   ]
  },
  {
   "cell_type": "markdown",
   "id": "f4927ccf",
   "metadata": {},
   "source": [
    "\"Boundary cases\" are an important area to test:\n",
    "\n",
    "* Limit between two equivalence classes: edge and corner sharing fields\n",
    "* Wherever indices appear, check values at ``0``, ``N``, ``N+1``\n",
    "* Empty arrays:"
   ]
  },
  {
   "cell_type": "markdown",
   "id": "b7edf7f0",
   "metadata": {
    "attributes": {
     "classes": [
      " python"
     ],
     "id": ""
    }
   },
   "source": [
    "``` python\n",
    "    atoms = [read_input_atom(input_atom) for input_atom in input_file]\n",
    "    energy = force_field(atoms)\n",
    "```"
   ]
  },
  {
   "cell_type": "markdown",
   "id": "dd16e0da",
   "metadata": {},
   "source": [
    "* What happens if ``atoms`` is an empty list?\n",
    "* What happens when a matrix/data-frame reaches one row, or one column?"
   ]
  },
  {
   "cell_type": "markdown",
   "id": "c597cf9e",
   "metadata": {},
   "source": [
    "### Positive *and* negative tests\n",
    "\n",
    "* **Positive tests**: code should give correct answer with various inputs\n",
    "* **Negative tests**: code should crash as expected given invalid inputs, rather than lying\n",
    "\n",
    "<div align=\"left\">\n",
    "Bad input should be expected and should fail early and explicitly.\n",
    "\n",
    "<div class=\"fragment roll-in\">\n",
    "Testing should ensure that explicit failures do indeed happen."
   ]
  },
  {
   "cell_type": "markdown",
   "id": "f5bc872f",
   "metadata": {},
   "source": [
    "### Raising exceptions"
   ]
  },
  {
   "cell_type": "markdown",
   "id": "bb21d898",
   "metadata": {},
   "source": [
    "In Python, we can signal an error state by raising an error:"
   ]
  },
  {
   "cell_type": "code",
   "execution_count": null,
   "id": "0c432f19",
   "metadata": {
    "attributes": {
     "classes": [
      " python"
     ],
     "id": ""
    }
   },
   "outputs": [],
   "source": [
    "def I_only_accept_positive_numbers(number):\n",
    "    # Check input\n",
    "    if number < 0: \n",
    "        raise ValueError(\"Input {} is negative\".format(number))\n",
    "\n",
    "    # Do something"
   ]
  },
  {
   "cell_type": "code",
   "execution_count": null,
   "id": "a920eb23",
   "metadata": {},
   "outputs": [],
   "source": [
    "I_only_accept_positive_numbers(5)"
   ]
  },
  {
   "cell_type": "code",
   "execution_count": null,
   "id": "0564ff80",
   "metadata": {},
   "outputs": [],
   "source": [
    "I_only_accept_positive_numbers(-5)"
   ]
  },
  {
   "cell_type": "markdown",
   "id": "36fc3eb7",
   "metadata": {},
   "source": [
    "There are standard \"Exception\" types, like `ValueError` we can `raise`"
   ]
  },
  {
   "cell_type": "markdown",
   "id": "2b4c1613",
   "metadata": {},
   "source": [
    "We would like to be able to write tests like this:"
   ]
  },
  {
   "cell_type": "code",
   "execution_count": null,
   "id": "3f6814d6",
   "metadata": {},
   "outputs": [],
   "source": [
    "assert I_only_accept_positive_numbers(-5) == # Gives a value error"
   ]
  },
  {
   "cell_type": "markdown",
   "id": "60eac488",
   "metadata": {},
   "source": [
    "But to do that, we need to learn about more sophisticated testing tools, called \"test frameworks\"."
   ]
  }
 ],
 "metadata": {
  "jekyll": {
   "display_name": "The Fields of Saskatchewan"
  },
  "jupytext": {
   "main_language": "python",
   "notebook_metadata_filter": "-kernelspec,jupytext,jekyll"
  }
 },
 "nbformat": 4,
 "nbformat_minor": 5
}