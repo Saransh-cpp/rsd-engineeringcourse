{
 "cells": [
  {
   "cell_type": "markdown",
   "id": "1bbe0086",
   "metadata": {},
   "source": [
    "## Using a debugger\n",
    "\n",
    "### Stepping through the code\n",
    "\n",
    "Debuggers are programs that can be used to test other programs. They allow programmers to suspend execution of the target program and inspect variables at that point.\n",
    "\n",
    "* Mac - compiled languages:\n",
    "  [Xcode](https://developer.apple.com/library/archive/documentation/DeveloperTools/Conceptual/debugging_with_xcode/chapters/quickstart.html)\n",
    "* Windows - compiled languages:\n",
    "  [Visual Studio](http://msdn.microsoft.com/en-us/library/bb483011.aspx)\n",
    "* Linux: [DDD](https://www.gnu.org/software/ddd/)\n",
    "* all platforms: [eclipse](http://www.eclipse.org), [gdb](http://www.sourceware.org/gdb/) (DDD and\n",
    "  eclipse are GUIs for gdb), [dap](https://microsoft.github.io/debug-adapter-protocol/)\n",
    "* python: [spyder](https://www.spyder-ide.org/),\n",
    "  [pdb](https://docs.python.org/3/library/pdb.html).\n",
    "* R: [RStudio](http://www.rstudio.com/ide/docs/debugging/overview),\n",
    "  [debug](http://stat.ethz.ch/R-manual/R-devel/library/base/html/debug.html),\n",
    "  [browser](http://stat.ethz.ch/R-manual/R-devel/library/base/html/browser.html)."
   ]
  },
  {
   "cell_type": "markdown",
   "id": "38d3db1f",
   "metadata": {},
   "source": [
    "### Using the python debugger"
   ]
  },
  {
   "cell_type": "markdown",
   "id": "d7eea117",
   "metadata": {},
   "source": [
    "Unfortunately this doesn't work nicely in the notebook. But from the command line, you can run a python program with:"
   ]
  },
  {
   "cell_type": "markdown",
   "id": "dcccb08d",
   "metadata": {},
   "source": [
    "``` bash\n",
    "python -m pdb my_program.py\n",
    "```"
   ]
  },
  {
   "cell_type": "markdown",
   "id": "a7fd1292",
   "metadata": {},
   "source": [
    "### Basic navigation:\n",
    "\n",
    "Basic command to navigate the code and the python debugger:\n",
    "\n",
    "* `help`: prints the help\n",
    "* `help n`: prints help about command `n`\n",
    "* `n`(ext): executes one line of code. Executes and steps **over** functions.\n",
    "* `s`(tep): step into current function in line of code\n",
    "* `l`(ist): list program around current position\n",
    "* `w`(where): prints current stack (where we are in code)\n",
    "* `[enter]`: repeats last command\n",
    "* `anypythonvariable`: print the value of that variable\n",
    "\n",
    "The python debugger is **a python shell**: it can print and compute values, and even change the values\n",
    "of the variables at that point in the program.\n",
    "\n",
    "### Breakpoints\n",
    "\n",
    "Break points tell debugger where and when to stop\n",
    "We say\n",
    "* `b somefunctionname`  "
   ]
  },
  {
   "cell_type": "code",
   "execution_count": null,
   "id": "25b07a25",
   "metadata": {},
   "outputs": [],
   "source": [
    "%%writefile solutions/diffusionmodel/energy_example.py\n",
    "from diffusion_model import energy\n",
    "print(energy([5, 6, 7, 8, 0, 1]))"
   ]
  },
  {
   "cell_type": "markdown",
   "id": "a1daccf7",
   "metadata": {},
   "source": [
    "The debugger is, of course, most used interactively, but here I'm showing a prewritten debugger script:"
   ]
  },
  {
   "cell_type": "code",
   "execution_count": null,
   "id": "66a067cf",
   "metadata": {},
   "outputs": [],
   "source": [
    "%%writefile commands\n",
    "restart  # restart session\n",
    "n\n",
    "b energy # program will stop when entering energy\n",
    "c        # continue program until break point is reached\n",
    "print(density) # We are now \"inside\" the energy function and can print any variable."
   ]
  },
  {
   "cell_type": "code",
   "execution_count": null,
   "id": "202b3ee3",
   "metadata": {},
   "outputs": [],
   "source": [
    "%%bash\n",
    "python -m pdb solutions/diffusionmodel/energy_example.py < commands\n"
   ]
  },
  {
   "cell_type": "markdown",
   "id": "782142fa",
   "metadata": {},
   "source": [
    "Alternatively, break-points can be set on files: `b file.py:20` will stop on line 20 of `file.py`."
   ]
  },
  {
   "cell_type": "markdown",
   "id": "863dc3ab",
   "metadata": {},
   "source": [
    "### Post-mortem\n",
    "\n",
    "Debugging when something goes wrong:\n",
    "\n",
    "1. Have a crash somewhere in the code\n",
    "1. run `python -m pdb file.py` or run the cell with `%pdb on`\n",
    "\n",
    "The program should stop where the exception was raised\n",
    "\n",
    "1. use `w` and `l` for position in code and in call stack\n",
    "1. use `up` and `down` to navigate up and down the call stack\n",
    "1. inspect variables along the way to understand failure"
   ]
  },
  {
   "cell_type": "markdown",
   "id": "4611c1af",
   "metadata": {},
   "source": [
    "This **does** work in the notebook."
   ]
  },
  {
   "cell_type": "markdown",
   "id": "1404205f",
   "metadata": {},
   "source": [
    "```\n",
    "%pdb on\n",
    "from diffusion.model import energy\n",
    "partial_derivative(energy,[5,6,7,8,0,1],5)\n",
    "```"
   ]
  }
 ],
 "metadata": {
  "jekyll": {
   "display_name": "Debugger"
  },
  "jupytext": {
   "main_language": "python",
   "notebook_metadata_filter": "-kernelspec,jupytext,jekyll"
  }
 },
 "nbformat": 4,
 "nbformat_minor": 5
}