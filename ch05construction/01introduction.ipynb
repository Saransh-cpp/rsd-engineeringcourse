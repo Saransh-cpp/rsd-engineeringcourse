{
 "cells": [
  {
   "cell_type": "markdown",
   "id": "a3aaa206",
   "metadata": {},
   "source": [
    "# Construction"
   ]
  },
  {
   "cell_type": "markdown",
   "id": "d28f28f9",
   "metadata": {},
   "source": [
    "## Construction"
   ]
  },
  {
   "cell_type": "markdown",
   "id": "8d21f316",
   "metadata": {},
   "source": [
    "\n",
    "Software *design* gets a lot of press (Object orientation, UML, design patterns).\n",
    "\n",
    "In this session we're going to look at advice on software *construction*.\n"
   ]
  },
  {
   "cell_type": "markdown",
   "id": "73831f29",
   "metadata": {},
   "source": [
    "### Construction vs Design"
   ]
  },
  {
   "cell_type": "markdown",
   "id": "87e16273",
   "metadata": {},
   "source": [
    "\n",
    "For a given piece of code, there exist several different ways one could write it:\n",
    "\n",
    "* Choice of variable names\n",
    "* Choice of comments\n",
    "* Choice of layout\n",
    "\n",
    "The consideration of these questions is the area of Software Construction.\n"
   ]
  },
  {
   "cell_type": "markdown",
   "id": "9007fef0",
   "metadata": {},
   "source": [
    "### Low-level design decisions"
   ]
  },
  {
   "cell_type": "markdown",
   "id": "36046f92",
   "metadata": {},
   "source": [
    "\n",
    "We will also look at some of the lower-level software design decisions in the context of this section:\n",
    "\n",
    "* Division of code into subroutines\n",
    "* Subroutine access signatures\n",
    "* Choice of data structures for readability\n"
   ]
  },
  {
   "cell_type": "markdown",
   "id": "64eeb01b",
   "metadata": {},
   "source": [
    "### Algorithms and structures"
   ]
  },
  {
   "cell_type": "markdown",
   "id": "5aaf4de7",
   "metadata": {},
   "source": [
    "\n",
    "We will not, in discussing construction, be looking at decisions as to how design questions impact performance:\n",
    "\n",
    "* Choice of algorithms\n",
    "* Choice of data structures for performance\n",
    "* Choice of memory layout\n",
    "\n",
    "We will consider these in a future discussion of performance programming.\n"
   ]
  },
  {
   "cell_type": "markdown",
   "id": "ea409151",
   "metadata": {},
   "source": [
    "### Architectural design"
   ]
  },
  {
   "cell_type": "markdown",
   "id": "168c0fdd",
   "metadata": {},
   "source": [
    "\n",
    "We will not, in this session, be looking at the large-scale questions of how program components interact,\n",
    "the stategic choices that govern how software behaves at the large scale:\n",
    "\n",
    "* Where do objects get made?\n",
    "* Which objects own or access other objects?\n",
    "* How can I hide complexity in one part of the code from other parts of the code?\n",
    "\n",
    "We will consider these in a future session.\n"
   ]
  },
  {
   "cell_type": "markdown",
   "id": "27bb94c6",
   "metadata": {},
   "source": [
    "### Construction"
   ]
  },
  {
   "cell_type": "markdown",
   "id": "1e58ac08",
   "metadata": {},
   "source": [
    "\n",
    "So, we've excluded most of the exciting topics. What's left is the bricks and mortar of software:\n",
    "how letters and symbols are used to build code which is readable.\n"
   ]
  },
  {
   "cell_type": "markdown",
   "id": "7d8d74c3",
   "metadata": {},
   "source": [
    "### Literate programming"
   ]
  },
  {
   "cell_type": "markdown",
   "id": "703f0374",
   "metadata": {},
   "source": [
    "\n",
    "In literature, books are enjoyable for different reasons:\n",
    "\n",
    "* The beauty of stories\n",
    "* The beauty of plots\n",
    "* The beauty of characters\n",
    "* The beauty of paragraphs\n",
    "* The beauty of sentences\n",
    "* The beauty of words\n",
    "\n",
    "Software has beauty at these levels too: stories and characters correspond to architecture and object design,\n",
    "plots corresponds to algorithms, but the rhythm of sentences and the choice of words corresponds\n",
    "to software construction.\n"
   ]
  },
  {
   "cell_type": "markdown",
   "id": "551d92f5",
   "metadata": {},
   "source": [
    "### Programming for humans"
   ]
  },
  {
   "cell_type": "markdown",
   "id": "a58a76eb",
   "metadata": {},
   "source": [
    "\n",
    "* Remember you're programming for humans as well as computers\n",
    "* A program is the best, most rigorous way to describe an algorithm\n",
    "* Code should be pleasant to read, a form of scholarly communication\n",
    "\n",
    "Read Steve McConnell's [Code Complete](https://en.wikipedia.org/wiki/Code_Complete) [[UCL library](https://ucl-new-primo.hosted.exlibrisgroup.com/primo-explore/fulldisplay?docid=UCL_LMS_DS21156385750004761&context=L)].\n",
    "\n",
    "\n",
    "\n",
    "\n"
   ]
  },
  {
   "cell_type": "markdown",
   "id": "52581983",
   "metadata": {},
   "source": [
    "### Setup"
   ]
  },
  {
   "cell_type": "markdown",
   "id": "21c6110f",
   "metadata": {},
   "source": [
    "This notebook is based on a number of fragments of code, with an implicit context.\n",
    "We've made a library to set up the context so the examples work."
   ]
  },
  {
   "cell_type": "code",
   "execution_count": null,
   "id": "450e9bfb",
   "metadata": {},
   "outputs": [],
   "source": [
    "%%writefile context.py\n",
    "from unittest.mock import Mock, MagicMock\n",
    "class CompMock(Mock):\n",
    "    def __sub__(self, b):\n",
    "        return CompMock()\n",
    "    def __lt__(self,b):\n",
    "        return True\n",
    "    def __abs__(self):\n",
    "        return CompMock()\n",
    "array=[]\n",
    "agt=[]\n",
    "ws=[]\n",
    "agents=[]\n",
    "counter=0\n",
    "x=MagicMock()\n",
    "y=None\n",
    "agent=MagicMock()\n",
    "value=0\n",
    "bird_types=[\"Starling\", \"Hawk\"]\n",
    "import numpy as np\n",
    "average=np.mean\n",
    "hawk=CompMock()\n",
    "starling=CompMock()\n",
    "sEntry=\"2.0\"\n",
    "entry =\"2.0\"\n",
    "iOffset=1\n",
    "offset =1\n",
    "anothervariable=1\n",
    "flag1=True\n",
    "variable=1\n",
    "flag2=False\n",
    "def do_something(): pass\n",
    "chromosome=None\n",
    "start_codon=None\n",
    "subsequence=MagicMock()\n",
    "transcribe=MagicMock()\n",
    "ribe=MagicMock()\n",
    "find=MagicMock()\n",
    "can_see=MagicMock()\n",
    "my_name=\"\"\n",
    "your_name=\"\"\n",
    "flag1=False\n",
    "flag2=False\n",
    "start=0.0\n",
    "end=1.0\n",
    "step=0.1\n",
    "birds=[MagicMock()]*2\n",
    "resolution=100\n",
    "pi=3.141\n",
    "result= [0]*resolution\n",
    "import numpy as np\n",
    "import math\n",
    "data= [math.sin(y) for y in np.arange(0,pi,pi/resolution)]\n",
    "import yaml\n",
    "import os"
   ]
  }
 ],
 "metadata": {
  "jekyll": {
   "display_name": "Construction"
  },
  "jupytext": {
   "main_language": "python",
   "notebook_metadata_filter": "-kernelspec,jupytext,jekyll"
  }
 },
 "nbformat": 4,
 "nbformat_minor": 5
}