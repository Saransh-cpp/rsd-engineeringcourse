{
 "cells": [
  {
   "cell_type": "markdown",
   "id": "e4a5c548",
   "metadata": {},
   "source": [
    "## Patterns"
   ]
  },
  {
   "cell_type": "markdown",
   "id": "382176d8",
   "metadata": {},
   "source": [
    "### Class Complexity\n",
    "\n",
    "\n",
    "We've seen that using object orientation can produce quite complex class structures, with classes owning each other, instantiating each other,\n",
    "and inheriting from each other.\n",
    "\n",
    "There are lots of different ways to design things, and decisions to make.\n",
    "\n",
    "> - How much flexibility should I allow in this class's inner workings?\n",
    "> - Should I split this related functionality into multiple classes or keep it in one?\n",
    "> - To reuse functionality: should I use inheritance, or add class variable which it is delegated to?"
   ]
  },
  {
   "cell_type": "markdown",
   "id": "19ec1248",
   "metadata": {},
   "source": [
    "#### Inheritance vs composition\n",
    "\n",
    "The last point is known as `is-a` vs `has-a` or inheritance vs composition.\n",
    "\n",
    "Both options allow us to define a way for classes to collaborate while also having a single responsibility.\n",
    "As a rule of thumb, we suggest choosing composition over inheritance unless you have a strong reason.\n",
    "As we go into below, composition introduces fewer dependencies and assumptions about how your code will be used in the future.\n",
    "\n",
    "**Inheritance** *(is-a)*:\n",
    "\n",
    "- Used if you want to have the same functionality across multiple instances\n",
    "- Abstracting commonly used methods or data, so all children can use the generic functionality\n",
    "    - This has a drawback because we make large assumptions about how the code will be used in the future,\n",
    "      which is often hard or impossible to do the first time\n",
    "- If we find a bug in the functionality, this can be fixed in one place\n",
    "    - This is good because one change can be cascaded\n",
    "    - This can be bad because every subclass relies on its parent and changing one may need us to change the other\n",
    "      (known as tight coupling)\n",
    "\n",
    "\n",
    "**Composition** *(has-a)*:\n",
    "\n",
    "- Create separate classes (component) which carry out the shared functionality.\n",
    "- Instead of inheriting a method, instantiate the class with the components as class variables,\n",
    "  when that functionality is required then we call that method on from the component.\n",
    "- Unlike inheritance, you can design each component's interface independently\n",
    "  so that it knows how to interact with other parts of your code\n",
    "- Potential to have some code duplication\n",
    "    - Doesn't have the problem of side effects cascading when you alter one component.\n",
    "\n",
    "We've linked to an article which carries out a deep dive on this topic in the [other resources section](#Other-resources)"
   ]
  },
  {
   "cell_type": "markdown",
   "id": "222048d6",
   "metadata": {},
   "source": [
    "### Design Patterns"
   ]
  },
  {
   "cell_type": "markdown",
   "id": "80ede812",
   "metadata": {},
   "source": [
    "\n",
    "Programmers have noticed that there are certain ways of arranging classes that work better than others.\n",
    "\n",
    "These are called \"design patterns\".\n",
    "\n",
    "They were first collected on one of the [world's first Wikis](http://c2.com/cgi/wiki?WelcomeVisitors), \n",
    "as the [Portland Pattern Repository](http://c2.com/cgi-bin/wiki?PatternIndex).\n"
   ]
  },
  {
   "cell_type": "markdown",
   "id": "e3644a3d",
   "metadata": {},
   "source": [
    "### Reading a pattern"
   ]
  },
  {
   "cell_type": "markdown",
   "id": "74743869",
   "metadata": {},
   "source": [
    "\n",
    "A description of a pattern in a book such as the [Gang Of Four](https://www.worldcat.org/title/design-patterns-elements-of-reusable-object-oriented-software/oclc/31171684)\n",
    "book ([UCL Library](https://ucl-new-primo.hosted.exlibrisgroup.com/primo-explore/fulldisplay?docid=UCL_LMS_DS21146030410004761&context=L&vid=UCL_VU2&search_scope=CSCOP_UCL&tab=local&lang=en_US)) usually includes:\n",
    "\n",
    "* **Intent** - what's the purpose\n",
    "* **Motivation** - why you want to use it\n",
    "* **Applicability** - when do you want to use it\n",
    "* **Structure** - what does it look like (e.g., UML diagram)\n",
    "* **Participants** - What are the different classes in it\n",
    "* **Collaborations** - how they work together\n",
    "* **Consequences** - What are the results and trade-offs\n",
    "* **Implementation** - How is it implemented\n",
    "* **Sample Code** - In practice.\n"
   ]
  },
  {
   "cell_type": "markdown",
   "id": "9508b12f",
   "metadata": {},
   "source": [
    "### Introducing Some Patterns"
   ]
  },
  {
   "cell_type": "markdown",
   "id": "1f644876",
   "metadata": {},
   "source": [
    "\n",
    "There are lots and lots of design patterns, and it's a great literature to get into to\n",
    "read about design questions in programming and learn from other people's experience.\n",
    "\n",
    "We'll just show a few in this session:\n",
    "\n",
    "* [Strategy](#Strategy-Pattern)\n",
    "* [Factory Method](#Factory-Method)\n",
    "* [Builder](#Builder-Pattern)\n",
    "\n",
    "Some explanations won't click for some people even though we've tried.\n",
    "So if you're stuck on wrapping your head around a pattern,\n",
    "check out another explanation from the [other resources section](#Other-resources)"
   ]
  },
  {
   "cell_type": "markdown",
   "id": "dd04dbef",
   "metadata": {},
   "source": [
    "### Supporting code"
   ]
  },
  {
   "cell_type": "code",
   "execution_count": null,
   "id": "4ca113d1",
   "metadata": {
    "pycharm": {
     "name": "#%%\n"
    }
   },
   "outputs": [],
   "source": [
    "%matplotlib inline\n",
    "from unittest.mock import Mock\n",
    "\n",
    "from IPython.display import SVG\n",
    "\n",
    "def yuml(model):\n",
    "    result=requests.get(\"http://yuml.me/diagram/boring/class/\" + model)\n",
    "    return SVG(result.content)\n",
    "\n"
   ]
  },
  {
   "cell_type": "markdown",
   "id": "97e06773",
   "metadata": {},
   "source": [
    "## Strategy Pattern"
   ]
  },
  {
   "cell_type": "markdown",
   "id": "7db7e7c8",
   "metadata": {},
   "source": [
    "\n",
    "Define a family of algorithms, encapsulate each one\n",
    "(e.g. use composition, or a `has-a` relationship instead of inheritance), and make them interchangeable.\n",
    "Strategy lets the algorithm vary independently, without requiring any class that uses it to change.\n"
   ]
  },
  {
   "cell_type": "markdown",
   "id": "f62524ce",
   "metadata": {},
   "source": [
    "### Strategy pattern example: sunspots"
   ]
  },
  {
   "cell_type": "code",
   "execution_count": null,
   "id": "97ecad70",
   "metadata": {
    "pycharm": {
     "name": "#%%\n"
    }
   },
   "outputs": [],
   "source": [
    "import csv\n",
    "from datetime import datetime\n",
    "import math\n",
    "\n",
    "import matplotlib.pyplot as plt\n",
    "from numpy import linspace, log, sqrt, array, delete\n",
    "from numpy.fft import rfft,fft,fftfreq\n",
    "from scipy.interpolate import UnivariateSpline\n",
    "from scipy.signal import lombscargle\n",
    "import requests"
   ]
  },
  {
   "cell_type": "markdown",
   "id": "e181014d",
   "metadata": {},
   "source": [
    "Consider the sequence of sunspot observations:\n",
    "\n",
    "- We want to analyse the variation in sunspot activity\n",
    "- Sunspot activity is cyclical, we expect to find this cycle to be about 11 years\n",
    "- We can use the Fast Fourier Transform (FFT) to process the sunspot signal\n"
   ]
  },
  {
   "cell_type": "code",
   "execution_count": null,
   "id": "2f4df3bc",
   "metadata": {
    "pycharm": {
     "name": "#%%\n"
    }
   },
   "outputs": [],
   "source": [
    "def load_sunspots():\n",
    "    with open(\"SIDC-SUNSPOTS_A.csv\") as header:\n",
    "        data = csv.reader(header)\n",
    "\n",
    "        next(data) # Skip header row\n",
    "        # The numbers we want are in the 2nd column\n",
    "        return [float(row[1]) for row in data]"
   ]
  },
  {
   "cell_type": "code",
   "execution_count": null,
   "id": "a9a7df71",
   "metadata": {
    "lines_to_next_cell": 2,
    "pycharm": {
     "name": "#%%\n"
    }
   },
   "outputs": [],
   "source": [
    "spots = load_sunspots()\n",
    "plt.plot(spots)\n",
    "plt.title(\"Yearly mean sunspot number\")\n",
    "plt.xlabel(\"Years since 1700\")\n",
    "plt.ylabel(\"Sunspot number\")"
   ]
  },
  {
   "cell_type": "markdown",
   "id": "fe02351d",
   "metadata": {},
   "source": [
    "### Sunspot cycle has periodicity"
   ]
  },
  {
   "cell_type": "code",
   "execution_count": null,
   "id": "a347f821",
   "metadata": {
    "pycharm": {
     "name": "#%%\n"
    }
   },
   "outputs": [],
   "source": [
    "# Use Fast Fourier Transform\n",
    "spectrum = rfft(spots)\n",
    "\n",
    "# the first entry the sum of the data so let's remove it \n",
    "clean_spectrum = delete(spectrum, 0)\n",
    "\n",
    "plt.figure()\n",
    "plt.plot(abs(clean_spectrum.real))\n",
    "plt.title(\"Fourier Coefficients\")\n",
    "plt.xlabel(\"Real coefficients\")"
   ]
  },
  {
   "cell_type": "markdown",
   "id": "614a26dc",
   "metadata": {},
   "source": [
    "### Years are not constant length"
   ]
  },
  {
   "cell_type": "markdown",
   "id": "cc0c6f7e",
   "metadata": {},
   "source": [
    "After we've started out analysis we realise there's a potential problem with this analysis:\n",
    "\n",
    "* Years are not constant length\n",
    "* Leap years exist\n",
    "* But, the Fast Fourier Transform assumes evenly spaced intervals\n",
    "\n",
    "We could:\n",
    "\n",
    "* Ignore this problem, and assume the effect is small;\n",
    "* Interpolate and resample to even times;\n",
    "* Use a method which is robust to unevenly sampled series, such as [LSSA](https://en.wikipedia.org/wiki/Least-squares_spectral_analysis);\n",
    "\n",
    "We also want to find the period of the strongest periodic signal in the data, there are\n",
    "various different methods we could use for this also, such as integrating the fourier series\n",
    "by quadrature to find the mean frequency, or choosing the largest single value."
   ]
  },
  {
   "cell_type": "markdown",
   "id": "dadeb0a4",
   "metadata": {},
   "source": [
    "### Number of child-classes can increase quickly"
   ]
  },
  {
   "cell_type": "markdown",
   "id": "d71fb315",
   "metadata": {},
   "source": [
    "We could implement a base class for our common code between the different approaches,\n",
    "and define derived classes for each different algorithmic approach. However, this has drawbacks:\n",
    "\n",
    "* The constructors for each derived class will need arguments for all the numerical method's control parameters,\n",
    "such as the degree of spline for the interpolation method, the order of quadrature for integrators, and so on.\n",
    "* Where we have multiple algorithmic choices to make (interpolator, periodogram, peak finder...) the number\n",
    "of derived classes would explode: `class SunspotAnalyzerSplineFFTTrapeziumNearMode` is a bit unwieldy.\n",
    "* The algorithmic choices are not then available for other projects (so we may have to reinvent the wheel next time)\n",
    "* This design doesn't fit with a clean Ontology of \"kinds of things\": there's no Abstract Base for spectrogram generators..."
   ]
  },
  {
   "cell_type": "markdown",
   "id": "bbf5cf16",
   "metadata": {},
   "source": [
    "### Apply the strategy pattern:"
   ]
  },
  {
   "cell_type": "markdown",
   "id": "b87e9497",
   "metadata": {},
   "source": [
    "* We implement each algorithm for generating a spectrum as its own Strategy class.\n",
    "* They all implement a common interface\n",
    "* Arguments to strategy constructor specify parameters of algorithms, such as spline degree\n",
    "* One strategy instance for each algorithm is passed to the constructor for the overall analysis"
   ]
  },
  {
   "cell_type": "markdown",
   "id": "3bfe6c23",
   "metadata": {},
   "source": [
    "First, we'll define a helper class for our time series."
   ]
  },
  {
   "cell_type": "code",
   "execution_count": null,
   "id": "1e348e8c",
   "metadata": {
    "pycharm": {
     "name": "#%%\n"
    }
   },
   "outputs": [],
   "source": [
    "class Series:\n",
    "    \"\"\"Enhance NumPy N-d array with some helper functions for clarity\"\"\"\n",
    "    def __init__(self, data):\n",
    "        self.data = array(data)\n",
    "        self.count = self.data.shape[0]\n",
    "        self.start = self.data[0, 0]\n",
    "        self.end = self.data[-1, 0]\n",
    "        self.range = self.end - self.start\n",
    "        self.step = self.range / self.count\n",
    "        # create separate arrays as some algorithms require an array\n",
    "        # as an argument and will throw an exception \n",
    "        # if a view of an array is passed as an argument\n",
    "        self.times = self.data[:, 0].copy()\n",
    "        self.values = self.data[:, 1].copy()\n",
    "        self.plot_data = [self.times, self.values]\n",
    "        self.inverse_plot_data = [1 / self.times[20:], self.values[20:]]"
   ]
  },
  {
   "cell_type": "markdown",
   "id": "c3c13a40",
   "metadata": {},
   "source": [
    "Then, our analysis class which contains all methods *except* the numerical methods"
   ]
  },
  {
   "cell_type": "code",
   "execution_count": null,
   "id": "bfe7f1db",
   "metadata": {
    "pycharm": {
     "name": "#%%\n"
    }
   },
   "outputs": [],
   "source": [
    "class SunspotDataAnalyser(object):\n",
    "    def __init__(self, frequency_strategy):\n",
    "        self.secs_per_year = (\n",
    "                             datetime(2014, 1, 1) - datetime(2013, 1, 1)\n",
    "                     ).total_seconds()\n",
    "        self.load_data()\n",
    "        self.frequency_strategy = frequency_strategy\n",
    "\n",
    "    def format_date(self, date):\n",
    "        date_format=\"%Y-%m-%d\"\n",
    "        return datetime.strptime(date, date_format)\n",
    "\n",
    "    def date_to_years(self, date_string):\n",
    "        return (self.format_date(date_string) - self.start_date\n",
    "                ).total_seconds() / self.secs_per_year\n",
    "\n",
    "    def load_data(self):\n",
    "        start_date_str = '1700-12-31'\n",
    "        self.start_date = self.format_date(start_date_str)\n",
    "\n",
    "\n",
    "        with open(\"SIDC-SUNSPOTS_A.csv\") as header:\n",
    "            data = csv.reader(header)\n",
    "\n",
    "            next(data) # Skip header row\n",
    "            self.series = Series([[\n",
    "                self.date_to_years(row[0]), float(row[1])]\n",
    "                for row in data])\n",
    "\n",
    "    def frequency_data(self):\n",
    "        return self.frequency_strategy.transform(self.series)"
   ]
  },
  {
   "cell_type": "markdown",
   "id": "b740e765",
   "metadata": {},
   "source": [
    "Here is our existing simple fourier method, implemented as a strategy"
   ]
  },
  {
   "cell_type": "code",
   "execution_count": null,
   "id": "d0041253",
   "metadata": {
    "pycharm": {
     "name": "#%%\n"
    }
   },
   "outputs": [],
   "source": [
    "class FourierNearestFrequencyStrategy:\n",
    "    def transform(self, series):\n",
    "        transformed = fft(series.values)[0:series.count//2]\n",
    "        frequencies = fftfreq(series.count, series.step\n",
    "                              )[0:series.count//2]\n",
    "        return Series(list(\n",
    "            zip(frequencies, abs(transformed)/series.count))\n",
    "        )"
   ]
  },
  {
   "cell_type": "markdown",
   "id": "9a61ab07",
   "metadata": {},
   "source": [
    "A strategy based on interpolation to a spline"
   ]
  },
  {
   "cell_type": "code",
   "execution_count": null,
   "id": "2454e139",
   "metadata": {
    "pycharm": {
     "name": "#%%\n"
    }
   },
   "outputs": [],
   "source": [
    "class FourierSplineFrequencyStrategy:\n",
    "    def next_power_of_two(self, value):\n",
    "        \"\"\"Return the next power of 2 above value\"\"\"\n",
    "        return 2**(1 + int(log(value) / log(2)))\n",
    "\n",
    "    def transform(self, series):\n",
    "        spline = UnivariateSpline(series.times, series.values)\n",
    "        # Linspace will give us *evenly* spaced points in the series\n",
    "        fft_count = self.next_power_of_two(series.count)\n",
    "        points = linspace(series.start,series.end,fft_count)\n",
    "        regular_xs = [spline(point) for point in points]\n",
    "        transformed = fft(regular_xs)[0:fft_count//2]\n",
    "        frequencies = fftfreq(fft_count,\n",
    "                              series.range/fft_count)[0:fft_count//2]\n",
    "        return Series(list(zip(frequencies, abs(transformed)/fft_count)))"
   ]
  },
  {
   "cell_type": "markdown",
   "id": "a14287e1",
   "metadata": {},
   "source": [
    "A strategy using the Lomb-Scargle Periodogram"
   ]
  },
  {
   "cell_type": "code",
   "execution_count": null,
   "id": "641dd9d6",
   "metadata": {
    "pycharm": {
     "name": "#%%\n"
    }
   },
   "outputs": [],
   "source": [
    "class LombFrequencyStrategy:\n",
    "    def transform(self, series):\n",
    "        frequencies = array(linspace(1.0 / series.range,\n",
    "                                     0.5 / series.step,\n",
    "                                     series.count))\n",
    "        result = lombscargle(series.times,\n",
    "                             series.values,\n",
    "                             2.0 * math.pi * frequencies)\n",
    "        return Series(list(\n",
    "            zip(frequencies, sqrt(result / series.count)))\n",
    "        )"
   ]
  },
  {
   "cell_type": "markdown",
   "id": "21e837bd",
   "metadata": {},
   "source": [
    "Define our concrete solutions with particular strategies,\n",
    "now it's more straightforward to interchange which numerical method we want the object to use."
   ]
  },
  {
   "cell_type": "code",
   "execution_count": null,
   "id": "6bbcd342",
   "metadata": {
    "pycharm": {
     "name": "#%%\n"
    }
   },
   "outputs": [],
   "source": [
    "fourier_model = SunspotDataAnalyser(FourierSplineFrequencyStrategy())\n",
    "lomb_model = SunspotDataAnalyser(LombFrequencyStrategy())\n",
    "nearest_model = SunspotDataAnalyser(FourierNearestFrequencyStrategy())"
   ]
  },
  {
   "cell_type": "markdown",
   "id": "622c6a3b",
   "metadata": {},
   "source": [
    "Use these new tools to compare solutions"
   ]
  },
  {
   "cell_type": "code",
   "execution_count": null,
   "id": "bd654cd8",
   "metadata": {
    "pycharm": {
     "name": "#%%\n"
    }
   },
   "outputs": [],
   "source": [
    "comparison = fourier_model.frequency_data().inverse_plot_data + ['r']\n",
    "comparison += lomb_model.frequency_data().inverse_plot_data + ['g']\n",
    "comparison += nearest_model.frequency_data().inverse_plot_data + ['b']"
   ]
  },
  {
   "cell_type": "code",
   "execution_count": null,
   "id": "31e6adcb",
   "metadata": {
    "pycharm": {
     "name": "#%%\n"
    }
   },
   "outputs": [],
   "source": [
    "plt.plot(*comparison)\n",
    "plt.xlim(0, 20)\n",
    "plt.title(\"Cycle length\")\n",
    "plt.xlabel(\"Years per cycle\")\n",
    "plt.ylabel(\"Power\")"
   ]
  },
  {
   "cell_type": "markdown",
   "id": "e96b5866",
   "metadata": {},
   "source": [
    "Here we get the expected cycle length of around 11 years 🎉"
   ]
  },
  {
   "cell_type": "markdown",
   "id": "f030ffe1",
   "metadata": {},
   "source": [
    "## Factory Method"
   ]
  },
  {
   "cell_type": "markdown",
   "id": "faac724f",
   "metadata": {},
   "source": [
    "\n",
    "Here's what the Gang of Four Book says about Factory Method:\n",
    "\n",
    "**Intent**:  Define an interface for creating an object, but let subclasses decide which class to instantiate.\n",
    "Factory Method lets a class defer instantiation to subclasses.\n",
    "\n",
    "**Applicability**: Use the Factory method pattern when:\n",
    "\n",
    "* A class can't anticipate the class of objects it must create\n",
    "* A class wants its subclasses to specify the objects it creates"
   ]
  },
  {
   "cell_type": "markdown",
   "id": "0af92977",
   "metadata": {},
   "source": [
    "### Factory UML\n"
   ]
  },
  {
   "cell_type": "code",
   "execution_count": null,
   "id": "2768a997",
   "metadata": {
    "pycharm": {
     "name": "#%%\n"
    }
   },
   "outputs": [],
   "source": [
    "yuml(\"[Product]^-[ConcreteProduct], \"\n",
    "     \"[Creator| (v) FactoryMethod()]^-[ConcreteCreator| FactoryMethod()], \"\n",
    "     \"[ConcreteCreator]-.->[ConcreteProduct]\")"
   ]
  },
  {
   "cell_type": "markdown",
   "id": "15395055",
   "metadata": {},
   "source": [
    "This is all very abstract, so let's get a clearer idea of what that means with an example."
   ]
  },
  {
   "cell_type": "markdown",
   "id": "a9be774d",
   "metadata": {},
   "source": [
    "### Initial Example"
   ]
  },
  {
   "cell_type": "markdown",
   "id": "2bb3424b",
   "metadata": {},
   "source": [
    "We have created code that can analyse imaging data from different types of instrument.\n",
    "However we still want to be able to interact with the imaging data in the same way,\n",
    "independent of how each instrument stores its data.\n",
    "\n",
    "To do this we have created a `GenericImage` class which implements default methods for interacting\n",
    "with imaging data.\n",
    "\n"
   ]
  },
  {
   "cell_type": "code",
   "execution_count": null,
   "id": "e43c1416",
   "metadata": {
    "pycharm": {
     "name": "#%%\n"
    }
   },
   "outputs": [],
   "source": [
    "import matplotlib.pyplot as plt\n",
    "import matplotlib.colors as colors\n",
    "\n",
    "\n",
    "# Create some mocked helper functions so example runs\n",
    "ImageNormalize = Mock()\n",
    "source_stretch = Mock()\n",
    "Image = Mock()\n",
    "\n",
    "\n",
    "class GenericImage:\n",
    "    def __init__(self, data, header):\n",
    "        \"\"\"Read image and populate image metadata\"\"\"\n",
    "        self.data = data\n",
    "        ...\n",
    "\n",
    "    def text_summary(self):\n",
    "        \"\"\"Outputs table summary table of image metadata\"\"\"\n",
    "        return \"\\n\".join(f\"Instrument: {self.instrument}\",\n",
    "                         f\"Observation Date: {self.observation_date}\",\n",
    "                         f\"Scale: {self.scale}\",\n",
    "                         )\n",
    "\n",
    "    def plot(self):\n",
    "        \"\"\"Plot normalised and coloured image\"\"\"\n",
    "        normalised_data = self._pre_process()\n",
    "        colour_data = self._get_colour_image(normalised_data)\n",
    "        # plot the image data the image data\n",
    "        colour_data.plot()\n",
    "        plt.colorbar()\n",
    "        plt.show()\n",
    "\n",
    "    def _pre_process(self):\n",
    "        \"\"\"\n",
    "        Default preprocessing for an image.\n",
    "        This can be normalisation or conversion from raw data into a\n",
    "        2d image\n",
    "        \"\"\"\n",
    "        # image normaliser not shown here, but used as an example\n",
    "        normaliser = ImageNormalize(stretch=source_stretch(0.01), clip=False)\n",
    "        return normaliser.normalise(self.data)\n",
    "\n",
    "    def _get_colour_image(self, normalised_data):\n",
    "        \"\"\"\n",
    "        Converts image data into coloured image\n",
    "        based on colourmap for the instrument\n",
    "        \"\"\"\n",
    "        normalised_data.plot_settings['cmap'] = plt.get_cmap('inferno')\n",
    "        normalised_data.plot_settings['norm'] = colors.Normalize(\n",
    "            0, normalised_data.max())\n",
    "        return normalised_data"
   ]
  },
  {
   "cell_type": "markdown",
   "id": "5fde98f7",
   "metadata": {},
   "source": [
    "### Implemented classes\n",
    "\n",
    "Here are four example child classes that have implemented their own internal methods for normalising\n",
    "the image data and creating a coloured image. We can use these in exactly the same way as our\n",
    "GenericImage classes because of polymorphism, we're just using the same methods that exist in\n",
    "the parent class.\n"
   ]
  },
  {
   "cell_type": "code",
   "execution_count": null,
   "id": "ace82da5",
   "metadata": {
    "pycharm": {
     "name": "#%%\n"
    }
   },
   "outputs": [],
   "source": [
    "# Imaging for astronomical data\n",
    "\n",
    "\n",
    "class AIAImage(GenericImage):\n",
    "    \"\"\"Atmospheric Imaging Assembly image reader\"\"\"\n",
    "    def __init__(self, data, header):\n",
    "        super().__init__(data, header)\n",
    "        self.instrument = \"AIA\"\n",
    "        ...\n",
    "\n",
    "    def _pre_process(self):\n",
    "        # image normaliser not shown here, but used as an example\n",
    "        normaliser = ImageNormalize(stretch=source_stretch(0.01),\n",
    "                                    clip=False)\n",
    "        return normaliser.normalise(self.data)\n",
    "\n",
    "    def _get_colour_image(self, normalised_data):\n",
    "        normalised_data.plot_settings['cmap'] = plt.get_cmap('Greys_r')\n",
    "        normalised_data.plot_settings['norm'] = colors.LogNorm(\n",
    "            100, normalised_data.max())\n",
    "        return normalised_data\n",
    "\n",
    "\n",
    "class HIImage(GenericImage):\n",
    "        \"\"\"STEREO-SECCHI Heliospheric Imager (HI) reader\"\"\"\n",
    "        def __init__(self, data, header):\n",
    "            super().__init__(data, header)\n",
    "            self.instrument = \"HI\"\n",
    "            ...\n",
    "\n",
    "        def _pre_process(self):\n",
    "            # image normaliser not shown here, but used as an example\n",
    "            normaliser = ImageNormalize(stretch=source_stretch(0.25),\n",
    "                                        clip=False)\n",
    "            return normaliser.normalise(self.data)\n",
    "\n",
    "        def _get_colour_image(self, normalised_data):\n",
    "            normalised_data.plot_settings['cmap'] = (\n",
    "                f'stereocor{self.detector[-1]!s}')\n",
    "            normalised_data.plot_settings['norm'] = colors.Normalize(\n",
    "                0, normalised_data.max())\n",
    "            return normalised_data\n",
    "\n",
    "\n",
    "# Imaging from microscopes\n",
    "\n",
    "\n",
    "class MRC2014Image(GenericImage):\n",
    "    \"\"\"MRC/CCR4 2014 format Transmission Electron Microscopy (LM)\n",
    "     Image reader\"\"\"\n",
    "    def __init__(self, data, header):\n",
    "        super().__init__(data, header)\n",
    "        self.instrument = self._determine_instrument(header)\n",
    "        ...\n",
    "\n",
    "    def _determine_instrument(self, header):\n",
    "        ...\n",
    "\n",
    "    def _convert_to_2d(self, data):\n",
    "        ...\n",
    "\n",
    "    def _pre_process(self):\n",
    "        return  self._convert_to_2d(self.data)\n",
    "\n",
    "    def _get_colour_image(self, normalised_data):\n",
    "        normalised_data.plot_settings['cmap'] = plt.get_cmap('Greys_r')\n",
    "        normalised_data.plot_settings['norm'] = colors.LogNorm(\n",
    "            100, normalised_data.max())\n",
    "        return normalised_data\n",
    "\n",
    "\n",
    "class LeicaImage(GenericImage):\n",
    "    \"\"\"Leica Confocal Microscopy image reader\"\"\"\n",
    "    def __init__(self, data, header):\n",
    "        super().__init__(data, header)\n",
    "        self.instrument = self._determine_instrument(header)\n",
    "        ...\n",
    "\n",
    "    def _determine_instrument(self, header):\n",
    "        ...\n",
    "\n",
    "    def _convert_to_2d(self, data):\n",
    "        ...\n",
    "\n",
    "    def _pre_process(self):\n",
    "        return  self._convert_to_2d(self.data)\n",
    "\n",
    "    def _get_colour_image(self, normalised_data):\n",
    "        normalised_data.plot_settings['cmap'] = plt.get_cmap('Greys_r')\n",
    "        normalised_data.plot_settings['norm'] = colors.Normalize(\n",
    "            0, normalised_data.max())\n",
    "        return normalised_data\n",
    "\n"
   ]
  },
  {
   "cell_type": "markdown",
   "id": "2938b34d",
   "metadata": {},
   "source": [
    "Let's imagine that we've done the hard work and implemented another 10 different image sources each for\n",
    "astronomy images and microscopy images.\n",
    "\n",
    "Whenever we load an image we want to use the correct image class, falling back to the GenericImage\n",
    "if we can't fine a match from our known entities.\n",
    "\n",
    "\n",
    "A naive implementation of this would to have an `if else` block where we use the image metadata\n",
    "to determine what the right image class is."
   ]
  },
  {
   "cell_type": "code",
   "execution_count": null,
   "id": "ba2b5078",
   "metadata": {},
   "outputs": [],
   "source": [
    "class ImageFactory:\n",
    "    \"\"\"Base class that defines the factory interface\"\"\"\n",
    "    \n",
    "    def read_image(self, path):\n",
    "        \"\"\"Reads image from path, using the appropriate image class\"\"\"\n",
    "        raise NotImplementedError(\n",
    "            \"Child classes must implement this method\")\n",
    "\n",
    "\n",
    "class AstronomyFactory(ImageFactory):\n",
    "    def read_image(self, path):\n",
    "        # reads in filepath and returns image data and metadata,\n",
    "        data, header = Image.read(path)\n",
    "\n",
    "        if str(header.get('detector', '')).startswith('HI'):\n",
    "            return HIImage(data, header)\n",
    "        elif str(header.get('instrume', '')).startswith('AIA'):\n",
    "            return AIAImage(data, header)\n",
    "        # ...this would continue for all 10 other image sources after\n",
    "        # we've gone through all possible matches to known data types\n",
    "        else:\n",
    "            return GenericImage(data, header)\n",
    "        \n",
    "class MicroscopyFactory(ImageFactory):\n",
    "    def read_image(self, path):\n",
    "        # reads in filepath and returns image data and metadata,\n",
    "        header = Image.get_header(path)\n",
    "\n",
    "        if str(header.get('nversion', '')) == '20140':\n",
    "            return MRC2014Image(Image.parse(path), header)\n",
    "        elif path.suffix == '.lif':\n",
    "            return LeicaImage(Image.parse(path), header)\n",
    "        # ...this would continue for all 10 other image sources\n",
    "        # after we've gone through all possible matches to known data types\n",
    "        else:\n",
    "            raise ValueError(\n",
    "                f\"File was not a recognised microscopy image: {path}\")"
   ]
  },
  {
   "cell_type": "markdown",
   "id": "63cbf559",
   "metadata": {},
   "source": [
    "Now users can use either factory to read in the right file types, using the same ImageFactory public interface. "
   ]
  },
  {
   "cell_type": "markdown",
   "id": "bccb0f08",
   "metadata": {
    "pycharm": {
     "name": "#%% md\n"
    }
   },
   "source": [
    "```python\n",
    "astro_factory = AstronomyFactory()\n",
    "micro_factory = MicroscopyFactory()\n",
    "\n",
    "image_1 = astro_factory.read_image(\"testing/reading_AIA_AIA_193.jp2\")\n",
    "image_1.text_summary()\n",
    "image_1.plot()\n",
    "\n",
    "image_2 = micro_factory.read_image(\"testing/20110910_114721_s7h2A.lif\")\n",
    "image_2.plot()\n",
    "```"
   ]
  },
  {
   "cell_type": "markdown",
   "id": "9f8b399a",
   "metadata": {},
   "source": [
    "This is the *factory method* pattern:\n",
    "a common design solution to the need to defer the construction of child-objects to a derived class.\n",
    "With polymorphism we can use any image object returned form the `read_image` function without\n",
    "knowing the underlying image source.\n",
    "\n",
    "Having this in a class can allow for more complex logic to determine which child\n",
    "class should be returned from the factory method, including leveraging the statefullness of the\n",
    "class to help with the logic.\n"
   ]
  },
  {
   "cell_type": "markdown",
   "id": "1ff0c69c",
   "metadata": {},
   "source": [
    "## Builder Pattern"
   ]
  },
  {
   "cell_type": "markdown",
   "id": "ca3d105f",
   "metadata": {},
   "source": [
    "**Intent**: Separate the steps for constructing a complex object from its final representation."
   ]
  },
  {
   "cell_type": "code",
   "execution_count": null,
   "id": "eb516b79",
   "metadata": {
    "pycharm": {
     "name": "#%%\n"
    }
   },
   "outputs": [],
   "source": [
    "yuml(\"[Director|Construct()]<>->[Builder| (a) BuildPart()],\"+\n",
    "     \" [Builder]^-[ConcreteBuilder| BuildPart();GetResult() ],\"+\n",
    "     \"[ConcreteBuilder]-.->[Product]\")"
   ]
  },
  {
   "cell_type": "markdown",
   "id": "57757dd5",
   "metadata": {},
   "source": [
    "### Builder example"
   ]
  },
  {
   "cell_type": "markdown",
   "id": "157f62c8",
   "metadata": {},
   "source": [
    "Imagine that we have a large model with many parameters that we want to run.\n",
    "\n",
    "There's a lot more to defining a model than just adding agents of different kinds:\n",
    "we need to define boundary conditions, specify wind speed or light conditions.\n",
    "\n",
    "We could define all of this for an imagined advanced Model with a\n",
    "very very long constructor, with lots of optional arguments:"
   ]
  },
  {
   "cell_type": "code",
   "execution_count": null,
   "id": "b9b4733f",
   "metadata": {
    "pycharm": {
     "name": "#%%\n"
    }
   },
   "outputs": [],
   "source": [
    "class Model:\n",
    "    def __init__(self, xsize, ysize,\n",
    "                 agent_count, wind_speed,\n",
    "                 agent_sight_range, eagle_start_location):\n",
    "        pass"
   ]
  },
  {
   "cell_type": "markdown",
   "id": "4a0ec656",
   "metadata": {},
   "source": [
    "#### Builder preferred to complex constructor"
   ]
  },
  {
   "cell_type": "markdown",
   "id": "c755bc22",
   "metadata": {},
   "source": [
    "However, long constructors easily become very complicated.\n",
    "Instead, it can be cleaner to define a Builder for models.\n",
    "A builder is like a deferred factory:\n",
    "each step of the construction process is implemented as an individual method call,\n",
    "and the completed object is returned when the model is ready.\n"
   ]
  },
  {
   "cell_type": "code",
   "execution_count": null,
   "id": "d998dae2",
   "metadata": {
    "pycharm": {
     "name": "#%%\n"
    }
   },
   "outputs": [],
   "source": [
    "# Create a bare bones Model so that we can use our builder\n",
    "\n",
    "class Model:\n",
    "    def __init__(self,):\n",
    "        ...\n",
    "\n",
    "    def simulate(self):\n",
    "        print(\"Starting simulation\")\n",
    "        ...\n",
    "\n"
   ]
  },
  {
   "cell_type": "code",
   "execution_count": null,
   "id": "5d9daa19",
   "metadata": {
    "pycharm": {
     "name": "#%%\n"
    }
   },
   "outputs": [],
   "source": [
    "class ModelBuilder:\n",
    "    def start_model(self):\n",
    "        self.model = Model()\n",
    "        self.model.xlim = None\n",
    "        self.model.ylim = None\n",
    "        \n",
    "    def set_bounds(self, xlim, ylim):\n",
    "        self.model.xlim = xlim\n",
    "        self.model.ylim = ylim\n",
    "    \n",
    "    def add_agent(self, xpos, ypos):\n",
    "        pass # Implementation here\n",
    "    \n",
    "    def finish(self):\n",
    "        self.validate()\n",
    "        return self.model\n",
    "    \n",
    "    def validate(self):\n",
    "        assert(self.model.xlim is not None)\n",
    "        # Check that the all the\n",
    "        # parameters that need to be set\n",
    "        # have indeed been set."
   ]
  },
  {
   "cell_type": "markdown",
   "id": "6b4a80fc",
   "metadata": {},
   "source": [
    "\n",
    "Inheritance of an Abstract Builder for multiple concrete builders could be used\n",
    "where there might be multiple ways to build models with the same set of calls to the builder:\n",
    "for example a version of the model builder yielding models which can be executed\n",
    "in parallel on a remote cluster.\n"
   ]
  },
  {
   "cell_type": "markdown",
   "id": "36f12ed0",
   "metadata": {},
   "source": [
    "### Using a builder"
   ]
  },
  {
   "cell_type": "code",
   "execution_count": null,
   "id": "12a178ec",
   "metadata": {
    "pycharm": {
     "name": "#%%\n"
    }
   },
   "outputs": [],
   "source": [
    "builder = ModelBuilder()\n",
    "builder.start_model()\n",
    "\n",
    "builder.set_bounds(500, 500)\n",
    "builder.add_agent(40, 40)\n",
    "builder.add_agent(400, 100)\n",
    "\n",
    "model = builder.finish()\n",
    "model.simulate()"
   ]
  },
  {
   "cell_type": "markdown",
   "id": "f3dff2fa",
   "metadata": {},
   "source": [
    "### Avoid staged construction without a builder."
   ]
  },
  {
   "cell_type": "markdown",
   "id": "e4452032",
   "metadata": {},
   "source": [
    "\n",
    "We could, of course, just add all the building methods to the model itself,\n",
    "rather than having the model be yielded from a separate builder.\n",
    "\n",
    "This is an antipattern that is often seen: a class whose `__init__` constructor alone is insufficient\n",
    "for it to be ready to use. A series of methods must be called, in the right order,\n",
    "in order for it to be ready to use.\n",
    "\n",
    "This results in very fragile code: its hard to keep track of whether an object instance is \"ready\" or not.\n",
    "Use the builder pattern to keep deferred construction in control."
   ]
  },
  {
   "cell_type": "markdown",
   "id": "d6b5a258",
   "metadata": {},
   "source": [
    "We might ask why we couldn't just use a validator in all of the methods that must follow the deferred constructors;\n",
    "to check they have been called.\n",
    "But we'd need to put these in *every* method of the class,\n",
    "whereas with a builder, we can validate only in the `finish` method.\n"
   ]
  },
  {
   "cell_type": "markdown",
   "id": "86dfa156",
   "metadata": {},
   "source": [
    "### Other resources\n",
    "\n",
    "There are a lot of design patterns and one explanation might not work well for all people so here are some extra\n",
    "sources of information about them. Spending some time to understand them can pay off in the future so you don't\n",
    "reinvent the wheel!\n",
    "\n",
    "- [Article on inheritance and composition in Python](https://realpython.com/inheritance-composition-python/)\n",
    "- [Course on design patterns](https://www.linkedin.com/learning/python-design-patterns-2015/welcome)\n",
    "  and [Advanced design patterns](https://www.linkedin.com/learning/python-advanced-design-patterns/welcome)\n",
    "  with Python at [linkedin learning](https://www.ucl.ac.uk/isd/linkedin-learning).\n",
    "- [A collection of design patterns and idioms in Python](https://github.com/faif/python-patterns).\n",
    "- [Head First Design Patterns](http://www.worldcat.org/title/head-first-design-patterns/oclc/893944765)\n",
    "  (Available [online at UCL](https://ucl-new-primo.hosted.exlibrisgroup.com/primo-explore/fulldisplay?docid=UCL_LMS_DS51233633660004761&context=L&vid=UCL_VU2&search_scope=CSCOP_UCL&tab=local&lang=en_US)\n",
    "  or [O'Reilly](https://learning.oreilly.com/library/view/head-first-design/0596007124/?sso_link=yes&sso_link_from=university-college-london)\n",
    "  : sign in using your UCL email) - based on Java (with [online course at linkedin learning](https://www.linkedin.com/learning/programming-foundations-design-patterns-2/don-t-reinvent-the-wheel)).\n",
    "- [Design Pattern for Dummies](http://www.worldcat.org/title/design-patterns-for-dummies/oclc/69537420&referer=brief_results)\n",
    "  (Available on [O'Reilly](https://learning.oreilly.com/library/view/design-patterns-for/9780471798545/?sso_link=yes&sso_link_from=university-college-london)\n",
    "  : sign in using your UCL email).\n"
   ]
  }
 ],
 "metadata": {
  "jekyll": {
   "display_name": "Design Patterns"
  },
  "jupytext": {
   "main_language": "python",
   "notebook_metadata_filter": "-kernelspec,jupytext,jekyll"
  }
 },
 "nbformat": 4,
 "nbformat_minor": 5
}