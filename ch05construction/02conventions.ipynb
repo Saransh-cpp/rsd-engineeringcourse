{
 "cells": [
  {
   "cell_type": "markdown",
   "id": "3b3bb118",
   "metadata": {},
   "source": [
    "## Coding Conventions"
   ]
  },
  {
   "cell_type": "markdown",
   "id": "476b7318",
   "metadata": {},
   "source": [
    "Let's import first the context for this chapter."
   ]
  },
  {
   "cell_type": "code",
   "execution_count": null,
   "id": "dc5c3b0e",
   "metadata": {},
   "outputs": [],
   "source": [
    "from context import *"
   ]
  },
  {
   "cell_type": "markdown",
   "id": "c089323a",
   "metadata": {},
   "source": [
    "### One code, many layouts:"
   ]
  },
  {
   "cell_type": "markdown",
   "id": "8c0f929a",
   "metadata": {},
   "source": [
    "\n",
    "Consider the following fragment of python:\n",
    "\n",
    "\n"
   ]
  },
  {
   "cell_type": "code",
   "execution_count": null,
   "id": "e295da8d",
   "metadata": {},
   "outputs": [],
   "source": [
    "import species\n",
    "def AddToReaction(name, reaction):\n",
    "    reaction.append(species.Species(name))"
   ]
  },
  {
   "cell_type": "markdown",
   "id": "55fb868a",
   "metadata": {},
   "source": [
    "\n",
    "\n",
    "\n",
    "this could also have been written:\n",
    "\n",
    "\n"
   ]
  },
  {
   "cell_type": "code",
   "execution_count": null,
   "id": "8b743cb4",
   "metadata": {},
   "outputs": [],
   "source": [
    "from species import Species\n",
    "\n",
    "def add_to_reaction(a_name,\n",
    "                    a_reaction):\n",
    "    l_species = Species(a_name)\n",
    "    a_reaction.append( l_species )"
   ]
  },
  {
   "cell_type": "markdown",
   "id": "6e9fb467",
   "metadata": {},
   "source": [
    "\n",
    "\n"
   ]
  },
  {
   "cell_type": "markdown",
   "id": "14a9fb29",
   "metadata": {},
   "source": [
    "### So many choices"
   ]
  },
  {
   "cell_type": "markdown",
   "id": "1975692d",
   "metadata": {},
   "source": [
    "\n",
    "* Layout\n",
    "* Naming\n",
    "* Syntax choices\n"
   ]
  },
  {
   "cell_type": "markdown",
   "id": "3230877e",
   "metadata": {},
   "source": [
    "### Layout"
   ]
  },
  {
   "cell_type": "code",
   "execution_count": null,
   "id": "66ef45ed",
   "metadata": {},
   "outputs": [],
   "source": [
    "reaction = {\n",
    "    \"reactants\": [\"H\", \"H\", \"O\"],\n",
    "    \"products\": [\"H2O\"]\n",
    "}"
   ]
  },
  {
   "cell_type": "markdown",
   "id": "36a10520",
   "metadata": {},
   "source": [
    "\n",
    "\n",
    "\n"
   ]
  },
  {
   "cell_type": "code",
   "execution_count": null,
   "id": "86060e02",
   "metadata": {},
   "outputs": [],
   "source": [
    "reaction2=(\n",
    "{\n",
    "  \"reactants\":\n",
    "  [\n",
    "    \"H\",\n",
    "    \"H\",\n",
    "    \"O\"\n",
    "  ],\n",
    "  \"products\":\n",
    "  [\n",
    "    \"H2O\"\n",
    "  ]\n",
    "}\n",
    ")"
   ]
  },
  {
   "cell_type": "markdown",
   "id": "1d62f699",
   "metadata": {},
   "source": [
    "### Layout choices"
   ]
  },
  {
   "cell_type": "markdown",
   "id": "953cf598",
   "metadata": {},
   "source": [
    "\n",
    "* Brace style\n",
    "* Line length\n",
    "* Indentation\n",
    "* Whitespace/Tabs\n",
    "\n",
    "Inconsistency will produce a mess in your code! Some choices will make your code harder to read, whereas others may affect the code. For example, if you copy/paste code with tabs in a place that's using spaces, they may appear OK in your screen but it will fail when running it."
   ]
  },
  {
   "cell_type": "markdown",
   "id": "23e51ea6",
   "metadata": {},
   "source": [
    "### Naming Conventions"
   ]
  },
  {
   "cell_type": "markdown",
   "id": "b2dc7c8f",
   "metadata": {},
   "source": [
    "[Camel case](https://en.wikipedia.org/wiki/Camel_case) is used in the following example, where class name is in UpperCamel, functions in lowerCamel and underscore_separation for variables names. This convention is used broadly in the python community."
   ]
  },
  {
   "cell_type": "code",
   "execution_count": null,
   "id": "b973b9a8",
   "metadata": {},
   "outputs": [],
   "source": [
    "class ClassName:\n",
    "    def methodName(variable_name):\n",
    "        instance_variable = variable_name"
   ]
  },
  {
   "cell_type": "markdown",
   "id": "e9a8574a",
   "metadata": {},
   "source": [
    "This other example uses underscore_separation for all the names."
   ]
  },
  {
   "cell_type": "code",
   "execution_count": null,
   "id": "a29e32b4",
   "metadata": {},
   "outputs": [],
   "source": [
    "class class_name:\n",
    "    def method_name(a_variable):\n",
    "        m_instance_variable = a_variable"
   ]
  },
  {
   "cell_type": "markdown",
   "id": "e18d9ff9",
   "metadata": {},
   "source": [
    "### Hungarian Notation"
   ]
  },
  {
   "cell_type": "markdown",
   "id": "ef7b0566",
   "metadata": {},
   "source": [
    "\n",
    "Prefix denotes *type*:\n",
    "\n",
    "\n"
   ]
  },
  {
   "cell_type": "code",
   "execution_count": null,
   "id": "a00cc657",
   "metadata": {},
   "outputs": [],
   "source": [
    "fNumber = float(sEntry) + iOffset"
   ]
  },
  {
   "cell_type": "markdown",
   "id": "a10f19a1",
   "metadata": {},
   "source": [
    "So in the example above we know that we are creating a `f`loat number as a composition of a `s`tring entry and an `i`nteger offset.\n",
    "\n",
    "People may find this useful in languages like Python where the type is intrisic in the variable."
   ]
  },
  {
   "cell_type": "code",
   "execution_count": null,
   "id": "2ec612b0",
   "metadata": {},
   "outputs": [],
   "source": [
    "number = float(entry) + offset"
   ]
  },
  {
   "cell_type": "markdown",
   "id": "c8f60bc2",
   "metadata": {},
   "source": [
    "### Newlines"
   ]
  },
  {
   "cell_type": "markdown",
   "id": "e713e584",
   "metadata": {},
   "source": [
    "\n",
    "* Newlines make code easier to read\n",
    "* Newlines make less code fit on a screen\n",
    "\n",
    "Use newlines to describe your code's *rhythm*.\n"
   ]
  },
  {
   "cell_type": "markdown",
   "id": "5744bda0",
   "metadata": {},
   "source": [
    "### Syntax Choices"
   ]
  },
  {
   "cell_type": "markdown",
   "id": "3c7f2f43",
   "metadata": {},
   "source": [
    "The following two snippets do the same, but the second is separated into more steps, making it more readable."
   ]
  },
  {
   "cell_type": "code",
   "execution_count": null,
   "id": "e1963403",
   "metadata": {},
   "outputs": [],
   "source": [
    "anothervariable += 1\n",
    "if ((variable == anothervariable) and flag1 or flag2): do_something()"
   ]
  },
  {
   "cell_type": "code",
   "execution_count": null,
   "id": "7ba984a7",
   "metadata": {},
   "outputs": [],
   "source": [
    "anothervariable = anothervariable + 1\n",
    "variable_equality = (variable == anothervariable)\n",
    "if ((variable_equality and flag1) or flag2):\n",
    "    do_something()"
   ]
  },
  {
   "cell_type": "markdown",
   "id": "87a7f620",
   "metadata": {},
   "source": [
    "We create extra variables as an intermediate step. Don't worry about the performance now, the compiler will do the right thing.\n",
    "\n",
    "What about operator precedence? Being explicit helps to remind yourself what you are doing."
   ]
  },
  {
   "cell_type": "markdown",
   "id": "203507f8",
   "metadata": {},
   "source": [
    "### Syntax choices"
   ]
  },
  {
   "cell_type": "markdown",
   "id": "b5482b9c",
   "metadata": {},
   "source": [
    "\n",
    "* Explicit operator precedence\n",
    "* Compound expressions\n",
    "* Package import choices\n"
   ]
  },
  {
   "cell_type": "markdown",
   "id": "765b0143",
   "metadata": {},
   "source": [
    "### Coding Conventions"
   ]
  },
  {
   "cell_type": "markdown",
   "id": "9426db31",
   "metadata": {},
   "source": [
    "\n",
    "You should try to have an agreed policy for your team for these matters.\n",
    "\n",
    "If your language sponsor has a standard policy, use that. For example:\n",
    "\n",
    "- **Python**: [PEP8](https://www.python.org/dev/peps/pep-0008/)\n",
    "- **R**: [Google's guide for R](https://google.github.io/styleguide/Rguide.xml), [tidyverse style guide](https://style.tidyverse.org/)\n",
    "- **C++**: [Google's style guide](https://google.github.io/styleguide/cppguide.html), [Mozilla's](https://developer.mozilla.org/en-US/docs/Mozilla/Developer_guide/Coding_Style)\n",
    "- **Julia**: [Official style guide](https://docs.julialang.org/en/v1/manual/style-guide/index.html)\n"
   ]
  },
  {
   "cell_type": "markdown",
   "id": "37e2be84",
   "metadata": {},
   "source": [
    "### Lint"
   ]
  },
  {
   "cell_type": "markdown",
   "id": "1349700a",
   "metadata": {},
   "source": [
    "\n",
    "There are automated tools which enforce coding conventions and check for common mistakes.\n",
    "\n",
    "These are called **linters**. A popular one is [pycodestyle](https://pypi.org/project/pycodestyle/):\n",
    "\n",
    "E.g. `pip install pycodestyle` \n",
    "\n",
    "\n"
   ]
  },
  {
   "cell_type": "code",
   "execution_count": null,
   "id": "bf158385",
   "metadata": {},
   "outputs": [],
   "source": [
    "%%bash --no-raise-error\n",
    "pycodestyle species.py"
   ]
  },
  {
   "cell_type": "markdown",
   "id": "0ab5e053",
   "metadata": {},
   "source": [
    "\n",
    "\n",
    "\n",
    "It is a good idea to run a linter before every commit, or include it in your CI tests.\n",
    "\n"
   ]
  },
  {
   "cell_type": "markdown",
   "id": "831ff73c",
   "metadata": {},
   "source": [
    "There are other tools that help with linting that are worth mentioning.\n",
    "With [pylint](https://www.pylint.org/) you can also get other useful information about the quality of your code:\n",
    "\n",
    "`pip install pylint` \n"
   ]
  },
  {
   "cell_type": "code",
   "execution_count": null,
   "id": "32836a16",
   "metadata": {},
   "outputs": [],
   "source": [
    "%%bash --no-raise-error\n",
    "pylint species.py"
   ]
  },
  {
   "cell_type": "markdown",
   "id": "dc360bd2",
   "metadata": {},
   "source": [
    "and with [black](https://black.readthedocs.io/) you can fix all the errors at once.\n",
    "```bash\n",
    "black species.py\n",
    "```\n",
    "These linters can be configured to choose which points to flag and which to ignore.\n",
    "\n",
    "Do not blindly believe all these automated tools! Style guides are **guides** not **rules**."
   ]
  },
  {
   "cell_type": "markdown",
   "id": "a8c63be7",
   "metadata": {},
   "source": [
    "Finally, there are tools like [editorconfig](https://editorconfig.org/) to help sharing the conventions used within a project, where each contributor uses different IDEs and tools. There are also bots like [pep8speaks](https://pep8speaks.com/) that comments on contributors' pull requests suggesting what to change to follow the conventions for the project.\n"
   ]
  }
 ],
 "metadata": {
  "jekyll": {
   "display_name": "Coding Conventions"
  },
  "jupytext": {
   "main_language": "python",
   "notebook_metadata_filter": "-kernelspec,jupytext,jekyll"
  }
 },
 "nbformat": 4,
 "nbformat_minor": 5
}