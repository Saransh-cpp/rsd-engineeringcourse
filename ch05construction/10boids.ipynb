{
 "cells": [
  {
   "cell_type": "markdown",
   "id": "ca48ecc6",
   "metadata": {},
   "source": [
    "## Exercise: Refactoring The Bad Boids"
   ]
  },
  {
   "cell_type": "markdown",
   "id": "0f16fcc5",
   "metadata": {},
   "source": [
    "### Bad_Boids"
   ]
  },
  {
   "cell_type": "markdown",
   "id": "eb26a671",
   "metadata": {},
   "source": [
    "\n",
    "We have written some _very bad_ code implementing our Boids flocking example.\n",
    "\n",
    "Here's the [Github link](https://github.com/UCL-ARC-RSEing-with-Python/bad-boids).\n",
    "\n",
    "Please fork it on GitHub, and clone your fork.\n"
   ]
  },
  {
   "cell_type": "markdown",
   "id": "3a1f6366",
   "metadata": {},
   "source": [
    "``` bash\n",
    "git clone      git@github.com:yourname/bad-boids.git \n",
    "# OR git clone https://github.com/yourname/bad-boids.git\n",
    "```"
   ]
  },
  {
   "cell_type": "markdown",
   "id": "9dd0bfc0",
   "metadata": {},
   "source": [
    "For the Exercise, you should start from the GitHub repository, but here's our terrible code:"
   ]
  },
  {
   "cell_type": "code",
   "execution_count": null,
   "id": "a8a0d658",
   "metadata": {},
   "outputs": [],
   "source": [
    "\"\"\"\n",
    "A deliberately bad implementation of \n",
    "[Boids](http://dl.acm.org/citation.cfm?doid=37401.37406)\n",
    "for use as an exercise on refactoring.\n",
    "\"\"\"\n",
    "\n",
    "from matplotlib import pyplot as plt\n",
    "from matplotlib import animation\n",
    "\n",
    "import random\n",
    "\n",
    "# Deliberately terrible code for teaching purposes\n",
    "\n",
    "boids_x=[random.uniform(-450,50.0) for x in range(50)]\n",
    "boids_y=[random.uniform(300.0,600.0) for x in range(50)]\n",
    "boid_x_velocities=[random.uniform(0,10.0) for x in range(50)]\n",
    "boid_y_velocities=[random.uniform(-20.0,20.0) for x in range(50)]\n",
    "boids=(boids_x,boids_y,boid_x_velocities,boid_y_velocities)\n",
    "\n",
    "def update_boids(boids):\n",
    "    xs,ys,xvs,yvs=boids\n",
    "    # Fly towards the middle\n",
    "    for i in range(len(xs)):\n",
    "        for j in range(len(xs)):\n",
    "            xvs[i]=xvs[i]+(xs[j]-xs[i])*0.01/len(xs)\n",
    "    for i in range(len(xs)):\n",
    "        for j in range(len(xs)):\n",
    "            yvs[i]=yvs[i]+(ys[j]-ys[i])*0.01/len(xs)\n",
    "    # Fly away from nearby boids\n",
    "    for i in range(len(xs)):\n",
    "        for j in range(len(xs)):\n",
    "            if (xs[j]-xs[i])**2 + (ys[j]-ys[i])**2 < 100:\n",
    "                xvs[i]=xvs[i]+(xs[i]-xs[j])\n",
    "                yvs[i]=yvs[i]+(ys[i]-ys[j])\n",
    "    # Try to match speed with nearby boids\n",
    "    for i in range(len(xs)):\n",
    "        for j in range(len(xs)):\n",
    "            if (xs[j]-xs[i])**2 + (ys[j]-ys[i])**2 < 10000:\n",
    "                xvs[i]=xvs[i]+(xvs[j]-xvs[i])*0.125/len(xs)\n",
    "                yvs[i]=yvs[i]+(yvs[j]-yvs[i])*0.125/len(xs)\n",
    "    # Move according to velocities\n",
    "    for i in range(len(xs)):\n",
    "        xs[i]=xs[i]+xvs[i]\n",
    "        ys[i]=ys[i]+yvs[i]\n",
    "\n",
    "\n",
    "figure=plt.figure()\n",
    "axes=plt.axes(xlim=(-500,1500), ylim=(-500,1500))\n",
    "scatter=axes.scatter(boids[0],boids[1])\n",
    "\n",
    "def animate(frame):\n",
    "    update_boids(boids)\n",
    "    scatter.set_offsets(list(zip(boids[0],boids[1])))\n",
    "\n",
    "\n",
    "anim = animation.FuncAnimation(figure, animate,\n",
    "                               frames=200, interval=50)"
   ]
  },
  {
   "cell_type": "markdown",
   "id": "4b8c1197",
   "metadata": {},
   "source": [
    "If you go into your folder and run the code:"
   ]
  },
  {
   "cell_type": "markdown",
   "id": "aa643a78",
   "metadata": {},
   "source": [
    "``` bash\n",
    "cd bad_boids\n",
    "python boids.py\n",
    "```"
   ]
  },
  {
   "cell_type": "markdown",
   "id": "067fe560",
   "metadata": {},
   "source": [
    "\n",
    "You should be able to see some birds flying around, and then disappearing as they leave the window.\n"
   ]
  },
  {
   "cell_type": "code",
   "execution_count": null,
   "id": "e98d20c5",
   "metadata": {},
   "outputs": [],
   "source": [
    "from IPython.display import HTML\n",
    "HTML(anim.to_jshtml())"
   ]
  },
  {
   "cell_type": "markdown",
   "id": "14303e5e",
   "metadata": {},
   "source": [
    "### Your Task"
   ]
  },
  {
   "cell_type": "markdown",
   "id": "a3b13178",
   "metadata": {},
   "source": [
    "\n",
    "Transform bad_boids **gradually** into better code, while making sure it still works, using a Refactoring approach.\n"
   ]
  },
  {
   "cell_type": "markdown",
   "id": "c34301ef",
   "metadata": {},
   "source": [
    "### A regression test"
   ]
  },
  {
   "cell_type": "markdown",
   "id": "d8d7c327",
   "metadata": {},
   "source": [
    "\n",
    "First, have a look at the regression test we made.\n",
    "\n",
    "To create it, we saved out the before and after state\n",
    "for one iteration of some boids, using ipython:\n"
   ]
  },
  {
   "cell_type": "markdown",
   "id": "13775ba2",
   "metadata": {},
   "source": [
    "``` python\n",
    "import yaml\n",
    "import boids\n",
    "from copy import deepcopy\n",
    "\n",
    "before = deepcopy(boids.boids)\n",
    "boids.update_boids(boids.boids)\n",
    "after = boids.boids\n",
    "fixture = {\"before\": before, \"after\": after}\n",
    "fixture_file = open(\"fixture.yml\", 'w')\n",
    "fixture_file.write(yaml.dump(fixture))\n",
    "fixture_file.close()\n",
    "```"
   ]
  },
  {
   "cell_type": "markdown",
   "id": "ff3c0d9d",
   "metadata": {},
   "source": [
    "### Invoking the test"
   ]
  },
  {
   "cell_type": "markdown",
   "id": "9527584d",
   "metadata": {},
   "source": [
    "\n",
    "Then, I used the fixture file to define the test:\n"
   ]
  },
  {
   "cell_type": "markdown",
   "id": "5d23dc2b",
   "metadata": {},
   "source": [
    "``` python\n",
    "from boids import update_boids\n",
    "from nose.tools import assert_almost_equal\n",
    "import os\n",
    "import yaml\n",
    "\n",
    "def test_bad_boids_regression():\n",
    "    regression_data = yaml.safe_load(open(os.path.join(os.path.dirname(__file__),'fixture.yml')))\n",
    "    boid_data = regression_data[\"before\"]\n",
    "    update_boids(boid_data)\n",
    "    for after, before in zip(regression_data[\"after\"], boid_data):\n",
    "        for after_value, before_value in zip(after, before): \n",
    "            assert_almost_equal(after_value, before_value, delta=0.01)\n",
    "```"
   ]
  },
  {
   "cell_type": "markdown",
   "id": "2d80fb99",
   "metadata": {},
   "source": [
    "### Make the regression test fail"
   ]
  },
  {
   "cell_type": "markdown",
   "id": "10fbb8f1",
   "metadata": {},
   "source": [
    "Check the tests pass:"
   ]
  },
  {
   "cell_type": "markdown",
   "id": "1a59cab5",
   "metadata": {},
   "source": [
    "``` bash\n",
    "pytest\n",
    "```"
   ]
  },
  {
   "cell_type": "markdown",
   "id": "dd76d310",
   "metadata": {},
   "source": [
    "\n",
    "Edit the file to make the test fail, see the fail, then reset it:\n"
   ]
  },
  {
   "cell_type": "markdown",
   "id": "8ea9a51c",
   "metadata": {},
   "source": [
    "```\n",
    "git checkout boids.py\n",
    "```"
   ]
  },
  {
   "cell_type": "markdown",
   "id": "3aa3137a",
   "metadata": {},
   "source": [
    "### Start Refactoring"
   ]
  },
  {
   "cell_type": "markdown",
   "id": "1973df42",
   "metadata": {},
   "source": [
    "\n",
    "Look at the code, consider the [list of refactorings](./05refactoring.html#refactoring-summary), and make changes.\n",
    "\n",
    "Each time, do a git commit on your fork, and write a commit message explaining the \n",
    "refactoring you did.\n",
    "\n",
    "Try to keep the changes as small as possible.\n",
    "\n",
    "If your refactoring creates any units, (functions, modules, or classes)\n",
    "**write a unit test** for the unit: it is a good idea to get away from regression testing as soon as you can."
   ]
  }
 ],
 "metadata": {
  "jekyll": {
   "display_name": "Exercise - Boids"
  },
  "jupytext": {
   "main_language": "python",
   "notebook_metadata_filter": "-kernelspec,jupytext,jekyll"
  }
 },
 "nbformat": 4,
 "nbformat_minor": 5
}