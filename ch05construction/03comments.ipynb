{
 "cells": [
  {
   "cell_type": "markdown",
   "id": "04783736",
   "metadata": {},
   "source": [
    "## Comments"
   ]
  },
  {
   "cell_type": "markdown",
   "id": "5c9281bf",
   "metadata": {},
   "source": [
    "Let's import first the context for this chapter."
   ]
  },
  {
   "cell_type": "code",
   "execution_count": null,
   "id": "7bf408c5",
   "metadata": {},
   "outputs": [],
   "source": [
    "from context import *"
   ]
  },
  {
   "cell_type": "markdown",
   "id": "33dfa8a9",
   "metadata": {},
   "source": [
    "### Why comment?"
   ]
  },
  {
   "cell_type": "markdown",
   "id": "0c636ad9",
   "metadata": {},
   "source": [
    "\n",
    "* You're writing code for people, as well as computers.\n",
    "* Comments can help you build code, by representing your design\n",
    "* Comments explain subtleties in the code which are not obvious from the syntax\n",
    "* Comments explain *why* you wrote the code the way you did\n"
   ]
  },
  {
   "cell_type": "markdown",
   "id": "975195d0",
   "metadata": {},
   "source": [
    "### Bad Comments"
   ]
  },
  {
   "cell_type": "markdown",
   "id": "53785d49",
   "metadata": {},
   "source": [
    "\n",
    "\"I write good code, you can tell by the number of comments.\"\n",
    "\n",
    "This is wrong.\n"
   ]
  },
  {
   "cell_type": "markdown",
   "id": "b893d152",
   "metadata": {},
   "source": [
    "### Comments which are obvious"
   ]
  },
  {
   "cell_type": "code",
   "execution_count": null,
   "id": "10fb70cc",
   "metadata": {},
   "outputs": [],
   "source": [
    "counter = counter + 1 # Increment the counter\n",
    "for element in array: # Loop over elements\n",
    "    pass"
   ]
  },
  {
   "cell_type": "markdown",
   "id": "ed3df4c2",
   "metadata": {},
   "source": [
    "### Comments which could be replaced by better style"
   ]
  },
  {
   "cell_type": "markdown",
   "id": "fe01a472",
   "metadata": {},
   "source": [
    "The following piece of code could be a part of a game to move a turtle in a certain direction, with a particular angular velocity and step size."
   ]
  },
  {
   "cell_type": "code",
   "execution_count": null,
   "id": "b3c6c0a4",
   "metadata": {},
   "outputs": [],
   "source": [
    "for i in range(len(agt)): #for each agent\n",
    "    agt[i].theta += ws[i]     # Increment the angle of each agent\n",
    "                              #by its angular velocity\n",
    "    agt[i].x += r * sin(agt[i].theta) #Move the agent by the step-size\n",
    "    agt[i].y += r * cos(agt[i].theta) #r in the direction indicated"
   ]
  },
  {
   "cell_type": "markdown",
   "id": "4d609196",
   "metadata": {},
   "source": [
    "we have used comments to make the code readable.\n",
    "\n",
    "\n",
    "Why not make the code readable instead?"
   ]
  },
  {
   "cell_type": "code",
   "execution_count": null,
   "id": "5155cb72",
   "metadata": {},
   "outputs": [],
   "source": [
    "for agent in agents:\n",
    "    agent.turn()\n",
    "    agent.move()\n",
    "\n",
    "class Agent:\n",
    "    def turn(self):\n",
    "         self.direction += self.angular_velocity;\n",
    "    def move(self):\n",
    "        self.x += Agent.step_length * sin(self.direction)\n",
    "        self.y += Agent.step_length * cos(self.direction)"
   ]
  },
  {
   "cell_type": "markdown",
   "id": "9236c8e2",
   "metadata": {},
   "source": [
    "This is probably better. We are using the name of the functions (_i.e._, `turn`, `move`) instead of comments. Therefore, we've got _self-documenting_ code.\n"
   ]
  },
  {
   "cell_type": "markdown",
   "id": "fde6e70a",
   "metadata": {},
   "source": [
    "### Comments vs expressive code "
   ]
  },
  {
   "cell_type": "markdown",
   "id": "37cd8313",
   "metadata": {},
   "source": [
    "\n",
    "> The proper use of comments is to compensate for our failure to express yourself in code. \n",
    "Note that I used the word failure. I meant it. Comments are always failures.\n",
    "\n",
    "-- Robert Martin, [Clean Code](https://www.worldcat.org/title/clean-code-a-handbook-of-agile-software-craftsmanship/oclc/1057907478&referer=brief_results) [[UCL library](https://ucl-new-primo.hosted.exlibrisgroup.com/primo-explore/fulldisplay?docid=UCL_LMS_DS21163090000004761)].\n",
    "\n",
    "I wouldn't disagree, but still, writing \"self-documenting\" code is very hard, so do comment if you're unsure!\n"
   ]
  },
  {
   "cell_type": "markdown",
   "id": "0f44360d",
   "metadata": {},
   "source": [
    "### Comments which belong in an issue tracker"
   ]
  },
  {
   "cell_type": "code",
   "execution_count": null,
   "id": "4163e05e",
   "metadata": {},
   "outputs": [],
   "source": [
    "x.clear() # Code crashes here sometimes\n",
    "class Agent(object):\n",
    "    pass\n",
    "    # TODO: Implement pretty-printer method"
   ]
  },
  {
   "cell_type": "markdown",
   "id": "e85d3e82",
   "metadata": {},
   "source": [
    "\n",
    "\n",
    "\n",
    "BUT comments that reference issues in the tracker can be good.\n",
    "\n",
    "E.g.\n",
    "\n",
    "\n"
   ]
  },
  {
   "cell_type": "code",
   "execution_count": null,
   "id": "bdee06ba",
   "metadata": {},
   "outputs": [],
   "source": [
    "if x.safe_to_clear(): # Guard added as temporary workaround for #32\n",
    "    x.clear()"
   ]
  },
  {
   "cell_type": "markdown",
   "id": "398cd98b",
   "metadata": {},
   "source": [
    "\n",
    "\n",
    "\n",
    "is OK. And platforms like GitHub will create a link to it when browsing the code.\n"
   ]
  },
  {
   "cell_type": "markdown",
   "id": "de514d79",
   "metadata": {},
   "source": [
    "### Comments which only make sense to the author today"
   ]
  },
  {
   "cell_type": "code",
   "execution_count": null,
   "id": "18f16b0b",
   "metadata": {},
   "outputs": [],
   "source": [
    "agent.turn() # Turtle Power!\n",
    "agent.move()\n",
    "agents[:]=[]# Shredder!"
   ]
  },
  {
   "cell_type": "markdown",
   "id": "856ddc51",
   "metadata": {},
   "source": [
    "### Comments which are unpublishable"
   ]
  },
  {
   "cell_type": "code",
   "execution_count": null,
   "id": "f5795638",
   "metadata": {},
   "outputs": [],
   "source": [
    "# Stupid supervisor made me write this code\n",
    "# So I did it while very very drunk."
   ]
  },
  {
   "cell_type": "markdown",
   "id": "7405e47f",
   "metadata": {},
   "source": [
    "### Good commenting: pedagogical comments"
   ]
  },
  {
   "cell_type": "markdown",
   "id": "5b608b63",
   "metadata": {},
   "source": [
    "\n",
    "Code that *is* good style, but you're not familiar with, or \n",
    "that colleagues might not be familiar with\n",
    "\n",
    "\n"
   ]
  },
  {
   "cell_type": "code",
   "execution_count": null,
   "id": "9f679c75",
   "metadata": {},
   "outputs": [],
   "source": [
    "# This is how you define a decorator in python\n",
    "# See https://wiki.python.org/moin/PythonDecorators\n",
    "def double(decorated_function):\n",
    "    # Here, the result function forms a closure over \n",
    "    # the decorated function\n",
    "    def result_function(entry):\n",
    "        return decorated_function(decorated_function(entry))\n",
    "    # The returned result is a function\n",
    "    return result_function\n",
    "\n",
    "@double\n",
    "def try_me_twice():\n",
    "    pass"
   ]
  },
  {
   "cell_type": "markdown",
   "id": "1d562426",
   "metadata": {},
   "source": [
    "### Good commenting: reasons and definitions"
   ]
  },
  {
   "cell_type": "markdown",
   "id": "7c1362d6",
   "metadata": {},
   "source": [
    "\n",
    "Comments which explain coding definitions or reasons for programming choices.\n",
    "\n"
   ]
  },
  {
   "cell_type": "code",
   "execution_count": null,
   "id": "87496adb",
   "metadata": {},
   "outputs": [],
   "source": [
    "def __init__(self):\n",
    "    self.angle = 0 # clockwise from +ve y-axis\n",
    "    nonzero_indices = [] # Use sparse model as memory constrained"
   ]
  }
 ],
 "metadata": {
  "jekyll": {
   "display_name": "Comments"
  },
  "jupytext": {
   "main_language": "python",
   "notebook_metadata_filter": "-kernelspec,jupytext,jekyll"
  }
 },
 "nbformat": 4,
 "nbformat_minor": 5
}