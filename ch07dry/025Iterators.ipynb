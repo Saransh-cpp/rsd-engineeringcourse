{
 "cells": [
  {
   "cell_type": "markdown",
   "id": "d1d4746e",
   "metadata": {},
   "source": [
    "## Iterators and Generators"
   ]
  },
  {
   "cell_type": "markdown",
   "id": "33bc662e",
   "metadata": {},
   "source": [
    "In Python, anything which can be iterated over is called an iterable:"
   ]
  },
  {
   "cell_type": "code",
   "execution_count": null,
   "id": "d798697e",
   "metadata": {},
   "outputs": [],
   "source": [
    "bowl = {\n",
    "    \"apple\": 5,\n",
    "    \"banana\": 3,\n",
    "    \"orange\": 7\n",
    "}\n",
    "\n",
    "for fruit in bowl:\n",
    "    print(fruit.upper())"
   ]
  },
  {
   "cell_type": "markdown",
   "id": "41329708",
   "metadata": {},
   "source": [
    "Surprisingly often, we want to iterate over something that takes a moderately\n",
    "large amount of memory to store - for example, our map images in the\n",
    "green-graph example.\n",
    "\n",
    "Our green-graph example involved making an array of all the maps between London\n",
    "and Birmingham. This kept them all in memory *at the same time*: first we\n",
    "downloaded all the maps, then we counted the green pixels in each of them. \n",
    "\n",
    "This would NOT work if we used more points: eventually, we would run out of memory.\n",
    "We need to use a **generator** instead. This chapter will look at iterators and generators in more detail:\n",
    "how they work, when to use them, how to create our own."
   ]
  },
  {
   "cell_type": "markdown",
   "id": "4836e4ed",
   "metadata": {},
   "source": [
    "### Iterators"
   ]
  },
  {
   "cell_type": "markdown",
   "id": "853f0510",
   "metadata": {},
   "source": [
    "Consider the basic python `range` function:"
   ]
  },
  {
   "cell_type": "code",
   "execution_count": null,
   "id": "4c5d3963",
   "metadata": {},
   "outputs": [],
   "source": [
    "range(10)"
   ]
  },
  {
   "cell_type": "code",
   "execution_count": null,
   "id": "639230c9",
   "metadata": {},
   "outputs": [],
   "source": [
    "total = 0\n",
    "for x in range(int(1e6)):\n",
    "    total += x\n",
    "\n",
    "total"
   ]
  },
  {
   "cell_type": "markdown",
   "id": "53781712",
   "metadata": {},
   "source": [
    "In order to avoid allocating a million integers, `range` actually uses an **iterator**.\n",
    "\n",
    "We don't actually need a million integers *at once*, just each\n",
    "integer *in turn* up to a million.\n",
    "\n",
    "Because we can get an iterator from it, we say that a range is an **iterable**."
   ]
  },
  {
   "cell_type": "markdown",
   "id": "39525477",
   "metadata": {},
   "source": [
    "So we can `for`-loop over it:"
   ]
  },
  {
   "cell_type": "code",
   "execution_count": null,
   "id": "a2807017",
   "metadata": {},
   "outputs": [],
   "source": [
    "for i in range(3): \n",
    "    print(i)"
   ]
  },
  {
   "cell_type": "markdown",
   "id": "a524df1b",
   "metadata": {},
   "source": [
    "There are two important Python built-in functions for working with iterables.\n",
    "First is `iter`, which lets us create an iterator from any iterable object."
   ]
  },
  {
   "cell_type": "code",
   "execution_count": null,
   "id": "2724b0fa",
   "metadata": {},
   "outputs": [],
   "source": [
    "a = iter(range(3))"
   ]
  },
  {
   "cell_type": "markdown",
   "id": "06a5b954",
   "metadata": {},
   "source": [
    "Once we have an iterator object, we can pass it to the `next` function. This\n",
    "moves the iterator forward, and gives us its next element:"
   ]
  },
  {
   "cell_type": "code",
   "execution_count": null,
   "id": "6eafa909",
   "metadata": {},
   "outputs": [],
   "source": [
    "next(a)"
   ]
  },
  {
   "cell_type": "code",
   "execution_count": null,
   "id": "fbc9393c",
   "metadata": {},
   "outputs": [],
   "source": [
    "next(a)"
   ]
  },
  {
   "cell_type": "code",
   "execution_count": null,
   "id": "18642dd1",
   "metadata": {},
   "outputs": [],
   "source": [
    "next(a)"
   ]
  },
  {
   "cell_type": "markdown",
   "id": "7b87a389",
   "metadata": {},
   "source": [
    "When we are out of elements, a `StopIteration` exception is raised:"
   ]
  },
  {
   "cell_type": "code",
   "execution_count": null,
   "id": "ec285dfc",
   "metadata": {},
   "outputs": [],
   "source": [
    "next(a)"
   ]
  },
  {
   "cell_type": "markdown",
   "id": "d1c45591",
   "metadata": {},
   "source": [
    "This tells Python that the iteration is over. For example, if we are in a `for i in range(3)` loop, this lets us know when we should exit the loop."
   ]
  },
  {
   "cell_type": "markdown",
   "id": "d46553d7",
   "metadata": {},
   "source": [
    "We can turn an iterable or iterator into a list with the `list` constructor function:"
   ]
  },
  {
   "cell_type": "code",
   "execution_count": null,
   "id": "87058856",
   "metadata": {},
   "outputs": [],
   "source": [
    "list(range(5))"
   ]
  },
  {
   "cell_type": "markdown",
   "id": "2ee1fcbd",
   "metadata": {},
   "source": [
    "### Defining Our Own Iterable"
   ]
  },
  {
   "cell_type": "markdown",
   "id": "aaf57141",
   "metadata": {},
   "source": [
    "When we write `next(a)`, under the hood Python tries to call the `__next__()` method of `a`. Similarly, `iter(a)` calls `a.__iter__()`.\n",
    "\n",
    "We can make our own iterators by defining *classes* that can be used with the `next()` and `iter()` functions: this is the **iterator protocol**.\n",
    "\n",
    "For each of the *concepts* in Python, like sequence, container, iterable, the language defines a *protocol*, a set of methods a class must implement, in order to be treated as a member of that concept.\n",
    "\n",
    "To define an iterator, the methods that must be supported are `__next__()` and `__iter__()`.\n",
    "\n",
    "`__next__()` must update the iterator.\n",
    "\n",
    "We'll see why we need to define `__iter__` in a moment."
   ]
  },
  {
   "cell_type": "markdown",
   "id": "7d53bbf7",
   "metadata": {},
   "source": [
    "Here is an example of defining a custom iterator class:"
   ]
  },
  {
   "cell_type": "code",
   "execution_count": null,
   "id": "6448de34",
   "metadata": {},
   "outputs": [],
   "source": [
    "class fib_iterator:\n",
    "    \"\"\"An iterator over part of the Fibonacci sequence.\"\"\"\n",
    "\n",
    "    def __init__(self, limit, seed1=1, seed2=1):\n",
    "        self.limit = limit\n",
    "        self.previous = seed1\n",
    "        self.current = seed2\n",
    "\n",
    "    def __iter__(self):\n",
    "        return self\n",
    "\n",
    "    def __next__(self):\n",
    "        (self.previous, self.current) = (self.current, self.previous + self.current)\n",
    "        self.limit -= 1\n",
    "        if self.limit < 0:\n",
    "            raise StopIteration()\n",
    "        return self.current"
   ]
  },
  {
   "cell_type": "code",
   "execution_count": null,
   "id": "96b63af6",
   "metadata": {},
   "outputs": [],
   "source": [
    "x = fib_iterator(5)"
   ]
  },
  {
   "cell_type": "code",
   "execution_count": null,
   "id": "54f7fb21",
   "metadata": {},
   "outputs": [],
   "source": [
    "next(x)"
   ]
  },
  {
   "cell_type": "code",
   "execution_count": null,
   "id": "5b197073",
   "metadata": {},
   "outputs": [],
   "source": [
    "next(x)"
   ]
  },
  {
   "cell_type": "code",
   "execution_count": null,
   "id": "b556e409",
   "metadata": {},
   "outputs": [],
   "source": [
    "next(x)"
   ]
  },
  {
   "cell_type": "code",
   "execution_count": null,
   "id": "891eac09",
   "metadata": {},
   "outputs": [],
   "source": [
    "next(x)"
   ]
  },
  {
   "cell_type": "code",
   "execution_count": null,
   "id": "bb3cae4d",
   "metadata": {},
   "outputs": [],
   "source": [
    "for x in fib_iterator(5):\n",
    "    print(x)"
   ]
  },
  {
   "cell_type": "code",
   "execution_count": null,
   "id": "0c0b1607",
   "metadata": {},
   "outputs": [],
   "source": [
    "sum(fib_iterator(1000))"
   ]
  },
  {
   "cell_type": "markdown",
   "id": "5781f663",
   "metadata": {},
   "source": [
    "### A shortcut to iterables: the `__iter__` method"
   ]
  },
  {
   "cell_type": "markdown",
   "id": "bdc8fea4",
   "metadata": {},
   "source": [
    "In fact,  we don't always have to define both `__iter__` and `__next__`!\n",
    "\n",
    "If, to be iterated over, a class just wants to behave as if it were some other iterable, you can just implement `__iter__` and return `iter(some_other_iterable)`, without implementing `next`.  For example, an image class might want to implement some metadata, but behave just as if it were just a 1-d pixel array when being iterated:"
   ]
  },
  {
   "cell_type": "code",
   "execution_count": null,
   "id": "bd208961",
   "metadata": {},
   "outputs": [],
   "source": [
    "from numpy import array\n",
    "from matplotlib import pyplot as plt\n",
    "\n",
    "\n",
    "class MyImage(object):\n",
    "    def __init__(self, pixels):\n",
    "        self.pixels = array(pixels, dtype='uint8')\n",
    "        self.channels = self.pixels.shape[2]\n",
    "\n",
    "    def __iter__(self):\n",
    "        # return an iterator over just the pixel values\n",
    "        return iter(self.pixels.reshape(-1, self.channels))\n",
    "\n",
    "    def show(self):\n",
    "        plt.imshow(self.pixels, interpolation=\"None\")\n",
    "\n",
    "\n",
    "x = [[[255, 255, 0], [0, 255, 0]], [[0, 0, 255], [255, 255, 255]]]\n",
    "image = MyImage(x)"
   ]
  },
  {
   "cell_type": "code",
   "execution_count": null,
   "id": "dcb7eb6c",
   "metadata": {},
   "outputs": [],
   "source": [
    "%matplotlib inline\n",
    "image.show()"
   ]
  },
  {
   "cell_type": "code",
   "execution_count": null,
   "id": "e49cb372",
   "metadata": {},
   "outputs": [],
   "source": [
    "image.channels"
   ]
  },
  {
   "cell_type": "code",
   "execution_count": null,
   "id": "891d3198",
   "metadata": {},
   "outputs": [],
   "source": [
    "from webcolors import rgb_to_name\n",
    "for pixel in image:\n",
    "    print(rgb_to_name(pixel))"
   ]
  },
  {
   "cell_type": "markdown",
   "id": "6a8bc572",
   "metadata": {},
   "source": [
    "See how we used `image` in a `for` loop, even though it doesn't satisfy the iterator protocol (we didn't define both `__iter__` and `__next__` for it)?\n",
    "\n",
    "The key here is that we can use any *iterable* object (like `image`) in a `for` expression,\n",
    "not just iterators! Internally, Python will create an iterator from the iterable (by calling its `__iter__` method), but this means we don't need to define a `__next__` method explicitly."
   ]
  },
  {
   "cell_type": "markdown",
   "id": "41ccfeb0",
   "metadata": {},
   "source": [
    "The *iterator* protocol is to implement both `__iter__` and\n",
    "`__next__`, while the *iterable* protocol is to implement `__iter__` and return\n",
    "an iterator."
   ]
  },
  {
   "cell_type": "markdown",
   "id": "2571507f",
   "metadata": {},
   "source": [
    "### Generators"
   ]
  },
  {
   "cell_type": "markdown",
   "id": "469a7102",
   "metadata": {},
   "source": [
    "There's a fair amount of \"boiler-plate\" in the above class-based definition of\n",
    "an iterable.\n",
    "\n",
    "Python provides another way to specify something\n",
    "which meets the iterator protocol: **generators**."
   ]
  },
  {
   "cell_type": "code",
   "execution_count": null,
   "id": "a54785f5",
   "metadata": {},
   "outputs": [],
   "source": [
    "def my_generator():\n",
    "    yield 5\n",
    "    yield 10\n",
    "\n",
    "\n",
    "x = my_generator()"
   ]
  },
  {
   "cell_type": "code",
   "execution_count": null,
   "id": "2e89f8ba",
   "metadata": {},
   "outputs": [],
   "source": [
    "next(x)"
   ]
  },
  {
   "cell_type": "code",
   "execution_count": null,
   "id": "4d45c6f9",
   "metadata": {},
   "outputs": [],
   "source": [
    "next(x)"
   ]
  },
  {
   "cell_type": "code",
   "execution_count": null,
   "id": "689f3ee1",
   "metadata": {},
   "outputs": [],
   "source": [
    "next(x)"
   ]
  },
  {
   "cell_type": "code",
   "execution_count": null,
   "id": "402d04b2",
   "metadata": {},
   "outputs": [],
   "source": [
    "for a in my_generator():\n",
    "    print(a)"
   ]
  },
  {
   "cell_type": "code",
   "execution_count": null,
   "id": "ae2e5f6b",
   "metadata": {},
   "outputs": [],
   "source": [
    "sum(my_generator())"
   ]
  },
  {
   "cell_type": "markdown",
   "id": "a4e10e85",
   "metadata": {},
   "source": [
    "A function which has `yield` statements instead of a `return` statement returns\n",
    "**temporarily**: it automagically becomes something which implements `__next__`."
   ]
  },
  {
   "cell_type": "markdown",
   "id": "39ecdd15",
   "metadata": {},
   "source": [
    "Each call of `next()` returns control to the function where it\n",
    "left off."
   ]
  },
  {
   "cell_type": "markdown",
   "id": "3f5a2b1f",
   "metadata": {},
   "source": [
    " Control passes back-and-forth between the generator and the caller.\n",
    "Our Fibonacci example therefore becomes a function rather than a class."
   ]
  },
  {
   "cell_type": "code",
   "execution_count": null,
   "id": "7ad229fa",
   "metadata": {},
   "outputs": [],
   "source": [
    "def yield_fibs(limit, seed1=1, seed2=1):\n",
    "    current = seed1\n",
    "    previous = seed2\n",
    "\n",
    "    while limit > 0:\n",
    "        limit -= 1\n",
    "        current, previous = current + previous, current\n",
    "        yield current"
   ]
  },
  {
   "cell_type": "markdown",
   "id": "ca60f705",
   "metadata": {},
   "source": [
    "We can now use the output of the function like a normal iterable:"
   ]
  },
  {
   "cell_type": "code",
   "execution_count": null,
   "id": "09775f35",
   "metadata": {},
   "outputs": [],
   "source": [
    "sum(yield_fibs(5))"
   ]
  },
  {
   "cell_type": "code",
   "execution_count": null,
   "id": "feccb1d9",
   "metadata": {},
   "outputs": [],
   "source": [
    "for a in yield_fibs(10):\n",
    "    if a % 2 == 0:\n",
    "        print(a)"
   ]
  },
  {
   "cell_type": "markdown",
   "id": "343d548e",
   "metadata": {},
   "source": [
    "Sometimes we may need to gather all values from a generator into a list, such as before passing them to a function that expects a list:"
   ]
  },
  {
   "cell_type": "code",
   "execution_count": null,
   "id": "33122ee9",
   "metadata": {},
   "outputs": [],
   "source": [
    "list(yield_fibs(10))"
   ]
  },
  {
   "cell_type": "code",
   "execution_count": null,
   "id": "c037c54c",
   "metadata": {},
   "outputs": [],
   "source": [
    "plt.plot(list(yield_fibs(20)))"
   ]
  },
  {
   "cell_type": "markdown",
   "id": "ce1f1d14",
   "metadata": {},
   "source": [
    "## Related Concepts\n",
    "\n",
    "Iterables and generators can be used to achieve complex behaviour, especially when combined with functional programming. In fact, Python itself contains some very useful language features that make use of these practices: context managers and decorators. We have already seen these in this class, but here we discuss them in more detail."
   ]
  },
  {
   "cell_type": "markdown",
   "id": "a0d67189",
   "metadata": {},
   "source": [
    "### Context managers"
   ]
  },
  {
   "cell_type": "markdown",
   "id": "f06f2e92",
   "metadata": {},
   "source": [
    "[We have seen before](../ch02data/060files.html#Closing-files) [[notebook](../ch02data/060files.ipynb#Closing-files)] that, instead of separately `open`ing and `close`ing a file, we can have\n",
    "the file be automatically closed using a context manager:"
   ]
  },
  {
   "cell_type": "code",
   "execution_count": null,
   "id": "62e81b79",
   "metadata": {},
   "outputs": [],
   "source": [
    "%%writefile example.yaml\n",
    "modelname: brilliant"
   ]
  },
  {
   "cell_type": "code",
   "execution_count": null,
   "id": "e34f61f0",
   "metadata": {},
   "outputs": [],
   "source": [
    "import yaml\n",
    "\n",
    "with open('example.yaml') as foo:\n",
    "    print(yaml.safe_load(foo))"
   ]
  },
  {
   "cell_type": "markdown",
   "id": "bc9cb237",
   "metadata": {},
   "source": [
    "In addition to more convenient syntax, this takes care of any clean-up that has to be done after the file is closed, even if any errors occur while we are working on the file."
   ]
  },
  {
   "cell_type": "markdown",
   "id": "9c475902",
   "metadata": {},
   "source": [
    "\n",
    "\n",
    "\n",
    "How could we define our own one of these, if we too have clean-up code we\n",
    "always want to run after a calling function has done its work, or set-up code\n",
    "we want to do first?\n",
    "\n",
    "We can define a class that meets an appropriate protocol:\n",
    "\n",
    "\n"
   ]
  },
  {
   "cell_type": "code",
   "execution_count": null,
   "id": "8078543d",
   "metadata": {},
   "outputs": [],
   "source": [
    "class verbose_context():\n",
    "    def __init__(self, name):\n",
    "        self.name=name\n",
    "    def __enter__(self):\n",
    "        print(\"Get ready, \", self.name)\n",
    "    def __exit__(self, exc_type, exc_value, traceback):\n",
    "        print(\"OK, done\")\n",
    "\n",
    "with verbose_context(\"Monty\"):\n",
    "    print(\"Doing it!\")"
   ]
  },
  {
   "cell_type": "markdown",
   "id": "f2b76ebe",
   "metadata": {},
   "source": [
    "\n",
    "\n",
    "However, this is pretty verbose! Again, a generator with `yield` makes for an easier syntax:\n",
    "\n",
    "\n"
   ]
  },
  {
   "cell_type": "code",
   "execution_count": null,
   "id": "7178b714",
   "metadata": {},
   "outputs": [],
   "source": [
    "from contextlib import contextmanager\n",
    "\n",
    "@contextmanager\n",
    "def verbose_context(name):\n",
    "    print(\"Get ready for action, \", name)\n",
    "    yield name.upper()\n",
    "    print(\"You did it\")\n",
    "\n",
    "with verbose_context(\"Monty\") as shouty:\n",
    "    print(f\"Doing it, {shouty}\")"
   ]
  },
  {
   "cell_type": "markdown",
   "id": "3feb9cf4",
   "metadata": {},
   "source": [
    "\n",
    "\n",
    "Again, we use `yield` to temporarily return from a function.\n"
   ]
  },
  {
   "cell_type": "markdown",
   "id": "6e904ee7",
   "metadata": {},
   "source": [
    "### Decorators"
   ]
  },
  {
   "cell_type": "markdown",
   "id": "9bdcacf7",
   "metadata": {},
   "source": [
    "\n",
    "When doing functional programming, we may often want to define mutator\n",
    "functions which take in one function and return a new function, such as our\n",
    "derivative example earlier.\n",
    "\n",
    "\n"
   ]
  },
  {
   "cell_type": "code",
   "execution_count": null,
   "id": "47f9e171",
   "metadata": {},
   "outputs": [],
   "source": [
    "from math import sqrt\n",
    "\n",
    "\n",
    "def repeater(count):\n",
    "    def wrap_function_in_repeat(func):\n",
    "\n",
    "        def _repeated(x):\n",
    "            counter = count\n",
    "            while counter > 0:\n",
    "                counter -= 1\n",
    "                x = func(x)\n",
    "            return x\n",
    "\n",
    "        return _repeated\n",
    "    return wrap_function_in_repeat\n",
    "\n",
    "\n",
    "fiftytimes = repeater(50)\n",
    "\n",
    "fiftyroots = fiftytimes(sqrt)\n",
    "\n",
    "print(fiftyroots(100))"
   ]
  },
  {
   "cell_type": "markdown",
   "id": "891d3aa0",
   "metadata": {},
   "source": [
    "It turns out that, quite often, we want to apply one of these to a function as we're defining a class.\n",
    "For example, we may want to specify that after certain methods are called, data should always be stored:"
   ]
  },
  {
   "cell_type": "markdown",
   "id": "2558d053",
   "metadata": {},
   "source": [
    "Any function which accepts a function as its first argument and returns a function can be used as a **decorator** like this.\n",
    "\n",
    "Much of Python's standard functionality is implemented as decorators: we've\n",
    "seen @contextmanager, @classmethod and @attribute. The @contextmanager\n",
    "metafunction, for example, takes in an iterator, and yields a class conforming\n",
    "to the context manager protocol.\n"
   ]
  },
  {
   "cell_type": "code",
   "execution_count": null,
   "id": "33b126db",
   "metadata": {},
   "outputs": [],
   "source": [
    "@repeater(3)\n",
    "def hello(name):\n",
    "    return f\"Hello, {name}\""
   ]
  },
  {
   "cell_type": "code",
   "execution_count": null,
   "id": "42bf82f4",
   "metadata": {},
   "outputs": [],
   "source": [
    "hello(\"Cleese\")"
   ]
  },
  {
   "cell_type": "markdown",
   "id": "3e7b494f",
   "metadata": {},
   "source": [
    "## Supplementary material\n",
    "\n",
    "The remainder of this page contains an example of the flexibility of the features discussed above. Specifically, it shows how generators and context managers can be combined to create a testing framework like the one previously seen in the course."
   ]
  },
  {
   "cell_type": "markdown",
   "id": "4d5e5dc1",
   "metadata": {},
   "source": [
    "### Test generators\n",
    "\n",
    "\n",
    "A few weeks ago we saw a test which loaded its test cases from a YAML file and\n",
    "asserted each input with each output. This was nice and concise, but had one\n",
    "flaw: we had just one test, covering all the fixtures, so we got just one . in\n",
    "the test output when we ran the tests, and if any test failed, the rest were\n",
    "not run. We can do a nicer job with a test **generator**:\n",
    "\n",
    "\n",
    "\n"
   ]
  },
  {
   "cell_type": "code",
   "execution_count": null,
   "id": "d962cfea",
   "metadata": {},
   "outputs": [],
   "source": [
    "def assert_exemplar(**fixture):\n",
    "    answer = fixture.pop('answer')\n",
    "    assert_equal(greet(**fixture), answer)\n",
    "\n",
    "\n",
    "def test_greeter():\n",
    "    with open(os.path.join(os.path.dirname(\n",
    "        __file__), 'fixtures', 'samples.yaml')\n",
    "    ) as fixtures_file:\n",
    "        fixtures = yaml.safe_load(fixtures_file)\n",
    "\n",
    "        for fixture in fixtures:\n",
    "\n",
    "            yield assert_exemplar(**fixture)"
   ]
  },
  {
   "cell_type": "markdown",
   "id": "a9e8f29e",
   "metadata": {},
   "source": [
    "Each time a function beginning with `test_` does a `yield` it results in another test."
   ]
  },
  {
   "cell_type": "markdown",
   "id": "7754a8e5",
   "metadata": {},
   "source": [
    "### Negative test contexts managers"
   ]
  },
  {
   "cell_type": "markdown",
   "id": "d1b78d5c",
   "metadata": {},
   "source": [
    "We have seen this:"
   ]
  },
  {
   "cell_type": "code",
   "execution_count": null,
   "id": "052cf3eb",
   "metadata": {},
   "outputs": [],
   "source": [
    "from pytest import raises\n",
    "\n",
    "with raises(AttributeError):\n",
    "    x = 2\n",
    "    x.foo()"
   ]
  },
  {
   "cell_type": "markdown",
   "id": "650c2fa8",
   "metadata": {},
   "source": [
    "We can now see how `pytest` might have implemented this:"
   ]
  },
  {
   "cell_type": "code",
   "execution_count": null,
   "id": "7e0e8b70",
   "metadata": {},
   "outputs": [],
   "source": [
    "from contextlib import contextmanager\n",
    "\n",
    "\n",
    "@contextmanager\n",
    "def reimplement_raises(exception):\n",
    "    try:\n",
    "        yield\n",
    "    except exception:\n",
    "        pass\n",
    "    else:\n",
    "        raise Exception(\"Expected,\", exception,\n",
    "                        \" to be raised, nothing was.\")"
   ]
  },
  {
   "cell_type": "code",
   "execution_count": null,
   "id": "0837091c",
   "metadata": {},
   "outputs": [],
   "source": [
    "with reimplement_raises(AttributeError):\n",
    "    x = 2\n",
    "    x.foo()"
   ]
  },
  {
   "cell_type": "markdown",
   "id": "1f1cbdf1",
   "metadata": {},
   "source": [
    "### Negative test decorators"
   ]
  },
  {
   "cell_type": "markdown",
   "id": "972d5134",
   "metadata": {},
   "source": [
    "Some frameworks, like `nose`, also implement a very nice negative test decorator, which lets us marks tests that we know should produce an exception:"
   ]
  },
  {
   "cell_type": "code",
   "execution_count": null,
   "id": "e31b6949",
   "metadata": {},
   "outputs": [],
   "source": [
    "import nose\n",
    "\n",
    "\n",
    "@nose.tools.raises(TypeError, ValueError)\n",
    "def test_raises_type_error():\n",
    "    raise TypeError(\"This test passes\")"
   ]
  },
  {
   "cell_type": "code",
   "execution_count": null,
   "id": "c8d0b184",
   "metadata": {},
   "outputs": [],
   "source": [
    "test_raises_type_error()"
   ]
  },
  {
   "cell_type": "code",
   "execution_count": null,
   "id": "510f5950",
   "metadata": {},
   "outputs": [],
   "source": [
    "@nose.tools.raises(Exception)\n",
    "def test_that_fails_by_passing():\n",
    "    pass"
   ]
  },
  {
   "cell_type": "code",
   "execution_count": null,
   "id": "ce01db54",
   "metadata": {},
   "outputs": [],
   "source": [
    "test_that_fails_by_passing()"
   ]
  },
  {
   "cell_type": "markdown",
   "id": "7000275d",
   "metadata": {},
   "source": [
    "We could reimplement this ourselves now too, using the context manager we wrote above:"
   ]
  },
  {
   "cell_type": "code",
   "execution_count": null,
   "id": "76c975f1",
   "metadata": {},
   "outputs": [],
   "source": [
    "def homemade_raises_decorator(exception):\n",
    "    def wrap_function(func):  # Closure over exception\n",
    "        # Define a function which runs another function under our \"raises\" context:\n",
    "        def _output(*args):  # Closure over func and exception\n",
    "            with reimplement_raises(exception):\n",
    "                func(*args)\n",
    "        # Return it\n",
    "        return _output\n",
    "    return wrap_function"
   ]
  },
  {
   "cell_type": "code",
   "execution_count": null,
   "id": "8c02cb8d",
   "metadata": {},
   "outputs": [],
   "source": [
    "@homemade_raises_decorator(TypeError)\n",
    "def test_raises_type_error():\n",
    "    raise TypeError(\"This test passes\")"
   ]
  },
  {
   "cell_type": "code",
   "execution_count": null,
   "id": "a8bbc97c",
   "metadata": {},
   "outputs": [],
   "source": [
    "test_raises_type_error()"
   ]
  }
 ],
 "metadata": {
  "jekyll": {
   "display_name": "Iterators, Generators, Decorators, and Contexts"
  },
  "jupytext": {
   "main_language": "python",
   "notebook_metadata_filter": "-kernelspec,jupytext,jekyll"
  }
 },
 "nbformat": 4,
 "nbformat_minor": 5
}