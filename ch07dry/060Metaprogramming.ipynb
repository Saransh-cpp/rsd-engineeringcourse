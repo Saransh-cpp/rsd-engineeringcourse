{
 "cells": [
  {
   "cell_type": "markdown",
   "id": "a223fae9",
   "metadata": {},
   "source": [
    "## Metaprogramming"
   ]
  },
  {
   "cell_type": "markdown",
   "id": "aafd6b2f",
   "metadata": {},
   "source": [
    "Warning: Advanced topic!"
   ]
  },
  {
   "cell_type": "markdown",
   "id": "6a74390c",
   "metadata": {},
   "source": [
    "### Metaprogramming globals"
   ]
  },
  {
   "cell_type": "markdown",
   "id": "31f182c8",
   "metadata": {},
   "source": [
    "\n",
    "Consider a bunch of variables, each of which need initialising and incrementing:\n",
    "\n",
    "\n"
   ]
  },
  {
   "cell_type": "code",
   "execution_count": null,
   "id": "6a808288",
   "metadata": {},
   "outputs": [],
   "source": [
    "bananas = 0\n",
    "apples = 0\n",
    "oranges = 0\n",
    "bananas += 1\n",
    "apples += 1\n",
    "oranges += 1"
   ]
  },
  {
   "cell_type": "markdown",
   "id": "1489d017",
   "metadata": {},
   "source": [
    "\n",
    "\n",
    "The right hand side of these assignments doesn't respect the DRY principle. We\n",
    "could of course define a variable for our initial value:\n",
    "\n",
    "\n"
   ]
  },
  {
   "cell_type": "code",
   "execution_count": null,
   "id": "2a76a7ae",
   "metadata": {},
   "outputs": [],
   "source": [
    "initial_fruit_count = 0\n",
    "bananas = initial_fruit_count\n",
    "apples = initial_fruit_count\n",
    "oranges = initial_fruit_count"
   ]
  },
  {
   "cell_type": "markdown",
   "id": "29aca5e1",
   "metadata": {},
   "source": [
    "\n",
    "\n",
    "However, this is still not as DRY as it could be: what if we wanted to replace\n",
    "the assignment with, say, a class constructor and a buy operation:\n",
    "\n",
    "\n"
   ]
  },
  {
   "cell_type": "code",
   "execution_count": null,
   "id": "0dbdb502",
   "metadata": {},
   "outputs": [],
   "source": [
    "class Basket:\n",
    "    def __init__(self):\n",
    "        self.count = 0\n",
    "    def buy(self):\n",
    "        self.count += 1\n",
    "\n",
    "bananas = Basket()\n",
    "apples = Basket()\n",
    "oranges = Basket()\n",
    "bananas.buy()\n",
    "apples.buy()\n",
    "oranges.buy()"
   ]
  },
  {
   "cell_type": "markdown",
   "id": "b8fe4555",
   "metadata": {},
   "source": [
    "\n",
    "\n",
    "We had to make the change in three places. Whenever you see a situation where a\n",
    "refactoring or change of design might require you to change the code in\n",
    "multiple places, you have an opportunity to make the code DRYer.\n",
    "\n",
    "In this case, metaprogramming for incrementing these variables would involve\n",
    "just a loop over all the variables we want to initialise:\n",
    "\n",
    "\n"
   ]
  },
  {
   "cell_type": "code",
   "execution_count": null,
   "id": "db6a97f2",
   "metadata": {},
   "outputs": [],
   "source": [
    "baskets = [bananas, apples, oranges]\n",
    "for basket in baskets: \n",
    "    basket.buy()"
   ]
  },
  {
   "cell_type": "markdown",
   "id": "e5e6555f",
   "metadata": {},
   "source": [
    "\n",
    "\n",
    "However, this trick **doesn't** work for initialising a new variable:\n",
    "\n",
    "\n"
   ]
  },
  {
   "cell_type": "code",
   "execution_count": null,
   "id": "78062a74",
   "metadata": {},
   "outputs": [],
   "source": [
    "from pytest import raises\n",
    "with raises(NameError):\n",
    "    baskets = [bananas, apples, oranges, kiwis]"
   ]
  },
  {
   "cell_type": "markdown",
   "id": "afc51020",
   "metadata": {},
   "source": [
    "\n",
    "\n",
    "So can we declare a new variable programmatically? Given a list of the\n",
    "**names** of fruit baskets we want, initialise a variable with that name?\n",
    "\n",
    "\n"
   ]
  },
  {
   "cell_type": "code",
   "execution_count": null,
   "id": "0502d1ee",
   "metadata": {},
   "outputs": [],
   "source": [
    "basket_names = ['bananas', 'apples', 'oranges', 'kiwis']\n",
    "\n",
    "globals()['apples']"
   ]
  },
  {
   "cell_type": "markdown",
   "id": "4f1a8c07",
   "metadata": {},
   "source": [
    "\n",
    "\n",
    "\n",
    "Wow, we can! Every module or class in Python, is, under the hood, a special\n",
    "dictionary, storing the values in its **namespace**. So we can create new\n",
    "variables by assigning to this dictionary. globals() gives a reference to the\n",
    "attribute dictionary for the current module\n",
    "\n",
    "\n"
   ]
  },
  {
   "cell_type": "code",
   "execution_count": null,
   "id": "c83f17b8",
   "metadata": {},
   "outputs": [],
   "source": [
    "for name in basket_names:\n",
    "    globals()[name] = Basket()\n",
    "\n",
    "\n",
    "kiwis.count"
   ]
  },
  {
   "cell_type": "markdown",
   "id": "3ac0b6ca",
   "metadata": {},
   "source": [
    "\n",
    "\n",
    "This is **metaprogramming**.\n",
    "\n",
    "I would NOT recommend using it for an example as trivial as the one above. \n",
    "A better, more Pythonic choice here would be to use a data structure to manage your set of fruit baskets:\n",
    "\n",
    "\n"
   ]
  },
  {
   "cell_type": "code",
   "execution_count": null,
   "id": "0d47fd89",
   "metadata": {},
   "outputs": [],
   "source": [
    "baskets = {}\n",
    "for name in basket_names:\n",
    "    baskets[name] = Basket()\n",
    "\n",
    "baskets['kiwis'].count"
   ]
  },
  {
   "cell_type": "markdown",
   "id": "e837c076",
   "metadata": {},
   "source": [
    "\n",
    "\n",
    "Or even, using a dictionary comprehension:\n",
    "\n",
    "\n"
   ]
  },
  {
   "cell_type": "code",
   "execution_count": null,
   "id": "0ecf5108",
   "metadata": {},
   "outputs": [],
   "source": [
    "baskets = {name: Basket() for name in baskets}\n",
    "baskets['kiwis'].count"
   ]
  },
  {
   "cell_type": "markdown",
   "id": "fbec03d8",
   "metadata": {},
   "source": [
    "\n",
    "\n",
    "Which is the nicest way to do this, I think. Code which feels like\n",
    "metaprogramming is needed to make it less repetitive can often instead be DRYed\n",
    "up using a refactored data structure, in a way which is cleaner and more easy\n",
    "to understand. Nevertheless, metaprogramming is worth knowing. \n"
   ]
  },
  {
   "cell_type": "markdown",
   "id": "680aa02b",
   "metadata": {},
   "source": [
    "### Metaprogramming class attributes"
   ]
  },
  {
   "cell_type": "markdown",
   "id": "a64a4eef",
   "metadata": {},
   "source": [
    "We can metaprogram the attributes of a **module** using the globals() function.\n",
    "\n",
    "We will also want to be able to metaprogram a class, by accessing its attribute dictionary.\n",
    "\n",
    "This will allow us, for example, to programmatically add members to a class."
   ]
  },
  {
   "cell_type": "code",
   "execution_count": null,
   "id": "aba02582",
   "metadata": {},
   "outputs": [],
   "source": [
    "class Boring: \n",
    "    pass"
   ]
  },
  {
   "cell_type": "markdown",
   "id": "d604d8b3",
   "metadata": {},
   "source": [
    "If we are adding our own attributes, we can just do so directly:"
   ]
  },
  {
   "cell_type": "code",
   "execution_count": null,
   "id": "d99a952c",
   "metadata": {},
   "outputs": [],
   "source": [
    "x = Boring()\n",
    "\n",
    "x.name = \"Michael\""
   ]
  },
  {
   "cell_type": "code",
   "execution_count": null,
   "id": "b2b9c253",
   "metadata": {},
   "outputs": [],
   "source": [
    "x.name"
   ]
  },
  {
   "cell_type": "markdown",
   "id": "167c046a",
   "metadata": {},
   "source": [
    "And these turn up, as expected, in an attribute dictionary for the class:"
   ]
  },
  {
   "cell_type": "code",
   "execution_count": null,
   "id": "f564f8b0",
   "metadata": {},
   "outputs": [],
   "source": [
    "x.__dict__"
   ]
  },
  {
   "cell_type": "markdown",
   "id": "9d2438e3",
   "metadata": {},
   "source": [
    "We can use `getattr` to access this special dictionary:"
   ]
  },
  {
   "cell_type": "code",
   "execution_count": null,
   "id": "1d3c9504",
   "metadata": {},
   "outputs": [],
   "source": [
    "getattr(x, 'name')"
   ]
  },
  {
   "cell_type": "markdown",
   "id": "b2f51d87",
   "metadata": {},
   "source": [
    "If we want to add an attribute given it's name as a string, we can use setattr:"
   ]
  },
  {
   "cell_type": "code",
   "execution_count": null,
   "id": "85461960",
   "metadata": {},
   "outputs": [],
   "source": [
    "setattr(x, 'age', 75)\n",
    "\n",
    "x.age"
   ]
  },
  {
   "cell_type": "markdown",
   "id": "e37f27ec",
   "metadata": {},
   "source": [
    "And we could do this in a loop to programmatically add many attributes."
   ]
  },
  {
   "cell_type": "markdown",
   "id": "f6483f1b",
   "metadata": {},
   "source": [
    "The real power of accessing the attribute dictionary comes when we realise that\n",
    "there is *very little difference* between member data and member functions."
   ]
  },
  {
   "cell_type": "markdown",
   "id": "ac96255e",
   "metadata": {},
   "source": [
    "Now that we know, from our functional programming, that **a function is just a\n",
    "variable that can be *called* with `()`**, we can set an attribute to a function,\n",
    "and\n",
    "it becomes a member function!"
   ]
  },
  {
   "cell_type": "code",
   "execution_count": null,
   "id": "368acc05",
   "metadata": {},
   "outputs": [],
   "source": [
    "setattr(Boring, 'describe', lambda self: f\"{self.name} is {self.age}\")"
   ]
  },
  {
   "cell_type": "code",
   "execution_count": null,
   "id": "d65e8735",
   "metadata": {},
   "outputs": [],
   "source": [
    "x.describe()"
   ]
  },
  {
   "cell_type": "code",
   "execution_count": null,
   "id": "1479cb1b",
   "metadata": {},
   "outputs": [],
   "source": [
    "x.describe"
   ]
  },
  {
   "cell_type": "code",
   "execution_count": null,
   "id": "f0dbc1ef",
   "metadata": {},
   "outputs": [],
   "source": [
    "Boring.describe"
   ]
  },
  {
   "cell_type": "markdown",
   "id": "651ba025",
   "metadata": {},
   "source": [
    "Note that we set this method as an attribute of the class, not the instance, so it is available to other instances of `Boring`:"
   ]
  },
  {
   "cell_type": "code",
   "execution_count": null,
   "id": "3951f8f7",
   "metadata": {},
   "outputs": [],
   "source": [
    "y = Boring()\n",
    "y.name = 'Terry'\n",
    "y.age  = 78"
   ]
  },
  {
   "cell_type": "code",
   "execution_count": null,
   "id": "72fc2d91",
   "metadata": {},
   "outputs": [],
   "source": [
    "y.describe()"
   ]
  },
  {
   "cell_type": "markdown",
   "id": "4c5f3510",
   "metadata": {},
   "source": [
    "We can define a standalone function, and then **bind** it to the class. Its first argument automagically becomes\n",
    "`self`."
   ]
  },
  {
   "cell_type": "code",
   "execution_count": null,
   "id": "d852974a",
   "metadata": {},
   "outputs": [],
   "source": [
    "def broken_birth_year(b_instance):\n",
    "    import datetime\n",
    "    current = datetime.datetime.now().year\n",
    "    return current - b_instance.age"
   ]
  },
  {
   "cell_type": "code",
   "execution_count": null,
   "id": "c9fef853",
   "metadata": {},
   "outputs": [],
   "source": [
    "Boring.birth_year = broken_birth_year"
   ]
  },
  {
   "cell_type": "code",
   "execution_count": null,
   "id": "9776988d",
   "metadata": {},
   "outputs": [],
   "source": [
    "x.birth_year()"
   ]
  },
  {
   "cell_type": "code",
   "execution_count": null,
   "id": "5702efed",
   "metadata": {},
   "outputs": [],
   "source": [
    "x.birth_year"
   ]
  },
  {
   "cell_type": "code",
   "execution_count": null,
   "id": "7fae6ee8",
   "metadata": {},
   "outputs": [],
   "source": [
    "x.birth_year.__name__"
   ]
  },
  {
   "cell_type": "markdown",
   "id": "32545266",
   "metadata": {},
   "source": [
    "### Metaprogramming function locals"
   ]
  },
  {
   "cell_type": "markdown",
   "id": "5edf30af",
   "metadata": {},
   "source": [
    "We can access the attribute dictionary for the local namespace inside a\n",
    "function with `locals()` but this *cannot be written to*.\n",
    "\n",
    "Lack of safe\n",
    "programmatic creation of function-local variables is a flaw in Python."
   ]
  },
  {
   "cell_type": "code",
   "execution_count": null,
   "id": "37476087",
   "metadata": {},
   "outputs": [],
   "source": [
    "class Person:\n",
    "    def __init__(self, name, age, job, children_count):\n",
    "        for name, value in locals().items():\n",
    "            if name == 'self': \n",
    "                continue\n",
    "            print(f\"Setting self.{name} to {value}\")\n",
    "            setattr(self, name, value)"
   ]
  },
  {
   "cell_type": "code",
   "execution_count": null,
   "id": "af94f882",
   "metadata": {},
   "outputs": [],
   "source": [
    "terry = Person(\"Terry\", 78, \"Screenwriter\", 0)"
   ]
  },
  {
   "cell_type": "code",
   "execution_count": null,
   "id": "e1e3d840",
   "metadata": {},
   "outputs": [],
   "source": [
    "terry.name"
   ]
  },
  {
   "cell_type": "markdown",
   "id": "78846fda",
   "metadata": {},
   "source": [
    "### Metaprogramming warning!"
   ]
  },
  {
   "cell_type": "markdown",
   "id": "49dd897c",
   "metadata": {},
   "source": [
    "\n",
    "Use this stuff **sparingly**!\n",
    "\n",
    "The above example worked, but it produced Python code which is not particularly understandable.\n",
    "Remember, your objective when programming is to produce code which is **descriptive of what it does**.\n",
    "\n",
    "The above code is **definitely** less readable, less maintainable and more error prone than:\n",
    "\n",
    "\n"
   ]
  },
  {
   "cell_type": "code",
   "execution_count": null,
   "id": "32eb1413",
   "metadata": {},
   "outputs": [],
   "source": [
    "class Person:\n",
    "    def __init__(self, name, age, job, children_count):\n",
    "        self.name = name\n",
    "        self.age = age\n",
    "        self.job = job\n",
    "        self.children_count = children_count"
   ]
  },
  {
   "cell_type": "markdown",
   "id": "c027c89f",
   "metadata": {},
   "source": [
    "\n",
    "\n",
    "\n",
    "Sometimes, metaprogramming will be **really** helpful in making non-repetitive\n",
    "code, and you should have it in your toolbox, which is why I'm teaching you it.\n",
    "But doing it all the time overcomplicated matters. We've talked a lot about the\n",
    "DRY principle, but there is another equally important principle:\n",
    "\n",
    "> **KISS**: *Keep it simple, Stupid!*\n",
    "\n",
    "Whenever you write code and you think, \"Gosh, I'm really clever\",you're\n",
    "probably *doing it wrong*. Code should be about clarity, not showing off.\n"
   ]
  }
 ],
 "metadata": {
  "jekyll": {
   "display_name": "Metaprogramming"
  },
  "jupytext": {
   "main_language": "python",
   "notebook_metadata_filter": "-kernelspec,jupytext,jekyll"
  }
 },
 "nbformat": 4,
 "nbformat_minor": 5
}