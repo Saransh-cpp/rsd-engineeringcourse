{
 "cells": [
  {
   "cell_type": "markdown",
   "id": "6376961a",
   "metadata": {},
   "source": [
    "## Exceptions"
   ]
  },
  {
   "cell_type": "markdown",
   "id": "37a40db5",
   "metadata": {},
   "source": [
    "\n",
    "When we learned about testing, we saw that Python complains when things go wrong by raising an \"Exception\" naming a type of error:\n",
    "\n",
    "\n"
   ]
  },
  {
   "cell_type": "code",
   "execution_count": null,
   "id": "014463a9",
   "metadata": {},
   "outputs": [],
   "source": [
    "1/0"
   ]
  },
  {
   "cell_type": "markdown",
   "id": "0e684ee3",
   "metadata": {},
   "source": [
    "Exceptions are objects, forming a [class hierarchy](https://docs.python.org/3/library/exceptions.html#exception-hierarchy). We just raised an instance\n",
    "of the `ZeroDivisionError` class, making the program crash. If we want more\n",
    "information about where this class fits in the hierarchy, we can use [Python's\n",
    "`inspect` module](https://docs.python.org/3/library/inspect.html) to get a chain of classes, from `ZeroDivisionError` up to `object`:"
   ]
  },
  {
   "cell_type": "code",
   "execution_count": null,
   "id": "bdacabaa",
   "metadata": {},
   "outputs": [],
   "source": [
    "import inspect\n",
    "inspect.getmro(ZeroDivisionError)"
   ]
  },
  {
   "cell_type": "markdown",
   "id": "97a07be8",
   "metadata": {},
   "source": [
    "\n",
    "\n",
    "So we can see that a zero division error is a particular kind of Arithmetic Error.\n",
    "\n",
    "\n"
   ]
  },
  {
   "cell_type": "code",
   "execution_count": null,
   "id": "e1a65ef8",
   "metadata": {},
   "outputs": [],
   "source": [
    "x = 1\n",
    "\n",
    "for y in x:\n",
    "    print(y)"
   ]
  },
  {
   "cell_type": "code",
   "execution_count": null,
   "id": "1c9a2cf6",
   "metadata": {},
   "outputs": [],
   "source": [
    "inspect.getmro(TypeError)"
   ]
  },
  {
   "cell_type": "markdown",
   "id": "45d05375",
   "metadata": {},
   "source": [
    "### Create your own Exception"
   ]
  },
  {
   "cell_type": "markdown",
   "id": "f3cff458",
   "metadata": {},
   "source": [
    "When we were looking at testing, we saw that it is important for code to crash with a meaningful exception type when something is wrong.\n",
    "We raise an Exception with `raise`. Often, we can look for an appropriate exception from the standard set to raise. \n",
    "\n",
    "However, we may want to define our own exceptions. Doing this is as simple as inheriting from Exception (or one of its subclasses):"
   ]
  },
  {
   "cell_type": "code",
   "execution_count": null,
   "id": "c70769c2",
   "metadata": {},
   "outputs": [],
   "source": [
    "class MyCustomErrorType(ArithmeticError):\n",
    "    pass\n",
    "\n",
    "\n",
    "raise(MyCustomErrorType(\"Problem\"))"
   ]
  },
  {
   "cell_type": "markdown",
   "id": "a7f98226",
   "metadata": {},
   "source": [
    "\n",
    "\n",
    "You can add custom data to your exception:\n",
    "\n",
    "\n"
   ]
  },
  {
   "cell_type": "code",
   "execution_count": null,
   "id": "42145158",
   "metadata": {},
   "outputs": [],
   "source": [
    "class MyCustomErrorType(Exception):\n",
    "    def __init__(self, category=None):\n",
    "        self.category = category\n",
    "\n",
    "    def __str__(self):\n",
    "        return f\"Error, category {self.category}\"\n",
    "\n",
    "\n",
    "raise(MyCustomErrorType(404))"
   ]
  },
  {
   "cell_type": "markdown",
   "id": "d688f5c9",
   "metadata": {},
   "source": [
    "\n",
    "\n",
    "The real power of exceptions comes, however, not in letting them crash the program, but in letting your program handle them. We say that an exception has been \"thrown\" and then \"caught\".\n",
    "\n",
    "\n"
   ]
  },
  {
   "cell_type": "code",
   "execution_count": null,
   "id": "c3baeece",
   "metadata": {},
   "outputs": [],
   "source": [
    "import yaml\n",
    "\n",
    "try:\n",
    "    config = yaml.safe_load(open(\"datasource.yaml\"))\n",
    "    user = config[\"userid\"]\n",
    "    password = config[\"password\"]\n",
    "\n",
    "except FileNotFoundError:\n",
    "    print(\"No password file found, using anonymous user.\")\n",
    "    user = \"anonymous\"\n",
    "    password = None\n",
    "\n",
    "\n",
    "print(user)"
   ]
  },
  {
   "cell_type": "markdown",
   "id": "58f2c3d9",
   "metadata": {},
   "source": [
    "\n",
    "\n",
    "Note that we specify only the error we expect to happen and want to handle. Sometimes you see code that catches everything:\n",
    "\n",
    "\n"
   ]
  },
  {
   "cell_type": "code",
   "execution_count": null,
   "id": "a28f07c1",
   "metadata": {},
   "outputs": [],
   "source": [
    "try:\n",
    "    config = yaml.lod(open(\"datasource.yaml\"))\n",
    "    user = config[\"userid\"]\n",
    "    password = config[\"password\"]\n",
    "except:\n",
    "    user = \"anonymous\"\n",
    "    password = None\n",
    "\n",
    "print(user)"
   ]
  },
  {
   "cell_type": "markdown",
   "id": "7135f727",
   "metadata": {},
   "source": [
    "This can be dangerous and can make it hard to find errors! There was a mistyped function name there ('`lod`'), but we did not notice the error, as the generic except caught it. \n",
    "Therefore, we should be specific and catch only the type of error we want."
   ]
  },
  {
   "cell_type": "markdown",
   "id": "cd9f5662",
   "metadata": {},
   "source": [
    "### Managing multiple exceptions"
   ]
  },
  {
   "cell_type": "markdown",
   "id": "8ae06710",
   "metadata": {},
   "source": [
    "Let's create two credential files to read"
   ]
  },
  {
   "cell_type": "code",
   "execution_count": null,
   "id": "14d9faa4",
   "metadata": {},
   "outputs": [],
   "source": [
    "with open('datasource2.yaml', 'w') as outfile:\n",
    "    outfile.write('userid: eidle\\n')\n",
    "    outfile.write('password: secret\\n')\n",
    "\n",
    "with open('datasource3.yaml', 'w') as outfile:\n",
    "    outfile.write('user: eidle\\n')\n",
    "    outfile.write('password: secret\\n')"
   ]
  },
  {
   "cell_type": "markdown",
   "id": "bd7d5b07",
   "metadata": {},
   "source": [
    "And create a function that reads credentials files and returns the username and password to use."
   ]
  },
  {
   "cell_type": "code",
   "execution_count": null,
   "id": "d2136931",
   "metadata": {},
   "outputs": [],
   "source": [
    "def read_credentials(source):\n",
    "    try:\n",
    "        datasource = open(source)\n",
    "        config = yaml.safe_load(datasource)\n",
    "        user = config[\"userid\"]\n",
    "        password = config[\"password\"]\n",
    "        datasource.close()\n",
    "    except FileNotFoundError:\n",
    "        print(\"Password file missing\")\n",
    "        user = \"anonymous\"\n",
    "        password = None\n",
    "    except KeyError:\n",
    "        print(\"Expected keys not found in file\")\n",
    "        user = \"anonymous\"\n",
    "        password = None\n",
    "    return user, password"
   ]
  },
  {
   "cell_type": "code",
   "execution_count": null,
   "id": "0d0e45e8",
   "metadata": {},
   "outputs": [],
   "source": [
    "print(read_credentials('datasource2.yaml'))"
   ]
  },
  {
   "cell_type": "code",
   "execution_count": null,
   "id": "8f8bf023",
   "metadata": {},
   "outputs": [],
   "source": [
    "print(read_credentials('datasource.yaml'))"
   ]
  },
  {
   "cell_type": "code",
   "execution_count": null,
   "id": "ca712199",
   "metadata": {},
   "outputs": [],
   "source": [
    "print(read_credentials('datasource3.yaml'))"
   ]
  },
  {
   "cell_type": "markdown",
   "id": "c517be2e",
   "metadata": {},
   "source": [
    "This last code has a flaw: the file was successfully opened, the missing key was noticed, but not explicitly closed. It's normally OK, as Python will close the file as soon as it notices there are no longer any references to datasource in memory, after the function exits. But this is not good practice, you should keep a file handle for as short a time as possible."
   ]
  },
  {
   "cell_type": "code",
   "execution_count": null,
   "id": "07c0efc8",
   "metadata": {},
   "outputs": [],
   "source": [
    "def read_credentials(source):\n",
    "    try:\n",
    "        datasource = open(source)\n",
    "        config = yaml.safe_load(datasource)\n",
    "        user = config[\"userid\"]\n",
    "        password = config[\"password\"]\n",
    "    except FileNotFoundError:\n",
    "        user = \"anonymous\"\n",
    "        password = None\n",
    "    finally:\n",
    "        datasource.close()\n",
    "\n",
    "    return user, password"
   ]
  },
  {
   "cell_type": "markdown",
   "id": "62dfb943",
   "metadata": {},
   "source": [
    "The `finally` clause is executed whether or not an exception occurs.\n",
    "\n",
    "The last optional clause of a `try` statement, an `else` clause is called only if an exception is NOT raised. It can be a better place than the `try` clause to put code other than that which you expect to raise the error, and which you do not want to be executed if the error is raised. It is executed in the same circumstances as code put in the end of the `try` block, the only difference is that errors raised during the `else` clause are not caught. Don't worry if this seems useless to you; most languages' implementations of try/except don't support such a clause."
   ]
  },
  {
   "cell_type": "code",
   "execution_count": null,
   "id": "2e7a0294",
   "metadata": {},
   "outputs": [],
   "source": [
    "def read_credentials(source):\n",
    "    try:\n",
    "        datasource = open(source)\n",
    "    except FileNotFoundError:\n",
    "        user = \"anonymous\"\n",
    "        password = None\n",
    "    else:\n",
    "        config = yaml.safe_load(datasource)\n",
    "        user = config[\"userid\"]\n",
    "        password = config[\"password\"]\n",
    "    finally:\n",
    "        datasource.close()\n",
    "    return user, password"
   ]
  },
  {
   "cell_type": "markdown",
   "id": "0360e73b",
   "metadata": {},
   "source": [
    "\n",
    "\n",
    "Exceptions do not have to be caught close to the part of the program calling\n",
    "them. They can be caught anywhere \"above\" the calling point in\n",
    "the call stack: control can jump arbitrarily far in the program: up to the `except` clause of the \"highest\" containing try statement.\n",
    "\n",
    "\n"
   ]
  },
  {
   "cell_type": "code",
   "execution_count": null,
   "id": "9ff775ed",
   "metadata": {},
   "outputs": [],
   "source": [
    "def f4(x):\n",
    "    if x == 0:\n",
    "        return\n",
    "    if x == 1:\n",
    "        raise ArithmeticError()\n",
    "    if x == 2:\n",
    "        raise SyntaxError()\n",
    "    if x == 3:\n",
    "        raise TypeError()"
   ]
  },
  {
   "cell_type": "code",
   "execution_count": null,
   "id": "ccf12f95",
   "metadata": {},
   "outputs": [],
   "source": [
    "def f3(x):\n",
    "    try:\n",
    "        print(\"F3Before\")\n",
    "        f4(x)\n",
    "        print(\"F3After\")\n",
    "    except ArithmeticError:\n",
    "        print(\"F3Except (💣)\")"
   ]
  },
  {
   "cell_type": "code",
   "execution_count": null,
   "id": "78f32a47",
   "metadata": {},
   "outputs": [],
   "source": [
    "def f2(x):\n",
    "    try:\n",
    "        print(\"F2Before\")\n",
    "        f3(x)\n",
    "        print(\"F2After\")\n",
    "    except SyntaxError:\n",
    "        print(\"F2Except (💣)\")"
   ]
  },
  {
   "cell_type": "code",
   "execution_count": null,
   "id": "f64d4339",
   "metadata": {},
   "outputs": [],
   "source": [
    "def f1(x):\n",
    "    try:\n",
    "        print(\"F1Before\")\n",
    "        f2(x)\n",
    "        print(\"F1After\")\n",
    "    except TypeError:\n",
    "        print(\"F1Except (💣)\")"
   ]
  },
  {
   "cell_type": "code",
   "execution_count": null,
   "id": "b75a7e09",
   "metadata": {},
   "outputs": [],
   "source": [
    "f1(0)"
   ]
  },
  {
   "cell_type": "code",
   "execution_count": null,
   "id": "080b6a3f",
   "metadata": {},
   "outputs": [],
   "source": [
    "f1(1)"
   ]
  },
  {
   "cell_type": "code",
   "execution_count": null,
   "id": "359bd163",
   "metadata": {},
   "outputs": [],
   "source": [
    "f1(2)"
   ]
  },
  {
   "cell_type": "code",
   "execution_count": null,
   "id": "f56449b7",
   "metadata": {},
   "outputs": [],
   "source": [
    "f1(3)"
   ]
  },
  {
   "cell_type": "markdown",
   "id": "d8af77a2",
   "metadata": {},
   "source": [
    "### Design with Exceptions"
   ]
  },
  {
   "cell_type": "markdown",
   "id": "0490678f",
   "metadata": {},
   "source": [
    "\n",
    "Now we know how exceptions work, we need to think about the design implications... How best to use them.\n",
    "\n",
    "Traditional software design theory will tell you that they should only be used\n",
    "to describe and recover from **exceptional** conditions: things going wrong.\n",
    "Normal program flow shouldn't use them.\n",
    "\n",
    "Python's designers take a different view: use of exceptions in normal flow is\n",
    "considered OK. For example, all iterators raise a `StopIteration` exception to\n",
    "indicate the iteration is complete.\n",
    "\n",
    "A commonly recommended Python design pattern is to use exceptions to determine\n",
    "whether an object implements a protocol (concept/interface), rather than testing\n",
    "on type.\n",
    "\n",
    "For example, we might want a function which can be supplied *either* a data\n",
    "series *or* a path to a location on disk where data can be found. We can\n",
    "examine the type of the supplied content:"
   ]
  },
  {
   "cell_type": "code",
   "execution_count": null,
   "id": "d06bd49f",
   "metadata": {},
   "outputs": [],
   "source": [
    "import yaml\n",
    "\n",
    "\n",
    "def analysis(source):\n",
    "    if type(source) == dict:\n",
    "        name = source['modelname']\n",
    "    else:\n",
    "        content = open(source)\n",
    "        source = yaml.safe_load(content)\n",
    "        name = source['modelname']\n",
    "    print(name)"
   ]
  },
  {
   "cell_type": "code",
   "execution_count": null,
   "id": "8aef6ae3",
   "metadata": {},
   "outputs": [],
   "source": [
    "analysis({'modelname': 'Super'})"
   ]
  },
  {
   "cell_type": "code",
   "execution_count": null,
   "id": "de2de5ca",
   "metadata": {},
   "outputs": [],
   "source": [
    "with open('example.yaml', 'w') as outfile:\n",
    "    outfile.write('modelname: brilliant\\n')"
   ]
  },
  {
   "cell_type": "code",
   "execution_count": null,
   "id": "dc000fbd",
   "metadata": {},
   "outputs": [],
   "source": [
    "analysis('example.yaml')"
   ]
  },
  {
   "cell_type": "markdown",
   "id": "ca7040a6",
   "metadata": {},
   "source": [
    "\n",
    "\n",
    "\n",
    "However, we can also use the try-it-and-handle-exceptions approach to this. \n",
    "\n",
    "\n"
   ]
  },
  {
   "cell_type": "code",
   "execution_count": null,
   "id": "b15829c0",
   "metadata": {},
   "outputs": [],
   "source": [
    "def analysis(source):\n",
    "    try:\n",
    "        name = source['modelname']\n",
    "    except TypeError:\n",
    "        content = open(source)\n",
    "        source = yaml.safe_load(content)\n",
    "        name = source['modelname']\n",
    "    print(name)\n",
    "\n",
    "\n",
    "analysis('example.yaml')"
   ]
  },
  {
   "cell_type": "markdown",
   "id": "510cd2d4",
   "metadata": {},
   "source": [
    "This approach is more extensible, and **behaves properly if we give it some\n",
    "other data-source which responds like a dictionary or string.**"
   ]
  },
  {
   "cell_type": "code",
   "execution_count": null,
   "id": "4a588c57",
   "metadata": {},
   "outputs": [],
   "source": [
    "def analysis(source):\n",
    "    try:\n",
    "        name = source['modelname']\n",
    "    except TypeError:\n",
    "        # Source was not a dictionary-like object\n",
    "        # Maybe it is a file path\n",
    "        try:\n",
    "            content = open(source)\n",
    "            source = yaml.safe_load(content)\n",
    "            name = source['modelname']\n",
    "        except IOError:\n",
    "            # Maybe it was already raw YAML content\n",
    "            source = yaml.safe_load(source)\n",
    "            name = source['modelname']\n",
    "    print(name)\n",
    "\n",
    "\n",
    "analysis(\"modelname: Amazing\")"
   ]
  },
  {
   "cell_type": "markdown",
   "id": "22a63ded",
   "metadata": {},
   "source": [
    "Sometimes we want to catch an error, partially handle it, perhaps add some\n",
    "extra data to the exception, and then re-raise to be caught again further up\n",
    "the call stack. \n",
    "\n",
    "The keyword \"`raise`\" with no argument in an `except:` clause will cause the\n",
    "caught error to be re-thrown. Doing this is the only circumstance where it is\n",
    "safe to do `except:` without catching a specific type of error."
   ]
  },
  {
   "cell_type": "code",
   "execution_count": null,
   "id": "ea7d7747",
   "metadata": {},
   "outputs": [],
   "source": [
    "try:\n",
    "    # Something\n",
    "    pass\n",
    "except:\n",
    "    # Do this code here if anything goes wrong\n",
    "    raise"
   ]
  },
  {
   "cell_type": "markdown",
   "id": "911932aa",
   "metadata": {},
   "source": [
    "If you want to be more explicit about where the error came from, you can use the `raise from` syntax, which will create a chain of exceptions:"
   ]
  },
  {
   "cell_type": "code",
   "execution_count": null,
   "id": "ac280dd6",
   "metadata": {},
   "outputs": [],
   "source": [
    "def lower_function():\n",
    "    raise ValueError(\"Error in lower function!\")\n",
    "\n",
    "\n",
    "def higher_function():\n",
    "    try:\n",
    "        lower_function()\n",
    "    except ValueError as e:\n",
    "        raise RuntimeError(\"Error in higher function!\") from e\n",
    "\n",
    "\n",
    "higher_function()"
   ]
  },
  {
   "cell_type": "markdown",
   "id": "47b2e215",
   "metadata": {},
   "source": [
    "\n",
    "\n",
    "It can be useful to catch and re-throw an error as you go up the chain, doing any clean-up needed for each layer of a program.\n",
    "\n",
    "The error will finally be caught and not re-thrown only at a higher program\n",
    "layer that knows how to recover. This is known as the \"throw low catch high\"\n",
    "principle.\n",
    "\n",
    "\n"
   ]
  }
 ],
 "metadata": {
  "jekyll": {
   "display_name": "Exceptions"
  },
  "jupytext": {
   "main_language": "python",
   "notebook_metadata_filter": "-kernelspec,jupytext,jekyll"
  }
 },
 "nbformat": 4,
 "nbformat_minor": 5
}