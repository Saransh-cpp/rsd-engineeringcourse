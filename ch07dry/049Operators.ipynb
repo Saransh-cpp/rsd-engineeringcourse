{
 "cells": [
  {
   "cell_type": "markdown",
   "id": "080d28f6",
   "metadata": {},
   "source": [
    "# Operator overloading"
   ]
  },
  {
   "cell_type": "markdown",
   "id": "95918f3d",
   "metadata": {},
   "source": [
    "We've seen already during the course that some operators behave differently depending on the data type.\n",
    "\n",
    "For example, `+` adds numbers but concatenates strings or lists:"
   ]
  },
  {
   "cell_type": "code",
   "execution_count": null,
   "id": "c1f862ee",
   "metadata": {},
   "outputs": [],
   "source": [
    "4 + 2"
   ]
  },
  {
   "cell_type": "code",
   "execution_count": null,
   "id": "1d3736cc",
   "metadata": {},
   "outputs": [],
   "source": [
    "'4' + '2'"
   ]
  },
  {
   "cell_type": "markdown",
   "id": "f3575228",
   "metadata": {},
   "source": [
    "`*` is used for multiplication, or repeated addition:"
   ]
  },
  {
   "cell_type": "code",
   "execution_count": null,
   "id": "32e33578",
   "metadata": {},
   "outputs": [],
   "source": [
    "6 * 7"
   ]
  },
  {
   "cell_type": "code",
   "execution_count": null,
   "id": "f5d57b38",
   "metadata": {},
   "outputs": [],
   "source": [
    "'me' * 3"
   ]
  },
  {
   "cell_type": "markdown",
   "id": "2bb6a969",
   "metadata": {},
   "source": [
    "`/` is division for numbers, and wouldn't have a real meaning on strings. However, it's used to separate files and directories on your file system. Therefore, this has been *overloaded* in the `pathlib` module:"
   ]
  },
  {
   "cell_type": "code",
   "execution_count": null,
   "id": "13c811e1",
   "metadata": {},
   "outputs": [],
   "source": [
    "import os\n",
    "from pathlib import Path\n",
    "\n",
    "\n",
    "performance = Path('..') / 'ch08performance'\n",
    "os.listdir(performance)"
   ]
  },
  {
   "cell_type": "markdown",
   "id": "03f06aed",
   "metadata": {},
   "source": [
    "The above works because one of the elements is a `Path` object. Note, that the `/` works similarly to `os.path.join()`, so whether you are using Unix file systems or Windows, `pathlib` will know what path separator to use."
   ]
  },
  {
   "cell_type": "code",
   "execution_count": null,
   "id": "4f68a27a",
   "metadata": {},
   "outputs": [],
   "source": [
    "performance = os.path.join('..', 'ch08performance')"
   ]
  },
  {
   "cell_type": "markdown",
   "id": "0a7beb8d",
   "metadata": {},
   "source": [
    "## Overloading operators for your own classes"
   ]
  },
  {
   "cell_type": "markdown",
   "id": "6d8d2093",
   "metadata": {},
   "source": [
    "Now that we have seen that in Python operators do different things, how can we use `+` or other operators on our own classes to achieve similar behaviour?\n",
    "\n",
    "Let's go back to our Maze example, and simplify our room object so it's defined as:"
   ]
  },
  {
   "cell_type": "code",
   "execution_count": null,
   "id": "9e80c720",
   "metadata": {},
   "outputs": [],
   "source": [
    "class Room:\n",
    "    def __init__(self, name, area):\n",
    "        self.name = name\n",
    "        self.area = area"
   ]
  },
  {
   "cell_type": "markdown",
   "id": "271cab37",
   "metadata": {},
   "source": [
    "We can now create a room as:"
   ]
  },
  {
   "cell_type": "code",
   "execution_count": null,
   "id": "f440a381",
   "metadata": {},
   "outputs": [],
   "source": [
    "small = Room('small', 9)\n",
    "print(small)"
   ]
  },
  {
   "cell_type": "markdown",
   "id": "7471ebd1",
   "metadata": {},
   "source": [
    "However, when we print it we don't get much infomation on the object. So, the first operator we are overloading is its string represenation defining `__str__`:"
   ]
  },
  {
   "cell_type": "code",
   "execution_count": null,
   "id": "f4d526da",
   "metadata": {},
   "outputs": [],
   "source": [
    "class Room:\n",
    "    def __init__(self, name, area):\n",
    "        self.name = name\n",
    "        self.area = area\n",
    "    def __str__(self):\n",
    "        return f\"<Room: {self.name} {self.area}m²>\""
   ]
  },
  {
   "cell_type": "code",
   "execution_count": null,
   "id": "f67f5450",
   "metadata": {},
   "outputs": [],
   "source": [
    "small = Room('small', 9)\n",
    "print(small)"
   ]
  },
  {
   "cell_type": "markdown",
   "id": "21d712b4",
   "metadata": {},
   "source": [
    "How can we add two rooms together? What does it mean? Let's define that the addition (`+`) of two rooms makes up one with the combined size. We produce this behaviour by defining the `__add__` method."
   ]
  },
  {
   "cell_type": "code",
   "execution_count": null,
   "id": "42f3791c",
   "metadata": {},
   "outputs": [],
   "source": [
    "class Room:\n",
    "    def __init__(self, name, area):\n",
    "        self.name = name\n",
    "        self.area = area\n",
    "    def __add__(self, other):\n",
    "        return Room(f\"{self.name}_{other.name}\", self.area + other.area)\n",
    "    def __str__(self):\n",
    "        return f\"<Room: {self.name} {self.area}m²>\""
   ]
  },
  {
   "cell_type": "code",
   "execution_count": null,
   "id": "17f96f34",
   "metadata": {},
   "outputs": [],
   "source": [
    "small = Room('small', 9)\n",
    "big = Room('big', 21)\n",
    "print(small, big, small + big)"
   ]
  },
  {
   "cell_type": "markdown",
   "id": "48b5acfe",
   "metadata": {},
   "source": [
    "Would the order of how the rooms are added affect the final room? As they are added now, the name is determined by the order, but do we want that? Or would we prefer to have:\n",
    "```python\n",
    "  small + big == big + small\n",
    "```\n",
    "That bring us to another operator, equal to: `==`. The method needed to produce such comparison is `__eq__`."
   ]
  },
  {
   "cell_type": "code",
   "execution_count": null,
   "id": "08e2ec60",
   "metadata": {},
   "outputs": [],
   "source": [
    "class Room:\n",
    "    def __init__(self, name, area):\n",
    "        self.name = name\n",
    "        self.area = area\n",
    "    def __add__(self, other):\n",
    "        return Room(f\"{self.name}_{other.name}\", self.area + other.area)\n",
    "    def __eq__(self, other):\n",
    "        return self.area == other.area and set(self.name.split('_')) == set(other.name.split('_'))\n",
    "\n"
   ]
  },
  {
   "cell_type": "markdown",
   "id": "26a13b9e",
   "metadata": {},
   "source": [
    "So, in this way two rooms of the same area are \"equal\" if their names are composed by the same."
   ]
  },
  {
   "cell_type": "code",
   "execution_count": null,
   "id": "de89872d",
   "metadata": {},
   "outputs": [],
   "source": [
    "small = Room('small', 9)\n",
    "big = Room('big', 21)\n",
    "large = Room('superbig', 30)\n",
    "print(small + big == big + small)\n",
    "print(small + big == large)"
   ]
  },
  {
   "cell_type": "markdown",
   "id": "44632569",
   "metadata": {},
   "source": [
    "You can add the other comparisons to know which room is bigger or smaller with the following functions:\n",
    "\n",
    "| Operator | Function |\n",
    "|----|----|\n",
    "| `<` | `__lt__(self, other)` |\n",
    "| `<=` | `__le__(self, other)` |\n",
    "| `>` | `__gt__(self, other)`|\n",
    "| `>=` | `__ge__(self, other)` |"
   ]
  },
  {
   "cell_type": "markdown",
   "id": "18e02530",
   "metadata": {},
   "source": [
    "Let's add people to the rooms and check whether they are in one room or not."
   ]
  },
  {
   "cell_type": "code",
   "execution_count": null,
   "id": "56450c16",
   "metadata": {
    "lines_to_next_cell": 2
   },
   "outputs": [],
   "source": [
    "class Room:\n",
    "    def __init__(self, name, area):\n",
    "        self.name = name\n",
    "        self.area = area\n",
    "        self.occupants = []\n",
    "    def add_occupant(self, name):\n",
    "        self.occupants.append(name)\n",
    "\n",
    "circus = Room('Circus', 3)\n",
    "circus.add_occupant('Graham')\n",
    "circus.add_occupant('Eric')\n",
    "circus.add_occupant('Terry')"
   ]
  },
  {
   "cell_type": "markdown",
   "id": "d3d94525",
   "metadata": {},
   "source": [
    "How do we know if John is in the room? We can check the `occupants` list:"
   ]
  },
  {
   "cell_type": "code",
   "execution_count": null,
   "id": "049e94df",
   "metadata": {},
   "outputs": [],
   "source": [
    "'John' in circus.occupants"
   ]
  },
  {
   "cell_type": "markdown",
   "id": "30002dce",
   "metadata": {},
   "source": [
    "Or making it more readable adding a membership definition:"
   ]
  },
  {
   "cell_type": "code",
   "execution_count": null,
   "id": "aa7aee49",
   "metadata": {},
   "outputs": [],
   "source": [
    "class Room:\n",
    "    def __init__(self, name, area):\n",
    "        self.name = name\n",
    "        self.area = area\n",
    "        self.occupants = []\n",
    "    def add_occupant(self, name):\n",
    "        self.occupants.append(name)\n",
    "    def __contains__(self, value):\n",
    "        return value in self.occupants\n",
    "\n",
    "circus = Room('Circus', 3)\n",
    "circus.add_occupant('Graham')\n",
    "circus.add_occupant('Eric')\n",
    "circus.add_occupant('Terry')\n",
    "\n",
    "'Terry' in circus"
   ]
  },
  {
   "cell_type": "markdown",
   "id": "9ce5ed2b",
   "metadata": {},
   "source": [
    "We can add lots more operators to classes. For example, `__getitem__` to let you index or access part of your object like a sequence or dictionary, _e.g._, `newObject[1]` or `newObject[\"data\"]`, or `__len__` to return a number of elements in your object. Probably the most exciting\n",
    "one is `__call__`, which overrides the `()` operator; this allows us to define classes that *behave like functions*! We call these **callables**."
   ]
  },
  {
   "cell_type": "code",
   "execution_count": null,
   "id": "e96a3771",
   "metadata": {},
   "outputs": [],
   "source": [
    "class Greeter(object):\n",
    "    def __init__(self, greeting):\n",
    "        self.greeting = greeting\n",
    "        \n",
    "    def __call__(self, name):\n",
    "        print(self.greeting, name)\n",
    "\n",
    "greeter_instance = Greeter(\"Hello\")\n",
    "\n",
    "greeter_instance(\"Eric\")"
   ]
  },
  {
   "cell_type": "markdown",
   "id": "67cba15b",
   "metadata": {},
   "source": [
    "\n",
    "We've now come full circle in the blurring of the distinction between functions and objects! The full power of functional programming is really remarkable.\n",
    "\n",
    "If you want to know more about the topics in this lecture, using a different\n",
    "language syntax, I recommend you watch the [Abelson and Sussman](https://www.youtube.com/watch?v=2Op3QLzMgSY)\n",
    "\"Structure and Interpretation of Computer Programs\" lectures. These are the Computer Science\n",
    "equivalent of the Feynman Lectures!\n"
   ]
  },
  {
   "cell_type": "markdown",
   "id": "193a0266",
   "metadata": {},
   "source": [
    "Next [notebook](./050Operators.ipynb) shows a detailed example of how to apply operator overloading to create your own symbolic algebra system."
   ]
  }
 ],
 "metadata": {
  "jekyll": {
   "display_name": "Operator Overloading"
  },
  "jupytext": {
   "main_language": "python",
   "notebook_metadata_filter": "-kernelspec,jupytext,jekyll"
  }
 },
 "nbformat": 4,
 "nbformat_minor": 5
}