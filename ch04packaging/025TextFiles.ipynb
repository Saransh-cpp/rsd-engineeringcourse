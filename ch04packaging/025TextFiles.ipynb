{
 "cells": [
  {
   "cell_type": "markdown",
   "id": "d5a65b41",
   "metadata": {},
   "source": [
    "## Python not in the Notebook"
   ]
  },
  {
   "cell_type": "markdown",
   "id": "46bebc39",
   "metadata": {},
   "source": [
    "We will often want to save our Python classes, for use in multiple Notebooks.\n",
    "We can do this by writing text files with a .py extension, and then `importing` them."
   ]
  },
  {
   "cell_type": "markdown",
   "id": "5dc77fe8",
   "metadata": {},
   "source": [
    "### Writing Python in Text Files"
   ]
  },
  {
   "cell_type": "markdown",
   "id": "058f5028",
   "metadata": {},
   "source": [
    "You can use a text editor like [VS Code](https://code.visualstudio.com/) or [Spyder](https://www.spyder-ide.org/). If you create your own Python files ending in `.py`, then you can import them with `import` just like external libraries."
   ]
  },
  {
   "cell_type": "markdown",
   "id": "e1915d1f",
   "metadata": {},
   "source": [
    "You can also maintain your library code in a Notebook, and use `%%writefile` to create your library, though this is not encouraged!"
   ]
  },
  {
   "cell_type": "markdown",
   "id": "f9d37ea1",
   "metadata": {},
   "source": [
    "Libraries are usually structured with multiple files, one for each class."
   ]
  },
  {
   "cell_type": "markdown",
   "id": "469910c2",
   "metadata": {},
   "source": [
    "We will be turning the code we have written for the maze into a library, so that other code can reuse it."
   ]
  },
  {
   "cell_type": "markdown",
   "id": "346d2c9f",
   "metadata": {},
   "source": [
    "We group our modules into packages, by putting them together into a folder. You can do this with explorer, or using a shell, or even with Python:"
   ]
  },
  {
   "cell_type": "code",
   "execution_count": null,
   "id": "c1d395f8",
   "metadata": {},
   "outputs": [],
   "source": [
    "import os\n",
    "if 'mazetool' not in os.listdir(os.getcwd()):\n",
    "    os.mkdir('mazetool')"
   ]
  },
  {
   "cell_type": "code",
   "execution_count": null,
   "id": "4228c695",
   "metadata": {},
   "outputs": [],
   "source": [
    "%%writefile mazetool/maze.py\n",
    "\n",
    "from .room import Room\n",
    "from .person import Person\n",
    "\n",
    "class Maze(object):\n",
    "    def __init__(self, name):\n",
    "        self.name = name\n",
    "        self.rooms = []\n",
    "        self.occupants = []\n",
    "        \n",
    "    def add_room(self, name, capacity):\n",
    "        result = Room(name, capacity)\n",
    "        self.rooms.append(result)\n",
    "        return result\n",
    "        \n",
    "    def add_exit(self, name, source, target, reverse= None):\n",
    "        source.add_exit(name, target)\n",
    "        if reverse:\n",
    "            target.add_exit(reverse, source)\n",
    "            \n",
    "    def add_occupant(self, name, room):\n",
    "        self.occupants.append(Person(name, room))\n",
    "        room.occupancy += 1\n",
    "    \n",
    "    def wander(self):\n",
    "        \"Move all the people in a random direction\"\n",
    "        for occupant in self.occupants:\n",
    "            occupant.wander()\n",
    "                \n",
    "    def describe(self):\n",
    "        for occupant in self.occupants:\n",
    "            occupant.describe()\n",
    "            \n",
    "    def step(self):\n",
    "        house.describe()\n",
    "        print()\n",
    "        house.wander()\n",
    "        print()\n",
    "        \n",
    "    def simulate(self, steps):\n",
    "        for _ in range(steps):\n",
    "            self.step()"
   ]
  },
  {
   "cell_type": "code",
   "execution_count": null,
   "id": "67af07f9",
   "metadata": {},
   "outputs": [],
   "source": [
    "%%writefile mazetool/room.py\n",
    "from .exit import Exit\n",
    "\n",
    "\n",
    "class Room(object):\n",
    "    def __init__(self, name, capacity):\n",
    "        self.name = name\n",
    "        self.capacity = capacity\n",
    "        self.occupancy = 0\n",
    "        self.exits = []\n",
    "        \n",
    "    def has_space(self):\n",
    "        return self.occupancy < self.capacity\n",
    "    \n",
    "    def available_exits(self):\n",
    "        return [exit for exit in self.exits if exit.valid() ]\n",
    "            \n",
    "    def random_valid_exit(self):\n",
    "        import random\n",
    "        if not self.available_exits():\n",
    "            return None\n",
    "        return random.choice(self.available_exits())\n",
    "    \n",
    "    def add_exit(self, name, target):\n",
    "        self.exits.append(Exit(name, target))\n",
    "    \n"
   ]
  },
  {
   "cell_type": "code",
   "execution_count": null,
   "id": "d109d4c4",
   "metadata": {},
   "outputs": [],
   "source": [
    "%%writefile mazetool/person.py\n",
    "\n",
    "class Person(object):\n",
    "    def __init__(self, name, room = None):\n",
    "        self.name=name\n",
    "        self.room=room\n",
    "    \n",
    "    def use(self, exit):\n",
    "        self.room.occupancy -= 1\n",
    "        destination=exit.target\n",
    "        destination.occupancy +=1\n",
    "        self.room=destination\n",
    "        print(self.name, \"goes\", exit.name, \"to the\", destination.name)\n",
    "    \n",
    "    def wander(self):\n",
    "        exit = self.room.random_valid_exit()\n",
    "        if exit:\n",
    "            self.use(exit)\n",
    "            \n",
    "    def describe(self):\n",
    "        print(self.name, \"is in the\", self.room.name)"
   ]
  },
  {
   "cell_type": "code",
   "execution_count": null,
   "id": "af5ad838",
   "metadata": {},
   "outputs": [],
   "source": [
    "%%writefile mazetool/exit.py\n",
    "\n",
    "class Exit(object):\n",
    "    def __init__(self, name, target):\n",
    "        self.name = name\n",
    "        self.target = target\n",
    "    \n",
    "    def valid(self):\n",
    "        return self.target.has_space()"
   ]
  },
  {
   "cell_type": "markdown",
   "id": "a3733d56",
   "metadata": {},
   "source": [
    "In order to tell Python that our \"mazetool\" folder is a Python package, \n",
    "we have to make a special file called `__init__.py`. If you import things in there, they are imported as part of the package:"
   ]
  },
  {
   "cell_type": "code",
   "execution_count": null,
   "id": "f3cb1fa1",
   "metadata": {},
   "outputs": [],
   "source": [
    "%%writefile mazetool/__init__.py\n",
    "from .maze import Maze # Python 3 relative import"
   ]
  },
  {
   "cell_type": "markdown",
   "id": "705cde09",
   "metadata": {},
   "source": [
    "In this case we are making it easier to import `Maze` as we are making it available one level above."
   ]
  },
  {
   "cell_type": "markdown",
   "id": "30b6e034",
   "metadata": {},
   "source": [
    "### Loading Our Package"
   ]
  },
  {
   "cell_type": "markdown",
   "id": "1321eb55",
   "metadata": {},
   "source": [
    "We just wrote the files, there is no \"Maze\" class in this notebook yet:"
   ]
  },
  {
   "cell_type": "code",
   "execution_count": null,
   "id": "1b8301de",
   "metadata": {},
   "outputs": [],
   "source": [
    "myhouse = Maze('My New House')"
   ]
  },
  {
   "cell_type": "markdown",
   "id": "68486b24",
   "metadata": {},
   "source": [
    "But now, we can import Maze, (and the other files will get imported via the chained Import statements, starting from the `__init__.py` file."
   ]
  },
  {
   "cell_type": "code",
   "execution_count": null,
   "id": "3ed43172",
   "metadata": {},
   "outputs": [],
   "source": [
    "import mazetool"
   ]
  },
  {
   "cell_type": "markdown",
   "id": "f86f8ba3",
   "metadata": {},
   "source": [
    "Let's see how we can access the files we created:"
   ]
  },
  {
   "cell_type": "code",
   "execution_count": null,
   "id": "49a7ab93",
   "metadata": {},
   "outputs": [],
   "source": [
    "mazetool.exit.Exit"
   ]
  },
  {
   "cell_type": "code",
   "execution_count": null,
   "id": "df8db270",
   "metadata": {},
   "outputs": [],
   "source": [
    "from mazetool import Maze"
   ]
  },
  {
   "cell_type": "code",
   "execution_count": null,
   "id": "cf52e779",
   "metadata": {},
   "outputs": [],
   "source": [
    "house = Maze('My New House')\n",
    "living = house.add_room('livingroom', 2)"
   ]
  },
  {
   "cell_type": "markdown",
   "id": "16ef37b8",
   "metadata": {},
   "source": [
    "Note the files we have created are on the disk in the folder we made:"
   ]
  },
  {
   "cell_type": "code",
   "execution_count": null,
   "id": "6b32605b",
   "metadata": {},
   "outputs": [],
   "source": [
    "import os"
   ]
  },
  {
   "cell_type": "code",
   "execution_count": null,
   "id": "00420839",
   "metadata": {
    "lines_to_next_cell": 2
   },
   "outputs": [],
   "source": [
    "os.listdir(os.path.join(os.getcwd(), 'mazetool') )"
   ]
  },
  {
   "cell_type": "markdown",
   "id": "681f79b2",
   "metadata": {},
   "source": [
    "You may get also `.pyc` files. Those are \"Compiled\" temporary python files that the system generates to speed things up. They'll be regenerated\n",
    "on the fly when your `.py` files change. They may appear inside the `__pycache__` directory."
   ]
  },
  {
   "cell_type": "markdown",
   "id": "1f7dcf7c",
   "metadata": {},
   "source": [
    "### The Python Path"
   ]
  },
  {
   "cell_type": "markdown",
   "id": "2a00732d",
   "metadata": {},
   "source": [
    "We want to `import` these from notebooks elsewhere on our computer:\n",
    "it would be a bad idea to keep all our Python work in one folder."
   ]
  },
  {
   "cell_type": "markdown",
   "id": "a1fe8dac",
   "metadata": {},
   "source": [
    "The best way to do this is to learn how to make our code\n",
    "into a proper module that we can install. We'll see more on that in a [few lectures' time](./03Packaging.html) ([notebook](./03Packaging.ipynb))."
   ]
  },
  {
   "cell_type": "markdown",
   "id": "783144ac",
   "metadata": {},
   "source": [
    "Alternatively, we can add a folder to the \"`PYTHONPATH`\", where python searches for modules:"
   ]
  },
  {
   "cell_type": "code",
   "execution_count": null,
   "id": "5e520882",
   "metadata": {},
   "outputs": [],
   "source": [
    "import sys\n",
    "print('\\n'.join(sys.path[-3:]))"
   ]
  },
  {
   "cell_type": "code",
   "execution_count": null,
   "id": "6e8993ba",
   "metadata": {},
   "outputs": [],
   "source": [
    "from pathlib import Path\n",
    "sys.path.append(os.path.join(Path.home(), 'devel', 'libraries', 'python'))"
   ]
  },
  {
   "cell_type": "code",
   "execution_count": null,
   "id": "b1de43cc",
   "metadata": {},
   "outputs": [],
   "source": [
    "print(sys.path[-1])"
   ]
  },
  {
   "cell_type": "markdown",
   "id": "9e795386",
   "metadata": {},
   "source": [
    "I've thus added a folder to the list of places searched. If you want to do this permanently, you should set the `PYTHONPATH` Environment Variable,\n",
    "which you can learn about in a shell course, or can read about online for your operating system."
   ]
  }
 ],
 "metadata": {
  "jekyll": {
   "display_name": "Writing Libraries"
  },
  "jupytext": {
   "main_language": "python",
   "notebook_metadata_filter": "-kernelspec,jupytext,jekyll"
  }
 },
 "nbformat": 4,
 "nbformat_minor": 5
}