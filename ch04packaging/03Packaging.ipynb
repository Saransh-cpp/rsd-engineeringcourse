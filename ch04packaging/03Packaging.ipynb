{
 "cells": [
  {
   "cell_type": "markdown",
   "id": "8f36db44",
   "metadata": {},
   "source": [
    "## Packaging"
   ]
  },
  {
   "cell_type": "markdown",
   "id": "756748ea",
   "metadata": {},
   "source": [
    "\n",
    "Once we've made a working program, we'd like to be able to share it with others.\n",
    "\n",
    "A good cross-platform build tool is the most important thing: you can always\n",
    "have collaborators build from source.\n"
   ]
  },
  {
   "cell_type": "markdown",
   "id": "0f478dac",
   "metadata": {},
   "source": [
    "### Distribution tools"
   ]
  },
  {
   "cell_type": "markdown",
   "id": "621d8967",
   "metadata": {},
   "source": [
    "Distribution tools allow one to obtain a working copy of someone else's package.\n",
    "\n",
    "- Language-specific tools: \n",
    " - python: PyPI,\n",
    " - ruby: Ruby Gems, \n",
    " - perl: CPAN,\n",
    " - R: CRAN\n",
    " \n",
    "- Platform specific packagers e.g.:\n",
    " - [`brew`](https://brew.sh/) for MacOS, \n",
    " - `apt`/`dnf`/`pacman` for Linux or \n",
    " - [`choco`](https://chocolatey.org/) for Windows."
   ]
  },
  {
   "cell_type": "markdown",
   "id": "4ed8cf36",
   "metadata": {},
   "source": [
    "### Laying out a project"
   ]
  },
  {
   "cell_type": "markdown",
   "id": "9dcbd5a3",
   "metadata": {},
   "source": [
    "\n",
    "When planning to package a project for distribution, defining a suitable\n",
    "project layout is essential. A typical layout might look like this:\n",
    "\n",
    "```\n",
    "repository_name\n",
    "|-- module_name\n",
    "|   |-- __init__.py\n",
    "|   |-- python_file.py\n",
    "|   |-- another_python_file.py\n",
    "|   `-- test\n",
    "|       |-- fixtures\n",
    "|       |   `-- fixture_file.yaml\n",
    "|       |-- __init__.py\n",
    "|       `-- test_python_file.py\n",
    "|-- LICENSE.md\n",
    "|-- CITATION.md\n",
    "|-- README.md\n",
    "`-- setup.py\n",
    "```\n",
    "\n",
    "\n",
    "\n"
   ]
  },
  {
   "cell_type": "markdown",
   "id": "16eb79e0",
   "metadata": {},
   "source": [
    "To achieve this for our `greetings.py` file from the previous session, we can use the commands shown below. We can start by making our directory structure. You can create many nested directories at once using the `-p` switch on `mkdir`."
   ]
  },
  {
   "cell_type": "code",
   "execution_count": null,
   "id": "8fdd3de6",
   "metadata": {},
   "outputs": [],
   "source": [
    "%%bash\n",
    "mkdir -p greetings_repo/greetings/test/fixtures"
   ]
  },
  {
   "cell_type": "markdown",
   "id": "d97c675e",
   "metadata": {},
   "source": [
    "For this notebook, since we are going to be modifying the files bit by bit, we are going to use the [autoreload ipython magic](https://ipython.readthedocs.io/en/stable/config/extensions/autoreload.html) so that we don't need to restart the kernel."
   ]
  },
  {
   "cell_type": "code",
   "execution_count": null,
   "id": "0cea3704",
   "metadata": {},
   "outputs": [],
   "source": [
    "%load_ext autoreload\n",
    "%autoreload 2"
   ]
  },
  {
   "cell_type": "markdown",
   "id": "54e1d406",
   "metadata": {},
   "source": [
    "### Using pyproject.toml"
   ]
  },
  {
   "cell_type": "markdown",
   "id": "b44c8866",
   "metadata": {},
   "source": [
    "Since June 2020, python's recommendation for creating a package is to specify package information in a `pyproject.toml` file.\n",
    "Older projects used a `setup.py` or `setup.cfg` file instead - and in fact the new `pyproject.toml` file in many ways mirrors this old format.\n",
    "A lot of projects and packages have not yet switched over from `setup.py` to `pyproject.toml`, so don't be surprised to see a mixture of the two formats when you're looking at other people's packages."
   ]
  },
  {
   "cell_type": "markdown",
   "id": "068c7aa7",
   "metadata": {},
   "source": [
    "For our `greetings` package, right now we are adding only the name of the package and its version number.\n",
    "This information is included in the `project` section of our `pyproject.toml` file.\n",
    "\n",
    "But we also need to tell users how to build the package from these specifications.\n",
    "This information is specified in the `build-system` section of our `toml` file.\n",
    "In this case, we'll be using `setuptools` to build our package, so we list it in the `requires` field.\n",
    "We also need `setuptools_scm[toml]` so that `setuptools` can understand the settings we give it in our `.toml` file, and `wheel` to make the package distribution.\n",
    "\n",
    "Finally, we can set specific options for `setuptools` using additional sections in `pyproject.toml`: in this case, we will tell `setuptools` that it needs to find **and include** all of the files in our `greetings` folder."
   ]
  },
  {
   "cell_type": "code",
   "execution_count": null,
   "id": "285eb4a9",
   "metadata": {},
   "outputs": [],
   "source": [
    "%%writefile greetings_repo/pyproject.toml\n",
    "\n",
    "[project]\n",
    "name = \"Greetings\"\n",
    "version = \"0.1.0\"\n",
    "\n",
    "[build-system]\n",
    "requires = [\"setuptools\", \"setuptools_scm[toml]>=6.2\", \"wheel\"]\n",
    "\n",
    "[tool.setuptools.packages.find]\n",
    "include = [\"greetings*\"]\n",
    "\n",
    "# Add setuptools_scm if you need to generate version numbers from the git hash\n",
    "#[tool.setuptools_scm]"
   ]
  },
  {
   "cell_type": "markdown",
   "id": "49911580",
   "metadata": {},
   "source": [
    "We can now install this \"package\" with pip:"
   ]
  },
  {
   "cell_type": "code",
   "execution_count": null,
   "id": "bac81160",
   "metadata": {},
   "outputs": [],
   "source": [
    "%%bash\n",
    "cd greetings_repo\n",
    "pip install ."
   ]
  },
  {
   "cell_type": "markdown",
   "id": "ac7b5021",
   "metadata": {},
   "source": [
    "\n",
    "And the package will be then available to use everywhere on the system. But so far this package doesn't contain anything and there's nothing we can run! We need to add some files first.\n"
   ]
  },
  {
   "cell_type": "markdown",
   "id": "2ab18e8e",
   "metadata": {},
   "source": [
    "\n",
    "To create a regular package, we needed to have `__init__.py` files on each subdirectory that we want to be able to import. This is, since version 3.3 and the introduction of [Implicit Namespaces Packages](https://www.python.org/dev/peps/pep-0420/), not needed anymore. However, if you want to use relative imports and `pytest`, then you [still need to have these files](https://github.com/pytest-dev/pytest/issues/1927).\n",
    "\n",
    "The `__init__.py` files can contain any initialisation code you want to run when the (sub)module is imported.\n",
    "\n",
    "For this example, and because we are using relative imports in the tests, we are creating the needed `__init__.py` files."
   ]
  },
  {
   "cell_type": "code",
   "execution_count": null,
   "id": "eb998bfa",
   "metadata": {},
   "outputs": [],
   "source": [
    "%%bash\n",
    "\n",
    "touch greetings_repo/greetings/__init__.py"
   ]
  },
  {
   "cell_type": "markdown",
   "id": "b821375c",
   "metadata": {},
   "source": [
    "And we can copy the `greet` function from the [previous section](https://github-pages.ucl.ac.uk/rsd-engineeringcourse/ch04packaging/02Argparse.html) in the `greeter.py` file."
   ]
  },
  {
   "cell_type": "code",
   "execution_count": null,
   "id": "e045b85e",
   "metadata": {},
   "outputs": [],
   "source": [
    "%%writefile greetings_repo/greetings/greeter.py\n",
    "\n",
    "def greet(personal, family, title=\"\", polite=False):\n",
    "    greeting = \"How do you do, \" if polite else \"Hey, \"\n",
    "    if title:\n",
    "        greeting += f\"{title} \"\n",
    "\n",
    "    greeting += f\"{personal} {family}.\"\n",
    "    return greeting\n",
    "\n"
   ]
  },
  {
   "cell_type": "markdown",
   "id": "54c6efdb",
   "metadata": {},
   "source": [
    "For the changes to take effect, we need to reinstall the library: "
   ]
  },
  {
   "cell_type": "code",
   "execution_count": null,
   "id": "19a898a4",
   "metadata": {},
   "outputs": [],
   "source": [
    "%%bash\n",
    "cd greetings_repo\n",
    "pip install ."
   ]
  },
  {
   "cell_type": "markdown",
   "id": "3f10b1e1",
   "metadata": {},
   "source": [
    "And now we are able to import it and use it:"
   ]
  },
  {
   "cell_type": "code",
   "execution_count": null,
   "id": "ab4f1870",
   "metadata": {},
   "outputs": [],
   "source": [
    "from greetings.greeter import greet\n",
    "greet(\"Terry\",\"Gilliam\")"
   ]
  },
  {
   "cell_type": "markdown",
   "id": "196c4f68",
   "metadata": {},
   "source": [
    "### Convert the script to a module"
   ]
  },
  {
   "cell_type": "markdown",
   "id": "cd86b2e9",
   "metadata": {},
   "source": [
    "\n",
    "Of course, there's more to do when taking code from a quick script and turning it into a proper module:"
   ]
  },
  {
   "cell_type": "markdown",
   "id": "0e3d9a66",
   "metadata": {},
   "source": [
    "We need to add docstrings to our functions, so people can know how to use them."
   ]
  },
  {
   "cell_type": "code",
   "execution_count": null,
   "id": "94a527f8",
   "metadata": {},
   "outputs": [],
   "source": [
    "%%writefile greetings_repo/greetings/greeter.py\n",
    "\n",
    "def greet(personal, family, title=\"\", polite=False):\n",
    "    \"\"\" Generate a greeting string for a person.\n",
    "    Parameters\n",
    "    ----------\n",
    "    personal: str\n",
    "        A given name, such as Will or Jean-Luc\n",
    "    family: str\n",
    "        A family name, such as Riker or Picard\n",
    "    title: str\n",
    "        An optional title, such as Captain or Reverend\n",
    "    polite: bool\n",
    "        True for a formal greeting, False for informal.\n",
    "    Returns\n",
    "    -------\n",
    "    string\n",
    "        An appropriate greeting\n",
    "    Examples\n",
    "    --------\n",
    "    >>> from greetings.greeter import greet\n",
    "    >>> greet(\"Terry\", \"Jones\")\n",
    "    'Hey, Terry Jones.\n",
    "    \"\"\"\n",
    "\n",
    "    greeting = \"How do you do, \" if polite else \"Hey, \"\n",
    "    if title:\n",
    "        greeting += f\"{title} \"\n",
    "\n",
    "    greeting += f\"{personal} {family}.\"\n",
    "    return greeting"
   ]
  },
  {
   "cell_type": "markdown",
   "id": "3f726592",
   "metadata": {},
   "source": [
    "We can see the documentation using `help`."
   ]
  },
  {
   "cell_type": "code",
   "execution_count": null,
   "id": "c3728af7",
   "metadata": {},
   "outputs": [],
   "source": [
    "help(greet)"
   ]
  },
  {
   "cell_type": "markdown",
   "id": "ab61911f",
   "metadata": {},
   "source": [
    "The documentation string explains how to use the function; don't worry about this for now, we'll consider\n",
    "this on [the next section](./04documentation.html) ([notebook version](./04documentation.ipynb))."
   ]
  },
  {
   "cell_type": "markdown",
   "id": "cf7f5ad6",
   "metadata": {},
   "source": [
    "### Write an executable script"
   ]
  },
  {
   "cell_type": "markdown",
   "id": "d41384d6",
   "metadata": {},
   "source": [
    "\n",
    "\n",
    "\n",
    "\n",
    "\n"
   ]
  },
  {
   "cell_type": "markdown",
   "id": "1b122877",
   "metadata": {},
   "source": [
    "We can create an executable script, `command.py` that uses our greeting functionality and the `process` function we created in the previous section.\n",
    "\n",
    "Note how we are importing `greet` using [relative imports](https://www.python.org/dev/peps/pep-0328/), where `.greeter` means to look for a `greeter` module within the same directory."
   ]
  },
  {
   "cell_type": "code",
   "execution_count": null,
   "id": "f3dfc4fa",
   "metadata": {},
   "outputs": [],
   "source": [
    "%%writefile greetings_repo/greetings/command.py\n",
    "\n",
    "from argparse import ArgumentParser\n",
    "\n",
    "from .greeter import greet\n",
    "\n",
    "\n",
    "def process():\n",
    "    parser = ArgumentParser(description=\"Generate appropriate greetings\")\n",
    "\n",
    "    parser.add_argument('--title', '-t')\n",
    "    parser.add_argument('--polite', '-p', action=\"store_true\")\n",
    "    parser.add_argument('personal')\n",
    "    parser.add_argument('family')\n",
    "\n",
    "    arguments = parser.parse_args()\n",
    "\n",
    "    print(greet(arguments.personal, arguments.family,\n",
    "                arguments.title, arguments.polite))\n",
    "\n",
    "\n",
    "if __name__ == \"__main__\":\n",
    "    process()"
   ]
  },
  {
   "cell_type": "markdown",
   "id": "b8b5ec51",
   "metadata": {},
   "source": [
    "#### Specify entry point"
   ]
  },
  {
   "cell_type": "markdown",
   "id": "959b255b",
   "metadata": {},
   "source": [
    "This allows us to create a command to execute part of our library. In this case when we execute `greet` on the terminal, we will be calling the `process` function under `greetings/command.py`.\n",
    "\n",
    "We can encode this into our package information by specifying the `project.scripts` field in our `pyproject.toml` file."
   ]
  },
  {
   "cell_type": "code",
   "execution_count": null,
   "id": "f5379665",
   "metadata": {},
   "outputs": [],
   "source": [
    "%%writefile greetings_repo/pyproject.toml\n",
    "\n",
    "[project]\n",
    "name = \"Greetings\"\n",
    "version = \"0.1.0\"\n",
    "\n",
    "[project.scripts]\n",
    "greet = \"greetings.command:process\"\n",
    "\n",
    "[build-system]\n",
    "requires = [\"setuptools\", \"setuptools_scm[toml]>=6.2\", \"wheel\"]\n",
    "\n",
    "[tool.setuptools.packages.find]\n",
    "include = [\"greetings*\"]\n",
    "\n",
    "# Add setuptools_scm if you need to generate version numbers from the git hash\n",
    "#[tool.setuptools_scm]"
   ]
  },
  {
   "cell_type": "code",
   "execution_count": null,
   "id": "40385e65",
   "metadata": {},
   "outputs": [],
   "source": [
    "%%bash\n",
    "cd greetings_repo\n",
    "pip install -e ."
   ]
  },
  {
   "cell_type": "markdown",
   "id": "c2c01bac",
   "metadata": {},
   "source": [
    "\n",
    "And the scripts are now available as command line commands, so the following commands can now be run:\n",
    "\n",
    "\n"
   ]
  },
  {
   "cell_type": "code",
   "execution_count": null,
   "id": "49cc44f1",
   "metadata": {},
   "outputs": [],
   "source": [
    "%%bash\n",
    "greet --help"
   ]
  },
  {
   "cell_type": "code",
   "execution_count": null,
   "id": "2161cd50",
   "metadata": {},
   "outputs": [],
   "source": [
    "%%bash\n",
    "greet Terry Gilliam\n",
    "greet --polite Terry Gilliam\n",
    "greet Terry Gilliam --title Cartoonist"
   ]
  },
  {
   "cell_type": "markdown",
   "id": "ba3341c3",
   "metadata": {},
   "source": [
    "### Specify dependencies"
   ]
  },
  {
   "cell_type": "markdown",
   "id": "0cc04bc9",
   "metadata": {},
   "source": [
    "Let's give some life to our output using ascii art"
   ]
  },
  {
   "cell_type": "code",
   "execution_count": null,
   "id": "eb52f2f6",
   "metadata": {},
   "outputs": [],
   "source": [
    "%%writefile greetings_repo/greetings/command.py\n",
    "\n",
    "from argparse import ArgumentParser\n",
    "\n",
    "from art import art\n",
    "\n",
    "from .greeter import greet\n",
    "\n",
    "\n",
    "def process():\n",
    "    parser = ArgumentParser(description=\"Generate appropriate greetings\")\n",
    "\n",
    "    parser.add_argument('--title', '-t')\n",
    "    parser.add_argument('--polite', '-p', action=\"store_true\")\n",
    "    parser.add_argument('personal')\n",
    "    parser.add_argument('family')\n",
    "\n",
    "    arguments = parser.parse_args()\n",
    "\n",
    "    message = greet(arguments.personal, arguments.family,\n",
    "                    arguments.title, arguments.polite)\n",
    "    print(art(\"cute face\"), message)\n",
    "\n",
    "if __name__ == \"__main__\":\n",
    "    process()"
   ]
  },
  {
   "cell_type": "markdown",
   "id": "5984eadf",
   "metadata": {},
   "source": [
    "We use the `dependencies` field of the `project` section in our `pyproject.toml` file to specify the packages we depend on.\n",
    "We provide the names of the packages as a list of strings."
   ]
  },
  {
   "cell_type": "code",
   "execution_count": null,
   "id": "f4791865",
   "metadata": {},
   "outputs": [],
   "source": [
    "%%writefile greetings_repo/pyproject.toml\n",
    "\n",
    "[project]\n",
    "name = \"Greetings\"\n",
    "version = \"0.1.0\"\n",
    "dependencies = [\n",
    "    \"art\",\n",
    "]\n",
    "\n",
    "[project.scripts]\n",
    "greet = \"greetings.command:process\"\n",
    "\n",
    "[build-system]\n",
    "requires = [\"setuptools\", \"setuptools_scm[toml]>=6.2\", \"wheel\"]\n",
    "\n",
    "[tool.setuptools.packages.find]\n",
    "include = [\"greetings*\"]\n",
    "\n",
    "# Add setuptools_scm if you need to generate version numbers from the git hash\n",
    "#[tool.setuptools_scm]"
   ]
  },
  {
   "cell_type": "markdown",
   "id": "c8b1f5e1",
   "metadata": {},
   "source": [
    "When installing the package now, pip will also install the dependencies automatically."
   ]
  },
  {
   "cell_type": "code",
   "execution_count": null,
   "id": "1ed0efca",
   "metadata": {},
   "outputs": [],
   "source": [
    "%%bash\n",
    "cd greetings_repo\n",
    "pip install -e ."
   ]
  },
  {
   "cell_type": "code",
   "execution_count": null,
   "id": "cba8360f",
   "metadata": {},
   "outputs": [],
   "source": [
    "%%bash\n",
    "greet Terry Gilliam"
   ]
  },
  {
   "cell_type": "markdown",
   "id": "5fe75b77",
   "metadata": {},
   "source": [
    "### Installing from GitHub"
   ]
  },
  {
   "cell_type": "markdown",
   "id": "b56cf892",
   "metadata": {},
   "source": [
    "\n",
    "We could now submit \"greeter\" to PyPI for approval, so everyone could `pip install` it.\n",
    "\n",
    "However, when using git, we don't even need to do that: we can install directly from any git URL:\n"
   ]
  },
  {
   "cell_type": "markdown",
   "id": "fe5e0d71",
   "metadata": {},
   "source": [
    "```bash\n",
    "pip install git+git://github.com/UCL-ARC-RSEing-with-Python/greeter\n",
    "```"
   ]
  },
  {
   "cell_type": "markdown",
   "id": "9324a263",
   "metadata": {},
   "source": [
    "```bash\n",
    "$ greet Lancelot the-Brave --title Sir\n",
    "Hey, Sir Lancelot the-Brave.\n",
    "```"
   ]
  },
  {
   "cell_type": "markdown",
   "id": "98386c4b",
   "metadata": {},
   "source": [
    "<hr>\n",
    "There are a few additional text files that are important to add to a package: a readme file, a licence file and a citation file."
   ]
  },
  {
   "cell_type": "markdown",
   "id": "01a8b8ba",
   "metadata": {},
   "source": [
    "\n"
   ]
  },
  {
   "cell_type": "markdown",
   "id": "cb76d60e",
   "metadata": {},
   "source": [
    "### Write a readme file"
   ]
  },
  {
   "cell_type": "markdown",
   "id": "122843bc",
   "metadata": {},
   "source": [
    "The readme file might look like this:"
   ]
  },
  {
   "cell_type": "code",
   "execution_count": null,
   "id": "9ec264e5",
   "metadata": {},
   "outputs": [],
   "source": [
    "%%writefile greetings_repo/README.md\n",
    "\n",
    "# Greetings!\n",
    "\n",
    "This is a very simple example package used as part of the UCL\n",
    "[Research Software Engineering with Python](development.rc.ucl.ac.uk/training/engineering) course.\n",
    "\n",
    "## Installation\n",
    "\n",
    "```bash\n",
    "pip install git+git://github.com/UCL-ARC-RSEing-with-Python/greeter\n",
    "```\n",
    "\n",
    "## Usage\n",
    "    \n",
    "Invoke the tool with `greet <FirstName> <Secondname>` or use it on your own library:\n",
    "\n",
    "```python\n",
    "from greeting import greeter\n",
    "\n",
    "greeter.greet(user.name, user.lastname)\n",
    "```"
   ]
  },
  {
   "cell_type": "markdown",
   "id": "e7b179c8",
   "metadata": {},
   "source": [
    "### Write a license file"
   ]
  },
  {
   "cell_type": "markdown",
   "id": "ee8cd84c",
   "metadata": {},
   "source": [
    "We will discus more about [licensing in a later section](https://github-pages.ucl.ac.uk/rsd-engineeringcourse/ch04packaging/07Licensing.html). For now let's assume we want to release this package into the public domain:"
   ]
  },
  {
   "cell_type": "code",
   "execution_count": null,
   "id": "459e4d08",
   "metadata": {},
   "outputs": [],
   "source": [
    "%%writefile greetings_repo/LICENSE.md\n",
    "\n",
    "(C) University College London 2014\n",
    "\n",
    "This \"greetings\" example package is granted into the public domain."
   ]
  },
  {
   "cell_type": "markdown",
   "id": "00f6bdfe",
   "metadata": {},
   "source": [
    "### Write a citation file"
   ]
  },
  {
   "cell_type": "markdown",
   "id": "6a162816",
   "metadata": {},
   "source": [
    "A citation file will inform our users how we would like to be cited when refering to our software:"
   ]
  },
  {
   "cell_type": "code",
   "execution_count": null,
   "id": "f829f28c",
   "metadata": {},
   "outputs": [],
   "source": [
    "%%writefile greetings_repo/CITATION.md\n",
    "\n",
    "If you wish to refer to this course, please cite the URL\n",
    "http://github-pages.ucl.ac.uk/rsd-engineeringcourse/\n",
    "\n",
    "Portions of the material are taken from [Software Carpentry](http://software-carpentry.org/)"
   ]
  },
  {
   "cell_type": "markdown",
   "id": "70b89fd3",
   "metadata": {},
   "source": [
    "You may well want to formalise this using the [codemeta.json](https://codemeta.github.io/) standard or the [citation file format](http://citation-file-format.github.io/) - these don't have wide adoption yet, but we recommend it."
   ]
  },
  {
   "cell_type": "markdown",
   "id": "19140c8f",
   "metadata": {},
   "source": [
    "### Define packages and executables"
   ]
  },
  {
   "cell_type": "markdown",
   "id": "cff83e5d",
   "metadata": {},
   "source": [
    "We need to create `__init__` files for the source and the tests.\n",
    "```bash\n",
    "touch greetings/greetings/test/__init__.py\n",
    "touch greetings/greetings/__init__.py\n",
    "```"
   ]
  },
  {
   "cell_type": "markdown",
   "id": "9c3eb0ba",
   "metadata": {},
   "source": [
    "### Write some unit tests"
   ]
  },
  {
   "cell_type": "markdown",
   "id": "8d2f8dc2",
   "metadata": {},
   "source": [
    "We can now write some tests to our library. \n",
    "\n",
    "Remember, that we need to create the empty `__init__.py` files so that `pytest` can follow the relative imports."
   ]
  },
  {
   "cell_type": "code",
   "execution_count": null,
   "id": "c43482d2",
   "metadata": {},
   "outputs": [],
   "source": [
    "%%bash\n",
    "touch greetings_repo/greetings/test/__init__.py"
   ]
  },
  {
   "cell_type": "markdown",
   "id": "3b6f6fb4",
   "metadata": {},
   "source": [
    "\n",
    "Separating the script from the logical module made this possible.\n",
    "\n",
    "\n",
    "\n",
    "\n",
    "\n"
   ]
  },
  {
   "cell_type": "code",
   "execution_count": null,
   "id": "5faa2b5d",
   "metadata": {},
   "outputs": [],
   "source": [
    "%%writefile greetings_repo/greetings/test/test_greeter.py\n",
    "\n",
    "import os\n",
    "\n",
    "import yaml\n",
    "\n",
    "from ..greeter import greet\n",
    "\n",
    "def test_greet():\n",
    "    with open(os.path.join(os.path.dirname(__file__),\n",
    "                           'fixtures',\n",
    "                           'samples.yaml')) as fixtures_file:\n",
    "        fixtures = yaml.safe_load(fixtures_file)\n",
    "        for fixture in fixtures:\n",
    "            answer = fixture.pop('answer')\n",
    "            assert greet(**fixture) == answer"
   ]
  },
  {
   "cell_type": "markdown",
   "id": "8882348a",
   "metadata": {},
   "source": [
    "\n",
    "\n",
    "\n",
    "Add a fixtures file:\n",
    "\n",
    "\n",
    "\n",
    "\n",
    "\n"
   ]
  },
  {
   "cell_type": "code",
   "execution_count": null,
   "id": "feedd9b8",
   "metadata": {},
   "outputs": [],
   "source": [
    "%%writefile greetings_repo/greetings/test/fixtures/samples.yaml\n",
    "\n",
    "- personal: Eric\n",
    "  family: Idle\n",
    "  answer: \"Hey, Eric Idle.\"\n",
    "- personal: Graham\n",
    "  family: Chapman\n",
    "  polite: True\n",
    "  answer: \"How do you do, Graahm Chapman.\"\n",
    "- personal: Michael\n",
    "  family: Palin\n",
    "  title: CBE\n",
    "  answer: \"Hey, CBE Mike Palin.\"  "
   ]
  },
  {
   "cell_type": "markdown",
   "id": "b6bf7d85",
   "metadata": {},
   "source": [
    "We can now run `pytest`"
   ]
  },
  {
   "cell_type": "code",
   "execution_count": null,
   "id": "9f5984f4",
   "metadata": {},
   "outputs": [],
   "source": [
    "%%bash --no-raise-error\n",
    "\n",
    "cd greetings_repo\n",
    "pytest"
   ]
  },
  {
   "cell_type": "markdown",
   "id": "19ed676c",
   "metadata": {},
   "source": [
    "However, this hasn't told us that also the third test is wrong too! A better aproach is to parametrize the testfile `greetings_repo/greetings/test/test_greeter.py` as follows:"
   ]
  },
  {
   "cell_type": "code",
   "execution_count": null,
   "id": "e23c3743",
   "metadata": {},
   "outputs": [],
   "source": [
    "%%writefile greetings_repo/greetings/test/test_greeter.py\n",
    "\n",
    "import os\n",
    "\n",
    "import pytest\n",
    "import yaml\n",
    "\n",
    "from ..greeter import greet\n",
    "\n",
    "def read_fixture():\n",
    "    with open(os.path.join(os.path.dirname(__file__),\n",
    "                           'fixtures',\n",
    "                           'samples.yaml')) as fixtures_file:\n",
    "        fixtures = yaml.safe_load(fixtures_file)\n",
    "    return fixtures\n",
    "\n",
    "@pytest.mark.parametrize(\"fixture\", read_fixture())\n",
    "def test_greeter(fixture):\n",
    "    answer = fixture.pop('answer')\n",
    "    assert greet(**fixture) == answer"
   ]
  },
  {
   "cell_type": "markdown",
   "id": "9ebc214b",
   "metadata": {},
   "source": [
    "Now when we run `pytest`, we get a failure per element in our fixture and we know all that fails."
   ]
  },
  {
   "cell_type": "code",
   "execution_count": null,
   "id": "a3d9f619",
   "metadata": {},
   "outputs": [],
   "source": [
    "%%bash --no-raise-error\n",
    "\n",
    "cd greetings_repo\n",
    "pytest"
   ]
  },
  {
   "cell_type": "markdown",
   "id": "f73b626e",
   "metadata": {},
   "source": [
    "We can also make pytest to check whether the docstrings are correct by adding the `--doctest-modules` flag. We run `pytest --doctest-modules` and obtain the following output:"
   ]
  },
  {
   "cell_type": "code",
   "execution_count": null,
   "id": "1dca1a71",
   "metadata": {},
   "outputs": [],
   "source": [
    "%%bash --no-raise-error\n",
    "\n",
    "cd greetings_repo\n",
    "pytest --doctest-modules"
   ]
  },
  {
   "cell_type": "markdown",
   "id": "b08a7adb",
   "metadata": {},
   "source": [
    "Finally, we typically don't want to include the tests when we distribute our software for our users.\n",
    "We can make sure they are not included using the `exclude` option on when telling `setuptools` to find packages.\n",
    "\n",
    "Additionally, we can make sure that our README and LICENSE are included in our package metadata by declaring them in the `readme` and `license` fields under the `project` section.\n",
    "If you're using a particularly common or standard license, you can even provide the name of the license, rather than the file, and your package builder will take care of the rest!"
   ]
  },
  {
   "cell_type": "code",
   "execution_count": null,
   "id": "5a24866d",
   "metadata": {},
   "outputs": [],
   "source": [
    "%%writefile greetings_repo/pyproject.toml\n",
    "\n",
    "[project]\n",
    "name = \"Greetings\"\n",
    "version = \"0.1.0\"\n",
    "readme = \"README.md\"\n",
    "license = { file = \"LICENSE.md\" }\n",
    "dependencies = [\n",
    "    \"art\",\n",
    "    \"pyyaml\",\n",
    "]\n",
    "\n",
    "[project.scripts]\n",
    "greet = \"greetings.command:process\"\n",
    "\n",
    "[build-system]\n",
    "requires = [\"setuptools\", \"setuptools_scm[toml]>=6.2\", \"wheel\"]\n",
    "\n",
    "[tool.setuptools.packages.find]\n",
    "include = [\"greetings*\"]\n",
    "exclude = [\"tests*\"]\n",
    "\n",
    "# Add setuptools_scm if you need to generate version numbers from the git hash\n",
    "#[tool.setuptools_scm]"
   ]
  },
  {
   "cell_type": "markdown",
   "id": "9074c609",
   "metadata": {},
   "source": [
    "### Developer Install"
   ]
  },
  {
   "cell_type": "markdown",
   "id": "2cf8e820",
   "metadata": {},
   "source": [
    "\n",
    "If you modify your source files, you would now find it appeared as if the program doesn't change.\n",
    "\n",
    "That's because pip install **copies** the files.\n",
    "\n",
    "If you want to install a package, but keep working on it, you can do:"
   ]
  },
  {
   "cell_type": "markdown",
   "id": "bcbe6bd4",
   "metadata": {},
   "source": [
    "```bash\n",
    "pip install --editable .\n",
    "```\n",
    "\n",
    "or, its shorter version:\n",
    "\n",
    "```bash\n",
    "pip install -e .\n",
    "```"
   ]
  },
  {
   "cell_type": "markdown",
   "id": "b30389bc",
   "metadata": {},
   "source": [
    "### Distributing compiled code"
   ]
  },
  {
   "cell_type": "markdown",
   "id": "8d954400",
   "metadata": {},
   "source": [
    "\n",
    "If you're working in C++ or Fortran, there is no language specific repository.\n",
    "You'll need to write platform installers for as many platforms as you want to\n",
    "support.\n",
    "\n",
    "Typically:\n",
    "\n",
    "* `dpkg` for `apt-get` on Ubuntu and Debian\n",
    "* `rpm` for `yum`/`dnf` on Redhat and Fedora\n",
    "* `homebrew` on OSX (Possibly `macports` as well)\n",
    "* An executable `msi` installer for Windows.\n"
   ]
  },
  {
   "cell_type": "markdown",
   "id": "6e4a3a08",
   "metadata": {},
   "source": [
    "#### Homebrew"
   ]
  },
  {
   "cell_type": "markdown",
   "id": "c4b55eeb",
   "metadata": {},
   "source": [
    "\n",
    "Homebrew: A ruby DSL, you host off your own webpage\n",
    "\n",
    "See an [installer for the cppcourse example](http://github.com/jamespjh/homebrew-reactor)\n",
    "\n",
    "If you're on OSX, do:\n"
   ]
  },
  {
   "cell_type": "markdown",
   "id": "b93da71f",
   "metadata": {},
   "source": [
    "```\n",
    "brew tap jamespjh/homebrew-reactor\n",
    "brew install reactor\n",
    "```"
   ]
  }
 ],
 "metadata": {
  "jekyll": {
   "display_name": "Packaging"
  },
  "jupytext": {
   "main_language": "python",
   "notebook_metadata_filter": "-kernelspec,jupytext,jekyll"
  }
 },
 "nbformat": 4,
 "nbformat_minor": 5
}