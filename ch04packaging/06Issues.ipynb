{
 "cells": [
  {
   "cell_type": "markdown",
   "id": "71e59fbc",
   "metadata": {},
   "source": [
    "## Managing software issues"
   ]
  },
  {
   "cell_type": "markdown",
   "id": "eed34c76",
   "metadata": {},
   "source": [
    "### Issues\n",
    "\n",
    "Code has *bugs*. It also has *features*, things it should do.\n",
    "\n",
    "A good project has an organised way of managing these. Generally you should use an issue tracker."
   ]
  },
  {
   "cell_type": "markdown",
   "id": "f1d6f297",
   "metadata": {},
   "source": [
    "### Some Issue Trackers\n",
    "\n",
    "There are lots of good issue trackers.\n",
    "\n",
    "The most commonly used open source ones are [Trac](http://trac.edgewall.org/) and [Redmine](http://www.redmine.org/).\n",
    "\n",
    "Cloud based issue trackers include [Lighthouse](http://lighthouseapp.com/) and [GitHub](https://github.com/blog/831-issues-2-0-the-next-generation).\n",
    "\n",
    "Commercial solutions include [Jira](https://www.atlassian.com/software/jira)."
   ]
  },
  {
   "cell_type": "markdown",
   "id": "090bf6d0",
   "metadata": {},
   "source": [
    "### Anatomy of an issue\n",
    "\n",
    "* Reporter\n",
    "* Description\n",
    "* Owner\n",
    "* Type [Bug, Feature]\n",
    "* Component\n",
    "* Status\n",
    "* Severity"
   ]
  },
  {
   "cell_type": "markdown",
   "id": "ca97f997",
   "metadata": {},
   "source": [
    "### Reporting a Bug\n",
    "\n",
    "The description should make the bug reproducible:\n",
    "\n",
    "* Version\n",
    "* Steps\n",
    "\n",
    "If possible, submit a minimal reproducing code fragment - look at this detailed answer about [how to create a minimal example for $LaTeX$](https://tex.meta.stackexchange.com/a/3225/10934)."
   ]
  },
  {
   "cell_type": "markdown",
   "id": "ccde4419",
   "metadata": {},
   "source": [
    "### Owning an issue\n",
    "\n",
    "* Whoever the issue is assigned to works next.\n",
    "* If an issue needs someone else's work, assign it to them."
   ]
  },
  {
   "cell_type": "markdown",
   "id": "1281c6a1",
   "metadata": {},
   "source": [
    "### Status \n",
    "\n",
    "* Submitted\n",
    "* Accepted\n",
    "* Underway\n",
    "* Blocked"
   ]
  },
  {
   "cell_type": "markdown",
   "id": "528e83a8",
   "metadata": {},
   "source": [
    "### Resolutions\n",
    "\n",
    "* Resolved\n",
    "* Will Not Fix\n",
    "* Not reproducible\n",
    "* Not a bug (working as intended)"
   ]
  },
  {
   "cell_type": "markdown",
   "id": "a81e8568",
   "metadata": {},
   "source": [
    "### Bug triage\n",
    "\n",
    "Some organisations use a severity matrix based on:\n",
    "\n",
    "* Severity [Wrong answer, crash, unusable, workaround, cosmetic...]\n",
    "* Frequency [All users, most users, some users...]"
   ]
  },
  {
   "cell_type": "markdown",
   "id": "a37cbb05",
   "metadata": {},
   "source": [
    "### The backlog\n",
    "\n",
    "The list of all the bugs that need to be fixed or\n",
    "features that have been requested is called the \"backlog\"."
   ]
  },
  {
   "cell_type": "markdown",
   "id": "021c7796",
   "metadata": {},
   "source": [
    "### Development cycles\n",
    "\n",
    "Development goes in *cycles*.\n",
    "\n",
    "Cycles range in length from a week to three months.\n",
    "\n",
    "In a given cycle:\n",
    "\n",
    "* Decide which features should be implemented\n",
    "* Decide which bugs should be fixed\n",
    "* Move these issues from the Backlog into the current cycle. (Aka Sprint)"
   ]
  },
  {
   "cell_type": "markdown",
   "id": "2b9dd2c8",
   "metadata": {},
   "source": [
    "### GitHub issues\n",
    "\n",
    "GitHub doesn't have separate fields for status, component, severity etc.\n",
    "Instead, it just has labels, which you can create and delete.\n",
    "\n",
    "See for example [Jupyter](https://github.com/jupyter/notebook/issues?page=1&state=open)."
   ]
  }
 ],
 "metadata": {
  "jekyll": {
   "display_name": "Issue Tracking"
  },
  "jupytext": {
   "main_language": "python",
   "notebook_metadata_filter": "-kernelspec,jupytext,jekyll"
  }
 },
 "nbformat": 4,
 "nbformat_minor": 5
}