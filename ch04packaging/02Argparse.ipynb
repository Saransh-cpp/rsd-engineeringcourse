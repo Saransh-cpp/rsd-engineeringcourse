{
 "cells": [
  {
   "cell_type": "markdown",
   "id": "ae4a1579",
   "metadata": {},
   "source": [
    "## Argparse"
   ]
  },
  {
   "cell_type": "markdown",
   "id": "30b92302",
   "metadata": {},
   "source": [
    "This is the standard library for building programs with a command-line interface. Here we show a short introduction to it, but we recommend to read the [official tutorial](https://docs.python.org/3/howto/argparse.html)."
   ]
  },
  {
   "cell_type": "markdown",
   "id": "7e2d8485",
   "metadata": {},
   "source": [
    "Let's start by creating a simple `greet` function that accepts some parameters."
   ]
  },
  {
   "cell_type": "code",
   "execution_count": null,
   "id": "51f429b5",
   "metadata": {},
   "outputs": [],
   "source": [
    "def greet(personal, family, title=\"\", polite=False):\n",
    "    greeting = \"How do you do, \" if polite else \"Hey, \"\n",
    "    if title:\n",
    "        greeting += f\"{title} \"\n",
    "\n",
    "    greeting += f\"{personal} {family}.\"\n",
    "    return greeting"
   ]
  },
  {
   "cell_type": "markdown",
   "id": "8f139936",
   "metadata": {},
   "source": [
    "Now we have a function that greets whoever we want."
   ]
  },
  {
   "cell_type": "code",
   "execution_count": null,
   "id": "8e2e264e",
   "metadata": {},
   "outputs": [],
   "source": [
    "greet(\"John\", \"Cleese\", polite=True)"
   ]
  },
  {
   "cell_type": "markdown",
   "id": "6abffb74",
   "metadata": {},
   "source": [
    "If we want to create a command line interface for this function, we need to save it on its own file. To add the capability to accept inputs from the command line we are going to use `argparse`.\n",
    "\n",
    "Rememer, what's under the `if __name__ == \"__main__\":` block is what's get executed when you run the file!"
   ]
  },
  {
   "cell_type": "code",
   "execution_count": null,
   "id": "667b44e6",
   "metadata": {},
   "outputs": [],
   "source": [
    "%%writefile greeter.py\n",
    "#!/usr/bin/env python\n",
    "from argparse import ArgumentParser\n",
    "\n",
    "def greet(personal, family, title=\"\", polite=False):\n",
    "    greeting = \"How do you do, \" if polite else \"Hey, \"\n",
    "    if title:\n",
    "        greeting += f\"{title} \"\n",
    "\n",
    "    greeting += f\"{personal} {family}.\"\n",
    "    return greeting\n",
    "\n",
    "if __name__ == \"__main__\":\n",
    "    parser = ArgumentParser(description=\"Generate appropriate greetings\")\n",
    "    parser.add_argument('--title', '-t')\n",
    "    parser.add_argument('--polite','-p', action=\"store_true\")\n",
    "    parser.add_argument('personal')\n",
    "    parser.add_argument('family')\n",
    "    arguments= parser.parse_args()\n",
    "    \n",
    "    message = greet(arguments.personal, arguments.family,\n",
    "                    arguments.title, arguments.polite)\n",
    "    print(message)"
   ]
  },
  {
   "cell_type": "markdown",
   "id": "5e63c518",
   "metadata": {},
   "source": [
    "Note that we've created arguments for each argument `greet` accepts and kept what's optional in the function (the keyword arguments) to be also optional for its command-line interface (can you spot how?)."
   ]
  },
  {
   "cell_type": "markdown",
   "id": "7b1b754d",
   "metadata": {},
   "source": [
    "We need to tell the computer that this file can be executed to be able to run this script without calling it with `python` everytime. The computer will know what to use by reading the [shebang](https://en.wikipedia.org/wiki/Shebang_(Unix)) `#!`. If you are using MacOS or Linux, you do the following to create an executable:"
   ]
  },
  {
   "cell_type": "code",
   "execution_count": null,
   "id": "06309dde",
   "metadata": {},
   "outputs": [],
   "source": [
    "%%bash\n",
    "chmod u+x greeter.py"
   ]
  },
  {
   "cell_type": "markdown",
   "id": "3f22e5c7",
   "metadata": {},
   "source": [
    "and then running it as:"
   ]
  },
  {
   "cell_type": "code",
   "execution_count": null,
   "id": "e5d3d8e0",
   "metadata": {},
   "outputs": [],
   "source": [
    "%%bash --no-raise-error\n",
    "./greeter.py"
   ]
  },
  {
   "cell_type": "markdown",
   "id": "fc5aa9de",
   "metadata": {},
   "source": [
    "if you are using Windows' commands or powershell terminal (instead of git-bash), then the shebang is ignored and you will have to call `python` explicitily. Additionally, for the notebooks cells, you need to change `bash` by `cmd`.\n",
    "\n",
    "```\n",
    "%%cmd\n",
    "python greeter.py John Cleese\n",
    "```"
   ]
  },
  {
   "cell_type": "code",
   "execution_count": null,
   "id": "0d1bbb19",
   "metadata": {},
   "outputs": [],
   "source": [
    "%%bash\n",
    "./greeter.py John Cleese"
   ]
  },
  {
   "cell_type": "markdown",
   "id": "0db6d252",
   "metadata": {},
   "source": [
    "We can then use the optional arguments as:"
   ]
  },
  {
   "cell_type": "code",
   "execution_count": null,
   "id": "3a4f0ef6",
   "metadata": {},
   "outputs": [],
   "source": [
    "%%bash\n",
    "./greeter.py --polite John Cleese"
   ]
  },
  {
   "cell_type": "code",
   "execution_count": null,
   "id": "1989ef8b",
   "metadata": {},
   "outputs": [],
   "source": [
    "%%bash\n",
    "./greeter.py John Cleese --title Dr"
   ]
  },
  {
   "cell_type": "markdown",
   "id": "f744dd42",
   "metadata": {},
   "source": [
    "Yes, [he is](https://en.wikipedia.org/wiki/John_Cleese#Honours_and_tributes)!"
   ]
  },
  {
   "cell_type": "markdown",
   "id": "94763596",
   "metadata": {},
   "source": [
    "From the error we got above when we called `greeter.py` without arguments, you may have noticed that in the usage message there's also a `-h` optional argument. We know it's optional because it's shown within square brackes, like for `[--polite]`. This new argument, as the usage message seen above, is generated automatically by argparse and you can use it to see the help."
   ]
  },
  {
   "cell_type": "code",
   "execution_count": null,
   "id": "adb6c6a8",
   "metadata": {},
   "outputs": [],
   "source": [
    "%%bash\n",
    "./greeter.py --help"
   ]
  },
  {
   "cell_type": "markdown",
   "id": "9bb32894",
   "metadata": {},
   "source": [
    "Before we move into the next section, let's clean up our `if __name__ == \"__main__\":` block by creating a function that keeps the `argparse` magic. We will call that function `process`."
   ]
  },
  {
   "cell_type": "code",
   "execution_count": null,
   "id": "127adc7d",
   "metadata": {},
   "outputs": [],
   "source": [
    "%%writefile greeter.py\n",
    "#!/usr/bin/env python\n",
    "from argparse import ArgumentParser\n",
    "\n",
    "def greet(personal, family, title=\"\", polite=False):\n",
    "    greeting = \"How do you do, \" if polite else \"Hey, \"\n",
    "    if title:\n",
    "        greeting += f\"{title} \"\n",
    "\n",
    "    greeting += f\"{personal} {family}.\"\n",
    "    return greeting\n",
    "\n",
    "def process():\n",
    "    parser = ArgumentParser(description=\"Generate appropriate greetings\")\n",
    "\n",
    "    parser.add_argument('--title', '-t')\n",
    "    parser.add_argument('--polite', '-p', action=\"store_true\")\n",
    "    parser.add_argument('personal')\n",
    "    parser.add_argument('family')\n",
    "\n",
    "    arguments = parser.parse_args()\n",
    "\n",
    "    print(greet(arguments.personal, arguments.family,\n",
    "                arguments.title, arguments.polite))    \n",
    "\n",
    "if __name__ == \"__main__\":\n",
    "    process()"
   ]
  }
 ],
 "metadata": {
  "jekyll": {
   "display_name": "Argparse"
  },
  "jupytext": {
   "main_language": "python",
   "notebook_metadata_filter": "-kernelspec,jupytext,jekyll"
  }
 },
 "nbformat": 4,
 "nbformat_minor": 5
}