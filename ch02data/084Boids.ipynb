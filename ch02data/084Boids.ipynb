{
 "cells": [
  {
   "cell_type": "markdown",
   "id": "3812b450",
   "metadata": {},
   "source": [
    "## The Boids!\n",
    "\n",
    "This section shows an example of using NumPy to encode a model of how a group of birds or other animals moves. It is based on [a paper by Craig W. Reynolds](http://www.cs.toronto.edu/~dt/siggraph97-course/cwr87/). Reynolds calls the simulated creatures \"bird-oids\" or \"boids\", so that's what we'll be calling them here too."
   ]
  },
  {
   "cell_type": "markdown",
   "id": "f899b607",
   "metadata": {},
   "source": [
    "### Flocking"
   ]
  },
  {
   "cell_type": "markdown",
   "id": "b830a0b7",
   "metadata": {},
   "source": [
    "\n",
    "> The aggregate motion of a flock of birds, a herd of land animals, or a school of fish is a beautiful and familiar\n",
    "part of the natural world... The aggregate motion of the simulated flock is created by a distributed behavioral model much\n",
    "like that at work in a natural flock; the birds choose their own course. Each simulated bird is implemented as an independent\n",
    "actor that navigates according to its local perception of the dynamic environment, the laws of simulated physics that rule its\n",
    "motion, and a set of behaviors programmed into it... The aggregate motion of the simulated flock is the result of the\n",
    "dense interaction of the relatively simple behaviors of the individual simulated birds. \n",
    "\n",
    "-- Craig W. Reynolds, \"Flocks, Herds, and Schools: A Distributed Behavioral Model\", *Computer Graphics* **21** _4_ 1987, pp 25-34"
   ]
  },
  {
   "cell_type": "markdown",
   "id": "cbbf1081",
   "metadata": {},
   "source": [
    "The model includes three main behaviours which, together, give rise to \"flocking\". In the words of the paper:\n",
    "\n",
    "* Collision Avoidance: avoid collisions with nearby flockmates\n",
    "* Velocity Matching: attempt to match velocity with nearby flockmates\n",
    "* Flock Centering: attempt to stay close to nearby flockmates"
   ]
  },
  {
   "cell_type": "markdown",
   "id": "71c92ff5",
   "metadata": {},
   "source": [
    "### Setting up the Boids"
   ]
  },
  {
   "cell_type": "markdown",
   "id": "3684fade",
   "metadata": {},
   "source": [
    "Our boids will each have an x velocity and a y velocity, and an x position and a y position."
   ]
  },
  {
   "cell_type": "markdown",
   "id": "07883800",
   "metadata": {},
   "source": [
    "We'll build this up in NumPy notation, and eventually, have an animated simulation of our flying boids."
   ]
  },
  {
   "cell_type": "code",
   "execution_count": null,
   "id": "7b607431",
   "metadata": {},
   "outputs": [],
   "source": [
    "import numpy as np"
   ]
  },
  {
   "cell_type": "markdown",
   "id": "c6d871e9",
   "metadata": {},
   "source": [
    "Let's start with simple flying in a straight line."
   ]
  },
  {
   "cell_type": "markdown",
   "id": "2a54c07a",
   "metadata": {},
   "source": [
    "Our positions, for each of our N boids, will be an array, shape $2 \\times N$, with the x positions in the first row,\n",
    "and y positions in the second row."
   ]
  },
  {
   "cell_type": "code",
   "execution_count": null,
   "id": "94dca9c1",
   "metadata": {},
   "outputs": [],
   "source": [
    "boid_count = 10"
   ]
  },
  {
   "cell_type": "markdown",
   "id": "72b99ae9",
   "metadata": {},
   "source": [
    "We'll want to be able to seed our Boids in a random position."
   ]
  },
  {
   "cell_type": "markdown",
   "id": "d9d6f7eb",
   "metadata": {},
   "source": [
    "We'd better define the edges of our simulation area:"
   ]
  },
  {
   "cell_type": "code",
   "execution_count": null,
   "id": "0cf9c481",
   "metadata": {},
   "outputs": [],
   "source": [
    "limits = np.array([2000, 2000])"
   ]
  },
  {
   "cell_type": "code",
   "execution_count": null,
   "id": "49f7ad16",
   "metadata": {},
   "outputs": [],
   "source": [
    "positions = np.random.rand(2, boid_count) * limits[:, np.newaxis]\n",
    "positions"
   ]
  },
  {
   "cell_type": "code",
   "execution_count": null,
   "id": "f6bf488c",
   "metadata": {},
   "outputs": [],
   "source": [
    "positions.shape"
   ]
  },
  {
   "cell_type": "markdown",
   "id": "253779ed",
   "metadata": {},
   "source": [
    "We used **broadcasting** with np.newaxis to apply our upper limit to each boid.\n",
    "`rand` gives us a random number between 0 and 1. We multiply by our limits to get a number up to that limit."
   ]
  },
  {
   "cell_type": "code",
   "execution_count": null,
   "id": "2bbae7bf",
   "metadata": {},
   "outputs": [],
   "source": [
    "limits[:, np.newaxis]"
   ]
  },
  {
   "cell_type": "code",
   "execution_count": null,
   "id": "23a42018",
   "metadata": {},
   "outputs": [],
   "source": [
    "limits[:, np.newaxis].shape"
   ]
  },
  {
   "cell_type": "code",
   "execution_count": null,
   "id": "1193e016",
   "metadata": {},
   "outputs": [],
   "source": [
    "np.random.rand(2, boid_count).shape"
   ]
  },
  {
   "cell_type": "markdown",
   "id": "7ed2fd7c",
   "metadata": {},
   "source": [
    "So we multiply a $2\\times1$ array by a $2 \\times 10$ array -- and get a $2\\times 10$ array."
   ]
  },
  {
   "cell_type": "markdown",
   "id": "98033669",
   "metadata": {},
   "source": [
    "Let's put that in a function:"
   ]
  },
  {
   "cell_type": "code",
   "execution_count": null,
   "id": "d18ce5b7",
   "metadata": {},
   "outputs": [],
   "source": [
    "def new_flock(count, lower_limits, upper_limits):\n",
    "    width = upper_limits - lower_limits\n",
    "    return (lower_limits[:, np.newaxis] + np.random.rand(2, count) * width[:, np.newaxis])"
   ]
  },
  {
   "cell_type": "markdown",
   "id": "8f378fc5",
   "metadata": {},
   "source": [
    "For example, let's assume that we want our initial positions to vary between 100 and 200 in the x axis, and 900 and 1100 in the y axis. We can generate random positions within these constraints with:\n",
    "```python\n",
    "positions = new_flock(boid_count, np.array([100, 900]), np.array([200, 1100]))\n",
    "```"
   ]
  },
  {
   "cell_type": "markdown",
   "id": "fc910090",
   "metadata": {},
   "source": [
    "But each bird will also need a starting velocity. Let's make these random too:\n",
    "\n",
    "We can reuse the `new_flock` function defined above, since we're again essentially just generating random numbers from given limits. This saves us some code, but keep in mind that using a function for something other than what its name indicates can become confusing!\n",
    "\n",
    "Here, we will let the initial x velocities range over $[0, 10]$ and the y velocities over $[-20, 20]$."
   ]
  },
  {
   "cell_type": "code",
   "execution_count": null,
   "id": "2626ddaa",
   "metadata": {},
   "outputs": [],
   "source": [
    "velocities = new_flock(boid_count, np.array([0, -20]), np.array([10, 20]))\n",
    "velocities"
   ]
  },
  {
   "cell_type": "markdown",
   "id": "2b076d3f",
   "metadata": {},
   "source": [
    "### Flying in a Straight Line"
   ]
  },
  {
   "cell_type": "markdown",
   "id": "aef5e7df",
   "metadata": {},
   "source": [
    "Now we see the real amazingness of NumPy: if we want to move our *whole flock* according to\n",
    "\n",
    "$\\delta_x = \\delta_t \\cdot \\frac{dv}{dt}$"
   ]
  },
  {
   "cell_type": "markdown",
   "id": "e01d8824",
   "metadata": {},
   "source": [
    "we just do:"
   ]
  },
  {
   "cell_type": "code",
   "execution_count": null,
   "id": "a76cfbe1",
   "metadata": {},
   "outputs": [],
   "source": [
    "positions += velocities"
   ]
  },
  {
   "cell_type": "markdown",
   "id": "ee8bb7af",
   "metadata": {},
   "source": [
    "### Matplotlib Animations"
   ]
  },
  {
   "cell_type": "markdown",
   "id": "d2583dec",
   "metadata": {},
   "source": [
    "So now we can animate our Boids using the matplotlib animation tools. All we have to do is import the relevant libraries:"
   ]
  },
  {
   "cell_type": "code",
   "execution_count": null,
   "id": "32485f22",
   "metadata": {},
   "outputs": [],
   "source": [
    "from matplotlib import animation\n",
    "from matplotlib import pyplot as plt\n",
    "%matplotlib inline"
   ]
  },
  {
   "cell_type": "markdown",
   "id": "395ab02f",
   "metadata": {},
   "source": [
    "Then, we make a static plot, showing our first frame:"
   ]
  },
  {
   "cell_type": "code",
   "execution_count": null,
   "id": "a8b909f0",
   "metadata": {},
   "outputs": [],
   "source": [
    "# create a simple plot\n",
    "# initial x position in [100, 200], initial y position in [900, 1100]\n",
    "# initial x velocity in [0, 10], initial y velocity in [-20, 20]\n",
    "positions = new_flock(100, np.array([100, 900]), np.array([200, 1100]))\n",
    "velocities = new_flock(100, np.array([0, -20]), np.array([10, 20]))\n",
    "\n",
    "figure = plt.figure()\n",
    "axes = plt.axes(xlim=(0, limits[0]), ylim=(0, limits[1]))\n",
    "scatter = axes.scatter(positions[0, :], positions[1, :],\n",
    "                       marker='o', edgecolor='k', lw=0.5)\n",
    "scatter"
   ]
  },
  {
   "cell_type": "markdown",
   "id": "2f5eb6cc",
   "metadata": {},
   "source": [
    "Then, we define a function which **updates** the figure for each timestep"
   ]
  },
  {
   "cell_type": "code",
   "execution_count": null,
   "id": "103f28ef",
   "metadata": {},
   "outputs": [],
   "source": [
    "def update_boids(positions, velocities):\n",
    "    positions += velocities\n",
    "\n",
    "\n",
    "def animate(frame):\n",
    "    update_boids(positions, velocities)\n",
    "    scatter.set_offsets(positions.transpose())"
   ]
  },
  {
   "cell_type": "markdown",
   "id": "3aab4d7c",
   "metadata": {},
   "source": [
    "Call `FuncAnimation`, and specify how many frames we want:"
   ]
  },
  {
   "cell_type": "code",
   "execution_count": null,
   "id": "b82f6a9b",
   "metadata": {},
   "outputs": [],
   "source": [
    "anim = animation.FuncAnimation(figure, animate,\n",
    "                               frames=50, interval=50)"
   ]
  },
  {
   "cell_type": "markdown",
   "id": "1625861b",
   "metadata": {},
   "source": [
    "Save out the figure:"
   ]
  },
  {
   "cell_type": "code",
   "execution_count": null,
   "id": "4dacef9c",
   "metadata": {},
   "outputs": [],
   "source": [
    "positions = new_flock(100, np.array([100, 900]), np.array([200, 1100]))\n",
    "velocities = new_flock(100, np.array([0, -20]), np.array([10, 20]))\n",
    "anim.save('boids_1.mp4')"
   ]
  },
  {
   "cell_type": "markdown",
   "id": "02db9432",
   "metadata": {},
   "source": [
    "And download the [saved animation](http://github-pages.ucl.ac.uk/rsd-engineeringcourse/ch02data/boids_1.mp4)."
   ]
  },
  {
   "cell_type": "markdown",
   "id": "67358907",
   "metadata": {},
   "source": [
    "You can even view the results directly in the notebook."
   ]
  },
  {
   "cell_type": "code",
   "execution_count": null,
   "id": "d4e29bcc",
   "metadata": {},
   "outputs": [],
   "source": [
    "from IPython.display import HTML\n",
    "HTML(anim.to_jshtml())"
   ]
  },
  {
   "cell_type": "markdown",
   "id": "d02ebbb0",
   "metadata": {},
   "source": [
    "### Fly towards the middle"
   ]
  },
  {
   "cell_type": "markdown",
   "id": "fc626496",
   "metadata": {},
   "source": [
    "Boids try to fly towards the middle:"
   ]
  },
  {
   "cell_type": "code",
   "execution_count": null,
   "id": "0c1cd492",
   "metadata": {},
   "outputs": [],
   "source": [
    "positions = new_flock(4, np.array([100, 900]), np.array([200, 1100]))\n",
    "velocities = new_flock(4, np.array([0, -20]), np.array([10, 20]))"
   ]
  },
  {
   "cell_type": "code",
   "execution_count": null,
   "id": "c7920b95",
   "metadata": {},
   "outputs": [],
   "source": [
    "positions"
   ]
  },
  {
   "cell_type": "code",
   "execution_count": null,
   "id": "8cdac1c7",
   "metadata": {},
   "outputs": [],
   "source": [
    "velocities"
   ]
  },
  {
   "cell_type": "code",
   "execution_count": null,
   "id": "5e59456e",
   "metadata": {},
   "outputs": [],
   "source": [
    "middle = np.mean(positions, 1)\n",
    "middle"
   ]
  },
  {
   "cell_type": "code",
   "execution_count": null,
   "id": "a6ea1dc0",
   "metadata": {},
   "outputs": [],
   "source": [
    "direction_to_middle = positions - middle[:, np.newaxis]\n",
    "direction_to_middle"
   ]
  },
  {
   "cell_type": "markdown",
   "id": "28abfa31",
   "metadata": {},
   "source": [
    "This is easier and faster than:\n",
    "\n",
    "``` python\n",
    "for bird in birds:\n",
    "    for dimension in [0, 1]:\n",
    "        direction_to_middle[dimension][bird] = positions[dimension][bird] - middle[dimension]\n",
    "```"
   ]
  },
  {
   "cell_type": "code",
   "execution_count": null,
   "id": "4ab58c96",
   "metadata": {},
   "outputs": [],
   "source": [
    "move_to_middle_strength = 0.01\n",
    "velocities = velocities - direction_to_middle * move_to_middle_strength"
   ]
  },
  {
   "cell_type": "markdown",
   "id": "b5c0c29d",
   "metadata": {},
   "source": [
    "Let's update our function, and animate that:"
   ]
  },
  {
   "cell_type": "code",
   "execution_count": null,
   "id": "d6d20bc4",
   "metadata": {},
   "outputs": [],
   "source": [
    "def update_boids(positions, velocities):\n",
    "    move_to_middle_strength = 0.01\n",
    "    middle = np.mean(positions, 1)\n",
    "    direction_to_middle = positions - middle[:, np.newaxis]\n",
    "    velocities -= direction_to_middle * move_to_middle_strength\n",
    "    positions += velocities"
   ]
  },
  {
   "cell_type": "code",
   "execution_count": null,
   "id": "9b10d759",
   "metadata": {},
   "outputs": [],
   "source": [
    "def animate(frame):\n",
    "    update_boids(positions, velocities)\n",
    "    scatter.set_offsets(positions.transpose())"
   ]
  },
  {
   "cell_type": "code",
   "execution_count": null,
   "id": "ce878d3d",
   "metadata": {},
   "outputs": [],
   "source": [
    "anim = animation.FuncAnimation(figure, animate,\n",
    "                               frames=50, interval=50)"
   ]
  },
  {
   "cell_type": "code",
   "execution_count": null,
   "id": "f2099271",
   "metadata": {},
   "outputs": [],
   "source": [
    "positions = new_flock(100, np.array([100, 900]), np.array([200, 1100]))\n",
    "velocities = new_flock(100, np.array([0, -20]), np.array([10, 20]))\n",
    "HTML(anim.to_jshtml())"
   ]
  },
  {
   "cell_type": "markdown",
   "id": "18304275",
   "metadata": {},
   "source": [
    "### Avoiding collisions"
   ]
  },
  {
   "cell_type": "markdown",
   "id": "ba7e0e0c",
   "metadata": {},
   "source": [
    "We'll want to add our other flocking rules to the behaviour of the Boids."
   ]
  },
  {
   "cell_type": "markdown",
   "id": "eb7eb449",
   "metadata": {},
   "source": [
    "We'll need a matrix giving the distances between each bird. This should be $N \\times N$."
   ]
  },
  {
   "cell_type": "code",
   "execution_count": null,
   "id": "d1b869a0",
   "metadata": {},
   "outputs": [],
   "source": [
    "positions = new_flock(4, np.array([100, 900]), np.array([200, 1100]))\n",
    "velocities = new_flock(4, np.array([0, -20]), np.array([10, 20]))"
   ]
  },
  {
   "cell_type": "markdown",
   "id": "7fbb81a3",
   "metadata": {},
   "source": [
    "We might think that we need to do the X-distances and Y-distances separately:"
   ]
  },
  {
   "cell_type": "code",
   "execution_count": null,
   "id": "611bb518",
   "metadata": {},
   "outputs": [],
   "source": [
    "xpos = positions[0, :]"
   ]
  },
  {
   "cell_type": "code",
   "execution_count": null,
   "id": "6c6d53bf",
   "metadata": {},
   "outputs": [],
   "source": [
    "xsep_matrix = xpos[:, np.newaxis] - xpos[np.newaxis, :]"
   ]
  },
  {
   "cell_type": "code",
   "execution_count": null,
   "id": "302d7366",
   "metadata": {},
   "outputs": [],
   "source": [
    "xsep_matrix.shape"
   ]
  },
  {
   "cell_type": "code",
   "execution_count": null,
   "id": "ffe6ce88",
   "metadata": {},
   "outputs": [],
   "source": [
    "xsep_matrix"
   ]
  },
  {
   "cell_type": "markdown",
   "id": "a8aaaa92",
   "metadata": {},
   "source": [
    "But in NumPy we can be cleverer than that, and make a $2 \\times N \\times N$ matrix of separations:"
   ]
  },
  {
   "cell_type": "code",
   "execution_count": null,
   "id": "8242f448",
   "metadata": {},
   "outputs": [],
   "source": [
    "separations = positions[:, np.newaxis, :] - positions[:, :, np.newaxis]"
   ]
  },
  {
   "cell_type": "code",
   "execution_count": null,
   "id": "df74b0d4",
   "metadata": {},
   "outputs": [],
   "source": [
    "separations.shape"
   ]
  },
  {
   "cell_type": "markdown",
   "id": "f3755be1",
   "metadata": {},
   "source": [
    "And then we can get the sum-of-squares $\\delta_x^2 + \\delta_y^2$ like this:"
   ]
  },
  {
   "cell_type": "code",
   "execution_count": null,
   "id": "86676970",
   "metadata": {},
   "outputs": [],
   "source": [
    "squared_displacements = separations * separations"
   ]
  },
  {
   "cell_type": "code",
   "execution_count": null,
   "id": "27e77631",
   "metadata": {},
   "outputs": [],
   "source": [
    "square_distances = np.sum(squared_displacements, 0)"
   ]
  },
  {
   "cell_type": "code",
   "execution_count": null,
   "id": "8f21733c",
   "metadata": {},
   "outputs": [],
   "source": [
    "square_distances"
   ]
  },
  {
   "cell_type": "markdown",
   "id": "c84cede7",
   "metadata": {},
   "source": [
    "Now we need to find birds that are too close:"
   ]
  },
  {
   "cell_type": "code",
   "execution_count": null,
   "id": "c9320a39",
   "metadata": {},
   "outputs": [],
   "source": [
    "alert_distance = 2000\n",
    "close_birds = square_distances < alert_distance\n",
    "close_birds"
   ]
  },
  {
   "cell_type": "markdown",
   "id": "4437c1c5",
   "metadata": {},
   "source": [
    "Find the direction distances **only** to those birds which are too close:"
   ]
  },
  {
   "cell_type": "code",
   "execution_count": null,
   "id": "62cd18c7",
   "metadata": {},
   "outputs": [],
   "source": [
    "separations_if_close = np.copy(separations)\n",
    "far_away = np.logical_not(close_birds)"
   ]
  },
  {
   "cell_type": "markdown",
   "id": "791949fd",
   "metadata": {},
   "source": [
    "Set `x` and `y` values in `separations_if_close` to zero if they are far away:"
   ]
  },
  {
   "cell_type": "code",
   "execution_count": null,
   "id": "f1f12165",
   "metadata": {},
   "outputs": [],
   "source": [
    "separations_if_close[0, :, :][far_away] = 0\n",
    "separations_if_close[1, :, :][far_away] = 0\n",
    "separations_if_close"
   ]
  },
  {
   "cell_type": "markdown",
   "id": "9f2a1ede",
   "metadata": {},
   "source": [
    "And fly away from them:"
   ]
  },
  {
   "cell_type": "code",
   "execution_count": null,
   "id": "99a77c17",
   "metadata": {},
   "outputs": [],
   "source": [
    "np.sum(separations_if_close, 2)"
   ]
  },
  {
   "cell_type": "code",
   "execution_count": null,
   "id": "e28c7c73",
   "metadata": {},
   "outputs": [],
   "source": [
    "velocities = velocities + np.sum(separations_if_close, 2)"
   ]
  },
  {
   "cell_type": "markdown",
   "id": "01aeae66",
   "metadata": {},
   "source": [
    "Now we can update our animation:"
   ]
  },
  {
   "cell_type": "code",
   "execution_count": null,
   "id": "77f5a7ef",
   "metadata": {},
   "outputs": [],
   "source": [
    "def update_boids(positions, velocities):\n",
    "    move_to_middle_strength = 0.01\n",
    "    middle = np.mean(positions, 1)\n",
    "    direction_to_middle = positions - middle[:, np.newaxis]\n",
    "    velocities -= direction_to_middle * move_to_middle_strength\n",
    "\n",
    "    separations = positions[:, np.newaxis, :] - positions[:, :, np.newaxis]\n",
    "    squared_displacements = separations * separations\n",
    "    square_distances = np.sum(squared_displacements, 0)\n",
    "    alert_distance = 100\n",
    "    far_away = square_distances > alert_distance\n",
    "    separations_if_close = np.copy(separations)\n",
    "    separations_if_close[0, :, :][far_away] = 0\n",
    "    separations_if_close[1, :, :][far_away] = 0\n",
    "    velocities += np.sum(separations_if_close, 1)\n",
    "\n",
    "    positions += velocities"
   ]
  },
  {
   "cell_type": "code",
   "execution_count": null,
   "id": "fc557606",
   "metadata": {},
   "outputs": [],
   "source": [
    "def animate(frame):\n",
    "    update_boids(positions, velocities)\n",
    "    scatter.set_offsets(positions.transpose())\n",
    "\n",
    "\n",
    "anim = animation.FuncAnimation(figure, animate,\n",
    "                               frames=50, interval=50)\n",
    "\n",
    "positions = new_flock(100, np.array([100, 900]), np.array([200, 1100]))\n",
    "velocities = new_flock(100, np.array([0, -20]), np.array([10, 20]))\n",
    "HTML(anim.to_jshtml())"
   ]
  },
  {
   "cell_type": "markdown",
   "id": "759c0557",
   "metadata": {},
   "source": [
    "### Match speed with nearby birds"
   ]
  },
  {
   "cell_type": "markdown",
   "id": "29accfad",
   "metadata": {},
   "source": [
    "This is pretty similar:"
   ]
  },
  {
   "cell_type": "code",
   "execution_count": null,
   "id": "ab1f0fcc",
   "metadata": {},
   "outputs": [],
   "source": [
    "def update_boids(positions, velocities):\n",
    "    move_to_middle_strength = 0.01\n",
    "    middle = np.mean(positions, 1)\n",
    "    direction_to_middle = positions - middle[:, np.newaxis]\n",
    "    velocities -= direction_to_middle * move_to_middle_strength\n",
    "\n",
    "    separations = positions[:, np.newaxis, :] - positions[:, :, np.newaxis]\n",
    "    squared_displacements = separations * separations\n",
    "    square_distances = np.sum(squared_displacements, 0)\n",
    "    alert_distance = 100\n",
    "    far_away = square_distances > alert_distance\n",
    "    separations_if_close = np.copy(separations)\n",
    "    separations_if_close[0, :, :][far_away] = 0\n",
    "    separations_if_close[1, :, :][far_away] = 0\n",
    "    velocities += np.sum(separations_if_close, 1)\n",
    "\n",
    "    velocity_differences = velocities[:, np.newaxis, :] - velocities[:, :, np.newaxis]\n",
    "    formation_flying_distance = 10000\n",
    "    formation_flying_strength = 0.125\n",
    "    very_far = square_distances > formation_flying_distance\n",
    "    velocity_differences_if_close = np.copy(velocity_differences)\n",
    "    velocity_differences_if_close[0, :, :][very_far] = 0\n",
    "    velocity_differences_if_close[1, :, :][very_far] = 0\n",
    "    velocities -= np.mean(velocity_differences_if_close, 1) * formation_flying_strength\n",
    "\n",
    "    positions += velocities"
   ]
  },
  {
   "cell_type": "code",
   "execution_count": null,
   "id": "f6b0698d",
   "metadata": {},
   "outputs": [],
   "source": [
    "def animate(frame):\n",
    "    update_boids(positions, velocities)\n",
    "    scatter.set_offsets(positions.transpose())\n",
    "\n",
    "\n",
    "anim = animation.FuncAnimation(figure, animate,\n",
    "                               frames=200, interval=50)\n",
    "\n",
    "\n",
    "positions = new_flock(100, np.array([100, 900]), np.array([200, 1100]))\n",
    "velocities = new_flock(100, np.array([0, -20]), np.array([10, 20]))\n",
    "HTML(anim.to_jshtml())"
   ]
  },
  {
   "cell_type": "markdown",
   "id": "b9ccf201",
   "metadata": {},
   "source": [
    "Hopefully the power of NumPy should be pretty clear now. This would be **enormously slower** and harder to understand using traditional lists."
   ]
  }
 ],
 "metadata": {
  "jekyll": {
   "display_name": "The Boids"
  },
  "jupytext": {
   "main_language": "python",
   "notebook_metadata_filter": "-kernelspec,jupytext,jekyll"
  }
 },
 "nbformat": 4,
 "nbformat_minor": 5
}