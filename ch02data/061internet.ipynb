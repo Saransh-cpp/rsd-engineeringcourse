{
 "cells": [
  {
   "cell_type": "markdown",
   "id": "872d1007",
   "metadata": {},
   "source": [
    "## Getting data from the Internet"
   ]
  },
  {
   "cell_type": "markdown",
   "id": "f7e4f588",
   "metadata": {},
   "source": [
    "We've seen about obtaining data from our local file system."
   ]
  },
  {
   "cell_type": "markdown",
   "id": "3bf2484c",
   "metadata": {},
   "source": [
    "The other common place today that we might want to obtain data is from the internet."
   ]
  },
  {
   "cell_type": "markdown",
   "id": "d4fbaf67",
   "metadata": {},
   "source": [
    "It's very common today to treat the web as a source and store of information; we need to be able to programmatically\n",
    "download data, and place it in Python objects."
   ]
  },
  {
   "cell_type": "markdown",
   "id": "0d524547",
   "metadata": {},
   "source": [
    "We may also want to be able to programmatically *upload* data, for example, to automatically fill in forms."
   ]
  },
  {
   "cell_type": "markdown",
   "id": "8e6b5ab1",
   "metadata": {},
   "source": [
    "This can be really powerful if we want to, for example, perform an automated meta-analysis across a selection of research papers."
   ]
  },
  {
   "cell_type": "markdown",
   "id": "acce6a46",
   "metadata": {},
   "source": [
    "### URLs"
   ]
  },
  {
   "cell_type": "markdown",
   "id": "53beccd9",
   "metadata": {},
   "source": [
    "All internet resources are defined by a Uniform Resource Locator."
   ]
  },
  {
   "cell_type": "code",
   "execution_count": null,
   "id": "b989dece",
   "metadata": {},
   "outputs": [],
   "source": [
    "\"https://static-maps.yandex.ru/1.x/?size=400,400&ll=-0.1275,51.51&z=10&l=sat&lang=en_US\""
   ]
  },
  {
   "cell_type": "markdown",
   "id": "24a49f9b",
   "metadata": {},
   "source": [
    "A url consists of:\n",
    "\n",
    "* A *scheme* (`http`, `https`, `ssh`, ...)\n",
    "* A *host* (`static-maps.yandex.ru`, the name of the remote computer you want to talk to)\n",
    "* A *port* (optional, most protocols have a typical port associated with them, e.g. 80 for http, 443 for https)\n",
    "* A *path* (Like a file path on the machine, here it is `1.x/`)\n",
    "* A *query* part after a `?`, (optional, usually ampersand-separated *parameters* e.g. `size=400x400`, or `z=10`)"
   ]
  },
  {
   "cell_type": "markdown",
   "id": "0d8e6d22",
   "metadata": {},
   "source": [
    "**Supplementary materials**: These can actually be different for different protocols, the above is a simplification.  You can see more, for example, at\n",
    "    [the wikipedia article about the URI scheme](https://en.wikipedia.org/wiki/URI_scheme)."
   ]
  },
  {
   "cell_type": "markdown",
   "id": "b5d44fea",
   "metadata": {},
   "source": [
    "URLs are not allowed to include all characters; we need to, for example, \"escape\" a space that appears inside the URL,\n",
    "replacing it with `%20`, so e.g. a request of `http://some example.com/` would need to be `http://some%20example.com/`\n"
   ]
  },
  {
   "cell_type": "markdown",
   "id": "2f8ba7a9",
   "metadata": {},
   "source": [
    "**Supplementary materials**: The code used to replace each character is the [ASCII](http://www.asciitable.com) code for it."
   ]
  },
  {
   "cell_type": "markdown",
   "id": "ed9abc3d",
   "metadata": {},
   "source": [
    "**Supplementary materials**: The escaping rules are quite subtle. See [the wikipedia article for more detail](https://en.wikipedia.org/wiki/Percent-encoding). The standard library provides the [urlencode](https://docs.python.org/3/library/urllib.parse.html#urllib.parse.urlencode) function that can take care of this for you. "
   ]
  },
  {
   "cell_type": "markdown",
   "id": "d4f70cfd",
   "metadata": {},
   "source": [
    "### Requests"
   ]
  },
  {
   "cell_type": "markdown",
   "id": "5f1179d4",
   "metadata": {},
   "source": [
    "The python [requests](http://docs.python-requests.org/en/latest/) library can help us manage and manipulate URLs. It is easier to use than the `urllib` library that is part of the standard library, and is included with anaconda and canopy. It sorts out escaping, parameter encoding, and so on for us."
   ]
  },
  {
   "cell_type": "markdown",
   "id": "4aac5442",
   "metadata": {},
   "source": [
    "To request the above URL, for example, we write:"
   ]
  },
  {
   "cell_type": "code",
   "execution_count": null,
   "id": "7c3abd30",
   "metadata": {},
   "outputs": [],
   "source": [
    "import requests"
   ]
  },
  {
   "cell_type": "code",
   "execution_count": null,
   "id": "2f65dc55",
   "metadata": {},
   "outputs": [],
   "source": [
    "response = requests.get(\"https://static-maps.yandex.ru/1.x/?size=400,400&ll=-0.1275,51.51&z=10&l=sat&lang=en_US\",\n",
    "                        params={\n",
    "                            'size': '400,400',\n",
    "                            'll': '-0.1275,51.51',\n",
    "                            'zoom': 10,\n",
    "                            'l': 'sat',\n",
    "                            'lang': 'en_US'\n",
    "                        })"
   ]
  },
  {
   "cell_type": "code",
   "execution_count": null,
   "id": "5e02b1b3",
   "metadata": {},
   "outputs": [],
   "source": [
    "response.content[0:50]"
   ]
  },
  {
   "cell_type": "markdown",
   "id": "dfff68e3",
   "metadata": {},
   "source": [
    "When we do a request, the result comes back as text. For the png image in the above, this isn't very readable."
   ]
  },
  {
   "cell_type": "markdown",
   "id": "6bf32871",
   "metadata": {},
   "source": [
    "Just as for file access, therefore, we will need to send the text we get to a python module which understands that file format."
   ]
  },
  {
   "cell_type": "markdown",
   "id": "d4ffd1f8",
   "metadata": {},
   "source": [
    "Again, it is important to separate the *transport* model (e.g. a file system, or an \"http request\" for the web) from the data model of the data that is returned."
   ]
  },
  {
   "cell_type": "markdown",
   "id": "1a093f64",
   "metadata": {},
   "source": [
    "### Example: Sunspots"
   ]
  },
  {
   "cell_type": "markdown",
   "id": "e4243d58",
   "metadata": {},
   "source": [
    "Let's try to get something scientific: the sunspot cycle data from [SILSO](http://sidc.be/silso/home):"
   ]
  },
  {
   "cell_type": "code",
   "execution_count": null,
   "id": "ca5dcbc9",
   "metadata": {},
   "outputs": [],
   "source": [
    "spots = requests.get('http://www.sidc.be/silso/INFO/snmtotcsv.php').text"
   ]
  },
  {
   "cell_type": "code",
   "execution_count": null,
   "id": "78d866b7",
   "metadata": {},
   "outputs": [],
   "source": [
    "spots[0:80]"
   ]
  },
  {
   "cell_type": "markdown",
   "id": "f8a56847",
   "metadata": {},
   "source": [
    "This looks like semicolon-separated data, with different records on different lines. (Line separators come out as `\\n`)"
   ]
  },
  {
   "cell_type": "markdown",
   "id": "9a927e65",
   "metadata": {},
   "source": [
    "There are many many scientific datasets which can now be downloaded like this - integrating the download into your data\n",
    "pipeline can help to keep your data flows organised."
   ]
  },
  {
   "cell_type": "markdown",
   "id": "5509c269",
   "metadata": {},
   "source": [
    "### Writing our own Parser"
   ]
  },
  {
   "cell_type": "markdown",
   "id": "f02e890c",
   "metadata": {},
   "source": [
    "We'll need a python library to handle semicolon-separated data like the sunspot data."
   ]
  },
  {
   "cell_type": "markdown",
   "id": "0446f60f",
   "metadata": {},
   "source": [
    "You might be thinking: \"But I can do that myself!\":"
   ]
  },
  {
   "cell_type": "code",
   "execution_count": null,
   "id": "e96c3d71",
   "metadata": {},
   "outputs": [],
   "source": [
    "lines = spots.split(\"\\n\")\n",
    "lines[0:5]"
   ]
  },
  {
   "cell_type": "code",
   "execution_count": null,
   "id": "e992586f",
   "metadata": {},
   "outputs": [],
   "source": [
    "years = [line.split(\";\")[0] for line in lines]"
   ]
  },
  {
   "cell_type": "code",
   "execution_count": null,
   "id": "38d9dda5",
   "metadata": {},
   "outputs": [],
   "source": [
    "years[0:15]"
   ]
  },
  {
   "cell_type": "markdown",
   "id": "5abe9a0d",
   "metadata": {},
   "source": [
    "But **don't**: what if, for example, one of the records contains a separator inside it; most computers will put the content in quotes,\n",
    "so that, for example,\n",
    "\n",
    "    \"something; something\"; something; something\n",
    "    \n",
    "has three fields, the first of which is\n",
    "\n",
    "    something; something\n",
    "    \n",
    " The naive code above would give four fields, of which the first is \n",
    " \n",
    "    \"something"
   ]
  },
  {
   "cell_type": "markdown",
   "id": "c3b7798b",
   "metadata": {},
   "source": [
    "You'll never manage to get all that right; so you'll be better off using a library to do it."
   ]
  },
  {
   "cell_type": "markdown",
   "id": "e63699a8",
   "metadata": {},
   "source": [
    "### Writing data to the internet"
   ]
  },
  {
   "cell_type": "markdown",
   "id": "d233729c",
   "metadata": {},
   "source": [
    "Note that we're using `requests.get`. `get` is used to receive data from the web.\n",
    "You can also use `post` to fill in a web-form programmatically."
   ]
  },
  {
   "cell_type": "markdown",
   "id": "c33f3d21",
   "metadata": {},
   "source": [
    "**Supplementary material**: Learn about using `post` with [requests](http://docs.python-requests.org/en/latest/user/quickstart/)."
   ]
  },
  {
   "cell_type": "markdown",
   "id": "c60e8a24",
   "metadata": {},
   "source": [
    "**Supplementary material**: Learn about the different kinds of [http request](https://en.wikipedia.org/wiki/Hypertext_Transfer_Protocol#Request_methods): [Get, Post, Put, Delete](https://en.wikipedia.org/wiki/Create,_read,_update_and_delete)..."
   ]
  },
  {
   "cell_type": "markdown",
   "id": "34ba8857",
   "metadata": {},
   "source": [
    "This can be used for all kinds of things, for example, to programmatically add data to a web resource. It's all well beyond\n",
    "our scope for this course, but it's important to know it's possible, and start to think about the scientific possibilities."
   ]
  }
 ],
 "metadata": {
  "jekyll": {
   "display_name": "Internet"
  },
  "jupytext": {
   "main_language": "python",
   "notebook_metadata_filter": "-kernelspec,jupytext,jekyll"
  }
 },
 "nbformat": 4,
 "nbformat_minor": 5
}