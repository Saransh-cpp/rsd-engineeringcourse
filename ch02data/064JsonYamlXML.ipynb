{
 "cells": [
  {
   "cell_type": "markdown",
   "id": "c15f1246",
   "metadata": {},
   "source": [
    "## Structured Data"
   ]
  },
  {
   "cell_type": "markdown",
   "id": "416fca37",
   "metadata": {},
   "source": [
    "### Structured data"
   ]
  },
  {
   "cell_type": "markdown",
   "id": "556433fa",
   "metadata": {},
   "source": [
    "CSV files can only model data where each record has several fields, and each field is a simple datatype,\n",
    "a string or number."
   ]
  },
  {
   "cell_type": "markdown",
   "id": "fad838cb",
   "metadata": {},
   "source": [
    "We often want to store data which is more complicated than this, with nested structures of lists and dictionaries.\n",
    "Structured data formats like JSON, YAML, and XML are designed for this."
   ]
  },
  {
   "cell_type": "markdown",
   "id": "25b7701d",
   "metadata": {},
   "source": [
    "### JSON"
   ]
  },
  {
   "cell_type": "markdown",
   "id": "08f9c97f",
   "metadata": {},
   "source": [
    "[JSON](https://en.wikipedia.org/wiki/JSON) is a very common open-standard data format that is used to store structured data in a human-readable way."
   ]
  },
  {
   "cell_type": "markdown",
   "id": "b4c4a1db",
   "metadata": {},
   "source": [
    "This allows us to represent data which is combinations of lists and dictionaries as a text file which\n",
    "looks a bit like a Javascript (or Python) data literal."
   ]
  },
  {
   "cell_type": "code",
   "execution_count": null,
   "id": "57f80bd2",
   "metadata": {},
   "outputs": [],
   "source": [
    "import json"
   ]
  },
  {
   "cell_type": "markdown",
   "id": "a2573de5",
   "metadata": {},
   "source": [
    "Any nested group of dictionaries and lists can be saved:"
   ]
  },
  {
   "cell_type": "code",
   "execution_count": null,
   "id": "f96eb25c",
   "metadata": {},
   "outputs": [],
   "source": [
    "mydata = {'key': ['value1', 'value2'], \n",
    "          'key2': {'key4':'value3'}}"
   ]
  },
  {
   "cell_type": "code",
   "execution_count": null,
   "id": "1ec308ca",
   "metadata": {},
   "outputs": [],
   "source": [
    "json.dumps(mydata)"
   ]
  },
  {
   "cell_type": "markdown",
   "id": "7ee873f9",
   "metadata": {},
   "source": [
    "If you would like a more readable output, you can use the `indent` argument."
   ]
  },
  {
   "cell_type": "code",
   "execution_count": null,
   "id": "d61947cd",
   "metadata": {},
   "outputs": [],
   "source": [
    "print(json.dumps(mydata, indent=4))"
   ]
  },
  {
   "cell_type": "markdown",
   "id": "32664c42",
   "metadata": {},
   "source": [
    "Loading data is also really easy:"
   ]
  },
  {
   "cell_type": "code",
   "execution_count": null,
   "id": "918a7be5",
   "metadata": {},
   "outputs": [],
   "source": [
    "%%writefile myfile.json\n",
    "{\n",
    "    \"somekey\": [\"a list\", \"with values\"]\n",
    "}"
   ]
  },
  {
   "cell_type": "code",
   "execution_count": null,
   "id": "f3b3d2c1",
   "metadata": {},
   "outputs": [],
   "source": [
    "with open('myfile.json', 'r') as json_file:\n",
    "    my_data_as_string = json_file.read()"
   ]
  },
  {
   "cell_type": "code",
   "execution_count": null,
   "id": "687c1d7b",
   "metadata": {},
   "outputs": [],
   "source": [
    "my_data_as_string"
   ]
  },
  {
   "cell_type": "code",
   "execution_count": null,
   "id": "1f82fcd4",
   "metadata": {},
   "outputs": [],
   "source": [
    "mydata = json.loads(my_data_as_string)"
   ]
  },
  {
   "cell_type": "code",
   "execution_count": null,
   "id": "d8bdf345",
   "metadata": {},
   "outputs": [],
   "source": [
    "mydata['somekey']"
   ]
  },
  {
   "cell_type": "markdown",
   "id": "5652836b",
   "metadata": {},
   "source": [
    "This is a very nice solution for loading and saving Python data structures."
   ]
  },
  {
   "cell_type": "markdown",
   "id": "99a97b6c",
   "metadata": {},
   "source": [
    "It's a very common way of transferring data on the internet, and of saving datasets to disk."
   ]
  },
  {
   "cell_type": "markdown",
   "id": "32f8ffd6",
   "metadata": {},
   "source": [
    "There's good support in most languages, so it's a nice inter-language file interchange format."
   ]
  },
  {
   "cell_type": "markdown",
   "id": "14fbf5cc",
   "metadata": {},
   "source": [
    "### YAML"
   ]
  },
  {
   "cell_type": "markdown",
   "id": "bdb0c929",
   "metadata": {},
   "source": [
    "[YAML](https://en.wikipedia.org/wiki/YAML) is a very similar data format to JSON, with some nice additions:"
   ]
  },
  {
   "cell_type": "markdown",
   "id": "7ce9498a",
   "metadata": {},
   "source": [
    "* You don't need to quote strings if they don't have funny characters in\n",
    "* You can have comment lines, beginning with a `#`\n",
    "* You can write dictionaries without the curly brackets: it just notices the colons.\n",
    "* You can write lists like this:"
   ]
  },
  {
   "cell_type": "code",
   "execution_count": null,
   "id": "bb24c0b1",
   "metadata": {},
   "outputs": [],
   "source": [
    "%%writefile myfile.yaml\n",
    "somekey:\n",
    "    - a list # Look, this is a list\n",
    "    - with values"
   ]
  },
  {
   "cell_type": "code",
   "execution_count": null,
   "id": "7f41a478",
   "metadata": {},
   "outputs": [],
   "source": [
    "import yaml  # This may need installed as pyyaml"
   ]
  },
  {
   "cell_type": "code",
   "execution_count": null,
   "id": "e85ebec4",
   "metadata": {},
   "outputs": [],
   "source": [
    "with open('myfile.yaml') as yaml_file:\n",
    "    my_data = yaml.safe_load(yaml_file)\n",
    "print(mydata)"
   ]
  },
  {
   "cell_type": "markdown",
   "id": "104e2172",
   "metadata": {},
   "source": [
    "YAML is a popular format for ad-hoc data files, but the library doesn't ship with default Python (though it is part\n",
    "of Anaconda and Canopy), so some people still prefer JSON for its universality."
   ]
  },
  {
   "cell_type": "markdown",
   "id": "7d0dab13",
   "metadata": {},
   "source": [
    "Because YAML gives the option of serialising a list either as newlines with dashes or with square brackets,\n",
    "you can control this choice:"
   ]
  },
  {
   "cell_type": "code",
   "execution_count": null,
   "id": "2196f9a2",
   "metadata": {},
   "outputs": [],
   "source": [
    "print(yaml.safe_dump(mydata))"
   ]
  },
  {
   "cell_type": "code",
   "execution_count": null,
   "id": "64e0b32b",
   "metadata": {},
   "outputs": [],
   "source": [
    "print(yaml.safe_dump(mydata, default_flow_style=True))"
   ]
  },
  {
   "cell_type": "markdown",
   "id": "842ef48a",
   "metadata": {},
   "source": [
    "`default_flow_style=False` (the default) uses a \"block style\" (rather than an \"inline\" or \"flow style\") to delineate data structures. See [the YAML docs](http://yaml.org/spec/1.2/spec.html) for more details."
   ]
  },
  {
   "cell_type": "markdown",
   "id": "2efa4c50",
   "metadata": {},
   "source": [
    "### XML"
   ]
  },
  {
   "cell_type": "markdown",
   "id": "25aa1cd9",
   "metadata": {},
   "source": [
    "*Supplementary material*: [XML](http://www.w3schools.com/xml/) is another popular choice when saving nested data structures. \n",
    "It's very careful, but verbose. If your field uses XML data, you'll need to learn a [python XML parser](https://docs.python.org/3/library/xml.etree.elementtree.html)\n",
    "(there are a few), and about how XML works."
   ]
  },
  {
   "cell_type": "markdown",
   "id": "baf9532d",
   "metadata": {},
   "source": [
    "### Exercise: Saving and loading data"
   ]
  },
  {
   "cell_type": "markdown",
   "id": "f2702be5",
   "metadata": {},
   "source": [
    "Use YAML or JSON to save your maze data structure to disk and load it again."
   ]
  }
 ],
 "metadata": {
  "jekyll": {
   "display_name": "Structured data files"
  },
  "jupytext": {
   "main_language": "python",
   "notebook_metadata_filter": "-kernelspec,jupytext,jekyll"
  }
 },
 "nbformat": 4,
 "nbformat_minor": 5
}