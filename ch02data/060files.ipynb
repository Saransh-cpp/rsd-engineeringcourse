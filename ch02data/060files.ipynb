{
 "cells": [
  {
   "cell_type": "markdown",
   "id": "9784ddcd",
   "metadata": {},
   "source": [
    "# Working with Data"
   ]
  },
  {
   "cell_type": "markdown",
   "id": "eaebe151",
   "metadata": {},
   "source": [
    "## Loading data from files"
   ]
  },
  {
   "cell_type": "markdown",
   "id": "ebbf6cec",
   "metadata": {},
   "source": [
    "### Loading data"
   ]
  },
  {
   "cell_type": "markdown",
   "id": "222eebf1",
   "metadata": {},
   "source": [
    "An important part of this course is about using Python to analyse and visualise data.\n",
    "Most data, of course, is supplied to us in various *formats*: spreadsheets, database dumps, or text files in various formats (csv, tsv, json, yaml, hdf5, netcdf)\n",
    "It is also stored in some *medium*: on a local disk, a network drive, or on the internet in various ways.\n",
    "It is important to distinguish the data format, how the data is structured into a file, from the data's storage, where it is put. \n",
    "\n",
    "We'll look first at the question of data *transport*: loading data from a disk, and at downloading data from the internet.\n",
    "Then we'll look at data *parsing*: building Python structures from the data.\n",
    "These are related, but separate questions."
   ]
  },
  {
   "cell_type": "markdown",
   "id": "6c12bd01",
   "metadata": {},
   "source": [
    "### An example datafile"
   ]
  },
  {
   "cell_type": "markdown",
   "id": "8afbfa01",
   "metadata": {},
   "source": [
    "Let's write an example datafile to disk so we can investigate it. We'll just use a plain-text file. Jupyter notebook provides a way to do this: if we put\n",
    "`%%writefile` at the top of a cell, instead of being interpreted as python, the cell contents are saved to disk."
   ]
  },
  {
   "cell_type": "code",
   "execution_count": null,
   "id": "79b1515d",
   "metadata": {},
   "outputs": [],
   "source": [
    "%%writefile mydata.txt\n",
    "A poet once said, 'The whole universe is in a glass of wine.'\n",
    "We will probably never know in what sense he meant it, \n",
    "for poets do not write to be understood. \n",
    "But it is true that if we look at a glass of wine closely enough we see the entire universe. \n",
    "There are the things of physics: the twisting liquid which evaporates depending\n",
    "on the wind and weather, the reflection in the glass;\n",
    "and our imagination adds atoms.\n",
    "The glass is a distillation of the earth's rocks,\n",
    "and in its composition we see the secrets of the universe's age, and the evolution of stars. \n",
    "What strange array of chemicals are in the wine? How did they come to be? \n",
    "There are the ferments, the enzymes, the substrates, and the products.\n",
    "There in wine is found the great generalization; all life is fermentation.\n",
    "Nobody can discover the chemistry of wine without discovering, \n",
    "as did Louis Pasteur, the cause of much disease.\n",
    "How vivid is the claret, pressing its existence into the consciousness that watches it!\n",
    "If our small minds, for some convenience, divide this glass of wine, this universe, \n",
    "into parts -- \n",
    "physics, biology, geology, astronomy, psychology, and so on -- \n",
    "remember that nature does not know it!\n",
    "\n",
    "So let us put it all back together, not forgetting ultimately what it is for.\n",
    "Let it give us one more final pleasure; drink it and forget it all!\n",
    "   - Richard Feynman"
   ]
  },
  {
   "cell_type": "markdown",
   "id": "1b55d986",
   "metadata": {},
   "source": [
    "Where did that go? It went to the current folder, which for a notebook, by default, is where the notebook is on disk."
   ]
  },
  {
   "cell_type": "code",
   "execution_count": null,
   "id": "e5b06fa8",
   "metadata": {},
   "outputs": [],
   "source": [
    "import os # The 'os' module gives us all the tools we need to search in the file system\n",
    "os.getcwd() # Use the 'getcwd' function from the 'os' module to find where we are on disk."
   ]
  },
  {
   "cell_type": "markdown",
   "id": "8823eaca",
   "metadata": {},
   "source": [
    "Can we see if it is there?"
   ]
  },
  {
   "cell_type": "code",
   "execution_count": null,
   "id": "df51edee",
   "metadata": {},
   "outputs": [],
   "source": [
    "import os\n",
    "[x for x in os.listdir(os.getcwd()) if \".txt\" in x]"
   ]
  },
  {
   "cell_type": "markdown",
   "id": "c59a8184",
   "metadata": {},
   "source": [
    "Yep! Note how we used a list comprehension to filter all the extraneous files."
   ]
  },
  {
   "cell_type": "markdown",
   "id": "d8447c84",
   "metadata": {},
   "source": [
    "### Path independence and `os`"
   ]
  },
  {
   "cell_type": "markdown",
   "id": "5f1b89ca",
   "metadata": {},
   "source": [
    "We can use `dirname` to get the parent folder for a folder, in a platform independent-way."
   ]
  },
  {
   "cell_type": "code",
   "execution_count": null,
   "id": "05376fcc",
   "metadata": {},
   "outputs": [],
   "source": [
    "os.path.dirname(os.getcwd())"
   ]
  },
  {
   "cell_type": "markdown",
   "id": "93485414",
   "metadata": {},
   "source": [
    "We could do this manually using `split`:"
   ]
  },
  {
   "cell_type": "code",
   "execution_count": null,
   "id": "b78d8fd9",
   "metadata": {},
   "outputs": [],
   "source": [
    "\"/\".join(os.getcwd().split(\"/\")[:-1])"
   ]
  },
  {
   "cell_type": "markdown",
   "id": "eb623952",
   "metadata": {},
   "source": [
    "But this would not work on Windows, where path elements are separated with a `\\` instead of a `/`. So it's important \n",
    "to use `os.path` for this stuff."
   ]
  },
  {
   "cell_type": "markdown",
   "id": "3d0d1d27",
   "metadata": {},
   "source": [
    "**Supplementary Materials**: If you're not already comfortable with how files fit into folders, and folders form a tree,\n",
    "    with folders containing subfolders, then look at [this Software Carpentry lesson on navigating the file system](http://swcarpentry.github.io/shell-novice/02-filedir/index.html). \n",
    "\n",
    "Satisfy yourself that after using `%%writefile`, you can then find the file on disk with Windows Explorer, OSX Finder, or the Linux Shell."
   ]
  },
  {
   "cell_type": "markdown",
   "id": "35036e3e",
   "metadata": {},
   "source": [
    "We can see how in Python we can investigate the file system with functions in the `os` module, using just the same programming approaches as for anything else."
   ]
  },
  {
   "cell_type": "markdown",
   "id": "4ab18cf7",
   "metadata": {},
   "source": [
    "We'll gradually learn more features of the `os` module as we go, allowing us to move around the disk, `walk` around the\n",
    "disk looking for relevant files, and so on. These will be important to master for automating our data analyses."
   ]
  },
  {
   "cell_type": "markdown",
   "id": "52d049f3",
   "metadata": {},
   "source": [
    "### Opening files in Python"
   ]
  },
  {
   "cell_type": "markdown",
   "id": "105025c5",
   "metadata": {},
   "source": [
    "So, let's read our file:"
   ]
  },
  {
   "cell_type": "code",
   "execution_count": null,
   "id": "d78614a5",
   "metadata": {},
   "outputs": [],
   "source": [
    "myfile = open('mydata.txt')"
   ]
  },
  {
   "cell_type": "code",
   "execution_count": null,
   "id": "f9a96e25",
   "metadata": {},
   "outputs": [],
   "source": [
    "type(myfile)"
   ]
  },
  {
   "cell_type": "markdown",
   "id": "0763f8b7",
   "metadata": {},
   "source": [
    "Even though the name of this type is not very clear, it offers various ways of accessing the file.\n",
    "\n",
    "We can go line-by-line, by treating the file as an iterable:"
   ]
  },
  {
   "cell_type": "code",
   "execution_count": null,
   "id": "a37db19a",
   "metadata": {},
   "outputs": [],
   "source": [
    "[x for x in myfile]"
   ]
  },
  {
   "cell_type": "markdown",
   "id": "4615639f",
   "metadata": {},
   "source": [
    "If we do that again, the file has already finished, there is no more data."
   ]
  },
  {
   "cell_type": "code",
   "execution_count": null,
   "id": "171bcc48",
   "metadata": {},
   "outputs": [],
   "source": [
    "[x for x in myfile]"
   ]
  },
  {
   "cell_type": "markdown",
   "id": "578b3732",
   "metadata": {},
   "source": [
    "We need to 'rewind' it!"
   ]
  },
  {
   "cell_type": "code",
   "execution_count": null,
   "id": "d2f740fa",
   "metadata": {},
   "outputs": [],
   "source": [
    "myfile.seek(0)\n",
    "[len(x) for x in myfile if 'know' in x]"
   ]
  },
  {
   "cell_type": "markdown",
   "id": "65a97b23",
   "metadata": {},
   "source": [
    "It's really important to remember that a file is a *different* built in type than a string."
   ]
  },
  {
   "cell_type": "markdown",
   "id": "485b0bd6",
   "metadata": {},
   "source": [
    "### Working with files"
   ]
  },
  {
   "cell_type": "markdown",
   "id": "56a5b81e",
   "metadata": {},
   "source": [
    "We can read one line at a time with `readline`: "
   ]
  },
  {
   "cell_type": "code",
   "execution_count": null,
   "id": "f1d8a347",
   "metadata": {},
   "outputs": [],
   "source": [
    "myfile.seek(0)\n",
    "first = myfile.readline()"
   ]
  },
  {
   "cell_type": "code",
   "execution_count": null,
   "id": "5ffe8643",
   "metadata": {},
   "outputs": [],
   "source": [
    "first"
   ]
  },
  {
   "cell_type": "code",
   "execution_count": null,
   "id": "21a5c6f5",
   "metadata": {},
   "outputs": [],
   "source": [
    "second = myfile.readline()"
   ]
  },
  {
   "cell_type": "code",
   "execution_count": null,
   "id": "4d26c69f",
   "metadata": {},
   "outputs": [],
   "source": [
    "second"
   ]
  },
  {
   "cell_type": "markdown",
   "id": "0e58169d",
   "metadata": {},
   "source": [
    "We can read the whole remaining file with `read`:"
   ]
  },
  {
   "cell_type": "code",
   "execution_count": null,
   "id": "3000bc8d",
   "metadata": {},
   "outputs": [],
   "source": [
    "rest = myfile.read()"
   ]
  },
  {
   "cell_type": "code",
   "execution_count": null,
   "id": "e052df49",
   "metadata": {},
   "outputs": [],
   "source": [
    "rest"
   ]
  },
  {
   "cell_type": "markdown",
   "id": "d4dfbc34",
   "metadata": {},
   "source": [
    "Which means that when a file is first opened, read is useful to just get the whole thing as a string:"
   ]
  },
  {
   "cell_type": "code",
   "execution_count": null,
   "id": "53d89a03",
   "metadata": {},
   "outputs": [],
   "source": [
    "open('mydata.txt').read()"
   ]
  },
  {
   "cell_type": "markdown",
   "id": "7e699c05",
   "metadata": {},
   "source": [
    "You can also read just a few characters:"
   ]
  },
  {
   "cell_type": "code",
   "execution_count": null,
   "id": "487f70e4",
   "metadata": {},
   "outputs": [],
   "source": [
    "myfile.seek(1335)"
   ]
  },
  {
   "cell_type": "code",
   "execution_count": null,
   "id": "c02cd020",
   "metadata": {},
   "outputs": [],
   "source": [
    "myfile.read(15)"
   ]
  },
  {
   "cell_type": "markdown",
   "id": "5242a6fd",
   "metadata": {},
   "source": [
    "### Converting strings to files"
   ]
  },
  {
   "cell_type": "markdown",
   "id": "dbf9962d",
   "metadata": {},
   "source": [
    "Because files and strings are different types, we CANNOT just treat strings as if they were files:"
   ]
  },
  {
   "cell_type": "code",
   "execution_count": null,
   "id": "5c3d62b5",
   "metadata": {},
   "outputs": [],
   "source": [
    "mystring = \"Hello World\\n My name is James\""
   ]
  },
  {
   "cell_type": "code",
   "execution_count": null,
   "id": "09adadfc",
   "metadata": {},
   "outputs": [],
   "source": [
    "mystring"
   ]
  },
  {
   "cell_type": "code",
   "execution_count": null,
   "id": "7c6d403a",
   "metadata": {},
   "outputs": [],
   "source": [
    "mystring.readline()"
   ]
  },
  {
   "cell_type": "markdown",
   "id": "8a2a1248",
   "metadata": {},
   "source": [
    "This is important, because some file format parsers expect input from a **file** and not a string. \n",
    "We can convert between them using the `StringIO` class of the [io module](https://docs.python.org/3/library/io.html) in the standard library:"
   ]
  },
  {
   "cell_type": "code",
   "execution_count": null,
   "id": "eea6138a",
   "metadata": {},
   "outputs": [],
   "source": [
    "from io import StringIO"
   ]
  },
  {
   "cell_type": "code",
   "execution_count": null,
   "id": "4762ba68",
   "metadata": {},
   "outputs": [],
   "source": [
    "mystringasafile = StringIO(mystring)"
   ]
  },
  {
   "cell_type": "code",
   "execution_count": null,
   "id": "d7440484",
   "metadata": {},
   "outputs": [],
   "source": [
    "mystringasafile.readline()"
   ]
  },
  {
   "cell_type": "code",
   "execution_count": null,
   "id": "de3b30b5",
   "metadata": {},
   "outputs": [],
   "source": [
    "mystringasafile.readline()"
   ]
  },
  {
   "cell_type": "markdown",
   "id": "43e28783",
   "metadata": {},
   "source": [
    "Note that in a string, `\\n` is used to represent a newline."
   ]
  },
  {
   "cell_type": "markdown",
   "id": "83e29ea2",
   "metadata": {},
   "source": [
    "### Closing files"
   ]
  },
  {
   "cell_type": "markdown",
   "id": "611a287b",
   "metadata": {},
   "source": [
    "We really ought to close files when we've finished with them, as it makes our work more efficient and safer. (On a shared computer,\n",
    "this is particularly important)"
   ]
  },
  {
   "cell_type": "code",
   "execution_count": null,
   "id": "c79d1c53",
   "metadata": {},
   "outputs": [],
   "source": [
    "myfile.close()"
   ]
  },
  {
   "cell_type": "markdown",
   "id": "edd23a59",
   "metadata": {},
   "source": [
    "Because it's so easy to forget this, python provides a **context manager** to open a file, then close it automatically at\n",
    "the end of an indented block:"
   ]
  },
  {
   "cell_type": "code",
   "execution_count": null,
   "id": "1e86034f",
   "metadata": {},
   "outputs": [],
   "source": [
    "with open('mydata.txt') as somefile:\n",
    "    content = somefile.read()\n",
    "\n",
    "content"
   ]
  },
  {
   "cell_type": "markdown",
   "id": "085db675",
   "metadata": {},
   "source": [
    "The code to be done while the file is open is indented, just like for an `if` statement."
   ]
  },
  {
   "cell_type": "markdown",
   "id": "41efd38d",
   "metadata": {},
   "source": [
    "You should pretty much **always** use this syntax for working with files.\n",
    "We will see more about context managers in a [later chapter](../ch07dry/025Iterators.html)."
   ]
  },
  {
   "cell_type": "markdown",
   "id": "f65318d0",
   "metadata": {},
   "source": [
    "### Writing files"
   ]
  },
  {
   "cell_type": "markdown",
   "id": "aa5f639c",
   "metadata": {},
   "source": [
    "We might want to create a file from a string in memory. We can't do this with the notebook's `%%writefile` -- this is\n",
    "just a notebook convenience, and isn't very programmable."
   ]
  },
  {
   "cell_type": "markdown",
   "id": "152b8f72",
   "metadata": {},
   "source": [
    "When we open a file, we can specify a 'mode', in this case, 'w' for writing. ('r' for reading is the default.)"
   ]
  },
  {
   "cell_type": "code",
   "execution_count": null,
   "id": "afc61ae6",
   "metadata": {},
   "outputs": [],
   "source": [
    "with open('mywrittenfile', 'w') as target:\n",
    "    target.write('Hello')\n",
    "    target.write('World')"
   ]
  },
  {
   "cell_type": "code",
   "execution_count": null,
   "id": "7b141055",
   "metadata": {},
   "outputs": [],
   "source": [
    "with open('mywrittenfile','r') as source:\n",
    "    print(source.read())"
   ]
  },
  {
   "cell_type": "markdown",
   "id": "f33b51d7",
   "metadata": {},
   "source": [
    "And we can \"append\" to a file with mode 'a':"
   ]
  },
  {
   "cell_type": "code",
   "execution_count": null,
   "id": "c803dfb1",
   "metadata": {},
   "outputs": [],
   "source": [
    "with open('mywrittenfile', 'a') as target:\n",
    "    target.write('Hello')\n",
    "    target.write('James')"
   ]
  },
  {
   "cell_type": "code",
   "execution_count": null,
   "id": "d3e4760a",
   "metadata": {},
   "outputs": [],
   "source": [
    "with open('mywrittenfile','r') as source:\n",
    "    print(source.read())"
   ]
  },
  {
   "cell_type": "markdown",
   "id": "54eda3cc",
   "metadata": {},
   "source": [
    "If a file already exists, mode 'w' will overwrite it."
   ]
  }
 ],
 "metadata": {
  "jekyll": {
   "display_name": "Working with files"
  },
  "jupytext": {
   "main_language": "python",
   "notebook_metadata_filter": "-kernelspec,jupytext,jekyll"
  }
 },
 "nbformat": 4,
 "nbformat_minor": 5
}