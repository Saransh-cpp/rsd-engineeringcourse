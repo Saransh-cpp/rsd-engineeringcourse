{
 "cells": [
  {
   "cell_type": "markdown",
   "id": "0cf26567",
   "metadata": {},
   "source": [
    "## NumPy"
   ]
  },
  {
   "cell_type": "markdown",
   "id": "031440f4",
   "metadata": {},
   "source": [
    "### The Scientific Python Trilogy"
   ]
  },
  {
   "cell_type": "markdown",
   "id": "b00e9076",
   "metadata": {},
   "source": [
    "Why is Python so popular for research work?"
   ]
  },
  {
   "cell_type": "markdown",
   "id": "58d32e95",
   "metadata": {},
   "source": [
    "MATLAB has typically been the most popular \"language of technical computing\", with strong built-in support for efficient numerical analysis with matrices (the *mat* in MATLAB is for Matrix, not Maths), and plotting."
   ]
  },
  {
   "cell_type": "markdown",
   "id": "39c95c66",
   "metadata": {},
   "source": [
    "Other dynamic languages have cleaner, more logical syntax (Ruby, Haskell)"
   ]
  },
  {
   "cell_type": "markdown",
   "id": "fb02dee4",
   "metadata": {},
   "source": [
    "But Python users developed three critical libraries, matching the power of MATLAB for scientific work:"
   ]
  },
  {
   "cell_type": "markdown",
   "id": "0152b41e",
   "metadata": {},
   "source": [
    "* Matplotlib, the plotting library created by [John D. Hunter](https://en.wikipedia.org/wiki/John_D._Hunter)\n",
    "* NumPy, a fast matrix maths library created by [Travis Oliphant](https://en.wikipedia.org/wiki/Travis_Oliphant)\n",
    "* IPython, the precursor of the notebook, created by [Fernando Perez](https://en.wikipedia.org/wiki/Fernando_P%nC3%A9rez_(software_developer))"
   ]
  },
  {
   "cell_type": "markdown",
   "id": "9861c324",
   "metadata": {},
   "source": [
    "By combining a plotting library, a matrix maths library, and an easy-to-use interface allowing live plotting commands\n",
    "in a persistent environment, the powerful capabilities of MATLAB were matched by a free and open toolchain."
   ]
  },
  {
   "cell_type": "markdown",
   "id": "fc7b236b",
   "metadata": {},
   "source": [
    "We've learned about Matplotlib and IPython in this course already. NumPy is the last part of the trilogy."
   ]
  },
  {
   "cell_type": "markdown",
   "id": "10bb7188",
   "metadata": {},
   "source": [
    "### Limitations of Python Lists"
   ]
  },
  {
   "cell_type": "markdown",
   "id": "8dd4f924",
   "metadata": {},
   "source": [
    "The normal Python list is just one dimensional. To make a matrix, we have to nest Python lists:"
   ]
  },
  {
   "cell_type": "code",
   "execution_count": null,
   "id": "e2c96520",
   "metadata": {},
   "outputs": [],
   "source": [
    "x = [list(range(5)) for N in range(5)]"
   ]
  },
  {
   "cell_type": "code",
   "execution_count": null,
   "id": "27f97693",
   "metadata": {},
   "outputs": [],
   "source": [
    "x"
   ]
  },
  {
   "cell_type": "code",
   "execution_count": null,
   "id": "f901d93d",
   "metadata": {},
   "outputs": [],
   "source": [
    "x[2][2]"
   ]
  },
  {
   "cell_type": "markdown",
   "id": "8e1ae446",
   "metadata": {},
   "source": [
    "Applying an operation to every element is a pain:"
   ]
  },
  {
   "cell_type": "code",
   "execution_count": null,
   "id": "5dc36200",
   "metadata": {},
   "outputs": [],
   "source": [
    "x + 5"
   ]
  },
  {
   "cell_type": "code",
   "execution_count": null,
   "id": "9d3b38eb",
   "metadata": {},
   "outputs": [],
   "source": [
    "[[elem + 5 for elem in row] for row in x]"
   ]
  },
  {
   "cell_type": "markdown",
   "id": "8ca00a51",
   "metadata": {},
   "source": [
    "Common useful operations like transposing a matrix or reshaping a 10 by 10 matrix into a 20 by 5 matrix are not easy to code in raw Python lists."
   ]
  },
  {
   "cell_type": "markdown",
   "id": "55fb2a4a",
   "metadata": {},
   "source": [
    "### The NumPy array"
   ]
  },
  {
   "cell_type": "markdown",
   "id": "7da879d6",
   "metadata": {},
   "source": [
    "NumPy's array type represents a multidimensional matrix $M_{i,j,k...n}$"
   ]
  },
  {
   "cell_type": "markdown",
   "id": "061bb3f0",
   "metadata": {},
   "source": [
    "The NumPy array seems at first to be just like a list. For example, we can index it and iterate over it:"
   ]
  },
  {
   "cell_type": "code",
   "execution_count": null,
   "id": "832056f7",
   "metadata": {},
   "outputs": [],
   "source": [
    "import numpy as np\n",
    "my_array = np.array(range(5))"
   ]
  },
  {
   "cell_type": "code",
   "execution_count": null,
   "id": "d5103b71",
   "metadata": {},
   "outputs": [],
   "source": [
    "my_array"
   ]
  },
  {
   "cell_type": "code",
   "execution_count": null,
   "id": "3613536f",
   "metadata": {},
   "outputs": [],
   "source": [
    "my_array[2]"
   ]
  },
  {
   "cell_type": "code",
   "execution_count": null,
   "id": "aa22a02b",
   "metadata": {},
   "outputs": [],
   "source": [
    "for element in my_array:\n",
    "    print(\"Hello\" * element)"
   ]
  },
  {
   "cell_type": "markdown",
   "id": "023a7d24",
   "metadata": {},
   "source": [
    "We can also see our first weakness of NumPy arrays versus Python lists:"
   ]
  },
  {
   "cell_type": "code",
   "execution_count": null,
   "id": "bde94ecf",
   "metadata": {},
   "outputs": [],
   "source": [
    "my_array.append(4)"
   ]
  },
  {
   "cell_type": "markdown",
   "id": "0afca8e9",
   "metadata": {},
   "source": [
    "For NumPy arrays, you typically don't change the data size once you've defined your array,\n",
    "whereas for Python lists, you can do this efficiently. However, you get back lots of goodies in return..."
   ]
  },
  {
   "cell_type": "markdown",
   "id": "fef67bdd",
   "metadata": {},
   "source": [
    "### Elementwise Operations"
   ]
  },
  {
   "cell_type": "markdown",
   "id": "85c0b775",
   "metadata": {},
   "source": [
    "Most operations can be applied element-wise automatically!"
   ]
  },
  {
   "cell_type": "code",
   "execution_count": null,
   "id": "e66d94a7",
   "metadata": {},
   "outputs": [],
   "source": [
    "my_array + 2"
   ]
  },
  {
   "cell_type": "markdown",
   "id": "e83ec23a",
   "metadata": {},
   "source": [
    "These \"vectorized\" operations are very fast: (the `%%timeit` magic reports how long it takes to run a cell; there is [more information](https://ipython.readthedocs.io/en/stable/interactive/magics.html#magic-timeit) available if interested)"
   ]
  },
  {
   "cell_type": "code",
   "execution_count": null,
   "id": "f675d439",
   "metadata": {},
   "outputs": [],
   "source": [
    "import numpy as np\n",
    "big_list = range(10000)\n",
    "big_array = np.arange(10000)"
   ]
  },
  {
   "cell_type": "code",
   "execution_count": null,
   "id": "afcdf477",
   "metadata": {},
   "outputs": [],
   "source": [
    "%%timeit\n",
    "[x**2 for x in big_list]"
   ]
  },
  {
   "cell_type": "code",
   "execution_count": null,
   "id": "a4a51790",
   "metadata": {},
   "outputs": [],
   "source": [
    "%%timeit\n",
    "big_array**2"
   ]
  },
  {
   "cell_type": "markdown",
   "id": "fe78a59f",
   "metadata": {},
   "source": [
    "### arange and linspace"
   ]
  },
  {
   "cell_type": "markdown",
   "id": "552cd513",
   "metadata": {},
   "source": [
    "NumPy has two methods for quickly defining evenly-spaced arrays of (floating-point) numbers. These can be useful, for example, in plotting.\n",
    "\n",
    "The first method is `arange`:"
   ]
  },
  {
   "cell_type": "code",
   "execution_count": null,
   "id": "5e49318b",
   "metadata": {},
   "outputs": [],
   "source": [
    "x = np.arange(0, 10, 0.1)  # Start, stop, step size"
   ]
  },
  {
   "cell_type": "markdown",
   "id": "9357cff0",
   "metadata": {},
   "source": [
    "This is similar to Python's `range`, although note that we can't use non-integer steps with the latter!"
   ]
  },
  {
   "cell_type": "code",
   "execution_count": null,
   "id": "994ecd7c",
   "metadata": {},
   "outputs": [],
   "source": [
    "y = list(range(0, 10, 0.1))"
   ]
  },
  {
   "cell_type": "markdown",
   "id": "c0193870",
   "metadata": {},
   "source": [
    "The second method is `linspace`:"
   ]
  },
  {
   "cell_type": "code",
   "execution_count": null,
   "id": "a6b2f772",
   "metadata": {},
   "outputs": [],
   "source": [
    "import math\n",
    "values = np.linspace(0, math.pi, 100)  # Start, stop, number of steps"
   ]
  },
  {
   "cell_type": "code",
   "execution_count": null,
   "id": "ce922b03",
   "metadata": {},
   "outputs": [],
   "source": [
    "values"
   ]
  },
  {
   "cell_type": "markdown",
   "id": "42a6dc91",
   "metadata": {},
   "source": [
    "Regardless of the method used, the array of values that we get can be used in the same way.\n",
    "\n",
    "In fact, NumPy comes with \"vectorised\" versions of common functions which work element-by-element when applied to arrays:"
   ]
  },
  {
   "cell_type": "code",
   "execution_count": null,
   "id": "e84188c4",
   "metadata": {},
   "outputs": [],
   "source": [
    "%matplotlib inline\n",
    "\n",
    "from matplotlib import pyplot as plt\n",
    "plt.plot(values, np.sin(values))"
   ]
  },
  {
   "cell_type": "markdown",
   "id": "cfec56ac",
   "metadata": {},
   "source": [
    "So we don't have to use awkward list comprehensions when using these."
   ]
  },
  {
   "cell_type": "markdown",
   "id": "720c858d",
   "metadata": {},
   "source": [
    "### Multi-Dimensional Arrays"
   ]
  },
  {
   "cell_type": "markdown",
   "id": "74260c35",
   "metadata": {},
   "source": [
    "NumPy's true power comes from multi-dimensional arrays:"
   ]
  },
  {
   "cell_type": "code",
   "execution_count": null,
   "id": "69dd16a7",
   "metadata": {},
   "outputs": [],
   "source": [
    "np.zeros([3, 4, 2])  # 3 arrays with 4 rows and 2 columns each"
   ]
  },
  {
   "cell_type": "markdown",
   "id": "2e020980",
   "metadata": {},
   "source": [
    "Unlike a list-of-lists in Python, we can reshape arrays:"
   ]
  },
  {
   "cell_type": "code",
   "execution_count": null,
   "id": "b9abd616",
   "metadata": {},
   "outputs": [],
   "source": [
    "x = np.array(range(40))\n",
    "x"
   ]
  },
  {
   "cell_type": "code",
   "execution_count": null,
   "id": "bf50d099",
   "metadata": {},
   "outputs": [],
   "source": [
    "y = x.reshape([4, 5, 2])\n",
    "y"
   ]
  },
  {
   "cell_type": "markdown",
   "id": "49f70ca3",
   "metadata": {},
   "source": [
    "And index multiple columns at once:"
   ]
  },
  {
   "cell_type": "code",
   "execution_count": null,
   "id": "c71d11e7",
   "metadata": {},
   "outputs": [],
   "source": [
    "y[3, 2, 1]"
   ]
  },
  {
   "cell_type": "markdown",
   "id": "c3833bd3",
   "metadata": {},
   "source": [
    "Including selecting on inner axes while taking all from the outermost:"
   ]
  },
  {
   "cell_type": "code",
   "execution_count": null,
   "id": "d8e8ee9c",
   "metadata": {},
   "outputs": [],
   "source": [
    "y[:, 2, 1]"
   ]
  },
  {
   "cell_type": "markdown",
   "id": "090e176d",
   "metadata": {},
   "source": [
    "And subselecting ranges:"
   ]
  },
  {
   "cell_type": "code",
   "execution_count": null,
   "id": "277c58c4",
   "metadata": {},
   "outputs": [],
   "source": [
    "y[2:, :1, :]  # Last 2 axes, 1st row, all columns"
   ]
  },
  {
   "cell_type": "markdown",
   "id": "ef165f1e",
   "metadata": {},
   "source": [
    "And [transpose](https://en.wikipedia.org/wiki/Transpose) arrays:"
   ]
  },
  {
   "cell_type": "code",
   "execution_count": null,
   "id": "46816815",
   "metadata": {},
   "outputs": [],
   "source": [
    "y.transpose()"
   ]
  },
  {
   "cell_type": "markdown",
   "id": "9a68954b",
   "metadata": {},
   "source": [
    "You can get the dimensions of an array with `shape`:"
   ]
  },
  {
   "cell_type": "code",
   "execution_count": null,
   "id": "679a9763",
   "metadata": {},
   "outputs": [],
   "source": [
    "y.shape"
   ]
  },
  {
   "cell_type": "code",
   "execution_count": null,
   "id": "a4f3b9f9",
   "metadata": {},
   "outputs": [],
   "source": [
    "y.transpose().shape"
   ]
  },
  {
   "cell_type": "markdown",
   "id": "57dd9a3e",
   "metadata": {},
   "source": [
    "Some numpy functions apply by default to the whole array, but can be chosen to act only on certain axes:"
   ]
  },
  {
   "cell_type": "code",
   "execution_count": null,
   "id": "230addab",
   "metadata": {},
   "outputs": [],
   "source": [
    "x = np.arange(12).reshape(4,3)\n",
    "x"
   ]
  },
  {
   "cell_type": "code",
   "execution_count": null,
   "id": "8040aa11",
   "metadata": {},
   "outputs": [],
   "source": [
    "x.mean(1)  # Mean along the second axis, leaving the first."
   ]
  },
  {
   "cell_type": "code",
   "execution_count": null,
   "id": "dc3136f9",
   "metadata": {},
   "outputs": [],
   "source": [
    "x.mean(0)  # Mean along the first axis, leaving the second."
   ]
  },
  {
   "cell_type": "code",
   "execution_count": null,
   "id": "9318c51e",
   "metadata": {},
   "outputs": [],
   "source": [
    "x.mean()  # mean of all axes"
   ]
  },
  {
   "cell_type": "markdown",
   "id": "59bec00c",
   "metadata": {},
   "source": [
    "### Array Datatypes"
   ]
  },
  {
   "cell_type": "markdown",
   "id": "72c3f675",
   "metadata": {},
   "source": [
    "A Python `list` can contain data of mixed type:"
   ]
  },
  {
   "cell_type": "code",
   "execution_count": null,
   "id": "15c10903",
   "metadata": {},
   "outputs": [],
   "source": [
    "x = ['hello', 2, 3.4]"
   ]
  },
  {
   "cell_type": "code",
   "execution_count": null,
   "id": "47f8c6fa",
   "metadata": {},
   "outputs": [],
   "source": [
    "type(x[2])"
   ]
  },
  {
   "cell_type": "code",
   "execution_count": null,
   "id": "48de3200",
   "metadata": {},
   "outputs": [],
   "source": [
    "type(x[1])"
   ]
  },
  {
   "cell_type": "markdown",
   "id": "cb140f5f",
   "metadata": {},
   "source": [
    "A NumPy array always contains just one datatype:"
   ]
  },
  {
   "cell_type": "code",
   "execution_count": null,
   "id": "47d82f98",
   "metadata": {},
   "outputs": [],
   "source": [
    "np.array(x)"
   ]
  },
  {
   "cell_type": "markdown",
   "id": "b14817e6",
   "metadata": {},
   "source": [
    "NumPy will choose the least-generic-possible datatype that can contain the data:"
   ]
  },
  {
   "cell_type": "code",
   "execution_count": null,
   "id": "96b1f1e4",
   "metadata": {},
   "outputs": [],
   "source": [
    "y = np.array([2, 3.4])"
   ]
  },
  {
   "cell_type": "code",
   "execution_count": null,
   "id": "293fdca5",
   "metadata": {},
   "outputs": [],
   "source": [
    "y"
   ]
  },
  {
   "cell_type": "markdown",
   "id": "aef57a6a",
   "metadata": {},
   "source": [
    "You can access the array's `dtype`, or check the type of individual elements:"
   ]
  },
  {
   "cell_type": "code",
   "execution_count": null,
   "id": "8c1ad865",
   "metadata": {},
   "outputs": [],
   "source": [
    "y.dtype"
   ]
  },
  {
   "cell_type": "code",
   "execution_count": null,
   "id": "fc10d113",
   "metadata": {},
   "outputs": [],
   "source": [
    "type(y[0])"
   ]
  },
  {
   "cell_type": "code",
   "execution_count": null,
   "id": "a5cb6bfd",
   "metadata": {},
   "outputs": [],
   "source": [
    "z = np.array([3, 4, 5])\n",
    "z"
   ]
  },
  {
   "cell_type": "code",
   "execution_count": null,
   "id": "95304a47",
   "metadata": {},
   "outputs": [],
   "source": [
    "type(z[0])"
   ]
  },
  {
   "cell_type": "markdown",
   "id": "71844b09",
   "metadata": {},
   "source": [
    "The results are, when you get to know them, fairly obvious string codes for datatypes: \n",
    "    NumPy supports all kinds of datatypes beyond the python basics."
   ]
  },
  {
   "cell_type": "markdown",
   "id": "aab0f864",
   "metadata": {},
   "source": [
    "NumPy will convert python type names to dtypes:"
   ]
  },
  {
   "cell_type": "code",
   "execution_count": null,
   "id": "49948ed0",
   "metadata": {},
   "outputs": [],
   "source": [
    "x = [2, 3.4, 7.2, 0]"
   ]
  },
  {
   "cell_type": "code",
   "execution_count": null,
   "id": "a7a96b41",
   "metadata": {},
   "outputs": [],
   "source": [
    "int_array = np.array(x, dtype=int)"
   ]
  },
  {
   "cell_type": "code",
   "execution_count": null,
   "id": "bf2ba505",
   "metadata": {},
   "outputs": [],
   "source": [
    "float_array = np.array(x, dtype=float)"
   ]
  },
  {
   "cell_type": "code",
   "execution_count": null,
   "id": "31587599",
   "metadata": {},
   "outputs": [],
   "source": [
    "int_array"
   ]
  },
  {
   "cell_type": "code",
   "execution_count": null,
   "id": "ac903406",
   "metadata": {},
   "outputs": [],
   "source": [
    "float_array"
   ]
  },
  {
   "cell_type": "code",
   "execution_count": null,
   "id": "d8aae693",
   "metadata": {},
   "outputs": [],
   "source": [
    "int_array.dtype"
   ]
  },
  {
   "cell_type": "code",
   "execution_count": null,
   "id": "7fd7d0df",
   "metadata": {},
   "outputs": [],
   "source": [
    "float_array.dtype"
   ]
  },
  {
   "cell_type": "markdown",
   "id": "f65978b1",
   "metadata": {},
   "source": [
    "### Broadcasting"
   ]
  },
  {
   "cell_type": "markdown",
   "id": "36e333dc",
   "metadata": {},
   "source": [
    "This is another really powerful feature of NumPy."
   ]
  },
  {
   "cell_type": "markdown",
   "id": "ed43a2f5",
   "metadata": {},
   "source": [
    "By default, array operations are element-by-element:"
   ]
  },
  {
   "cell_type": "code",
   "execution_count": null,
   "id": "645a698f",
   "metadata": {},
   "outputs": [],
   "source": [
    "np.arange(5) * np.arange(5)"
   ]
  },
  {
   "cell_type": "markdown",
   "id": "4951cc28",
   "metadata": {},
   "source": [
    "If we multiply arrays with non-matching shapes we get an error:"
   ]
  },
  {
   "cell_type": "code",
   "execution_count": null,
   "id": "fde50792",
   "metadata": {},
   "outputs": [],
   "source": [
    "np.arange(5) * np.arange(6)"
   ]
  },
  {
   "cell_type": "code",
   "execution_count": null,
   "id": "c0d5eff3",
   "metadata": {},
   "outputs": [],
   "source": [
    "np.zeros([2,3]) * np.zeros([2,4])"
   ]
  },
  {
   "cell_type": "code",
   "execution_count": null,
   "id": "8eb78ead",
   "metadata": {},
   "outputs": [],
   "source": [
    "m1 = np.arange(100).reshape([10, 10])"
   ]
  },
  {
   "cell_type": "code",
   "execution_count": null,
   "id": "c0fb7822",
   "metadata": {},
   "outputs": [],
   "source": [
    "m2 = np.arange(100).reshape([10, 5, 2])"
   ]
  },
  {
   "cell_type": "code",
   "execution_count": null,
   "id": "dcd9a499",
   "metadata": {},
   "outputs": [],
   "source": [
    "m1 + m2"
   ]
  },
  {
   "cell_type": "markdown",
   "id": "b455d6c1",
   "metadata": {},
   "source": [
    "Arrays must match in all dimensions in order to be compatible:"
   ]
  },
  {
   "cell_type": "code",
   "execution_count": null,
   "id": "a4320d50",
   "metadata": {},
   "outputs": [],
   "source": [
    "np.ones([3, 3]) * np.ones([3, 3]) # Note elementwise multiply, *not* matrix multiply."
   ]
  },
  {
   "cell_type": "markdown",
   "id": "2c3befee",
   "metadata": {},
   "source": [
    "**Except**, that if one array has any Dimension 1, then the data is **REPEATED** to match the other."
   ]
  },
  {
   "cell_type": "code",
   "execution_count": null,
   "id": "b05e1932",
   "metadata": {},
   "outputs": [],
   "source": [
    "col = np.arange(10).reshape([10, 1])\n",
    "col"
   ]
  },
  {
   "cell_type": "code",
   "execution_count": null,
   "id": "743db63a",
   "metadata": {},
   "outputs": [],
   "source": [
    "row = col.transpose()\n",
    "row"
   ]
  },
  {
   "cell_type": "code",
   "execution_count": null,
   "id": "07dba5c9",
   "metadata": {},
   "outputs": [],
   "source": [
    "col.shape # \"Column Vector\""
   ]
  },
  {
   "cell_type": "code",
   "execution_count": null,
   "id": "a8252c44",
   "metadata": {},
   "outputs": [],
   "source": [
    "row.shape # \"Row Vector\""
   ]
  },
  {
   "cell_type": "code",
   "execution_count": null,
   "id": "ba3971cc",
   "metadata": {},
   "outputs": [],
   "source": [
    "row + col"
   ]
  },
  {
   "cell_type": "code",
   "execution_count": null,
   "id": "45e57448",
   "metadata": {},
   "outputs": [],
   "source": [
    "10 * row + col"
   ]
  },
  {
   "cell_type": "markdown",
   "id": "641579b8",
   "metadata": {},
   "source": [
    "This works for arrays with more than one unit dimension. "
   ]
  },
  {
   "cell_type": "markdown",
   "id": "4511601d",
   "metadata": {},
   "source": [
    "### Newaxis"
   ]
  },
  {
   "cell_type": "markdown",
   "id": "a214c564",
   "metadata": {},
   "source": [
    "Broadcasting is very powerful, and numpy allows indexing with `np.newaxis` to temporarily create new one-long dimensions on the fly."
   ]
  },
  {
   "cell_type": "code",
   "execution_count": null,
   "id": "2cd51f32",
   "metadata": {},
   "outputs": [],
   "source": [
    "import numpy as np\n",
    "x = np.arange(10).reshape(2, 5)\n",
    "y = np.arange(8).reshape(2, 2, 2)"
   ]
  },
  {
   "cell_type": "code",
   "execution_count": null,
   "id": "459a404a",
   "metadata": {},
   "outputs": [],
   "source": [
    "x"
   ]
  },
  {
   "cell_type": "code",
   "execution_count": null,
   "id": "8b57d3b0",
   "metadata": {},
   "outputs": [],
   "source": [
    "y"
   ]
  },
  {
   "cell_type": "code",
   "execution_count": null,
   "id": "d8abc742",
   "metadata": {},
   "outputs": [],
   "source": [
    "x[:, :, np.newaxis, np.newaxis].shape"
   ]
  },
  {
   "cell_type": "code",
   "execution_count": null,
   "id": "0cb09bc3",
   "metadata": {},
   "outputs": [],
   "source": [
    "y[:, np.newaxis, :, :].shape"
   ]
  },
  {
   "cell_type": "code",
   "execution_count": null,
   "id": "4890081c",
   "metadata": {},
   "outputs": [],
   "source": [
    "res = x[:, :, np.newaxis, np.newaxis] * y[:, np.newaxis, :, :]"
   ]
  },
  {
   "cell_type": "code",
   "execution_count": null,
   "id": "b9f9bef4",
   "metadata": {},
   "outputs": [],
   "source": [
    "res.shape"
   ]
  },
  {
   "cell_type": "code",
   "execution_count": null,
   "id": "877a2a0e",
   "metadata": {},
   "outputs": [],
   "source": [
    "np.sum(res)"
   ]
  },
  {
   "cell_type": "markdown",
   "id": "5b0365d0",
   "metadata": {},
   "source": [
    "Note that `newaxis` works because a $3 \\times 1 \\times 3$ array and a $3 \\times 3$ array contain the same data,\n",
    "differently shaped:"
   ]
  },
  {
   "cell_type": "code",
   "execution_count": null,
   "id": "fc33c8ed",
   "metadata": {},
   "outputs": [],
   "source": [
    "threebythree = np.arange(9).reshape(3, 3)\n",
    "threebythree"
   ]
  },
  {
   "cell_type": "code",
   "execution_count": null,
   "id": "7c355fa3",
   "metadata": {},
   "outputs": [],
   "source": [
    "threebythree[:, np.newaxis, :]"
   ]
  },
  {
   "cell_type": "markdown",
   "id": "71793743",
   "metadata": {},
   "source": [
    "### Dot Products"
   ]
  },
  {
   "cell_type": "markdown",
   "id": "272c7f47",
   "metadata": {},
   "source": [
    "NumPy multiply is element-by-element, not a dot-product:"
   ]
  },
  {
   "cell_type": "code",
   "execution_count": null,
   "id": "117c80f3",
   "metadata": {},
   "outputs": [],
   "source": [
    "a = np.arange(9).reshape(3, 3)\n",
    "a"
   ]
  },
  {
   "cell_type": "code",
   "execution_count": null,
   "id": "4ac97977",
   "metadata": {},
   "outputs": [],
   "source": [
    "b = np.arange(3, 12).reshape(3, 3)\n",
    "b"
   ]
  },
  {
   "cell_type": "code",
   "execution_count": null,
   "id": "053d22dd",
   "metadata": {},
   "outputs": [],
   "source": [
    "a * b"
   ]
  },
  {
   "cell_type": "markdown",
   "id": "aa3a26fe",
   "metadata": {},
   "source": [
    "To get a dot-product, (matrix inner product) we can use a built in function:"
   ]
  },
  {
   "cell_type": "code",
   "execution_count": null,
   "id": "d3da91ec",
   "metadata": {},
   "outputs": [],
   "source": [
    "np.dot(a, b)"
   ]
  },
  {
   "cell_type": "markdown",
   "id": "945fdd26",
   "metadata": {},
   "source": [
    "Though it is possible to represent this in the algebra of broadcasting and newaxis:"
   ]
  },
  {
   "cell_type": "code",
   "execution_count": null,
   "id": "fcf62deb",
   "metadata": {},
   "outputs": [],
   "source": [
    "a[:, :, np.newaxis].shape"
   ]
  },
  {
   "cell_type": "code",
   "execution_count": null,
   "id": "419a5254",
   "metadata": {},
   "outputs": [],
   "source": [
    "b[np.newaxis, :, :].shape"
   ]
  },
  {
   "cell_type": "code",
   "execution_count": null,
   "id": "da8b699b",
   "metadata": {},
   "outputs": [],
   "source": [
    "a[:, :, np.newaxis] * b[np.newaxis, :, :]"
   ]
  },
  {
   "cell_type": "code",
   "execution_count": null,
   "id": "4bfb0ed5",
   "metadata": {},
   "outputs": [],
   "source": [
    "(a[:, :, np.newaxis] * b[np.newaxis, :, :]).sum(1)"
   ]
  },
  {
   "cell_type": "markdown",
   "id": "6d208dbd",
   "metadata": {},
   "source": [
    "Or if you prefer:"
   ]
  },
  {
   "cell_type": "code",
   "execution_count": null,
   "id": "83d3c080",
   "metadata": {},
   "outputs": [],
   "source": [
    "(a.reshape(3, 3, 1) * b.reshape(1, 3, 3)).sum(1)"
   ]
  },
  {
   "cell_type": "markdown",
   "id": "23abd265",
   "metadata": {},
   "source": [
    "We use broadcasting to generate $A_{ij}B_{jk}$ as a 3-d matrix:"
   ]
  },
  {
   "cell_type": "code",
   "execution_count": null,
   "id": "b0e5735c",
   "metadata": {},
   "outputs": [],
   "source": [
    "a.reshape(3, 3, 1) * b.reshape(1, 3, 3)"
   ]
  },
  {
   "cell_type": "markdown",
   "id": "2e4a7a1c",
   "metadata": {},
   "source": [
    "Then we sum over the middle, $j$ axis, [which is the 1-axis of three axes numbered (0,1,2)] of this 3-d matrix. Thus we generate $\\Sigma_j A_{ij}B_{jk}$.\n",
    "\n",
    "We can see that the broadcasting concept gives us a powerful and efficient way to express many linear algebra operations computationally."
   ]
  },
  {
   "cell_type": "markdown",
   "id": "8fd4e3f9",
   "metadata": {},
   "source": [
    "### Record Arrays"
   ]
  },
  {
   "cell_type": "markdown",
   "id": "c2e81013",
   "metadata": {},
   "source": [
    "These are a special array structure designed to match the CSV \"Record and Field\" model. It's a very different structure\n",
    "from the normal NumPy array, and different fields *can* contain different datatypes. We saw this when we looked at CSV files:"
   ]
  },
  {
   "cell_type": "code",
   "execution_count": null,
   "id": "f14d3c80",
   "metadata": {},
   "outputs": [],
   "source": [
    "x = np.arange(50).reshape([10, 5])"
   ]
  },
  {
   "cell_type": "code",
   "execution_count": null,
   "id": "72dedaf2",
   "metadata": {},
   "outputs": [],
   "source": [
    "record_x = x.view(dtype={'names': [\"col1\", \"col2\", \"another\", \"more\", \"last\"], \n",
    "                         'formats': [int]*5 })"
   ]
  },
  {
   "cell_type": "code",
   "execution_count": null,
   "id": "1987f170",
   "metadata": {},
   "outputs": [],
   "source": [
    "record_x"
   ]
  },
  {
   "cell_type": "markdown",
   "id": "dc6d48aa",
   "metadata": {},
   "source": [
    "Record arrays can be addressed with field names like they were a dictionary:"
   ]
  },
  {
   "cell_type": "code",
   "execution_count": null,
   "id": "1c3dbb0d",
   "metadata": {},
   "outputs": [],
   "source": [
    "record_x['col1']"
   ]
  },
  {
   "cell_type": "markdown",
   "id": "a9028062",
   "metadata": {},
   "source": [
    "We've seen these already when we used NumPy's CSV parser."
   ]
  },
  {
   "cell_type": "markdown",
   "id": "616e8361",
   "metadata": {},
   "source": [
    "### Logical arrays, masking, and selection"
   ]
  },
  {
   "cell_type": "markdown",
   "id": "0b951ab4",
   "metadata": {},
   "source": [
    "Numpy defines operators like == and < to apply to arrays *element by element*:"
   ]
  },
  {
   "cell_type": "code",
   "execution_count": null,
   "id": "e93896f6",
   "metadata": {},
   "outputs": [],
   "source": [
    "x = np.zeros([3, 4])\n",
    "x"
   ]
  },
  {
   "cell_type": "code",
   "execution_count": null,
   "id": "a1085e73",
   "metadata": {},
   "outputs": [],
   "source": [
    "y = np.arange(-1, 2)[:, np.newaxis] * np.arange(-2, 2)[np.newaxis, :]\n",
    "y"
   ]
  },
  {
   "cell_type": "code",
   "execution_count": null,
   "id": "469a43e1",
   "metadata": {},
   "outputs": [],
   "source": [
    "iszero = x == y\n",
    "iszero"
   ]
  },
  {
   "cell_type": "markdown",
   "id": "827bfd47",
   "metadata": {},
   "source": [
    "A logical array can be used to select elements from an array:"
   ]
  },
  {
   "cell_type": "code",
   "execution_count": null,
   "id": "96f41942",
   "metadata": {},
   "outputs": [],
   "source": [
    "y[np.logical_not(iszero)]"
   ]
  },
  {
   "cell_type": "markdown",
   "id": "2ce378ff",
   "metadata": {},
   "source": [
    "Although when printed, this comes out as a flat list, if assigned to, the *selected elements of the array are changed!*"
   ]
  },
  {
   "cell_type": "code",
   "execution_count": null,
   "id": "8efe2335",
   "metadata": {},
   "outputs": [],
   "source": [
    "y[iszero] = 5"
   ]
  },
  {
   "cell_type": "code",
   "execution_count": null,
   "id": "65e5c5ce",
   "metadata": {},
   "outputs": [],
   "source": [
    "y"
   ]
  },
  {
   "cell_type": "markdown",
   "id": "f2947591",
   "metadata": {},
   "source": [
    "### Numpy memory"
   ]
  },
  {
   "cell_type": "markdown",
   "id": "4a5d070b",
   "metadata": {},
   "source": [
    "Numpy memory management can be tricksy:"
   ]
  },
  {
   "cell_type": "code",
   "execution_count": null,
   "id": "eb5b863c",
   "metadata": {},
   "outputs": [],
   "source": [
    "x = np.arange(5)\n",
    "y = x[:]"
   ]
  },
  {
   "cell_type": "code",
   "execution_count": null,
   "id": "16b44d16",
   "metadata": {},
   "outputs": [],
   "source": [
    "y[2] = 0\n",
    "x"
   ]
  },
  {
   "cell_type": "markdown",
   "id": "417f1166",
   "metadata": {},
   "source": [
    "It does **not** behave like lists!"
   ]
  },
  {
   "cell_type": "code",
   "execution_count": null,
   "id": "96692cfe",
   "metadata": {},
   "outputs": [],
   "source": [
    "x = list(range(5))\n",
    "y = x[:]"
   ]
  },
  {
   "cell_type": "code",
   "execution_count": null,
   "id": "0c1f0039",
   "metadata": {},
   "outputs": [],
   "source": [
    "y[2] = 0\n",
    "x"
   ]
  },
  {
   "cell_type": "markdown",
   "id": "e569c260",
   "metadata": {},
   "source": [
    "We must use `np.copy` to force separate memory. Otherwise NumPy tries its hardest to make slices be *views* on data."
   ]
  },
  {
   "cell_type": "markdown",
   "id": "0ba737e0",
   "metadata": {},
   "source": [
    "Now, this has all been very theoretical, but let's go through a practical example, and see how powerful NumPy can be."
   ]
  }
 ],
 "metadata": {
  "jekyll": {
   "display_name": "Numerical Python"
  },
  "jupytext": {
   "main_language": "python",
   "notebook_metadata_filter": "-kernelspec,jupytext,jekyll"
  }
 },
 "nbformat": 4,
 "nbformat_minor": 5
}