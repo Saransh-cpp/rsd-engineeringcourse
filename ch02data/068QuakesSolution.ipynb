{
 "cells": [
  {
   "cell_type": "markdown",
   "id": "88d59f21",
   "metadata": {},
   "source": [
    "## Solution to the earthquake exercise\n",
    "\n",
    "**NOTE:** This is intended as a reference for **after** you have attempted [the problem](./066QuakeExercise.html) [(notebook version)](./066QuakeExercise.ipynb) yourself!"
   ]
  },
  {
   "cell_type": "markdown",
   "id": "7d6e8827",
   "metadata": {},
   "source": [
    "### Download the data"
   ]
  },
  {
   "cell_type": "code",
   "execution_count": null,
   "id": "4625eb7f",
   "metadata": {},
   "outputs": [],
   "source": [
    "import requests\n",
    "quakes = requests.get(\"http://earthquake.usgs.gov/fdsnws/event/1/query.geojson\",\n",
    "                      params={\n",
    "                          'starttime': \"2000-01-01\",\n",
    "                          \"maxlatitude\": \"58.723\",\n",
    "                          \"minlatitude\": \"50.008\",\n",
    "                          \"maxlongitude\": \"1.67\",\n",
    "                          \"minlongitude\": \"-9.756\",\n",
    "                          \"minmagnitude\": \"1\",\n",
    "                          \"endtime\": \"2018-10-11\",\n",
    "                          \"orderby\": \"time-asc\"}\n",
    "                      )"
   ]
  },
  {
   "cell_type": "markdown",
   "id": "4be55cbc",
   "metadata": {},
   "source": [
    "### Parse the data as JSON"
   ]
  },
  {
   "cell_type": "code",
   "execution_count": null,
   "id": "9f21c934",
   "metadata": {},
   "outputs": [],
   "source": [
    "import json"
   ]
  },
  {
   "cell_type": "code",
   "execution_count": null,
   "id": "0422277d",
   "metadata": {},
   "outputs": [],
   "source": [
    "requests_json = json.loads(quakes.text)"
   ]
  },
  {
   "cell_type": "markdown",
   "id": "1493ef7f",
   "metadata": {},
   "source": [
    "### Investigate the data to discover how it is structured"
   ]
  },
  {
   "cell_type": "markdown",
   "id": "d2eaaf53",
   "metadata": {},
   "source": [
    "There is no foolproof way of doing this. A good first step is to see the type of our data!"
   ]
  },
  {
   "cell_type": "code",
   "execution_count": null,
   "id": "3f92e922",
   "metadata": {},
   "outputs": [],
   "source": [
    "type(requests_json)"
   ]
  },
  {
   "cell_type": "markdown",
   "id": "bfc39a91",
   "metadata": {},
   "source": [
    "Now we can navigate through this dictionary to see how the information is stored in the nested dictionaries and lists. The `keys` method can indicate what kind of information each dictionary holds, and the `len` function tells us how many entries are contained in a list. How you explore is up to you!"
   ]
  },
  {
   "cell_type": "code",
   "execution_count": null,
   "id": "2f5ec91c",
   "metadata": {},
   "outputs": [],
   "source": [
    "requests_json.keys()"
   ]
  },
  {
   "cell_type": "code",
   "execution_count": null,
   "id": "57cdfe79",
   "metadata": {},
   "outputs": [],
   "source": [
    "len(requests_json['features'])"
   ]
  },
  {
   "cell_type": "code",
   "execution_count": null,
   "id": "b06e2db1",
   "metadata": {},
   "outputs": [],
   "source": [
    "requests_json['features'][0].keys()"
   ]
  },
  {
   "cell_type": "code",
   "execution_count": null,
   "id": "4ccf94b5",
   "metadata": {},
   "outputs": [],
   "source": [
    "requests_json['features'][0]['properties'].keys()"
   ]
  },
  {
   "cell_type": "code",
   "execution_count": null,
   "id": "0a68a1e2",
   "metadata": {},
   "outputs": [],
   "source": [
    "requests_json['features'][0]['properties']['mag']"
   ]
  },
  {
   "cell_type": "code",
   "execution_count": null,
   "id": "e7c82f29",
   "metadata": {},
   "outputs": [],
   "source": [
    "requests_json['features'][0]['geometry']"
   ]
  },
  {
   "cell_type": "markdown",
   "id": "0bac3453",
   "metadata": {},
   "source": [
    "Also note that some IDEs display JSON in a way that makes its structure easier to understand. Try saving this data in a text file and opening it in an IDE or a browser."
   ]
  },
  {
   "cell_type": "markdown",
   "id": "228dbb9a",
   "metadata": {},
   "source": [
    "### Find the largest quake"
   ]
  },
  {
   "cell_type": "code",
   "execution_count": null,
   "id": "9b9afef1",
   "metadata": {},
   "outputs": [],
   "source": [
    "quakes = requests_json['features']"
   ]
  },
  {
   "cell_type": "code",
   "execution_count": null,
   "id": "ebbdccf8",
   "metadata": {},
   "outputs": [],
   "source": [
    "largest_so_far = quakes[0]\n",
    "for quake in quakes:\n",
    "    if quake['properties']['mag'] > largest_so_far['properties']['mag']:\n",
    "        largest_so_far = quake\n",
    "largest_so_far['properties']['mag']"
   ]
  },
  {
   "cell_type": "code",
   "execution_count": null,
   "id": "67e8df7b",
   "metadata": {},
   "outputs": [],
   "source": [
    "lat = largest_so_far['geometry']['coordinates'][1]\n",
    "long = largest_so_far['geometry']['coordinates'][0]\n",
    "print(\"Latitude: {} Longitude: {}\".format(lat, long))"
   ]
  },
  {
   "cell_type": "markdown",
   "id": "ed25ae78",
   "metadata": {},
   "source": [
    "### Get a map at the point of the quake"
   ]
  },
  {
   "cell_type": "markdown",
   "id": "37c1322f",
   "metadata": {},
   "source": [
    "We saw something similar in the [Greengraph example](../ch01python/010exemplar.html#More-complex-functions) [(notebook version)](../ch01python/010exemplar.ipynb#More-complex-functions) of the previous chapter."
   ]
  },
  {
   "cell_type": "code",
   "execution_count": null,
   "id": "76866182",
   "metadata": {},
   "outputs": [],
   "source": [
    "import requests\n",
    "\n",
    "\n",
    "def request_map_at(lat, long, satellite=True,\n",
    "                   zoom=10, size=(400, 400)):\n",
    "    base = \"https://static-maps.yandex.ru/1.x/?\"\n",
    "\n",
    "    params = dict(\n",
    "        z=zoom,\n",
    "        size=\"{},{}\".format(size[0], size[1]),\n",
    "        ll=\"{},{}\".format(long, lat),\n",
    "        l=\"sat\" if satellite else \"map\",\n",
    "        lang=\"en_US\"\n",
    "    )\n",
    "\n",
    "    return requests.get(base, params=params)"
   ]
  },
  {
   "cell_type": "code",
   "execution_count": null,
   "id": "cf761e15",
   "metadata": {},
   "outputs": [],
   "source": [
    "map_png = request_map_at(lat, long, zoom=10, satellite=False)"
   ]
  },
  {
   "cell_type": "markdown",
   "id": "3688a11a",
   "metadata": {},
   "source": [
    "### Display the map"
   ]
  },
  {
   "cell_type": "code",
   "execution_count": null,
   "id": "5ca9be23",
   "metadata": {},
   "outputs": [],
   "source": [
    "from IPython.display import Image\n",
    "Image(map_png.content)"
   ]
  }
 ],
 "metadata": {
  "jekyll": {
   "display_name": "Quakes Solution"
  },
  "jupytext": {
   "main_language": "python",
   "notebook_metadata_filter": "-kernelspec,jupytext,jekyll"
  }
 },
 "nbformat": 4,
 "nbformat_minor": 5
}