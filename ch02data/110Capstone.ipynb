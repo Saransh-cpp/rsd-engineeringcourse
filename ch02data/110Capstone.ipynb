{
 "cells": [
  {
   "cell_type": "markdown",
   "id": "a1076f7b",
   "metadata": {},
   "source": [
    "## Recap: Understanding the \"Greengraph\" Example"
   ]
  },
  {
   "cell_type": "markdown",
   "id": "a1dfb103",
   "metadata": {},
   "source": [
    "We now know enough to understand everything we did in [the initial example chapter on the \"Greengraph\"](../ch01python/010exemplar.html) ([notebook](../ch01python/010exemplar.ipynb)). Go back to that part of the notes, and re-read the code. "
   ]
  },
  {
   "cell_type": "markdown",
   "id": "a585aeb7",
   "metadata": {},
   "source": [
    "Now, we can even write it up into a class, and save it as a module. Remember that it is generally a better idea to create files in an editor or integrated development environment (IDE) rather than through the notebook!"
   ]
  },
  {
   "cell_type": "markdown",
   "id": "d2f5b653",
   "metadata": {},
   "source": [
    "### Classes for Greengraph\n",
    "\n",
    "The original example was written as a collection of functions. Alternatively, we can rewrite it in an object-oriented style, using classes to group related functionality."
   ]
  },
  {
   "cell_type": "code",
   "execution_count": null,
   "id": "f1750e49",
   "metadata": {},
   "outputs": [],
   "source": [
    "%%bash\n",
    "mkdir -p greengraph  # Create the folder for the module (on mac or linux)"
   ]
  },
  {
   "cell_type": "code",
   "execution_count": null,
   "id": "13cd7cfa",
   "metadata": {},
   "outputs": [],
   "source": [
    "%%writefile greengraph/graph.py\n",
    "import numpy as np\n",
    "import geopy\n",
    "from matplotlib import pyplot as plt\n",
    "\n",
    "from .map import Map\n",
    "\n",
    "\n",
    "class Greengraph(object):\n",
    "    def __init__(self, start, end):\n",
    "        self.start = start\n",
    "        self.end = end\n",
    "        self.geocoder = geopy.geocoders.Nominatim(user_agent=\"comp0023\")\n",
    "\n",
    "    def geolocate(self, place):\n",
    "        return self.geocoder.geocode(place, exactly_one=False)[0][1]\n",
    "\n",
    "    def location_sequence(self, start, end, steps):\n",
    "        lats = np.linspace(start[0], end[0], steps)\n",
    "        longs = np.linspace(start[1], end[1], steps)\n",
    "        return np.vstack([lats, longs]).transpose()\n",
    "\n",
    "    def green_between(self, steps):\n",
    "        \"\"\"Count the amount of green space along a linear path between two locations.\"\"\"\n",
    "        self.steps = steps\n",
    "\n",
    "        sequence = self.location_sequence(\n",
    "            start=self.geolocate(self.start),\n",
    "            end=self.geolocate(self.end),\n",
    "            steps=steps,\n",
    "        )\n",
    "        maps = [Map(*location) for location in sequence]\n",
    "        self.green_at_each_location = [current_map.count_green() for current_map in maps]\n",
    "\n",
    "        return self.green_at_each_location\n",
    "\n",
    "    def plot_green_between(self, steps):\n",
    "        \"\"\"ount the amount of green space along a linear path between two locations\"\"\"\n",
    "        if not hasattr(self, 'green_at_each_location') or steps != self.steps:\n",
    "            green_between_locations = self.green_between(steps)\n",
    "        else:\n",
    "            green_between_locations = self.green_at_each_location\n",
    "        plt.plot(green_between_locations)\n",
    "        xticks_steps = 5 if steps > 10 else 1\n",
    "        plt.xticks(range(0, steps, xticks_steps))\n",
    "        plt.xlabel(\"Sequence step\")\n",
    "        plt.ylabel(r\"$N_{green}$\")\n",
    "        plt.title(f\"{self.start} -- {self.end}\")\n",
    "\n"
   ]
  },
  {
   "cell_type": "code",
   "execution_count": null,
   "id": "01b253ed",
   "metadata": {},
   "outputs": [],
   "source": [
    "%%writefile greengraph/map.py\n",
    "import math\n",
    "from io import BytesIO\n",
    "\n",
    "import numpy as np\n",
    "import imageio.v3 as iio\n",
    "import requests\n",
    "\n",
    "class Map(object):\n",
    "    def __init__(self, latitude, longitude, satellite=True, zoom=10,\n",
    "                 sensor=False):\n",
    "        base = \"https://mt0.google.com/vt?\"\n",
    "        x_coord, y_coord = self.deg2num(latitude, longitude, zoom)\n",
    "\n",
    "        params = dict(\n",
    "            x=x_coord,\n",
    "            y=y_coord,\n",
    "            z=zoom,\n",
    "        )\n",
    "        if satellite:\n",
    "            params['lyrs'] = 's'\n",
    "\n",
    "        self.image = requests.get(\n",
    "            base, params=params).content  # Fetch our PNG image data\n",
    "        content = BytesIO(self.image)\n",
    "        self.pixels = iio.imread(content) # Parse our PNG image as a numpy array\n",
    "\n",
    "    def deg2num(self, latitude, longitude, zoom):\n",
    "        \"\"\"Convert latitude and longitude to XY tiles coordinates.\"\"\"\n",
    "\n",
    "        lat_rad = math.radians(latitude)\n",
    "        n = 2.0 ** zoom\n",
    "        x_tiles_coord = int((longitude + 180.0) / 360.0 * n)\n",
    "        y_tiles_coord = int((1.0 - math.asinh(math.tan(lat_rad)) / math.pi) / 2.0 * n)\n",
    "\n",
    "        return (x_tiles_coord, y_tiles_coord)\n",
    "\n",
    "    def green(self, threshold):\n",
    "        \"\"\"Determine if each pixel in an image array is green.\"\"\"\n",
    "\n",
    "        # RGB indices\n",
    "        red, green, blue = range(3)\n",
    "\n",
    "        # Use NumPy to build an element-by-element logical array\n",
    "        greener_than_red = self.pixels[:, :, green] > threshold * self.pixels[:, :, red]\n",
    "        greener_than_blue = self.pixels[:, :, green] > threshold * self.pixels[:, :, blue]\n",
    "        green = np.logical_and(greener_than_red, greener_than_blue)\n",
    "        return green\n",
    "\n",
    "    def count_green(self, threshold=1.1):\n",
    "        return np.sum(self.green(threshold))\n",
    "\n",
    "    def show_green(data, threshold=1.1):\n",
    "        green = self.green(threshold)\n",
    "        out = green[:, :, np.newaxis] * array([0, 1, 0])[np.newaxis, np.newaxis, :]\n",
    "        buffer = BytesIO()\n",
    "        result = iio.imwrite(buffer, out, extension='.png')\n",
    "        return buffer.getvalue()"
   ]
  },
  {
   "cell_type": "code",
   "execution_count": null,
   "id": "50b47e6c",
   "metadata": {},
   "outputs": [],
   "source": [
    "%%writefile greengraph/__init__.py\n",
    "from .graph import Greengraph"
   ]
  },
  {
   "cell_type": "markdown",
   "id": "7b603c4e",
   "metadata": {},
   "source": [
    "### Invoking our code and making a plot"
   ]
  },
  {
   "cell_type": "code",
   "execution_count": null,
   "id": "be44bfe0",
   "metadata": {},
   "outputs": [],
   "source": [
    "from matplotlib import pyplot as plt\n",
    "from greengraph import Greengraph\n",
    "%matplotlib inline\n",
    "\n",
    "mygraph = Greengraph('New York', 'Chicago')\n",
    "data = mygraph.green_between(20)\n",
    "mygraph.plot_green_between(20)"
   ]
  }
 ],
 "metadata": {
  "jekyll": {
   "display_name": "Understanding the Exemplar"
  },
  "jupytext": {
   "main_language": "python",
   "notebook_metadata_filter": "-kernelspec,jupytext,jekyll"
  }
 },
 "nbformat": 4,
 "nbformat_minor": 5
}