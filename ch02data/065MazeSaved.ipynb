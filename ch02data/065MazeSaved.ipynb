{
 "cells": [
  {
   "cell_type": "code",
   "execution_count": null,
   "id": "954ac110",
   "metadata": {},
   "outputs": [],
   "source": [
    "house = {\n",
    "    'living': {\n",
    "        'exits': {\n",
    "            'north': 'kitchen',\n",
    "            'outside': 'garden',\n",
    "            'upstairs': 'bedroom'\n",
    "        },\n",
    "        'people': ['James'],\n",
    "        'capacity': 2\n",
    "    },\n",
    "    'kitchen': {\n",
    "        'exits': {\n",
    "            'south': 'living'\n",
    "        },\n",
    "        'people': [],\n",
    "        'capacity': 1\n",
    "    },\n",
    "    'garden': {\n",
    "        'exits': {\n",
    "            'inside': 'living'\n",
    "        },\n",
    "        'people': ['Sue'],\n",
    "        'capacity': 3\n",
    "    },\n",
    "    'bedroom': {\n",
    "        'exits': {\n",
    "            'downstairs': 'living',\n",
    "            'jump': 'garden'\n",
    "        },\n",
    "        'people': [],\n",
    "        'capacity': 1\n",
    "    }\n",
    "}"
   ]
  },
  {
   "cell_type": "markdown",
   "id": "a6ba8800",
   "metadata": {},
   "source": [
    "Save the maze with json:"
   ]
  },
  {
   "cell_type": "code",
   "execution_count": null,
   "id": "91638251",
   "metadata": {},
   "outputs": [],
   "source": [
    "import json"
   ]
  },
  {
   "cell_type": "code",
   "execution_count": null,
   "id": "a889b8c6",
   "metadata": {},
   "outputs": [],
   "source": [
    "with open('maze.json', 'w') as json_maze_out:\n",
    "    json_maze_out.write(json.dumps(house))"
   ]
  },
  {
   "cell_type": "markdown",
   "id": "bf805e1b",
   "metadata": {},
   "source": [
    "Consider the file on the disk:"
   ]
  },
  {
   "cell_type": "code",
   "execution_count": null,
   "id": "1266264c",
   "metadata": {},
   "outputs": [],
   "source": [
    "%%bash\n",
    "cat 'maze.json'"
   ]
  },
  {
   "cell_type": "markdown",
   "id": "232a1c38",
   "metadata": {},
   "source": [
    "and now load it into a different variable:"
   ]
  },
  {
   "cell_type": "code",
   "execution_count": null,
   "id": "8b91a59d",
   "metadata": {},
   "outputs": [],
   "source": [
    "with open('maze.json') as json_maze_in:\n",
    "    maze_again = json.load(json_maze_in)"
   ]
  },
  {
   "cell_type": "code",
   "execution_count": null,
   "id": "5ca602a9",
   "metadata": {},
   "outputs": [],
   "source": [
    "maze_again"
   ]
  },
  {
   "cell_type": "markdown",
   "id": "2a88ecde",
   "metadata": {},
   "source": [
    "Or with YAML:"
   ]
  },
  {
   "cell_type": "code",
   "execution_count": null,
   "id": "fce6772b",
   "metadata": {},
   "outputs": [],
   "source": [
    "import yaml"
   ]
  },
  {
   "cell_type": "code",
   "execution_count": null,
   "id": "aed5a903",
   "metadata": {},
   "outputs": [],
   "source": [
    "with open('maze.yaml', 'w') as yaml_maze_out:\n",
    "    yaml_maze_out.write(yaml.dump(house))"
   ]
  },
  {
   "cell_type": "code",
   "execution_count": null,
   "id": "ad712f77",
   "metadata": {},
   "outputs": [],
   "source": [
    "%%bash\n",
    "cat 'maze.yaml'"
   ]
  },
  {
   "cell_type": "code",
   "execution_count": null,
   "id": "0d918259",
   "metadata": {},
   "outputs": [],
   "source": [
    "with open('maze.yaml') as yaml_maze_in:\n",
    "    maze_again = yaml.safe_load(yaml_maze_in)"
   ]
  },
  {
   "cell_type": "code",
   "execution_count": null,
   "id": "262f09bd",
   "metadata": {},
   "outputs": [],
   "source": [
    "maze_again"
   ]
  }
 ],
 "metadata": {
  "jekyll": {
   "display_name": "Maze Files Solution"
  },
  "jupytext": {
   "main_language": "python",
   "notebook_metadata_filter": "-kernelspec,jupytext,jekyll"
  }
 },
 "nbformat": 4,
 "nbformat_minor": 5
}