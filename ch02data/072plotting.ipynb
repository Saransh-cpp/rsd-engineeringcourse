{
 "cells": [
  {
   "cell_type": "markdown",
   "id": "8d3bb234",
   "metadata": {},
   "source": [
    "## Plotting with Matplotlib\n",
    "\n",
    "Plotting data is very common and useful in scientific work. Python does not include any plotting functionality in the language itself, but there are various frameworks available for producing plots and visualisations.\n",
    "\n",
    "In this section, we will look at Matplotlib, one of those frameworks. As the name indicates, it was conceived to provide an interface similar to the MATLAB programming language, but no knowledge of MATLAB is required!"
   ]
  },
  {
   "cell_type": "markdown",
   "id": "1910135b",
   "metadata": {},
   "source": [
    "### Importing Matplotlib"
   ]
  },
  {
   "cell_type": "markdown",
   "id": "8fd252b4",
   "metadata": {},
   "source": [
    "We import the `pyplot` object from Matplotlib, which provides us with an interface for making figures. We usually abbreviate it."
   ]
  },
  {
   "cell_type": "code",
   "execution_count": null,
   "id": "7b0435a9",
   "metadata": {},
   "outputs": [],
   "source": [
    "from matplotlib import pyplot as plt"
   ]
  },
  {
   "cell_type": "markdown",
   "id": "4c1934cb",
   "metadata": {},
   "source": [
    "### Notebook magics"
   ]
  },
  {
   "cell_type": "markdown",
   "id": "1669e086",
   "metadata": {},
   "source": [
    "When we write:"
   ]
  },
  {
   "cell_type": "code",
   "execution_count": null,
   "id": "c62a2739",
   "metadata": {},
   "outputs": [],
   "source": [
    "%matplotlib inline"
   ]
  },
  {
   "cell_type": "markdown",
   "id": "f1700ca7",
   "metadata": {},
   "source": [
    "We tell the Jupyter notebook to show figures we generate alongside the code that created it, rather than in a\n",
    "separate window. Lines beginning with a single percent are not python code: they control how the notebook deals with python code."
   ]
  },
  {
   "cell_type": "markdown",
   "id": "6ac26419",
   "metadata": {},
   "source": [
    "Lines beginning with two percents are \"cell magics\", that tell Jupyter notebook how to interpret the particular cell;\n",
    "we've seen `%%writefile`, for example."
   ]
  },
  {
   "cell_type": "markdown",
   "id": "4cdbab79",
   "metadata": {},
   "source": [
    "### A basic plot"
   ]
  },
  {
   "cell_type": "markdown",
   "id": "ec61aa22",
   "metadata": {},
   "source": [
    "When we write:"
   ]
  },
  {
   "cell_type": "code",
   "execution_count": null,
   "id": "7fbd5b11",
   "metadata": {},
   "outputs": [],
   "source": [
    "from math import sin, cos, pi\n",
    "my_fig = plt.plot([sin(pi * x / 100.0) for x in range(100)])"
   ]
  },
  {
   "cell_type": "markdown",
   "id": "27ff137e",
   "metadata": {},
   "source": [
    "The plot command *returns* a figure, just like the return value of any function. The notebook then displays this."
   ]
  },
  {
   "cell_type": "markdown",
   "id": "27cfb915",
   "metadata": {},
   "source": [
    "To add a title, axis labels etc, we need to get that figure object, and manipulate it. \n",
    "For convenience, matplotlib allows us to do this just by issuing commands to change the \"current figure\":"
   ]
  },
  {
   "cell_type": "code",
   "execution_count": null,
   "id": "4504cfad",
   "metadata": {},
   "outputs": [],
   "source": [
    "plt.plot([sin(pi * x / 100.0) for x in range(100)])\n",
    "plt.title(\"Hello\")"
   ]
  },
  {
   "cell_type": "markdown",
   "id": "31e6390e",
   "metadata": {},
   "source": [
    "But this requires us to keep all our commands together in a single cell, and makes use of a \"global\" single \"current plot\",\n",
    "which, while convenient for quick exploratory sketches, is a bit cumbersome. To produce from our notebook proper plots\n",
    "to use in papers, the library defines some types we can use to treat individual figures as variables,\n",
    "and manipulate these."
   ]
  },
  {
   "cell_type": "markdown",
   "id": "06d8474a",
   "metadata": {},
   "source": [
    "### Figures and Axes"
   ]
  },
  {
   "cell_type": "markdown",
   "id": "c4f23d70",
   "metadata": {},
   "source": [
    "We often want multiple graphs in a single figure (e.g. for figures which display a matrix of graphs of different variables for comparison)."
   ]
  },
  {
   "cell_type": "markdown",
   "id": "553f3fdb",
   "metadata": {},
   "source": [
    "So Matplotlib divides a `figure` object up into axes: each pair of axes is one 'subplot'. \n",
    "To make a boring figure with just one pair of axes, however, we can just ask for a default new figure, with\n",
    "brand new axes. The relevant function returns a (figure, axis) pair, which we can deal out with parallel assignment (unpacking). "
   ]
  },
  {
   "cell_type": "code",
   "execution_count": null,
   "id": "4091666e",
   "metadata": {},
   "outputs": [],
   "source": [
    "sine_graph, sine_graph_axes = plt.subplots()"
   ]
  },
  {
   "cell_type": "markdown",
   "id": "332b9201",
   "metadata": {},
   "source": [
    "Once we have some axes, we can plot a graph on them:"
   ]
  },
  {
   "cell_type": "code",
   "execution_count": null,
   "id": "1c6a61b8",
   "metadata": {},
   "outputs": [],
   "source": [
    "sine_graph_axes.plot([sin(pi * x / 100.0) for x in range(100)], label='sin(x)')"
   ]
  },
  {
   "cell_type": "markdown",
   "id": "0a39ae49",
   "metadata": {},
   "source": [
    "We can add a title to a pair of axes:"
   ]
  },
  {
   "cell_type": "code",
   "execution_count": null,
   "id": "2e640a41",
   "metadata": {},
   "outputs": [],
   "source": [
    "sine_graph_axes.set_title(\"My graph\")"
   ]
  },
  {
   "cell_type": "code",
   "execution_count": null,
   "id": "2499a980",
   "metadata": {},
   "outputs": [],
   "source": [
    "sine_graph_axes.set_ylabel(\"f(x)\")"
   ]
  },
  {
   "cell_type": "code",
   "execution_count": null,
   "id": "a5c271f6",
   "metadata": {},
   "outputs": [],
   "source": [
    "sine_graph_axes.set_xlabel(\"100 x\")"
   ]
  },
  {
   "cell_type": "markdown",
   "id": "768d8297",
   "metadata": {},
   "source": [
    "Now we need to actually display the figure. As always with the notebook, if we make a variable be returned by the last\n",
    "line of a code cell, it gets displayed:"
   ]
  },
  {
   "cell_type": "code",
   "execution_count": null,
   "id": "d2188d7f",
   "metadata": {},
   "outputs": [],
   "source": [
    "sine_graph"
   ]
  },
  {
   "cell_type": "markdown",
   "id": "35d827f3",
   "metadata": {},
   "source": [
    "We can add another curve:"
   ]
  },
  {
   "cell_type": "code",
   "execution_count": null,
   "id": "c8793b08",
   "metadata": {},
   "outputs": [],
   "source": [
    "sine_graph_axes.plot([cos(pi * x / 100.0) for x in range(100)], label='cos(x)')"
   ]
  },
  {
   "cell_type": "code",
   "execution_count": null,
   "id": "2b31a8f8",
   "metadata": {},
   "outputs": [],
   "source": [
    "sine_graph"
   ]
  },
  {
   "cell_type": "markdown",
   "id": "2f72a01d",
   "metadata": {},
   "source": [
    "A legend will help us distinguish the curves:"
   ]
  },
  {
   "cell_type": "code",
   "execution_count": null,
   "id": "0f285d3a",
   "metadata": {},
   "outputs": [],
   "source": [
    "sine_graph_axes.legend()"
   ]
  },
  {
   "cell_type": "code",
   "execution_count": null,
   "id": "763d2b8f",
   "metadata": {},
   "outputs": [],
   "source": [
    "sine_graph"
   ]
  },
  {
   "cell_type": "markdown",
   "id": "9c135c5e",
   "metadata": {},
   "source": [
    "### Saving figures"
   ]
  },
  {
   "cell_type": "markdown",
   "id": "5e82d646",
   "metadata": {},
   "source": [
    "We must be able to save figures to disk, in order to use them in papers. This is really easy:"
   ]
  },
  {
   "cell_type": "code",
   "execution_count": null,
   "id": "e34cc134",
   "metadata": {},
   "outputs": [],
   "source": [
    "sine_graph.savefig('my_graph.png')"
   ]
  },
  {
   "cell_type": "markdown",
   "id": "a279ce76",
   "metadata": {},
   "source": [
    "In order to be able to check that it worked, we need to know how to display an arbitrary image in the notebook."
   ]
  },
  {
   "cell_type": "markdown",
   "id": "92ced397",
   "metadata": {},
   "source": [
    "The programmatic way is like this:"
   ]
  },
  {
   "cell_type": "code",
   "execution_count": null,
   "id": "149671c4",
   "metadata": {},
   "outputs": [],
   "source": [
    "from IPython.display import Image # Get the notebook's own library for manipulating itself.\n",
    "Image(filename='my_graph.png')"
   ]
  },
  {
   "cell_type": "markdown",
   "id": "2441ae81",
   "metadata": {},
   "source": [
    "### Subplots"
   ]
  },
  {
   "cell_type": "markdown",
   "id": "08c0af38",
   "metadata": {},
   "source": [
    "We might have wanted the $\\sin$ and $\\cos$ graphs on separate axes:"
   ]
  },
  {
   "cell_type": "code",
   "execution_count": null,
   "id": "37f34270",
   "metadata": {},
   "outputs": [],
   "source": [
    "double_graph = plt.figure()"
   ]
  },
  {
   "cell_type": "code",
   "execution_count": null,
   "id": "8bc76e35",
   "metadata": {},
   "outputs": [],
   "source": [
    "sin_axes = double_graph.add_subplot(2, 1, 1) # 2 rows, 1 column, 1st subplot"
   ]
  },
  {
   "cell_type": "code",
   "execution_count": null,
   "id": "3b9c9c15",
   "metadata": {},
   "outputs": [],
   "source": [
    "cos_axes = double_graph.add_subplot(2, 1, 2) # 2 rows, 1 column, 2nd subplot"
   ]
  },
  {
   "cell_type": "code",
   "execution_count": null,
   "id": "b5e092e1",
   "metadata": {},
   "outputs": [],
   "source": [
    "double_graph"
   ]
  },
  {
   "cell_type": "code",
   "execution_count": null,
   "id": "7c3947f3",
   "metadata": {},
   "outputs": [],
   "source": [
    "sin_axes.plot([sin(pi * x / 100.0) for x in range(100)])"
   ]
  },
  {
   "cell_type": "code",
   "execution_count": null,
   "id": "93045fad",
   "metadata": {},
   "outputs": [],
   "source": [
    "sin_axes.set_ylabel(\"sin(x)\")"
   ]
  },
  {
   "cell_type": "code",
   "execution_count": null,
   "id": "01b445cb",
   "metadata": {},
   "outputs": [],
   "source": [
    "cos_axes.plot([cos(pi * x / 100.0) for x in range(100)])"
   ]
  },
  {
   "cell_type": "code",
   "execution_count": null,
   "id": "5c025738",
   "metadata": {},
   "outputs": [],
   "source": [
    "cos_axes.set_ylabel(\"cos(x)\")"
   ]
  },
  {
   "cell_type": "code",
   "execution_count": null,
   "id": "70aa510c",
   "metadata": {},
   "outputs": [],
   "source": [
    "cos_axes.set_xlabel(\"100 x\")"
   ]
  },
  {
   "cell_type": "code",
   "execution_count": null,
   "id": "15645b59",
   "metadata": {},
   "outputs": [],
   "source": [
    "double_graph"
   ]
  },
  {
   "cell_type": "markdown",
   "id": "dd5adc91",
   "metadata": {},
   "source": [
    "### Versus plots"
   ]
  },
  {
   "cell_type": "markdown",
   "id": "0d7aa9f9",
   "metadata": {},
   "source": [
    "When we specify a single `list` to `plot`, the x-values are just the array index number. We usually want to plot something\n",
    "more meaningful:"
   ]
  },
  {
   "cell_type": "code",
   "execution_count": null,
   "id": "108f64a4",
   "metadata": {},
   "outputs": [],
   "source": [
    "double_graph = plt.figure()\n",
    "sin_axes = double_graph.add_subplot(2, 1, 1)\n",
    "cos_axes = double_graph.add_subplot(2, 1, 2)\n",
    "cos_axes.set_ylabel(\"cos(x)\")\n",
    "sin_axes.set_ylabel(\"sin(x)\")\n",
    "cos_axes.set_xlabel(\"x\")"
   ]
  },
  {
   "cell_type": "code",
   "execution_count": null,
   "id": "c248fdd5",
   "metadata": {},
   "outputs": [],
   "source": [
    "sin_axes.plot([x / 100.0 for x in range(100)], [sin(pi * x / 100.0) for x in range(100)])\n",
    "cos_axes.plot([x / 100.0 for x in range(100)], [cos(pi * x / 100.0) for x in range(100)])"
   ]
  },
  {
   "cell_type": "code",
   "execution_count": null,
   "id": "a5a9ef9d",
   "metadata": {},
   "outputs": [],
   "source": [
    "double_graph"
   ]
  },
  {
   "cell_type": "markdown",
   "id": "fc71e57f",
   "metadata": {},
   "source": [
    "### Learning More"
   ]
  },
  {
   "cell_type": "markdown",
   "id": "7192ac73",
   "metadata": {},
   "source": [
    "There's so much more to learn about matplotlib: pie charts, bar charts, heat maps, 3-d plotting, animated plots, and so on. You can learn all this via the [Matplotlib Website](http://matplotlib.org/).\n",
    "You should try to get comfortable with all this, so please use some time in class, or at home, to work your way through a bunch of the [examples](https://matplotlib.org/stable/gallery/index)."
   ]
  }
 ],
 "metadata": {
  "jekyll": {
   "display_name": "Plotting"
  },
  "jupytext": {
   "main_language": "python",
   "notebook_metadata_filter": "-kernelspec,jupytext,jekyll"
  }
 },
 "nbformat": 4,
 "nbformat_minor": 5
}