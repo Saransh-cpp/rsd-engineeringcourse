{
 "cells": [
  {
   "cell_type": "markdown",
   "id": "b77aab4b",
   "metadata": {},
   "source": [
    "## Classroom exercise: the biggest earthquake in the UK this century"
   ]
  },
  {
   "cell_type": "markdown",
   "id": "3a339a14",
   "metadata": {},
   "source": [
    "### The Problem"
   ]
  },
  {
   "cell_type": "markdown",
   "id": "8868ff23",
   "metadata": {},
   "source": [
    "GeoJSON is a JSON-based file format for sharing geographic data. One example dataset is the USGS earthquake data:"
   ]
  },
  {
   "cell_type": "code",
   "execution_count": null,
   "id": "1cadbd1e",
   "metadata": {},
   "outputs": [],
   "source": [
    "import requests\n",
    "quakes = requests.get(\"http://earthquake.usgs.gov/fdsnws/event/1/query.geojson\",\n",
    "                      params={\n",
    "                          'starttime': \"2000-01-01\",\n",
    "                          \"maxlatitude\": \"58.723\",\n",
    "                          \"minlatitude\": \"50.008\",\n",
    "                          \"maxlongitude\": \"1.67\",\n",
    "                          \"minlongitude\": \"-9.756\",\n",
    "                          \"minmagnitude\": \"1\",\n",
    "                          \"endtime\": \"2018-10-11\",\n",
    "                          \"orderby\": \"time-asc\"}\n",
    "                      )"
   ]
  },
  {
   "cell_type": "code",
   "execution_count": null,
   "id": "c857650f",
   "metadata": {},
   "outputs": [],
   "source": [
    "quakes.text[0:100]"
   ]
  },
  {
   "cell_type": "markdown",
   "id": "a5408851",
   "metadata": {},
   "source": [
    "Your exercise: determine the location of the largest magnitude earthquake in the UK this century."
   ]
  },
  {
   "cell_type": "markdown",
   "id": "61390f15",
   "metadata": {},
   "source": [
    "You'll need to:\n",
    "* Get the text of the web result\n",
    "* Parse the data as JSON\n",
    "* Understand how the data is structured into dictionaries and lists\n",
    "   * Where is the magnitude?\n",
    "   * Where is the place description or coordinates?\n",
    "* Program a search through all the quakes to find the biggest quake\n",
    "* Find the place of the biggest quake\n",
    "* Form a URL for an online map service at that latitude and longitude: look back at the introductory example\n",
    "* Display that image"
   ]
  }
 ],
 "metadata": {
  "jekyll": {
   "display_name": "Earthquakes Exercise"
  },
  "jupytext": {
   "main_language": "python",
   "notebook_metadata_filter": "-kernelspec,jupytext,jekyll"
  }
 },
 "nbformat": 4,
 "nbformat_minor": 5
}