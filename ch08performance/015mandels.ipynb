{
 "cells": [
  {
   "cell_type": "code",
   "execution_count": null,
   "id": "4fa9dd00",
   "metadata": {},
   "outputs": [],
   "source": [
    "xmin = -1.5\n",
    "ymin = -1.0\n",
    "xmax = 0.5\n",
    "ymax = 1.0\n",
    "resolution = 300\n",
    "xstep = (xmax - xmin) / resolution\n",
    "ystep = (ymax - ymin) / resolution\n",
    "xs = [(xmin + (xmax - xmin) * i / resolution) for i in range(resolution)]\n",
    "ys = [(ymin + (ymax - ymin) * i / resolution) for i in range(resolution)]"
   ]
  },
  {
   "cell_type": "code",
   "execution_count": null,
   "id": "b6a3b1c9",
   "metadata": {},
   "outputs": [],
   "source": [
    "def mandel1(position, limit=50):\n",
    "    value = position    \n",
    "    while abs(value) < 2:\n",
    "        limit -= 1        \n",
    "        value = value**2 + position        \n",
    "        if limit < 0:\n",
    "            return 0        \n",
    "    return limit"
   ]
  },
  {
   "cell_type": "code",
   "execution_count": null,
   "id": "8a9241ab",
   "metadata": {},
   "outputs": [],
   "source": [
    "data1 = [[mandel1(complex(x, y)) for x in xs] for y in ys]"
   ]
  },
  {
   "cell_type": "markdown",
   "id": "f7d6a246",
   "metadata": {},
   "source": [
    "## Many Mandelbrots"
   ]
  },
  {
   "cell_type": "markdown",
   "id": "57166372",
   "metadata": {},
   "source": [
    "Let's compare our naive python implementation which used a list comprehension, taking 662ms, with the following:"
   ]
  },
  {
   "cell_type": "code",
   "execution_count": null,
   "id": "d9c72985",
   "metadata": {},
   "outputs": [],
   "source": [
    "%%timeit\n",
    "data2 = []\n",
    "for y in ys:\n",
    "    row = []\n",
    "    for x in xs:\n",
    "        row.append(mandel1(complex(x, y)))\n",
    "    data2.append(row)"
   ]
  },
  {
   "cell_type": "code",
   "execution_count": null,
   "id": "e603355c",
   "metadata": {},
   "outputs": [],
   "source": [
    "data2 = []\n",
    "for y in ys:\n",
    "    row = []\n",
    "    for x in xs:\n",
    "        row.append(mandel1(complex(x, y)))\n",
    "    data2.append(row)"
   ]
  },
  {
   "cell_type": "markdown",
   "id": "1319a950",
   "metadata": {},
   "source": [
    "Interestingly, not much difference. I would have expected this to be slower, due to the normally high cost of **appending** to data."
   ]
  },
  {
   "cell_type": "code",
   "execution_count": null,
   "id": "fb22bdef",
   "metadata": {},
   "outputs": [],
   "source": [
    "from matplotlib import pyplot as plt\n",
    "%matplotlib inline\n",
    "plt.imshow(data2, interpolation='none')"
   ]
  },
  {
   "cell_type": "markdown",
   "id": "a343ec9d",
   "metadata": {},
   "source": [
    "We ought to be checking if these results are the same by comparing the values in a test, rather than re-plotting. This is cumbersome in pure Python, but easy with NumPy, so we'll do this later."
   ]
  },
  {
   "cell_type": "markdown",
   "id": "f0039be3",
   "metadata": {},
   "source": [
    "Let's try a pre-allocated data structure:"
   ]
  },
  {
   "cell_type": "code",
   "execution_count": null,
   "id": "d7bb6ede",
   "metadata": {},
   "outputs": [],
   "source": [
    "data3 = [[0 for i in range(resolution)] for j in range(resolution)]"
   ]
  },
  {
   "cell_type": "code",
   "execution_count": null,
   "id": "a1575f3f",
   "metadata": {},
   "outputs": [],
   "source": [
    "%%timeit\n",
    "for j, y in enumerate(ys):\n",
    "    for i, x in enumerate(xs):\n",
    "        data3[j][i] = mandel1(complex(x, y))"
   ]
  },
  {
   "cell_type": "code",
   "execution_count": null,
   "id": "49f42526",
   "metadata": {},
   "outputs": [],
   "source": [
    "for j, y in enumerate(ys):\n",
    "    for i, x in enumerate(xs):\n",
    "        data3[j][i] = mandel1(complex(x, y))"
   ]
  },
  {
   "cell_type": "code",
   "execution_count": null,
   "id": "774d2b36",
   "metadata": {},
   "outputs": [],
   "source": [
    "plt.imshow(data3, interpolation='none')"
   ]
  },
  {
   "cell_type": "markdown",
   "id": "95bbf9b0",
   "metadata": {},
   "source": [
    "Nope, no gain there. "
   ]
  },
  {
   "cell_type": "markdown",
   "id": "68002433",
   "metadata": {},
   "source": [
    "Let's try using functional programming approaches:"
   ]
  },
  {
   "cell_type": "code",
   "execution_count": null,
   "id": "541e3798",
   "metadata": {},
   "outputs": [],
   "source": [
    "%%timeit\n",
    "data4 = []\n",
    "for y in ys:\n",
    "    bind_mandel = lambda x: mandel1(complex(x, y))\n",
    "    data4.append(list(map(bind_mandel, xs)))"
   ]
  },
  {
   "cell_type": "code",
   "execution_count": null,
   "id": "bba0f33a",
   "metadata": {},
   "outputs": [],
   "source": [
    "data4 = []\n",
    "for y in ys:\n",
    "    bind_mandel = lambda x: mandel1(complex(x, y))\n",
    "    data4.append(list(map(bind_mandel, xs)))"
   ]
  },
  {
   "cell_type": "code",
   "execution_count": null,
   "id": "606761aa",
   "metadata": {},
   "outputs": [],
   "source": [
    "plt.imshow(data4, interpolation='none')"
   ]
  },
  {
   "cell_type": "markdown",
   "id": "67d988e5",
   "metadata": {},
   "source": [
    "That was a tiny bit slower."
   ]
  },
  {
   "cell_type": "markdown",
   "id": "afdbadf9",
   "metadata": {},
   "source": [
    "So, what do we learn from this? Our mental image of what code should be faster or slower is often wrong, or doesn't make much difference. The only way to really improve code performance is empirically, through measurements."
   ]
  }
 ],
 "metadata": {
  "jekyll": {
   "display_name": "Faster Mandelbrots?"
  },
  "jupytext": {
   "main_language": "python",
   "notebook_metadata_filter": "-kernelspec,jupytext,jekyll"
  }
 },
 "nbformat": 4,
 "nbformat_minor": 5
}