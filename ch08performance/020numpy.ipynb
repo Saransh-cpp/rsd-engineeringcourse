{
 "cells": [
  {
   "cell_type": "markdown",
   "id": "6f80e273",
   "metadata": {},
   "source": [
    "## NumPy for Performance"
   ]
  },
  {
   "cell_type": "markdown",
   "id": "d38e82ec",
   "metadata": {},
   "source": [
    "### NumPy constructors"
   ]
  },
  {
   "cell_type": "markdown",
   "id": "512f92eb",
   "metadata": {},
   "source": [
    "We saw previously that NumPy's core type is the `ndarray`, or N-Dimensional Array:"
   ]
  },
  {
   "cell_type": "code",
   "execution_count": null,
   "id": "dc4e5227",
   "metadata": {},
   "outputs": [],
   "source": [
    "import numpy as np\n",
    "np.zeros([3, 4, 2, 5])[2, :, :, 1]"
   ]
  },
  {
   "cell_type": "markdown",
   "id": "4a7f7e66",
   "metadata": {},
   "source": [
    "The real magic of numpy arrays is that most python operations are applied, quickly, on an elementwise basis:"
   ]
  },
  {
   "cell_type": "code",
   "execution_count": null,
   "id": "1d981d9f",
   "metadata": {},
   "outputs": [],
   "source": [
    "x = np.arange(0, 256, 4).reshape(8, 8)"
   ]
  },
  {
   "cell_type": "code",
   "execution_count": null,
   "id": "e9145ce2",
   "metadata": {},
   "outputs": [],
   "source": [
    "y = np.zeros((8, 8))"
   ]
  },
  {
   "cell_type": "code",
   "execution_count": null,
   "id": "f0a78730",
   "metadata": {},
   "outputs": [],
   "source": [
    "%%timeit\n",
    "for i in range(8):\n",
    "    for j in range(8):\n",
    "        y[i][j] = x[i][j] + 10"
   ]
  },
  {
   "cell_type": "code",
   "execution_count": null,
   "id": "90a127fa",
   "metadata": {},
   "outputs": [],
   "source": [
    "x + 10"
   ]
  },
  {
   "cell_type": "markdown",
   "id": "235acf53",
   "metadata": {},
   "source": [
    "Numpy's mathematical functions also happen this way, and are said to be \"vectorized\" functions."
   ]
  },
  {
   "cell_type": "code",
   "execution_count": null,
   "id": "d90d707b",
   "metadata": {},
   "outputs": [],
   "source": [
    "np.sqrt(x)"
   ]
  },
  {
   "cell_type": "markdown",
   "id": "9e55c196",
   "metadata": {},
   "source": [
    "Numpy contains many useful functions for creating matrices. In our earlier lectures we've seen `linspace` and `arange` for evenly spaced numbers."
   ]
  },
  {
   "cell_type": "code",
   "execution_count": null,
   "id": "239a83bd",
   "metadata": {},
   "outputs": [],
   "source": [
    "np.linspace(0, 10, 21)"
   ]
  },
  {
   "cell_type": "code",
   "execution_count": null,
   "id": "a3d00abb",
   "metadata": {},
   "outputs": [],
   "source": [
    "np.arange(0, 10, 0.5)"
   ]
  },
  {
   "cell_type": "markdown",
   "id": "921248c3",
   "metadata": {},
   "source": [
    " Here's one for creating matrices like coordinates in a grid:"
   ]
  },
  {
   "cell_type": "code",
   "execution_count": null,
   "id": "4d592b53",
   "metadata": {},
   "outputs": [],
   "source": [
    "xmin = -1.5\n",
    "ymin = -1.0\n",
    "xmax = 0.5\n",
    "ymax = 1.0\n",
    "resolution = 300\n",
    "xstep = (xmax - xmin) / resolution\n",
    "ystep = (ymax - ymin) / resolution\n",
    "\n",
    "ymatrix, xmatrix = np.mgrid[ymin:ymax:ystep, xmin:xmax:xstep]"
   ]
  },
  {
   "cell_type": "code",
   "execution_count": null,
   "id": "9b3864f9",
   "metadata": {},
   "outputs": [],
   "source": [
    "print(ymatrix)"
   ]
  },
  {
   "cell_type": "markdown",
   "id": "2ac17dd9",
   "metadata": {},
   "source": [
    "We can add these together to make a grid containing the complex numbers we want to test for membership in the Mandelbrot set."
   ]
  },
  {
   "cell_type": "code",
   "execution_count": null,
   "id": "2bc02ac3",
   "metadata": {},
   "outputs": [],
   "source": [
    "values = xmatrix + 1j * ymatrix"
   ]
  },
  {
   "cell_type": "code",
   "execution_count": null,
   "id": "06257488",
   "metadata": {},
   "outputs": [],
   "source": [
    "print(values)"
   ]
  },
  {
   "cell_type": "markdown",
   "id": "c686ee8b",
   "metadata": {},
   "source": [
    "### Arraywise Algorithms"
   ]
  },
  {
   "cell_type": "markdown",
   "id": "4a6a1c0f",
   "metadata": {},
   "source": [
    "We can use this to apply the mandelbrot algorithm to whole *ARRAYS*"
   ]
  },
  {
   "cell_type": "code",
   "execution_count": null,
   "id": "d5d65728",
   "metadata": {},
   "outputs": [],
   "source": [
    "z0 = values\n",
    "z1 = z0 * z0 + values\n",
    "z2 = z1 * z1 + values\n",
    "z3 = z2 * z2 + values"
   ]
  },
  {
   "cell_type": "code",
   "execution_count": null,
   "id": "4ee62076",
   "metadata": {},
   "outputs": [],
   "source": [
    "print(z3)"
   ]
  },
  {
   "cell_type": "markdown",
   "id": "150d881d",
   "metadata": {},
   "source": [
    "So can we just apply our `mandel1` function to the whole matrix?"
   ]
  },
  {
   "cell_type": "code",
   "execution_count": null,
   "id": "339c8f72",
   "metadata": {},
   "outputs": [],
   "source": [
    "def mandel1(position,limit=50):\n",
    "    value = position\n",
    "    while abs(value) < 2:\n",
    "        limit -= 1\n",
    "        value = value**2 + position\n",
    "        if limit < 0:\n",
    "            return 0\n",
    "    return limit"
   ]
  },
  {
   "cell_type": "code",
   "execution_count": null,
   "id": "70226a4b",
   "metadata": {},
   "outputs": [],
   "source": [
    "mandel1(values)"
   ]
  },
  {
   "cell_type": "markdown",
   "id": "5868cbb3",
   "metadata": {},
   "source": [
    "No. The *logic* of our current routine would require stopping for some elements and not for others. "
   ]
  },
  {
   "cell_type": "markdown",
   "id": "1587c634",
   "metadata": {},
   "source": [
    "We can ask numpy to **vectorise** our method for us:"
   ]
  },
  {
   "cell_type": "code",
   "execution_count": null,
   "id": "b0ee1099",
   "metadata": {},
   "outputs": [],
   "source": [
    "mandel2 = np.vectorize(mandel1)"
   ]
  },
  {
   "cell_type": "code",
   "execution_count": null,
   "id": "9a32e69c",
   "metadata": {},
   "outputs": [],
   "source": [
    "data5 = mandel2(values)"
   ]
  },
  {
   "cell_type": "code",
   "execution_count": null,
   "id": "74c4615a",
   "metadata": {},
   "outputs": [],
   "source": [
    "from matplotlib import pyplot as plt\n",
    "%matplotlib inline\n",
    "plt.imshow(data5, interpolation='none')"
   ]
  },
  {
   "cell_type": "markdown",
   "id": "1a810523",
   "metadata": {},
   "source": [
    "Is that any faster?"
   ]
  },
  {
   "cell_type": "code",
   "execution_count": null,
   "id": "69ac48bf",
   "metadata": {},
   "outputs": [],
   "source": [
    "%%timeit\n",
    "data5 = mandel2(values)"
   ]
  },
  {
   "cell_type": "markdown",
   "id": "71e60379",
   "metadata": {},
   "source": [
    "This is not significantly faster. When we use *vectorize* it's just hiding an plain old python for loop under the hood. We want to make the loop over matrix elements take place in the \"**C Layer**\"."
   ]
  },
  {
   "cell_type": "markdown",
   "id": "1acedc16",
   "metadata": {},
   "source": [
    "What if we just apply the Mandelbrot algorithm without checking for divergence until the end:"
   ]
  },
  {
   "cell_type": "code",
   "execution_count": null,
   "id": "1ee749f2",
   "metadata": {},
   "outputs": [],
   "source": [
    "def mandel_numpy_explode(position, limit=50):\n",
    "    value = position\n",
    "    while limit > 0:\n",
    "        limit -= 1\n",
    "        value = value**2 + position\n",
    "        diverging = abs(value) > 2\n",
    "\n",
    "        \n",
    "    return abs(value) < 2"
   ]
  },
  {
   "cell_type": "code",
   "execution_count": null,
   "id": "8830433b",
   "metadata": {},
   "outputs": [],
   "source": [
    "data6 = mandel_numpy_explode(values)"
   ]
  },
  {
   "cell_type": "markdown",
   "id": "7376006c",
   "metadata": {},
   "source": [
    "OK, we need to prevent it from running off to $\\infty$"
   ]
  },
  {
   "cell_type": "code",
   "execution_count": null,
   "id": "0efbedd7",
   "metadata": {},
   "outputs": [],
   "source": [
    "def mandel_numpy(position, limit=50):\n",
    "    value = position\n",
    "    while limit > 0:\n",
    "        limit -= 1\n",
    "        value = value**2 + position\n",
    "        diverging = abs(value) > 2\n",
    "        # Avoid overflow\n",
    "        value[diverging] = 2\n",
    "        \n",
    "    return abs(value) < 2"
   ]
  },
  {
   "cell_type": "code",
   "execution_count": null,
   "id": "704b3133",
   "metadata": {},
   "outputs": [],
   "source": [
    "data6 = mandel_numpy(values)"
   ]
  },
  {
   "cell_type": "code",
   "execution_count": null,
   "id": "7b5fce85",
   "metadata": {},
   "outputs": [],
   "source": [
    "%%timeit\n",
    "\n",
    "data6 = mandel_numpy(values)"
   ]
  },
  {
   "cell_type": "code",
   "execution_count": null,
   "id": "bdd083f1",
   "metadata": {},
   "outputs": [],
   "source": [
    "from matplotlib import pyplot as plt\n",
    "%matplotlib inline\n",
    "plt.imshow(data6, interpolation='none')"
   ]
  },
  {
   "cell_type": "markdown",
   "id": "1571bc82",
   "metadata": {},
   "source": [
    "Wow, that was TEN TIMES faster."
   ]
  },
  {
   "cell_type": "markdown",
   "id": "beeb1f2d",
   "metadata": {},
   "source": [
    "There's quite a few NumPy tricks there, let's remind ourselves of how they work:"
   ]
  },
  {
   "cell_type": "code",
   "execution_count": null,
   "id": "7008fb90",
   "metadata": {},
   "outputs": [],
   "source": [
    "diverging = abs(z3) > 2\n",
    "z3[diverging] = 2"
   ]
  },
  {
   "cell_type": "markdown",
   "id": "89dea9b6",
   "metadata": {},
   "source": [
    "When we apply a logical condition to a NumPy array, we get a logical array."
   ]
  },
  {
   "cell_type": "code",
   "execution_count": null,
   "id": "9a235d3e",
   "metadata": {},
   "outputs": [],
   "source": [
    "x = np.arange(10)\n",
    "y = np.ones([10]) * 5\n",
    "z = x > y"
   ]
  },
  {
   "cell_type": "code",
   "execution_count": null,
   "id": "0aadd882",
   "metadata": {},
   "outputs": [],
   "source": [
    "x"
   ]
  },
  {
   "cell_type": "code",
   "execution_count": null,
   "id": "bf9e356a",
   "metadata": {},
   "outputs": [],
   "source": [
    "y"
   ]
  },
  {
   "cell_type": "code",
   "execution_count": null,
   "id": "d106ef04",
   "metadata": {},
   "outputs": [],
   "source": [
    "print(z)"
   ]
  },
  {
   "cell_type": "markdown",
   "id": "faf301dd",
   "metadata": {},
   "source": [
    "Logical arrays can be used to index into arrays:"
   ]
  },
  {
   "cell_type": "code",
   "execution_count": null,
   "id": "1e5ab568",
   "metadata": {},
   "outputs": [],
   "source": [
    "x[x>3]"
   ]
  },
  {
   "cell_type": "code",
   "execution_count": null,
   "id": "55866298",
   "metadata": {},
   "outputs": [],
   "source": [
    "x[np.logical_not(z)]"
   ]
  },
  {
   "cell_type": "markdown",
   "id": "5995ef44",
   "metadata": {},
   "source": [
    "And you can use such an index as the target of an assignment:"
   ]
  },
  {
   "cell_type": "code",
   "execution_count": null,
   "id": "4fe3f7ca",
   "metadata": {},
   "outputs": [],
   "source": [
    "x[z] = 5\n",
    "x"
   ]
  },
  {
   "cell_type": "markdown",
   "id": "cfdf7d4a",
   "metadata": {},
   "source": [
    "Note that we didn't compare two arrays to get our logical array, but an array to a scalar integer -- this was broadcasting again."
   ]
  },
  {
   "cell_type": "markdown",
   "id": "57225979",
   "metadata": {},
   "source": [
    "### More Mandelbrot"
   ]
  },
  {
   "cell_type": "markdown",
   "id": "ad33b757",
   "metadata": {},
   "source": [
    "Of course, we didn't calculate the number-of-iterations-to-diverge, just whether the point was in the set."
   ]
  },
  {
   "cell_type": "markdown",
   "id": "89aaf96b",
   "metadata": {},
   "source": [
    "Let's correct our code to do that:\n"
   ]
  },
  {
   "cell_type": "code",
   "execution_count": null,
   "id": "7c71ecce",
   "metadata": {},
   "outputs": [],
   "source": [
    "def mandel4(position,limit=50):\n",
    "    value = position\n",
    "    diverged_at_count = np.zeros(position.shape)\n",
    "    while limit > 0:\n",
    "        limit -= 1\n",
    "        value = value**2 + position\n",
    "        diverging = abs(value) > 2\n",
    "        first_diverged_this_time = np.logical_and(diverging, \n",
    "                                                  diverged_at_count == 0)\n",
    "        diverged_at_count[first_diverged_this_time] = limit\n",
    "        value[diverging] = 2\n",
    "        \n",
    "    return diverged_at_count"
   ]
  },
  {
   "cell_type": "code",
   "execution_count": null,
   "id": "76a7f3f3",
   "metadata": {},
   "outputs": [],
   "source": [
    "data7 = mandel4(values)"
   ]
  },
  {
   "cell_type": "code",
   "execution_count": null,
   "id": "92703f6c",
   "metadata": {},
   "outputs": [],
   "source": [
    "plt.imshow(data7, interpolation='none')"
   ]
  },
  {
   "cell_type": "code",
   "execution_count": null,
   "id": "9e0a5e7d",
   "metadata": {},
   "outputs": [],
   "source": [
    "%%timeit\n",
    "\n",
    "data7 = mandel4(values)"
   ]
  },
  {
   "cell_type": "markdown",
   "id": "2297756e",
   "metadata": {},
   "source": [
    "Note that here, all the looping over mandelbrot steps was in Python, but everything below the loop-over-positions happened in C. The code was amazingly quick compared to pure Python."
   ]
  },
  {
   "cell_type": "markdown",
   "id": "92473298",
   "metadata": {},
   "source": [
    "Can we do better by avoiding a square root?"
   ]
  },
  {
   "cell_type": "code",
   "execution_count": null,
   "id": "e89a7815",
   "metadata": {},
   "outputs": [],
   "source": [
    "def mandel5(position, limit=50):\n",
    "    value = position\n",
    "    diverged_at_count = np.zeros(position.shape)\n",
    "    while limit > 0:\n",
    "        limit -= 1\n",
    "        value = value**2 + position\n",
    "        diverging = value * np.conj(value) > 4\n",
    "        first_diverged_this_time = np.logical_and(diverging, diverged_at_count == 0)\n",
    "        diverged_at_count[first_diverged_this_time] = limit\n",
    "        value[diverging] = 2\n",
    "        \n",
    "    return diverged_at_count"
   ]
  },
  {
   "cell_type": "code",
   "execution_count": null,
   "id": "87e47dd2",
   "metadata": {},
   "outputs": [],
   "source": [
    "%%timeit\n",
    "\n",
    "data8 = mandel5(values)"
   ]
  },
  {
   "cell_type": "markdown",
   "id": "89a67b8c",
   "metadata": {},
   "source": [
    "Probably not worth the time I spent thinking about it!"
   ]
  },
  {
   "cell_type": "markdown",
   "id": "b0ea923f",
   "metadata": {},
   "source": [
    "### NumPy Testing"
   ]
  },
  {
   "cell_type": "markdown",
   "id": "ef2181db",
   "metadata": {},
   "source": [
    "Now, let's look at calculating those residuals, the differences between the different datasets."
   ]
  },
  {
   "cell_type": "code",
   "execution_count": null,
   "id": "d036e254",
   "metadata": {},
   "outputs": [],
   "source": [
    "data8 = mandel5(values)\n",
    "data5 = mandel2(values)"
   ]
  },
  {
   "cell_type": "code",
   "execution_count": null,
   "id": "e9ec3b05",
   "metadata": {},
   "outputs": [],
   "source": [
    "np.sum((data8 - data5)**2)"
   ]
  },
  {
   "cell_type": "markdown",
   "id": "c3009b99",
   "metadata": {},
   "source": [
    "For our non-numpy datasets, numpy knows to turn them into arrays:"
   ]
  },
  {
   "cell_type": "code",
   "execution_count": null,
   "id": "5eb3e234",
   "metadata": {},
   "outputs": [],
   "source": [
    "xmin = -1.5\n",
    "ymin = -1.0\n",
    "xmax = 0.5\n",
    "ymax = 1.0\n",
    "resolution = 300\n",
    "xstep = (xmax-xmin)/resolution\n",
    "ystep = (ymax-ymin)/resolution\n",
    "xs = [(xmin + (xmax - xmin) * i / resolution) for i in range(resolution)]\n",
    "ys = [(ymin + (ymax - ymin) * i / resolution) for i in range(resolution)]\n",
    "data1 = [[mandel1(complex(x, y)) for x in xs] for y in ys]\n",
    "sum(sum((data1 - data7)**2))"
   ]
  },
  {
   "cell_type": "markdown",
   "id": "601bab10",
   "metadata": {},
   "source": [
    "But this doesn't work for pure non-numpy arrays"
   ]
  },
  {
   "cell_type": "code",
   "execution_count": null,
   "id": "a4856d07",
   "metadata": {},
   "outputs": [],
   "source": [
    "data2 = []\n",
    "for y in ys:\n",
    "    row = []\n",
    "    for x in xs:\n",
    "        row.append(mandel1(complex(x, y)))\n",
    "    data2.append(row)"
   ]
  },
  {
   "cell_type": "code",
   "execution_count": null,
   "id": "675c131e",
   "metadata": {},
   "outputs": [],
   "source": [
    "data2 - data1"
   ]
  },
  {
   "cell_type": "markdown",
   "id": "bca1b3b4",
   "metadata": {},
   "source": [
    "So we have to convert to NumPy arrays explicitly:"
   ]
  },
  {
   "cell_type": "code",
   "execution_count": null,
   "id": "2a33782b",
   "metadata": {},
   "outputs": [],
   "source": [
    "sum(sum((np.array(data2) - np.array(data1))**2))"
   ]
  },
  {
   "cell_type": "markdown",
   "id": "fb8160fa",
   "metadata": {},
   "source": [
    "NumPy provides some convenient assertions to help us write unit tests with NumPy arrays:"
   ]
  },
  {
   "cell_type": "code",
   "execution_count": null,
   "id": "497b43f9",
   "metadata": {},
   "outputs": [],
   "source": [
    "x = [1e-5, 1e-3, 1e-1]\n",
    "y = np.arccos(np.cos(x))\n",
    "y"
   ]
  },
  {
   "cell_type": "code",
   "execution_count": null,
   "id": "e9e98e75",
   "metadata": {},
   "outputs": [],
   "source": [
    "np.testing.assert_allclose(x, y, rtol=1e-6, atol=1e-20)"
   ]
  },
  {
   "cell_type": "code",
   "execution_count": null,
   "id": "902359ff",
   "metadata": {},
   "outputs": [],
   "source": [
    "np.testing.assert_allclose(data7, data1)"
   ]
  },
  {
   "cell_type": "markdown",
   "id": "7443cea9",
   "metadata": {},
   "source": [
    "### Arraywise operations are fast"
   ]
  },
  {
   "cell_type": "markdown",
   "id": "13c7ba1f",
   "metadata": {},
   "source": [
    "Note that we might worry that we carry on calculating the mandelbrot values for points that have already diverged."
   ]
  },
  {
   "cell_type": "code",
   "execution_count": null,
   "id": "a4a0591d",
   "metadata": {},
   "outputs": [],
   "source": [
    "def mandel6(position, limit=50):\n",
    "    value = np.zeros(position.shape) + position\n",
    "    calculating = np.ones(position.shape, dtype='bool')\n",
    "    diverged_at_count = np.zeros(position.shape)\n",
    "    while limit > 0:\n",
    "        limit -= 1\n",
    "        value[calculating] = value[calculating]**2 + position[calculating]\n",
    "        diverging_now = np.zeros(position.shape, dtype='bool')\n",
    "        diverging_now[calculating] = value[calculating] * \\\n",
    "                                     np.conj(value[calculating])>4\n",
    "        calculating = np.logical_and(calculating,\n",
    "                                     np.logical_not(diverging_now))\n",
    "        diverged_at_count[diverging_now] = limit\n",
    "        \n",
    "    return diverged_at_count"
   ]
  },
  {
   "cell_type": "code",
   "execution_count": null,
   "id": "a3f3cd2d",
   "metadata": {},
   "outputs": [],
   "source": [
    "data8 = mandel6(values)"
   ]
  },
  {
   "cell_type": "code",
   "execution_count": null,
   "id": "4199039c",
   "metadata": {},
   "outputs": [],
   "source": [
    "%%timeit\n",
    "\n",
    "data8 = mandel6(values)"
   ]
  },
  {
   "cell_type": "code",
   "execution_count": null,
   "id": "4ddfc3c2",
   "metadata": {},
   "outputs": [],
   "source": [
    "plt.imshow(data8, interpolation='none')"
   ]
  },
  {
   "cell_type": "markdown",
   "id": "e909feeb",
   "metadata": {},
   "source": [
    "This was **not faster** even though it was **doing less work**"
   ]
  },
  {
   "cell_type": "markdown",
   "id": "250b36a0",
   "metadata": {},
   "source": [
    "This often happens: on modern computers, **branches** (if statements, function calls) and **memory access** is usually the rate-determining step, not maths."
   ]
  },
  {
   "cell_type": "markdown",
   "id": "6eb032c5",
   "metadata": {},
   "source": [
    "Complicating your logic to avoid calculations sometimes therefore slows you down. The only way to know is to **measure**"
   ]
  },
  {
   "cell_type": "markdown",
   "id": "fa9c5427",
   "metadata": {},
   "source": [
    "### Indexing with arrays"
   ]
  },
  {
   "cell_type": "markdown",
   "id": "ada37d70",
   "metadata": {},
   "source": [
    "We've been using Boolean arrays a lot to get access to some elements of an array. We can also do this with integers:"
   ]
  },
  {
   "cell_type": "code",
   "execution_count": null,
   "id": "f3fbac9a",
   "metadata": {},
   "outputs": [],
   "source": [
    "x = np.arange(64)\n",
    "y = x.reshape([8,8])\n",
    "y"
   ]
  },
  {
   "cell_type": "code",
   "execution_count": null,
   "id": "5f3fdc83",
   "metadata": {},
   "outputs": [],
   "source": [
    "y[[2, 5]]"
   ]
  },
  {
   "cell_type": "code",
   "execution_count": null,
   "id": "f9cf5ec8",
   "metadata": {},
   "outputs": [],
   "source": [
    "y[[0, 2, 5], [1, 2, 7]]"
   ]
  },
  {
   "cell_type": "markdown",
   "id": "57ffaa91",
   "metadata": {},
   "source": [
    "We can use a : to indicate we want all the values from a particular axis:"
   ]
  },
  {
   "cell_type": "code",
   "execution_count": null,
   "id": "02d23f3c",
   "metadata": {},
   "outputs": [],
   "source": [
    "y[0:4:2, [0, 2]]"
   ]
  },
  {
   "cell_type": "markdown",
   "id": "271b83d8",
   "metadata": {},
   "source": [
    "We can mix array selectors, boolean selectors, :s and ordinary array seqeuencers:"
   ]
  },
  {
   "cell_type": "code",
   "execution_count": null,
   "id": "f3e38436",
   "metadata": {},
   "outputs": [],
   "source": [
    "z = x.reshape([4, 4, 4])\n",
    "z"
   ]
  },
  {
   "cell_type": "code",
   "execution_count": null,
   "id": "b3436262",
   "metadata": {},
   "outputs": [],
   "source": [
    "z[:, [1, 3], 0:3]"
   ]
  },
  {
   "cell_type": "markdown",
   "id": "9bf526a7",
   "metadata": {},
   "source": [
    "We can manipulate shapes by adding new indices in selectors with np.newaxis:"
   ]
  },
  {
   "cell_type": "code",
   "execution_count": null,
   "id": "5ab7b8db",
   "metadata": {},
   "outputs": [],
   "source": [
    "z[:, np.newaxis, [1, 3], 0].shape"
   ]
  },
  {
   "cell_type": "markdown",
   "id": "3c74c697",
   "metadata": {},
   "source": [
    "When we use basic indexing with integers and : expressions, we get a **view** on the matrix so a copy is avoided:"
   ]
  },
  {
   "cell_type": "code",
   "execution_count": null,
   "id": "1daeb68c",
   "metadata": {},
   "outputs": [],
   "source": [
    "a = z[:, :, 2]\n",
    "a[0, 0] = -500\n",
    "z"
   ]
  },
  {
   "cell_type": "markdown",
   "id": "c050c96b",
   "metadata": {},
   "source": [
    "We can also use ... to specify \": for as many as possible intervening axes\":"
   ]
  },
  {
   "cell_type": "code",
   "execution_count": null,
   "id": "7fa2b23b",
   "metadata": {},
   "outputs": [],
   "source": [
    "z[1]"
   ]
  },
  {
   "cell_type": "code",
   "execution_count": null,
   "id": "707fe000",
   "metadata": {},
   "outputs": [],
   "source": [
    "z[...,2]"
   ]
  },
  {
   "cell_type": "markdown",
   "id": "ca99fece",
   "metadata": {},
   "source": [
    "However, boolean mask indexing and array filter indexing always causes a copy."
   ]
  },
  {
   "cell_type": "markdown",
   "id": "6545d945",
   "metadata": {},
   "source": [
    "Let's try again at avoiding doing unnecessary work by using new arrays containing the reduced data instead of a mask:"
   ]
  },
  {
   "cell_type": "code",
   "execution_count": null,
   "id": "1d99b62a",
   "metadata": {},
   "outputs": [],
   "source": [
    "def mandel7(position, limit=50):\n",
    "    positions = np.zeros(position.shape) + position\n",
    "    value = np.zeros(position.shape) + position\n",
    "    indices = np.mgrid[0:values.shape[0], 0:values.shape[1]]\n",
    "    diverged_at_count = np.zeros(position.shape)\n",
    "    while limit > 0:\n",
    "        limit -= 1\n",
    "        value = value**2 + positions\n",
    "        diverging_now = value * np.conj(value) > 4\n",
    "        diverging_now_indices = indices[:, diverging_now]\n",
    "        carry_on = np.logical_not(diverging_now)\n",
    "\n",
    "        value = value[carry_on]\n",
    "        indices = indices[:, carry_on]\n",
    "        positions = positions[carry_on]\n",
    "        diverged_at_count[diverging_now_indices[0,:],\n",
    "                          diverging_now_indices[1,:]] = limit\n",
    "\n",
    "    return diverged_at_count"
   ]
  },
  {
   "cell_type": "code",
   "execution_count": null,
   "id": "a98dc570",
   "metadata": {},
   "outputs": [],
   "source": [
    "data9 = mandel7(values)"
   ]
  },
  {
   "cell_type": "code",
   "execution_count": null,
   "id": "30fcd809",
   "metadata": {},
   "outputs": [],
   "source": [
    "plt.imshow(data9, interpolation='none')"
   ]
  },
  {
   "cell_type": "code",
   "execution_count": null,
   "id": "398380d6",
   "metadata": {},
   "outputs": [],
   "source": [
    "%%timeit\n",
    "\n",
    "data9 = mandel7(values)"
   ]
  },
  {
   "cell_type": "markdown",
   "id": "c19dec96",
   "metadata": {},
   "source": [
    "Still slower. Probably due to lots of copies -- the point here is that you need to *experiment* to see which optimisations will work. Performance programming needs to be empirical."
   ]
  },
  {
   "cell_type": "markdown",
   "id": "b97ac248",
   "metadata": {},
   "source": [
    "## Profiling"
   ]
  },
  {
   "cell_type": "markdown",
   "id": "96bc7c1c",
   "metadata": {},
   "source": [
    "We've seen how to compare different functions by the time they take to run. However, we haven't obtained much information about where the code is spending more time. For that we need to use a profiler. IPython offers a profiler through the `%prun` magic. Let's use it to see how it works:"
   ]
  },
  {
   "cell_type": "code",
   "execution_count": null,
   "id": "cf3dac7e",
   "metadata": {},
   "outputs": [],
   "source": [
    "%prun mandel7(values)"
   ]
  },
  {
   "cell_type": "markdown",
   "id": "2c61dd98",
   "metadata": {},
   "source": [
    "`%prun` shows a line per each function call ordered by the total time spent on each of these. However, sometimes a line-by-line output may be more helpful. For that we can use the `line_profiler` package (you need to install it using `pip`). Once installed you can activate it in any notebook by running:"
   ]
  },
  {
   "cell_type": "code",
   "execution_count": null,
   "id": "7f8bcde1",
   "metadata": {},
   "outputs": [],
   "source": [
    "%load_ext line_profiler"
   ]
  },
  {
   "cell_type": "markdown",
   "id": "59a92b62",
   "metadata": {},
   "source": [
    "And the `%lprun` magic should be now available:"
   ]
  },
  {
   "cell_type": "code",
   "execution_count": null,
   "id": "eba9cd38",
   "metadata": {},
   "outputs": [],
   "source": [
    "%lprun -f mandel7 mandel7(values)"
   ]
  },
  {
   "cell_type": "markdown",
   "id": "c18e1386",
   "metadata": {},
   "source": [
    "Here, it is clearer to see which operations are keeping the code busy."
   ]
  }
 ],
 "metadata": {
  "jekyll": {
   "display_name": "NumPy"
  },
  "jupytext": {
   "main_language": "python",
   "notebook_metadata_filter": "-kernelspec,jupytext,jekyll"
  }
 },
 "nbformat": 4,
 "nbformat_minor": 5
}