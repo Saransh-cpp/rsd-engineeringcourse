{
 "cells": [
  {
   "cell_type": "markdown",
   "id": "f1f9a556",
   "metadata": {},
   "source": [
    "# Performance programming"
   ]
  },
  {
   "cell_type": "markdown",
   "id": "5b79b154",
   "metadata": {},
   "source": [
    "We've spent most of this course looking at how to make code readable and reliable. For research work, it is often also important that code is efficient: that it does what it needs to do *quickly*."
   ]
  },
  {
   "cell_type": "markdown",
   "id": "396c3552",
   "metadata": {},
   "source": [
    "It is very hard to work out beforehand whether code will be efficient or not: it is essential to *Profile* code, to measure its performance, to determine what aspects of it are slow."
   ]
  },
  {
   "cell_type": "markdown",
   "id": "da2805f8",
   "metadata": {},
   "source": [
    "When we looked at Functional programming, we claimed that code which is conceptualised in terms of actions on whole data-sets rather than individual elements is more efficient. Let's measure the performance of some different ways of implementing some code and see how they perform."
   ]
  },
  {
   "cell_type": "markdown",
   "id": "af6bfb6e",
   "metadata": {},
   "source": [
    "## Two Mandelbrots"
   ]
  },
  {
   "cell_type": "markdown",
   "id": "915e56d6",
   "metadata": {},
   "source": [
    "You're probably familiar with a famous fractal called the [Mandelbrot Set](https://www.youtube.com/watch?v=ZDU40eUcTj0)."
   ]
  },
  {
   "cell_type": "markdown",
   "id": "ef727f10",
   "metadata": {},
   "source": [
    "For a complex number $c$, $c$ is in the Mandelbrot set if the series $z_{i+1}=z_{i}^2+c$ (With $z_0=c$) stays close to $0$.\n",
    "Traditionally, we plot a color showing how many steps are needed for $\\left|z_i\\right|>2$, whereupon we are sure the series will diverge."
   ]
  },
  {
   "cell_type": "markdown",
   "id": "0f74f1f3",
   "metadata": {},
   "source": [
    "Here's a trivial python implementation:"
   ]
  },
  {
   "cell_type": "code",
   "execution_count": null,
   "id": "3c1378c1",
   "metadata": {},
   "outputs": [],
   "source": [
    "def mandel1(position, limit=50):\n",
    "    \n",
    "    value = position\n",
    "    \n",
    "    while abs(value) < 2:\n",
    "        limit -= 1        \n",
    "        value = value**2 + position\n",
    "        if limit < 0:\n",
    "            return 0\n",
    "        \n",
    "    return limit"
   ]
  },
  {
   "cell_type": "code",
   "execution_count": null,
   "id": "6d306e31",
   "metadata": {},
   "outputs": [],
   "source": [
    "xmin = -1.5\n",
    "ymin = -1.0\n",
    "xmax = 0.5\n",
    "ymax = 1.0\n",
    "resolution = 300\n",
    "xstep = (xmax - xmin) / resolution\n",
    "ystep = (ymax - ymin) / resolution\n",
    "xs = [(xmin + (xmax - xmin) * i / resolution) for i in range(resolution)]\n",
    "ys = [(ymin + (ymax - ymin) * i / resolution) for i in range(resolution)]"
   ]
  },
  {
   "cell_type": "code",
   "execution_count": null,
   "id": "540c527b",
   "metadata": {},
   "outputs": [],
   "source": [
    "%%timeit\n",
    "data = [[mandel1(complex(x, y)) for x in xs] for y in ys]"
   ]
  },
  {
   "cell_type": "code",
   "execution_count": null,
   "id": "372b67f3",
   "metadata": {},
   "outputs": [],
   "source": [
    "data1 = [[mandel1(complex(x, y)) for x in xs] for y in ys]"
   ]
  },
  {
   "cell_type": "code",
   "execution_count": null,
   "id": "aff84db3",
   "metadata": {},
   "outputs": [],
   "source": [
    "%matplotlib inline\n",
    "import matplotlib.pyplot as plt\n",
    "plt.imshow(data1, interpolation='none')"
   ]
  },
  {
   "cell_type": "markdown",
   "id": "eefdc215",
   "metadata": {},
   "source": [
    "We will learn this lesson how to make a version of this code which works Ten Times faster:"
   ]
  },
  {
   "cell_type": "code",
   "execution_count": null,
   "id": "74dfea8a",
   "metadata": {},
   "outputs": [],
   "source": [
    "import numpy as np\n",
    "def mandel_numpy(position,limit=50):\n",
    "    value = position\n",
    "    diverged_at_count = np.zeros(position.shape)\n",
    "    while limit > 0:\n",
    "        limit -= 1\n",
    "        value = value**2+position\n",
    "        diverging = value * np.conj(value) > 4\n",
    "        first_diverged_this_time = np.logical_and(diverging, diverged_at_count == 0)\n",
    "        diverged_at_count[first_diverged_this_time] = limit\n",
    "        value[diverging] = 2\n",
    "        \n",
    "    return diverged_at_count"
   ]
  },
  {
   "cell_type": "code",
   "execution_count": null,
   "id": "7be67620",
   "metadata": {},
   "outputs": [],
   "source": [
    "ymatrix, xmatrix = np.mgrid[ymin:ymax:ystep, xmin:xmax:xstep]"
   ]
  },
  {
   "cell_type": "code",
   "execution_count": null,
   "id": "037d1915",
   "metadata": {},
   "outputs": [],
   "source": [
    "values = xmatrix + 1j * ymatrix"
   ]
  },
  {
   "cell_type": "code",
   "execution_count": null,
   "id": "0707bbd9",
   "metadata": {},
   "outputs": [],
   "source": [
    "data_numpy = mandel_numpy(values)"
   ]
  },
  {
   "cell_type": "code",
   "execution_count": null,
   "id": "ac436638",
   "metadata": {},
   "outputs": [],
   "source": [
    "%matplotlib inline\n",
    "import matplotlib.pyplot as plt\n",
    "plt.imshow(data_numpy, interpolation='none')"
   ]
  },
  {
   "cell_type": "code",
   "execution_count": null,
   "id": "0275fdfe",
   "metadata": {},
   "outputs": [],
   "source": [
    "%%timeit\n",
    "data_numpy = mandel_numpy(values)"
   ]
  },
  {
   "cell_type": "markdown",
   "id": "ae709637",
   "metadata": {},
   "source": [
    "Note we get the same answer:"
   ]
  },
  {
   "cell_type": "code",
   "execution_count": null,
   "id": "16dcc4f3",
   "metadata": {},
   "outputs": [],
   "source": [
    "sum(sum(abs(data_numpy - data1)))"
   ]
  }
 ],
 "metadata": {
  "jekyll": {
   "display_name": "Two Mandelbrots"
  },
  "jupytext": {
   "main_language": "python",
   "notebook_metadata_filter": "-kernelspec,jupytext,jekyll"
  }
 },
 "nbformat": 4,
 "nbformat_minor": 5
}