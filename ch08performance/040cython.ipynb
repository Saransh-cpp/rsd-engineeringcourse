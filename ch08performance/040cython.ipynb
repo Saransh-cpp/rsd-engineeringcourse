{
 "cells": [
  {
   "cell_type": "markdown",
   "id": "438c836f",
   "metadata": {},
   "source": [
    "## Cython\n",
    "Cython can be viewed as an extension of Python where variables and functions are annotated with extra information, in particular types. The resulting Cython source code will be compiled into optimized C or C++ code, and thereby yielding substantial speed-up of slow Python code. In other words, Cython provides a way of writing Python with comparable performance to that of C/C++."
   ]
  },
  {
   "cell_type": "markdown",
   "id": "b8d924f1",
   "metadata": {},
   "source": [
    "### Start  Coding in Cython"
   ]
  },
  {
   "cell_type": "markdown",
   "id": "098845d8",
   "metadata": {},
   "source": [
    "Cython code must, unlike Python, be compiled. This happens in the following stages:\n",
    "\n",
    "* The cython code in `.pyx` file will be translated to a `C` file.\n",
    "* The `C` file will be compiled by a C compiler into a shared library, which will be directly loaded into Python. \n",
    "\n",
    "In a Jupyter notebook, everything is a lot easier. One needs only to load the Cython extension (`%load_ext Cython`) at the beginning and put `%%cython` mark in front of cells of Cython code. Cells with Cython mark will be treated as a `.pyx` code and consequently, compiled into C. \n",
    "\n",
    "For details, please see [Building Cython Code](http://docs.cython.org/src/quickstart/build.html).\n"
   ]
  },
  {
   "cell_type": "markdown",
   "id": "dcbdf387",
   "metadata": {},
   "source": [
    "**Pure python Mandelbrot set:**"
   ]
  },
  {
   "cell_type": "code",
   "execution_count": null,
   "id": "eb5dd2fa",
   "metadata": {},
   "outputs": [],
   "source": [
    "xmin = -1.5\n",
    "ymin = -1.0\n",
    "xmax = 0.5\n",
    "ymax = 1.0\n",
    "resolution = 300\n",
    "xstep = (xmax - xmin) / resolution\n",
    "ystep = (ymax - ymin) / resolution\n",
    "xs = [(xmin + (xmax - xmin) * i / resolution) for i in range(resolution)]\n",
    "ys = [(ymin + (ymax - ymin) * i / resolution) for i in range(resolution)]"
   ]
  },
  {
   "cell_type": "code",
   "execution_count": null,
   "id": "f64651bf",
   "metadata": {},
   "outputs": [],
   "source": [
    "def mandel(position, limit=50):\n",
    "    value = position\n",
    "    while abs(value) < 2:\n",
    "        limit -= 1\n",
    "        value = value**2 + position\n",
    "        if limit < 0:\n",
    "            return 0\n",
    "    return limit"
   ]
  },
  {
   "cell_type": "markdown",
   "id": "4e3c924b",
   "metadata": {},
   "source": [
    "**Compiled by Cython:**"
   ]
  },
  {
   "cell_type": "code",
   "execution_count": null,
   "id": "30dc19d7",
   "metadata": {},
   "outputs": [],
   "source": [
    "%load_ext Cython"
   ]
  },
  {
   "cell_type": "code",
   "execution_count": null,
   "id": "c3f02785",
   "metadata": {},
   "outputs": [],
   "source": [
    "%%cython\n",
    "\n",
    "def mandel_cython(position, limit=50):\n",
    "    value = position\n",
    "    while abs(value) < 2:\n",
    "        limit -= 1\n",
    "        value = value**2 + position\n",
    "        if limit < 0:\n",
    "            return 0\n",
    "    return limit"
   ]
  },
  {
   "cell_type": "markdown",
   "id": "d38967ad",
   "metadata": {},
   "source": [
    "Let's verify the result"
   ]
  },
  {
   "cell_type": "code",
   "execution_count": null,
   "id": "5fe4e177",
   "metadata": {},
   "outputs": [],
   "source": [
    "from matplotlib import pyplot as plt\n",
    "%matplotlib inline\n",
    "f, axarr = plt.subplots(1, 2)\n",
    "axarr[0].imshow([[mandel(complex(x, y)) for x in xs] for y in ys], interpolation='none')\n",
    "axarr[0].set_title('Pure Python')\n",
    "axarr[1].imshow([[mandel_cython(complex(x, y)) for x in xs] for y in ys], interpolation='none')\n",
    "axarr[1].set_title('Cython')"
   ]
  },
  {
   "cell_type": "code",
   "execution_count": null,
   "id": "b04b5296",
   "metadata": {},
   "outputs": [],
   "source": [
    "%timeit [[mandel(complex(x,y)) for x in xs] for y in ys] # pure python\n",
    "%timeit [[mandel_cython(complex(x,y)) for x in xs] for y in ys] # cython"
   ]
  },
  {
   "cell_type": "markdown",
   "id": "288228f6",
   "metadata": {},
   "source": [
    "We have improved the performance of a factor of 1.5 by just using the Cython compiler, **without changing the code**!"
   ]
  },
  {
   "cell_type": "markdown",
   "id": "24473fb3",
   "metadata": {},
   "source": [
    "### Cython with C Types\n",
    "But we can do better by telling Cython what C data type we would use in the code. Note we're not actually writing C, we're writing Python with C types."
   ]
  },
  {
   "cell_type": "markdown",
   "id": "61d58e82",
   "metadata": {},
   "source": [
    "_typed variable_"
   ]
  },
  {
   "cell_type": "code",
   "execution_count": null,
   "id": "4c4ff3b8",
   "metadata": {},
   "outputs": [],
   "source": [
    "%%cython\n",
    "def var_typed_mandel_cython(position, limit=50):\n",
    "    cdef double complex value # typed variable\n",
    "    value = position\n",
    "    while abs(value) < 2:\n",
    "        limit -= 1\n",
    "        value = value**2 + position\n",
    "        if limit < 0:\n",
    "            return 0\n",
    "    return limit"
   ]
  },
  {
   "cell_type": "markdown",
   "id": "f9e47093",
   "metadata": {},
   "source": [
    "_typed function + typed variable_"
   ]
  },
  {
   "cell_type": "code",
   "execution_count": null,
   "id": "61850650",
   "metadata": {},
   "outputs": [],
   "source": [
    "%%cython\n",
    "cpdef call_typed_mandel_cython(double complex position,\n",
    "                               int limit=50): # typed function\n",
    "    cdef double complex value # typed variable\n",
    "    value = position\n",
    "    while abs(value)<2:\n",
    "        limit -= 1\n",
    "        value = value**2 + position\n",
    "        if limit < 0:\n",
    "            return 0\n",
    "    return limit"
   ]
  },
  {
   "cell_type": "markdown",
   "id": "4bc10128",
   "metadata": {},
   "source": [
    "performance of one number:"
   ]
  },
  {
   "cell_type": "code",
   "execution_count": null,
   "id": "4adef95e",
   "metadata": {},
   "outputs": [],
   "source": [
    "# pure python\n",
    "%timeit a = mandel(complex(0, 0)) "
   ]
  },
  {
   "cell_type": "code",
   "execution_count": null,
   "id": "eab1d891",
   "metadata": {},
   "outputs": [],
   "source": [
    "# primitive cython\n",
    "%timeit a = mandel_cython(complex(0, 0)) "
   ]
  },
  {
   "cell_type": "code",
   "execution_count": null,
   "id": "8556ab9f",
   "metadata": {},
   "outputs": [],
   "source": [
    "# cython with C type variable\n",
    "%timeit a = var_typed_mandel_cython(complex(0, 0)) "
   ]
  },
  {
   "cell_type": "code",
   "execution_count": null,
   "id": "df3ec103",
   "metadata": {},
   "outputs": [],
   "source": [
    "# cython with typed variable + function\n",
    "%timeit a = call_typed_mandel_cython(complex(0, 0))"
   ]
  },
  {
   "cell_type": "markdown",
   "id": "3b6be48d",
   "metadata": {},
   "source": [
    "### Cython with numpy ndarray\n",
    "You can use NumPy from Cython exactly the same as in regular Python, but by doing so you are losing potentially high speedups because Cython has support for fast access to NumPy arrays. "
   ]
  },
  {
   "cell_type": "code",
   "execution_count": null,
   "id": "ac4c9853",
   "metadata": {},
   "outputs": [],
   "source": [
    "import numpy as np\n",
    "ymatrix, xmatrix = np.mgrid[ymin:ymax:ystep, xmin:xmax:xstep]\n",
    "values = xmatrix + 1j * ymatrix"
   ]
  },
  {
   "cell_type": "code",
   "execution_count": null,
   "id": "f4321bc5",
   "metadata": {},
   "outputs": [],
   "source": [
    "%%cython\n",
    "import numpy as np\n",
    "cimport numpy as np \n",
    "\n",
    "cpdef numpy_cython_1(np.ndarray[double complex, ndim=2] position, \n",
    "                     int limit=50): \n",
    "    cdef np.ndarray[long,ndim=2] diverged_at\n",
    "    cdef double complex value\n",
    "    cdef int xlim\n",
    "    cdef int ylim\n",
    "    cdef double complex pos\n",
    "    cdef int steps\n",
    "    cdef int x, y\n",
    "\n",
    "    xlim = position.shape[1]\n",
    "    ylim = position.shape[0]\n",
    "    diverged_at = np.zeros([ylim, xlim], dtype=int)\n",
    "    for x in xrange(xlim):\n",
    "        for y in xrange(ylim):\n",
    "            steps = limit\n",
    "            value = position[y,x]\n",
    "            pos = position[y,x]\n",
    "            while abs(value) < 2 and steps >= 0:\n",
    "                steps -= 1\n",
    "                value = value**2 + pos\n",
    "            diverged_at[y,x] = steps\n",
    "  \n",
    "    return diverged_at"
   ]
  },
  {
   "cell_type": "markdown",
   "id": "bf71de42",
   "metadata": {},
   "source": [
    "Note the double import of numpy: the standard numpy module and a Cython-enabled version of numpy that ensures fast indexing of and other operations on arrays. Both import statements are necessary in code that uses numpy arrays. The new thing in the code above is declaration of arrays by np.ndarray."
   ]
  },
  {
   "cell_type": "code",
   "execution_count": null,
   "id": "6ddd535d",
   "metadata": {},
   "outputs": [],
   "source": [
    "%timeit data_cy = [[mandel(complex(x,y)) for x in xs] for y in ys] # pure python"
   ]
  },
  {
   "cell_type": "code",
   "execution_count": null,
   "id": "c810356c",
   "metadata": {},
   "outputs": [],
   "source": [
    "%timeit data_cy = [[call_typed_mandel_cython(complex(x,y)) for x in xs] for y in ys] # typed cython"
   ]
  },
  {
   "cell_type": "code",
   "execution_count": null,
   "id": "57a3a5f1",
   "metadata": {},
   "outputs": [],
   "source": [
    "%timeit numpy_cython_1(values) # ndarray"
   ]
  },
  {
   "cell_type": "markdown",
   "id": "618a2492",
   "metadata": {},
   "source": [
    "**A trick of using `np.vectorize`**"
   ]
  },
  {
   "cell_type": "code",
   "execution_count": null,
   "id": "be0fd5bc",
   "metadata": {},
   "outputs": [],
   "source": [
    "numpy_cython_2 = np.vectorize(call_typed_mandel_cython)"
   ]
  },
  {
   "cell_type": "code",
   "execution_count": null,
   "id": "327f92a5",
   "metadata": {},
   "outputs": [],
   "source": [
    "%timeit numpy_cython_2(values) #  vectorize"
   ]
  },
  {
   "cell_type": "markdown",
   "id": "8812ec6d",
   "metadata": {},
   "source": [
    "### Calling C functions from Cython\n",
    "\n",
    "**Example: compare `sin()` from Python and C library**"
   ]
  },
  {
   "cell_type": "code",
   "execution_count": null,
   "id": "3583b2e1",
   "metadata": {},
   "outputs": [],
   "source": [
    "%%cython\n",
    "import math\n",
    "cpdef py_sin():\n",
    "    cdef int x\n",
    "    cdef double y\n",
    "    for x in range(1e7):\n",
    "        y = math.sin(x)"
   ]
  },
  {
   "cell_type": "code",
   "execution_count": null,
   "id": "b967dab9",
   "metadata": {},
   "outputs": [],
   "source": [
    "%%cython\n",
    "from libc.math cimport sin as csin # import from C library\n",
    "cpdef c_sin():\n",
    "    cdef int x\n",
    "    cdef double y\n",
    "    for x in range(1e7):\n",
    "        y = csin(x)"
   ]
  },
  {
   "cell_type": "code",
   "execution_count": null,
   "id": "67acf8cd",
   "metadata": {},
   "outputs": [],
   "source": [
    "%timeit [math.sin(i) for i in range(int(1e7))] # python"
   ]
  },
  {
   "cell_type": "code",
   "execution_count": null,
   "id": "69050c25",
   "metadata": {},
   "outputs": [],
   "source": [
    "%timeit py_sin()                                # cython call python library"
   ]
  },
  {
   "cell_type": "code",
   "execution_count": null,
   "id": "a8a0213f",
   "metadata": {},
   "outputs": [],
   "source": [
    "%timeit c_sin()                                 # cython call C library"
   ]
  }
 ],
 "metadata": {
  "jekyll": {
   "display_name": "Cython"
  },
  "jupytext": {
   "main_language": "python",
   "notebook_metadata_filter": "-kernelspec,jupytext,jekyll"
  }
 },
 "nbformat": 4,
 "nbformat_minor": 5
}